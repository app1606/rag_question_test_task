{
  "nbformat": 4,
  "nbformat_minor": 0,
  "metadata": {
    "colab": {
      "provenance": []
    },
    "kernelspec": {
      "name": "python3",
      "display_name": "Python 3"
    },
    "language_info": {
      "name": "python"
    }
  },
  "cells": [
    {
      "cell_type": "markdown",
      "source": [
        "### Libraries and imports"
      ],
      "metadata": {
        "id": "4R_TQjZG5gmL"
      }
    },
    {
      "cell_type": "code",
      "source": [
        "! pip install gitpython sentence-transformers faiss-cpu tiktoken"
      ],
      "metadata": {
        "colab": {
          "base_uri": "https://localhost:8080/"
        },
        "id": "x9liYU6Dibpt",
        "outputId": "95a55789-de9b-4b8d-ec1d-9e2338db7201"
      },
      "execution_count": 1,
      "outputs": [
        {
          "output_type": "stream",
          "name": "stdout",
          "text": [
            "Requirement already satisfied: gitpython in /usr/local/lib/python3.11/dist-packages (3.1.44)\n",
            "Requirement already satisfied: sentence-transformers in /usr/local/lib/python3.11/dist-packages (3.4.1)\n",
            "Requirement already satisfied: faiss-cpu in /usr/local/lib/python3.11/dist-packages (1.10.0)\n",
            "Requirement already satisfied: tiktoken in /usr/local/lib/python3.11/dist-packages (0.9.0)\n",
            "Requirement already satisfied: gitdb<5,>=4.0.1 in /usr/local/lib/python3.11/dist-packages (from gitpython) (4.0.12)\n",
            "Requirement already satisfied: transformers<5.0.0,>=4.41.0 in /usr/local/lib/python3.11/dist-packages (from sentence-transformers) (4.50.3)\n",
            "Requirement already satisfied: tqdm in /usr/local/lib/python3.11/dist-packages (from sentence-transformers) (4.67.1)\n",
            "Requirement already satisfied: torch>=1.11.0 in /usr/local/lib/python3.11/dist-packages (from sentence-transformers) (2.6.0+cu124)\n",
            "Requirement already satisfied: scikit-learn in /usr/local/lib/python3.11/dist-packages (from sentence-transformers) (1.6.1)\n",
            "Requirement already satisfied: scipy in /usr/local/lib/python3.11/dist-packages (from sentence-transformers) (1.14.1)\n",
            "Requirement already satisfied: huggingface-hub>=0.20.0 in /usr/local/lib/python3.11/dist-packages (from sentence-transformers) (0.30.1)\n",
            "Requirement already satisfied: Pillow in /usr/local/lib/python3.11/dist-packages (from sentence-transformers) (11.1.0)\n",
            "Requirement already satisfied: numpy<3.0,>=1.25.0 in /usr/local/lib/python3.11/dist-packages (from faiss-cpu) (2.0.2)\n",
            "Requirement already satisfied: packaging in /usr/local/lib/python3.11/dist-packages (from faiss-cpu) (24.2)\n",
            "Requirement already satisfied: regex>=2022.1.18 in /usr/local/lib/python3.11/dist-packages (from tiktoken) (2024.11.6)\n",
            "Requirement already satisfied: requests>=2.26.0 in /usr/local/lib/python3.11/dist-packages (from tiktoken) (2.32.3)\n",
            "Requirement already satisfied: smmap<6,>=3.0.1 in /usr/local/lib/python3.11/dist-packages (from gitdb<5,>=4.0.1->gitpython) (5.0.2)\n",
            "Requirement already satisfied: filelock in /usr/local/lib/python3.11/dist-packages (from huggingface-hub>=0.20.0->sentence-transformers) (3.18.0)\n",
            "Requirement already satisfied: fsspec>=2023.5.0 in /usr/local/lib/python3.11/dist-packages (from huggingface-hub>=0.20.0->sentence-transformers) (2025.3.2)\n",
            "Requirement already satisfied: pyyaml>=5.1 in /usr/local/lib/python3.11/dist-packages (from huggingface-hub>=0.20.0->sentence-transformers) (6.0.2)\n",
            "Requirement already satisfied: typing-extensions>=3.7.4.3 in /usr/local/lib/python3.11/dist-packages (from huggingface-hub>=0.20.0->sentence-transformers) (4.13.1)\n",
            "Requirement already satisfied: charset-normalizer<4,>=2 in /usr/local/lib/python3.11/dist-packages (from requests>=2.26.0->tiktoken) (3.4.1)\n",
            "Requirement already satisfied: idna<4,>=2.5 in /usr/local/lib/python3.11/dist-packages (from requests>=2.26.0->tiktoken) (3.10)\n",
            "Requirement already satisfied: urllib3<3,>=1.21.1 in /usr/local/lib/python3.11/dist-packages (from requests>=2.26.0->tiktoken) (2.3.0)\n",
            "Requirement already satisfied: certifi>=2017.4.17 in /usr/local/lib/python3.11/dist-packages (from requests>=2.26.0->tiktoken) (2025.1.31)\n",
            "Requirement already satisfied: networkx in /usr/local/lib/python3.11/dist-packages (from torch>=1.11.0->sentence-transformers) (3.4.2)\n",
            "Requirement already satisfied: jinja2 in /usr/local/lib/python3.11/dist-packages (from torch>=1.11.0->sentence-transformers) (3.1.6)\n",
            "Requirement already satisfied: nvidia-cuda-nvrtc-cu12==12.4.127 in /usr/local/lib/python3.11/dist-packages (from torch>=1.11.0->sentence-transformers) (12.4.127)\n",
            "Requirement already satisfied: nvidia-cuda-runtime-cu12==12.4.127 in /usr/local/lib/python3.11/dist-packages (from torch>=1.11.0->sentence-transformers) (12.4.127)\n",
            "Requirement already satisfied: nvidia-cuda-cupti-cu12==12.4.127 in /usr/local/lib/python3.11/dist-packages (from torch>=1.11.0->sentence-transformers) (12.4.127)\n",
            "Requirement already satisfied: nvidia-cudnn-cu12==9.1.0.70 in /usr/local/lib/python3.11/dist-packages (from torch>=1.11.0->sentence-transformers) (9.1.0.70)\n",
            "Requirement already satisfied: nvidia-cublas-cu12==12.4.5.8 in /usr/local/lib/python3.11/dist-packages (from torch>=1.11.0->sentence-transformers) (12.4.5.8)\n",
            "Requirement already satisfied: nvidia-cufft-cu12==11.2.1.3 in /usr/local/lib/python3.11/dist-packages (from torch>=1.11.0->sentence-transformers) (11.2.1.3)\n",
            "Requirement already satisfied: nvidia-curand-cu12==10.3.5.147 in /usr/local/lib/python3.11/dist-packages (from torch>=1.11.0->sentence-transformers) (10.3.5.147)\n",
            "Requirement already satisfied: nvidia-cusolver-cu12==11.6.1.9 in /usr/local/lib/python3.11/dist-packages (from torch>=1.11.0->sentence-transformers) (11.6.1.9)\n",
            "Requirement already satisfied: nvidia-cusparse-cu12==12.3.1.170 in /usr/local/lib/python3.11/dist-packages (from torch>=1.11.0->sentence-transformers) (12.3.1.170)\n",
            "Requirement already satisfied: nvidia-cusparselt-cu12==0.6.2 in /usr/local/lib/python3.11/dist-packages (from torch>=1.11.0->sentence-transformers) (0.6.2)\n",
            "Requirement already satisfied: nvidia-nccl-cu12==2.21.5 in /usr/local/lib/python3.11/dist-packages (from torch>=1.11.0->sentence-transformers) (2.21.5)\n",
            "Requirement already satisfied: nvidia-nvtx-cu12==12.4.127 in /usr/local/lib/python3.11/dist-packages (from torch>=1.11.0->sentence-transformers) (12.4.127)\n",
            "Requirement already satisfied: nvidia-nvjitlink-cu12==12.4.127 in /usr/local/lib/python3.11/dist-packages (from torch>=1.11.0->sentence-transformers) (12.4.127)\n",
            "Requirement already satisfied: triton==3.2.0 in /usr/local/lib/python3.11/dist-packages (from torch>=1.11.0->sentence-transformers) (3.2.0)\n",
            "Requirement already satisfied: sympy==1.13.1 in /usr/local/lib/python3.11/dist-packages (from torch>=1.11.0->sentence-transformers) (1.13.1)\n",
            "Requirement already satisfied: mpmath<1.4,>=1.1.0 in /usr/local/lib/python3.11/dist-packages (from sympy==1.13.1->torch>=1.11.0->sentence-transformers) (1.3.0)\n",
            "Requirement already satisfied: tokenizers<0.22,>=0.21 in /usr/local/lib/python3.11/dist-packages (from transformers<5.0.0,>=4.41.0->sentence-transformers) (0.21.1)\n",
            "Requirement already satisfied: safetensors>=0.4.3 in /usr/local/lib/python3.11/dist-packages (from transformers<5.0.0,>=4.41.0->sentence-transformers) (0.5.3)\n",
            "Requirement already satisfied: joblib>=1.2.0 in /usr/local/lib/python3.11/dist-packages (from scikit-learn->sentence-transformers) (1.4.2)\n",
            "Requirement already satisfied: threadpoolctl>=3.1.0 in /usr/local/lib/python3.11/dist-packages (from scikit-learn->sentence-transformers) (3.6.0)\n",
            "Requirement already satisfied: MarkupSafe>=2.0 in /usr/local/lib/python3.11/dist-packages (from jinja2->torch>=1.11.0->sentence-transformers) (3.0.2)\n"
          ]
        }
      ]
    },
    {
      "cell_type": "markdown",
      "source": [
        "### Indexing example"
      ],
      "metadata": {
        "id": "dBu3SlwmBgB6"
      }
    },
    {
      "cell_type": "code",
      "source": [
        "github_url = \"https://github.com/viarotel-org/escrcpy\"\n"
      ],
      "metadata": {
        "id": "FwXhBgKZiyT8"
      },
      "execution_count": 2,
      "outputs": []
    },
    {
      "cell_type": "code",
      "source": [
        "from index_creation import build_index_from_github\n",
        "\n",
        "index, embeddings, metadata, docs, num_chunks = build_index_from_github(github_url)"
      ],
      "metadata": {
        "colab": {
          "base_uri": "https://localhost:8080/"
        },
        "id": "yM6Re7NZkutW",
        "outputId": "940239ca-e7f7-444b-b316-c59a46f83c11"
      },
      "execution_count": 3,
      "outputs": [
        {
          "output_type": "stream",
          "name": "stderr",
          "text": [
            "/usr/local/lib/python3.11/dist-packages/huggingface_hub/utils/_auth.py:94: UserWarning: \n",
            "The secret `HF_TOKEN` does not exist in your Colab secrets.\n",
            "To authenticate with the Hugging Face Hub, create a token in your settings tab (https://huggingface.co/settings/tokens), set it as secret in your Google Colab and restart your session.\n",
            "You will be able to reuse this secret in all of your notebooks.\n",
            "Please note that authentication is recommended but still optional to access public models or datasets.\n",
            "  warnings.warn(\n"
          ]
        }
      ]
    },
    {
      "cell_type": "markdown",
      "source": [
        "### Average file length estimation (in chunks)"
      ],
      "metadata": {
        "id": "yoR3yJqdCGT0"
      }
    },
    {
      "cell_type": "markdown",
      "source": [
        "Let's display the number of chunks distribution over the files:"
      ],
      "metadata": {
        "id": "2LW-7M0PCI8F"
      }
    },
    {
      "cell_type": "code",
      "source": [
        "import matplotlib.pyplot as plt\n",
        "\n",
        "plt.hist(num_chunks, bins=100)\n",
        "plt.xlabel('Number of Chunks')\n",
        "plt.ylabel('Frequency')\n",
        "plt.title('Distribution of Number of Chunks')\n",
        "plt.show()"
      ],
      "metadata": {
        "colab": {
          "base_uri": "https://localhost:8080/",
          "height": 472
        },
        "id": "qjhIMTq788-j",
        "outputId": "e7b21cad-f3e9-4eb7-e647-6afbdd87efcc"
      },
      "execution_count": 4,
      "outputs": [
        {
          "output_type": "display_data",
          "data": {
            "text/plain": [
              "<Figure size 640x480 with 1 Axes>"
            ],
            "image/png": "[encoded data removed]"
          },
          "metadata": {}
        }
      ]
    },
    {
      "cell_type": "code",
      "source": [
        "import numpy as np\n",
        "import math\n",
        "\n",
        "np.mean(num_chunks)"
      ],
      "metadata": {
        "colab": {
          "base_uri": "https://localhost:8080/"
        },
        "id": "Y8tODtAu96LR",
        "outputId": "14a9440a-974b-4d0c-d672-cdd46c3c7fff"
      },
      "execution_count": 5,
      "outputs": [
        {
          "output_type": "execute_result",
          "data": {
            "text/plain": [
              "np.float64(4.9366666666666665)"
            ]
          },
          "metadata": {},
          "execution_count": 5
        }
      ]
    },
    {
      "cell_type": "code",
      "source": [
        "MEAN_CHUNK_NUMBER = int(math.ceil(np.mean(num_chunks)))"
      ],
      "metadata": {
        "id": "Dni5jn7WCA1J"
      },
      "execution_count": 6,
      "outputs": []
    },
    {
      "cell_type": "markdown",
      "source": [
        "### Search example"
      ],
      "metadata": {
        "id": "0yqASCzEE9FO"
      }
    },
    {
      "cell_type": "code",
      "source": [
        "from sentence_transformers import CrossEncoder\n",
        "\n",
        "cross_encoder = CrossEncoder('cross-encoder/ms-marco-MiniLM-L-12-v2')"
      ],
      "metadata": {
        "id": "PGBCf1vqjtps"
      },
      "execution_count": 7,
      "outputs": []
    },
    {
      "cell_type": "code",
      "source": [
        "from transformers import pipeline\n",
        "\n",
        "generator = pipeline('text2text-generation', model='google/flan-t5-base')"
      ],
      "metadata": {
        "colab": {
          "base_uri": "https://localhost:8080/"
        },
        "id": "M6dLmJmtKVgj",
        "outputId": "191f1935-2b1e-4b8d-fd5f-04c71649e50d"
      },
      "execution_count": 8,
      "outputs": [
        {
          "output_type": "stream",
          "name": "stderr",
          "text": [
            "Device set to use cpu\n"
          ]
        }
      ]
    },
    {
      "cell_type": "code",
      "source": [
        "from index_search import search_index\n",
        "from sentence_transformers import SentenceTransformer\n",
        "\n",
        "model = SentenceTransformer('all-MiniLM-L6-v2')\n",
        "question = \"How does the SelectDisplay component handle the device options when retrieving display IDs?\"\n",
        "\n",
        "retrieved, summary = search_index(question, model, index, metadata, docs, cross_encoder, top_k=5, mean_chunk_number=MEAN_CHUNK_NUMBER, sum_generation=True, generator=generator)\n",
        "\n"
      ],
      "metadata": {
        "id": "hXTji3dTlszY",
        "colab": {
          "base_uri": "https://localhost:8080/"
        },
        "outputId": "471e9417-b17a-40e3-d61a-9d8da312b8e4"
      },
      "execution_count": 9,
      "outputs": [
        {
          "output_type": "stream",
          "name": "stderr",
          "text": [
            "Token indices sequence length is longer than the specified maximum sequence length for this model (1854 > 512). Running this sequence through the model will result in indexing errors\n"
          ]
        }
      ]
    },
    {
      "cell_type": "code",
      "source": [
        "print([data_['file_path'] for data_ in retrieved])"
      ],
      "metadata": {
        "colab": {
          "base_uri": "https://localhost:8080/"
        },
        "id": "M_0-20y7Oohz",
        "outputId": "2c249910-6919-47cf-9e24-559373c2ee29"
      },
      "execution_count": 10,
      "outputs": [
        {
          "output_type": "stream",
          "name": "stdout",
          "text": [
            "['git_rep/docs/en/reference/scrcpy/video.md', 'git_rep/src/components/PreferenceForm/components/SelectDisplay/index.vue', 'git_rep/src/pages/preference/index.vue', 'git_rep/src/store/preference/model/device/index.js', 'git_rep/src/pages/preference/components/ScopeSelect/index.vue']\n"
          ]
        }
      ]
    },
    {
      "cell_type": "code",
      "source": [
        "print(summary)"
      ],
      "metadata": {
        "colab": {
          "base_uri": "https://localhost:8080/"
        },
        "id": "MhTNxXa3Oiza",
        "outputId": "790f683e-7459-4fcb-80c0-1b845bdb5661"
      },
      "execution_count": 11,
      "outputs": [
        {
          "output_type": "stream",
          "name": "stdout",
          "text": [
            "/script> /style> /template> /template> el-option v-for=\"item in options\" :key=\"item.id\" :label=\"item.label\" :value=\"item.value\" , , , , , , , , , , , , , , , , , , , , , , , , , , , , , , , , , , , , , , , , , , , , , , , , , , , , , , , , , , , , , ,\n"
          ]
        }
      ]
    },
    {
      "cell_type": "markdown",
      "source": [
        "### Quality evaluation"
      ],
      "metadata": {
        "id": "8MYfPnJCO3Px"
      }
    },
    {
      "cell_type": "code",
      "source": [
        "model = SentenceTransformer('all-MiniLM-L6-v2')"
      ],
      "metadata": {
        "id": "zUBLsunESm0B"
      },
      "execution_count": 12,
      "outputs": []
    },
    {
      "cell_type": "markdown",
      "source": [
        "The result for simple top-10 index selection:"
      ],
      "metadata": {
        "id": "bwmG7WU8WF1e"
      }
    },
    {
      "cell_type": "code",
      "source": [
        "from tqdm import tqdm\n",
        "\n",
        "from index_model_evaluation import recall_from_json, simple_index, reranker_index\n",
        "\n",
        "\n",
        "recall_from_json('/content/escrcpy-commits-generated.json', simple_index, model, index, docs, metadata)"
      ],
      "metadata": {
        "colab": {
          "base_uri": "https://localhost:8080/"
        },
        "id": "KOlwmw1gmckB",
        "outputId": "056484df-6aca-4375-d1fe-b1128ed28b04"
      },
      "execution_count": 13,
      "outputs": [
        {
          "output_type": "stream",
          "name": "stderr",
          "text": [
            " 15%|█▍        | 5/34 [00:00<00:00, 41.34it/s]"
          ]
        },
        {
          "output_type": "stream",
          "name": "stdout",
          "text": [
            "Question: How does the SelectDisplay component handle the device options when retrieving display IDs?\n",
            "Recall@10: 1.00\n",
            "Answer: ['src/components/PreferenceForm/components/SelectDisplay/index.vue']\n",
            "Prediction: ['git_rep/src/components/PreferenceForm/components/SelectDisplay/index.vue::chunk_1', 'git_rep/src/components/PreferenceForm/components/SelectDisplay/index.vue::chunk_0', 'git_rep/src/components/PreferenceForm/components/SelectAudioCodec/index.vue::chunk_0', 'git_rep/src/components/PreferenceForm/components/SelectVideoCodec/index.vue::chunk_0', 'git_rep/src/pages/preference/components/ScopeSelect/index.vue::chunk_1', 'git_rep/docs/en/reference/scrcpy/video.md::chunk_8', 'git_rep/src/components/PreferenceForm/components/SelectVideoCodec/index.vue::chunk_1', 'git_rep/src/locales/languages/en-US.json::chunk_23', 'git_rep/electron/resources/extra/mac-x64/scrcpy/scrcpy.1::chunk_15', 'git_rep/electron/resources/extra/mac-arm64/scrcpy/scrcpy.1::chunk_15']\n",
            "\n",
            "Question: How does the repository handle IPv6 addresses in ADB commands?\n",
            "Recall@10: 1.00\n",
            "Answer: ['electron/exposes/adb/helpers/index.js', 'electron/exposes/adb/index.js']\n",
            "Prediction: ['git_rep/electron/exposes/adb/index.js::chunk_10', 'git_rep/electron/exposes/adb/helpers/index.js::chunk_0', 'git_rep/docs/en/reference/gnirehtet/index.md::chunk_0', 'git_rep/docs/zhHans/reference/gnirehtet/index.md::chunk_0', 'git_rep/docs/zhHans/reference/scrcpy/connection.md::chunk_4', 'git_rep/docs/en/reference/scrcpy/tunnels.md::chunk_0', 'git_rep/docs/zhHans/reference/scrcpy/connection.md::chunk_5', 'git_rep/docs/zhHans/reference/scrcpy/tunnels.md::chunk_0', 'git_rep/docs/en/reference/scrcpy/connection.md::chunk_4', 'git_rep/docs/zhHans/reference/scrcpy/develop.md::chunk_33']\n",
            "\n",
            "Question: How does the edge hiding and snapping mechanism work for a window instance?\n",
            "Recall@10: 1.00\n",
            "Answer: ['electron/helpers/edger/index.js']\n",
            "Prediction: ['git_rep/electron/main.js::chunk_3', 'git_rep/docs/zhHans/guide/milestones.md::chunk_2', 'git_rep/electron/helpers/edger/index.js::chunk_20', 'git_rep/electron/helpers/edger/index.js::chunk_0', 'git_rep/electron/helpers/edger/index.js::chunk_15', 'git_rep/electron/helpers/edger/index.js::chunk_7', 'git_rep/electron/helpers/edger/index.js::chunk_8', 'git_rep/electron/helpers/edger/index.js::chunk_1', 'git_rep/electron/helpers/edger/index.js::chunk_21', 'git_rep/electron/helpers/edger/index.js::chunk_3']\n",
            "\n",
            "Question: Unable to detect device\n",
            "Recall@10: 0.00\n",
            "Answer: ['README-CN.md', 'README-RU.md', 'README.md']\n",
            "Prediction: ['git_rep/docs/en/help/scrcpy.md::chunk_1', 'git_rep/src/locales/languages/zh-TW.json::chunk_4', 'git_rep/electron/exposes/adb/helpers/scanner/index.js::chunk_2', 'git_rep/docs/zhHans/help/scrcpy.md::chunk_2', 'git_rep/src/locales/languages/en-US.json::chunk_3', 'git_rep/docs/en/help/scrcpy.md::chunk_5', 'git_rep/docs/zhHans/help/scrcpy.md::chunk_1', 'git_rep/electron/exposes/adb/helpers/scanner/index.js::chunk_6', 'git_rep/src/locales/languages/en-US.json::chunk_10', 'git_rep/src/components/PreferenceForm/components/helper.js::chunk_0']\n",
            "\n",
            "Question: What functionality does the component provide for mirroring a device's screen?\n",
            "Recall@10: 0.00\n",
            "Answer: ['src/pages/device/components/MirrorAction/index.vue']\n",
            "Prediction: ['git_rep/docs/en/reference/scrcpy/video.md::chunk_7', 'git_rep/docs/en/guide/index.md::chunk_0', 'git_rep/docs/en/reference/scrcpy/keyboard.md::chunk_3', 'git_rep/docs/en/reference/scrcpy/video.md::chunk_8', 'git_rep/docs/en/reference/scrcpy/device.md::chunk_2', 'git_rep/electron/resources/extra/mac-x64/scrcpy/scrcpy.1::chunk_5', 'git_rep/electron/resources/extra/mac-arm64/scrcpy/scrcpy.1::chunk_5', 'git_rep/electron/resources/extra/linux-x64/scrcpy/scrcpy.1::chunk_5', 'git_rep/src/composables/useMirrorAction/index.js::chunk_1', 'git_rep/docs/en/guide/operation.md::chunk_0']\n",
            "\n",
            "Question: How is the functionality for storing and managing Scrcpy IP type configuration implemented?\n",
            "Recall@10: 0.00\n",
            "Answer: ['electron/exposes/scrcpy/helper.js', 'electron/helpers/store.js', 'src/store/preference/helpers/index.js', 'src/store/preference/index.js']\n",
            "Prediction: ['git_rep/docs/en/reference/scrcpy/linux.md::chunk_0', 'git_rep/electron/resources/extra/mac-x64/scrcpy/scrcpy.1::chunk_16', 'git_rep/electron/resources/extra/mac-arm64/scrcpy/scrcpy.1::chunk_16', 'git_rep/electron/resources/extra/linux-x64/scrcpy/scrcpy.1::chunk_16', 'git_rep/docs/en/reference/scrcpy/develop.md::chunk_25', 'git_rep/docs/en/reference/scrcpy/build.md::chunk_8', 'git_rep/docs/en/reference/scrcpy/develop.md::chunk_7', 'git_rep/docs/en/reference/scrcpy/connection.md::chunk_0', 'git_rep/docs/en/reference/scrcpy/develop.md::chunk_6', 'git_rep/docs/en/reference/scrcpy/develop.md::chunk_21']\n",
            "\n",
            "Question: What are the common user interface labels and messages implemented in Traditional Chinese?\n",
            "Recall@10: 1.00\n",
            "Answer: ['src/locales/languages/zh-TW.json']\n",
            "Prediction: ['git_rep/docs/zhHans/help/escrcpy.md::chunk_1', 'git_rep/docs/zhHans/index.md::chunk_3', 'git_rep/docs/zhHans/guide/operation.md::chunk_0', 'git_rep/docs/en/guide/milestones.md::chunk_1', 'git_rep/src/locales/languages/zh-TW.json::chunk_2', 'git_rep/README-CN.md::chunk_2', 'git_rep/docs/zhHans/reference/scrcpy/develop.md::chunk_27', 'git_rep/docs/zhHans/guide/operation.md::chunk_1', 'git_rep/src/locales/languages/zh-TW.json::chunk_46', 'git_rep/src/locales/languages/zh-CN.json::chunk_9']\n",
            "\n",
            "Question: How is the wireless connection screen layout managed and updated across the application?\n",
            "Recall@10: 0.00\n",
            "Answer: ['src/pages/device/index.vue']\n",
            "Prediction: ['git_rep/README.md::chunk_1', 'git_rep/docs/en/guide/preferences.md::chunk_0', 'git_rep/docs/en/index.md::chunk_1', 'git_rep/CHANGELOG.md::chunk_49', 'git_rep/src/locales/languages/en-US.json::chunk_7', 'git_rep/docs/en/reference/scrcpy/develop.md::chunk_20', 'git_rep/docs/en/guide/index.md::chunk_1', 'git_rep/src/locales/languages/en-US.json::chunk_15', 'git_rep/docs/en/reference/scrcpy/develop.md::chunk_9', 'git_rep/CHANGELOG.md::chunk_11']\n",
            "\n",
            "Question: How is the wireless pairing dialog functionality implemented?\n",
            "Recall@10: 0.00\n",
            "Answer: ['src/pages/device/components/WirelessGroup/PairDialog/index.vue']\n",
            "Prediction: ['git_rep/src/locales/languages/en-US.json::chunk_7', 'git_rep/src/utils/device/generateAdbPairingQR/index.js::chunk_0', 'git_rep/src/locales/languages/en-US.json::chunk_8', 'git_rep/src/locales/languages/zh-CN.json::chunk_6', 'git_rep/src/locales/languages/en-US.json::chunk_5', 'git_rep/docs/en/help/escrcpy.md::chunk_1', 'git_rep/src/locales/languages/zh-TW.json::chunk_7', 'git_rep/src/locales/languages/zh-CN.json::chunk_5', 'git_rep/src/locales/languages/en-US.json::chunk_6', 'git_rep/src/pages/device/components/WirelessGroup/index.vue::chunk_9']\n",
            "\n"
          ]
        },
        {
          "output_type": "stream",
          "name": "stderr",
          "text": [
            " 44%|████▍     | 15/34 [00:00<00:00, 41.49it/s]"
          ]
        },
        {
          "output_type": "stream",
          "name": "stdout",
          "text": [
            "Question: How is the sponsor dialog implemented to display sponsorship images dynamically?\n",
            "Recall@10: 1.00\n",
            "Answer: ['src/pages/about/components/SponsorDialog/index.vue']\n",
            "Prediction: ['git_rep/src/pages/about/components/SponsorDialog/index.vue::chunk_0', 'git_rep/README.md::chunk_5', 'git_rep/src/pages/about/index.vue::chunk_2', 'git_rep/docs/en/donate.md::chunk_0', 'git_rep/src/pages/about/components/SponsorDialog/index.vue::chunk_1', 'git_rep/README-RU.md::chunk_7', 'git_rep/src/pages/device/components/DevicePopover/index.vue::chunk_0', 'git_rep/docs/zhHans/donate.md::chunk_0', 'git_rep/src/pages/device/components/DevicePopover/index.vue::chunk_1', 'git_rep/README-CN.md::chunk_6']\n",
            "\n",
            "Question: What workflows support manual triggering in the repository?\n",
            "Recall@10: 0.00\n",
            "Answer: ['.github/workflows/release-assets.yml', '.github/workflows/sync-gitee.yml', '.github/workflows/sync-homebrew.yml']\n",
            "Prediction: ['git_rep/dev-publish.yml::chunk_0', 'git_rep/CHANGELOG.md::chunk_65', 'git_rep/CHANGELOG.md::chunk_79', 'git_rep/CHANGELOG.md::chunk_95', 'git_rep/README.md::chunk_3', 'git_rep/CHANGELOG.md::chunk_75', 'git_rep/CHANGELOG.md::chunk_58', 'git_rep/CHANGELOG.md::chunk_139', 'git_rep/CHANGELOG.md::chunk_32', 'git_rep/electron/ipc/updater/index.js::chunk_2']\n",
            "\n",
            "Question: How does the application determine the file path for the scrcpy executable based on the operating system and architecture?\n",
            "Recall@10: 1.00\n",
            "Answer: ['electron/configs/scrcpy/index.js']\n",
            "Prediction: ['git_rep/docs/en/reference/scrcpy/linux.md::chunk_0', 'git_rep/docs/en/reference/scrcpy/build.md::chunk_9', 'git_rep/docs/en/reference/scrcpy/develop.md::chunk_7', 'git_rep/docs/en/reference/scrcpy/linux.md::chunk_3', 'git_rep/docs/en/reference/scrcpy/develop.md::chunk_18', 'git_rep/docs/en/reference/scrcpy/windows.md::chunk_0', 'git_rep/docs/en/reference/scrcpy/control.md::chunk_6', 'git_rep/docs/en/reference/scrcpy/build.md::chunk_7', 'git_rep/electron/configs/scrcpy/index.js::chunk_0', 'git_rep/docs/en/reference/scrcpy/develop.md::chunk_0']\n",
            "\n",
            "Question: What is the purpose of the configuration specified in the version management file?\n",
            "Recall@10: 0.00\n",
            "Answer: ['.nvmdrc']\n",
            "Prediction: ['git_rep/docs/en/guide/milestones.md::chunk_0', 'git_rep/docs/en/guide/milestones.md::chunk_1', 'git_rep/LICENSE::chunk_1', 'git_rep/docs/en/reference/gnirehtet/index.md::chunk_6', 'git_rep/LICENSE::chunk_2', 'git_rep/src/locales/languages/zh-CN.json::chunk_20', 'git_rep/src/locales/languages/zh-TW.json::chunk_24', 'git_rep/docs/en/changelog.md::chunk_0', 'git_rep/CHANGELOG.md::chunk_43', 'git_rep/CHANGELOG.md::chunk_75']\n",
            "\n",
            "Question: What parameters are available for configuring video preferences in the codebase?\n",
            "Recall@10: 1.00\n",
            "Answer: ['src/store/preference/model/video/index.js']\n",
            "Prediction: ['git_rep/src/locales/languages/zh-CN.json::chunk_25', 'git_rep/src/locales/languages/zh-TW.json::chunk_30', 'git_rep/src/locales/languages/zh-TW.json::chunk_31', 'git_rep/src/locales/languages/zh-CN.json::chunk_24', 'git_rep/src/locales/languages/en-US.json::chunk_20', 'git_rep/docs/en/guide/preferences.md::chunk_0', 'git_rep/src/store/preference/model/video/index.js::chunk_1', 'git_rep/src/locales/languages/en-US.json::chunk_21', 'git_rep/src/locales/languages/ru-RU.json::chunk_30', 'git_rep/src/store/preference/model/video/index.js::chunk_0']\n",
            "\n",
            "Question: How are scheduled task timer types and time units defined in the repository?\n",
            "Recall@10: 1.00\n",
            "Answer: ['src/dicts/tasks/index.js']\n",
            "Prediction: ['git_rep/src/locales/languages/ru-RU.json::chunk_6', 'git_rep/src/dicts/tasks/index.js::chunk_0', 'git_rep/src/store/task/index.js::chunk_1', 'git_rep/src/locales/languages/zh-TW.json::chunk_5', 'git_rep/src/locales/languages/ru-RU.json::chunk_2', 'git_rep/src/locales/languages/en-US.json::chunk_4', 'git_rep/src/locales/languages/zh-CN.json::chunk_4', 'git_rep/CHANGELOG.md::chunk_47', 'git_rep/src/store/task/index.js::chunk_2', 'git_rep/src/store/task/index.js::chunk_0']\n",
            "\n",
            "Question: What configuration should domestic users apply to resolve dependency installation issues?\n",
            "Recall@10: 0.00\n",
            "Answer: ['.npmrc.CN']\n",
            "Prediction: ['git_rep/CHANGELOG.md::chunk_17', 'git_rep/docs/en/reference/scrcpy/build.md::chunk_2', 'git_rep/CHANGELOG.md::chunk_8', 'git_rep/CHANGELOG.md::chunk_104', 'git_rep/docs/en/reference/scrcpy/build.md::chunk_4', 'git_rep/docs/en/help/escrcpy.md::chunk_6', 'git_rep/CHANGELOG.md::chunk_27', 'git_rep/CHANGELOG.md::chunk_26', 'git_rep/LICENSE::chunk_10', 'git_rep/docs/en/reference/scrcpy/build.md::chunk_5']\n",
            "\n",
            "Question: What are the available localized string keys and their corresponding Russian translations in the project?\n",
            "Recall@10: 1.00\n",
            "Answer: ['src/locales/languages/ru-RU.json']\n",
            "Prediction: ['git_rep/src/locales/languages/ru-RU.json::chunk_2', 'git_rep/src/locales/languages/ru-RU.json::chunk_47', 'git_rep/src/locales/languages/ru-RU.json::chunk_48', 'git_rep/README-RU.md::chunk_4', 'git_rep/src/locales/languages/ru-RU.json::chunk_23', 'git_rep/src/locales/languages/ru-RU.json::chunk_52', 'git_rep/src/locales/languages/ru-RU.json::chunk_25', 'git_rep/README-CN.md::chunk_2', 'git_rep/src/locales/languages/ru-RU.json::chunk_35', 'git_rep/src/locales/languages/ru-RU.json::chunk_24']\n",
            "\n",
            "Question: What is the privacy policy of the app described in the repository?\n",
            "Recall@10: 1.00\n",
            "Answer: ['PRIVACY.md']\n",
            "Prediction: ['git_rep/PRIVACY.md::chunk_1', 'git_rep/PRIVACY.md::chunk_0', 'git_rep/docs/en/reference/gnirehtet/index.md::chunk_11', 'git_rep/LICENSE::chunk_3', 'git_rep/docs/en/reference/scrcpy/index.md::chunk_11', 'git_rep/electron-builder.json::chunk_3', 'git_rep/LICENSE::chunk_5', 'git_rep/dev-publish.yml::chunk_0', 'git_rep/LICENSE::chunk_8', 'git_rep/src/locales/languages/zh-TW.json::chunk_51']\n",
            "\n"
          ]
        },
        {
          "output_type": "stream",
          "name": "stderr",
          "text": [
            " 74%|███████▎  | 25/34 [00:00<00:00, 41.77it/s]"
          ]
        },
        {
          "output_type": "stream",
          "name": "stdout",
          "text": [
            "Question: How does the plugin integrate custom components with Element Plus features?\n",
            "Recall@10: 1.00\n",
            "Answer: ['src/plugins/element-plus/index.js']\n",
            "Prediction: ['git_rep/src/plugins/auto.js::chunk_0', 'git_rep/src/plugins/element-plus/auto.js::chunk_0', 'git_rep/vite.config.js::chunk_1', 'git_rep/src/plugins/element-plus/expands/EleFormItemCol/index.vue::chunk_0', 'git_rep/src/composables/useMessageLoading/index.js::chunk_0', 'git_rep/src/plugins/element-plus/index.js::chunk_0', 'git_rep/src/plugins/element-plus/expands/EleTooltipButton/index.vue::chunk_0', 'git_rep/src/components/QuickBar/index.vue::chunk_0', 'git_rep/vite.config.js::chunk_0', 'git_rep/src/App.vue::chunk_0']\n",
            "\n",
            "Question: What configuration is used for optimizing SVG icons in the repository?\n",
            "Recall@10: 0.00\n",
            "Answer: ['src/icons/svgo.config.js']\n",
            "Prediction: ['git_rep/src/icons/svg/wifi.svg::chunk_0', 'git_rep/src/icons/svg/multi-screen.svg::chunk_0', 'git_rep/package.json::chunk_1', 'git_rep/src/icons/components/SvgIcon.vue::chunk_0', 'git_rep/CHANGELOG.md::chunk_92', 'git_rep/docs/en/index.md::chunk_2', 'git_rep/src/icons/svg/volume-up.svg::chunk_0', 'git_rep/src/icons/svg/volume-down.svg::chunk_0', 'git_rep/src/icons/svg/command.svg::chunk_1', 'git_rep/src/icons/svg/volume-up.svg::chunk_2']\n",
            "\n",
            "Question: How is the configuration for resolving dependency installation issues specified in the project?\n",
            "Recall@10: 0.00\n",
            "Answer: ['.npmrc']\n",
            "Prediction: ['git_rep/CHANGELOG.md::chunk_17', 'git_rep/CHANGELOG.md::chunk_8', 'git_rep/docs/en/reference/scrcpy/build.md::chunk_4', 'git_rep/CHANGELOG.md::chunk_95', 'git_rep/electron-builder.json::chunk_4', 'git_rep/CHANGELOG.md::chunk_103', 'git_rep/package.json::chunk_1', 'git_rep/docs/en/reference/scrcpy/build.md::chunk_2', 'git_rep/CHANGELOG.md::chunk_75', 'git_rep/CHANGELOG.md::chunk_104']\n",
            "\n",
            "Question: What license terms and conditions govern the usage, reproduction, and distribution of the repository?\n",
            "Recall@10: 1.00\n",
            "Answer: ['LICENSE']\n",
            "Prediction: ['git_rep/LICENSE::chunk_3', 'git_rep/LICENSE::chunk_0', 'git_rep/docs/en/reference/scrcpy/index.md::chunk_11', 'git_rep/LICENSE::chunk_1', 'git_rep/LICENSE::chunk_5', 'git_rep/LICENSE::chunk_4', 'git_rep/LICENSE::chunk_2', 'git_rep/LICENSE::chunk_8', 'git_rep/LICENSE::chunk_7', 'git_rep/LICENSE::chunk_11']\n",
            "\n",
            "Question: How are ADB and scrcpy paths managed and utilized in the codebase?\n",
            "Recall@10: 0.00\n",
            "Answer: ['electron/exposes/scrcpy/index.js']\n",
            "Prediction: ['git_rep/src/locales/languages/en-US.json::chunk_17', 'git_rep/docs/zhHans/help/scrcpy.md::chunk_0', 'git_rep/docs/zhHans/reference/scrcpy/develop.md::chunk_7', 'git_rep/docs/en/reference/scrcpy/develop.md::chunk_7', 'git_rep/docs/zhHans/help/scrcpy.md::chunk_4', 'git_rep/docs/en/reference/scrcpy/build.md::chunk_0', 'git_rep/docs/en/reference/scrcpy/macos.md::chunk_1', 'git_rep/docs/zhHans/reference/scrcpy/windows.md::chunk_2', 'git_rep/docs/en/reference/scrcpy/develop.md::chunk_6', 'git_rep/docs/zhHans/reference/scrcpy/windows.md::chunk_1']\n",
            "\n",
            "Question: How does the code handle loading indicators in the Electron application?\n",
            "Recall@10: 1.00\n",
            "Answer: ['electron/loading/index.js']\n",
            "Prediction: ['git_rep/electron/exposes/gnirehtet/index.js::chunk_0', 'git_rep/electron/exposes/scrcpy/index.js::chunk_0', 'git_rep/src/components/ControlBar/Volume/index.vue::chunk_2', 'git_rep/electron/loading/index.js::chunk_1', 'git_rep/control/electron/helpers/index.js::chunk_0', 'git_rep/electron/exposes/electron/index.js::chunk_0', 'git_rep/src/utils/modal/index.js::chunk_0', 'git_rep/electron/ipc/tray/index.js::chunk_0', 'git_rep/electron/preload.js::chunk_0', 'git_rep/electron/helpers/single.js::chunk_0']\n",
            "\n",
            "Question: How does the theme store handle changes to the system theme and update the application state accordingly?\n",
            "Recall@10: 1.00\n",
            "Answer: ['src/store/theme/index.js']\n",
            "Prediction: ['git_rep/src/store/theme/index.js::chunk_0', 'git_rep/electron/ipc/theme/index.js::chunk_0', 'git_rep/src/store/theme/index.js::chunk_1', 'git_rep/src/pages/preference/index.vue::chunk_2', 'git_rep/src/store/index.js::chunk_0', 'git_rep/electron/ipc/index.js::chunk_0', 'git_rep/src/locales/languages/en-US.json::chunk_16', 'git_rep/electron/exposes/search/index.js::chunk_1', 'git_rep/CHANGELOG.md::chunk_51', 'git_rep/electron/helpers/store.js::chunk_0']\n",
            "\n",
            "Question: How is the Vite configuration structured to optimize the development environment's build performance?\n",
            "Recall@10: 1.00\n",
            "Answer: ['vite.config.js']\n",
            "Prediction: ['git_rep/jsconfig.json::chunk_0', 'git_rep/CHANGELOG.md::chunk_92', 'git_rep/CHANGELOG.md::chunk_50', 'git_rep/CHANGELOG.md::chunk_85', 'git_rep/package.json::chunk_5', 'git_rep/package.json::chunk_1', 'git_rep/develop.md::chunk_1', 'git_rep/vite.config.js::chunk_0', 'git_rep/CHANGELOG.md::chunk_54', 'git_rep/CHANGELOG.md::chunk_72']\n",
            "\n",
            "Question: How is the application bootstrap process initialized with a router in the codebase?\n",
            "Recall@10: 1.00\n",
            "Answer: ['src/main.js']\n",
            "Prediction: ['git_rep/src/main.js::chunk_0', 'git_rep/src/bootstrap/index.js::chunk_0', 'git_rep/control/index.js::chunk_0', 'git_rep/docs/en/reference/gnirehtet/api.md::chunk_4', 'git_rep/CHANGELOG.md::chunk_25', 'git_rep/CHANGELOG.md::chunk_50', 'git_rep/CHANGELOG.md::chunk_29', 'git_rep/docs/zhHans/reference/gnirehtet/api.md::chunk_5', 'git_rep/docs/en/reference/scrcpy/develop.md::chunk_4', 'git_rep/electron/exposes/adb/index.js::chunk_2']\n",
            "\n"
          ]
        },
        {
          "output_type": "stream",
          "name": "stderr",
          "text": [
            "100%|██████████| 34/34 [00:00<00:00, 38.26it/s]"
          ]
        },
        {
          "output_type": "stream",
          "name": "stdout",
          "text": [
            "Question: How does the application determine and validate the paths for external binaries (like scrcpy, adb, and gnirehtet) at startup, and which module or file manages this logic?\n",
            "Recall@10: 0.00\n",
            "Answer: ['electron/configs/scrcpy/index.js', 'electron/configs/android-platform-tools/index.js', 'electron/configs/gnirehtet/index.js']\n",
            "Prediction: ['git_rep/docs/en/reference/scrcpy/develop.md::chunk_7', 'git_rep/docs/en/reference/gnirehtet/index.md::chunk_10', 'git_rep/docs/en/reference/scrcpy/develop.md::chunk_4', 'git_rep/electron/resources/extra/mac-x64/scrcpy/scrcpy.1::chunk_33', 'git_rep/electron/resources/extra/mac-arm64/scrcpy/scrcpy.1::chunk_33', 'git_rep/electron/resources/extra/linux-x64/scrcpy/scrcpy.1::chunk_33', 'git_rep/docs/en/reference/scrcpy/build.md::chunk_7', 'git_rep/docs/en/reference/scrcpy/develop.md::chunk_6', 'git_rep/docs/en/reference/scrcpy/linux.md::chunk_0', 'git_rep/docs/en/reference/scrcpy/develop.md::chunk_5']\n",
            "\n",
            "Question: Which parts of the source code implement the QR code scanning feature for wireless pairing, what libraries are used, and how is the scanned data processed to establish a connection?\n",
            "Recall@10: 0.33\n",
            "Answer: ['src/utils/device/generateAdbPairingQR/index.js', 'src/pages/device/components/WirelessGroup/QrAction/index.vue', 'package.json']\n",
            "Prediction: ['git_rep/src/utils/device/generateAdbPairingQR/index.js::chunk_0', 'git_rep/src/locales/languages/en-US.json::chunk_5', 'git_rep/docs/en/guide/index.md::chunk_1', 'git_rep/src/locales/languages/zh-TW.json::chunk_7', 'git_rep/src/locales/languages/zh-CN.json::chunk_6', 'git_rep/CHANGELOG.md::chunk_13', 'git_rep/docs/en/reference/scrcpy/develop.md::chunk_22', 'git_rep/src/utils/device/generateAdbPairingQR/index.js::chunk_1', 'git_rep/src/locales/languages/zh-TW.json::chunk_10', 'git_rep/docs/en/guide/started.md::chunk_1']\n",
            "\n",
            "Question: How is the inter-process communication handled between the Electron front end and the underlying scrcpy process? Which IPC channels or events are defined in the code?\n",
            "Recall@10: 0.00\n",
            "Answer: ['electron/exposes/scrcpy/index.js', 'electron/exposes/scrcpy/helper.js', 'electron/preload.js', 'electron/exposes/index.js', 'electron/helpers/index.js', 'electron/configs/scrcpy/index.js', 'src/pages/device/components/MirrorAction/index.vue', 'src/components/QuickBar/components/Terminal/components/TerminalDialog/composables/scrcpy.js', 'src/store/preference/index.js', 'src/bootstrap/default/index.js']\n",
            "Prediction: ['git_rep/docs/en/reference/scrcpy/develop.md::chunk_0', 'git_rep/docs/en/reference/scrcpy/develop.md::chunk_8', 'git_rep/docs/en/reference/scrcpy/develop.md::chunk_18', 'git_rep/docs/en/reference/scrcpy/develop.md::chunk_24', 'git_rep/docs/en/reference/scrcpy/develop.md::chunk_14', 'git_rep/docs/en/reference/scrcpy/develop.md::chunk_19', 'git_rep/docs/en/reference/scrcpy/develop.md::chunk_20', 'git_rep/docs/en/reference/scrcpy/develop.md::chunk_22', 'git_rep/docs/en/reference/scrcpy/index.md::chunk_9', 'git_rep/docs/en/reference/scrcpy/develop.md::chunk_2']\n",
            "\n",
            "Question: Where in the codebase are the user preference configurations (for video, audio, window controls, etc.) defined and saved, and how are these settings applied to the mirroring process?\n",
            "Recall@10: 0.00\n",
            "Answer: ['src/store/preference/model/video/index.js', 'src/store/preference/model/audio/index.js', 'src/store/preference/model/window/index.js', 'src/store/preference/model/device/index.js', 'src/store/preference/model/input/index.js', 'src/store/preference/model/record/index.js', 'src/store/preference/model/common/index.js', 'src/pages/device/components/MirrorAction/index.vue']\n",
            "Prediction: ['git_rep/docs/en/guide/preferences.md::chunk_1', 'git_rep/docs/en/guide/preferences.md::chunk_0', 'git_rep/docs/en/reference/scrcpy/video.md::chunk_7', 'git_rep/src/locales/languages/zh-TW.json::chunk_29', 'git_rep/src/locales/languages/en-US.json::chunk_26', 'git_rep/src/locales/languages/en-US.json::chunk_19', 'git_rep/docs/en/guide/milestones.md::chunk_0', 'git_rep/src/locales/languages/zh-TW.json::chunk_30', 'git_rep/electron/resources/extra/mac-x64/scrcpy/scrcpy.1::chunk_16', 'git_rep/electron/resources/extra/mac-arm64/scrcpy/scrcpy.1::chunk_16']\n",
            "\n",
            "Question: What is the implementation strategy for the auto-connect and auto-mirroring features? In which module or function does the logic reside, and how does it interact with device detection?\n",
            "Recall@10: 0.00\n",
            "Answer: ['src/store/preference/model/common/index.js', 'electron/configs/android-platform-tools/index.js', 'electron/configs/scrcpy/index.js', 'src/store/preference/model/video/index.js', 'src/utils/device/generateAdbPairingQR/index.js', 'src/pages/device/components/WirelessGroup/QrAction/index.vue']\n",
            "Prediction: ['git_rep/docs/en/reference/scrcpy/mouse.md::chunk_3', 'git_rep/src/locales/languages/en-US.json::chunk_19', 'git_rep/src/locales/languages/en-US.json::chunk_13', 'git_rep/docs/en/guide/milestones.md::chunk_0', 'git_rep/README.md::chunk_1', 'git_rep/docs/en/reference/scrcpy/keyboard.md::chunk_3', 'git_rep/docs/en/index.md::chunk_1', 'git_rep/docs/en/guide/index.md::chunk_1', 'git_rep/docs/en/reference/scrcpy/keyboard.md::chunk_5', 'git_rep/docs/en/guide/operation.md::chunk_0']\n",
            "\n",
            "Question: How are batch processing operations (such as batch file management, batch app installation, and execution of scripts) implemented in the source code? Which parts handle the scheduling and execution of these tasks?\n",
            "Recall@10: 0.00\n",
            "Answer: ['src/composables/useFileActions/index.js', 'src/composables/useInstallAction/index.js', 'src/composables/useShellAction/index.js', 'src/store/task/index.js']\n",
            "Prediction: ['git_rep/docs/en/guide/operation.md::chunk_0', 'git_rep/docs/en/guide/milestones.md::chunk_1', 'git_rep/docs/en/guide/milestones.md::chunk_0', 'git_rep/CHANGELOG.md::chunk_52', 'git_rep/CHANGELOG.md::chunk_86', 'git_rep/docs/en/reference/gnirehtet/index.md::chunk_6', 'git_rep/docs/en/reference/scrcpy/develop.md::chunk_0', 'git_rep/docs/zhHans/reference/scrcpy/windows.md::chunk_4', 'git_rep/docs/zhHans/reference/scrcpy/windows.md::chunk_3', 'git_rep/README-CN.md::chunk_4']\n",
            "\n",
            "Question: Which file or module is responsible for mapping user shortcuts (for device control actions like home, back, screenshot, etc.) to the underlying adb or scrcpy commands, and how can these mappings be customized?\n",
            "Recall@10: 0.00\n",
            "Answer: ['electron/resources/extra/linux/scrcpy/scrcpy.1', 'src/store/preference/model/input/index.js', 'src/components/PreferenceForm/components/SelectKeyboardInject/index.vue']\n",
            "Prediction: ['git_rep/src/locales/languages/en-US.json::chunk_17', 'git_rep/docs/en/reference/scrcpy/shortcuts.md::chunk_0', 'git_rep/electron/resources/extra/mac-x64/scrcpy/scrcpy.1::chunk_23', 'git_rep/electron/resources/extra/mac-arm64/scrcpy/scrcpy.1::chunk_23', 'git_rep/electron/resources/extra/linux-x64/scrcpy/scrcpy.1::chunk_23', 'git_rep/docs/en/reference/scrcpy/mouse.md::chunk_5', 'git_rep/docs/en/reference/scrcpy/index.md::chunk_8', 'git_rep/docs/en/reference/scrcpy/control.md::chunk_1', 'git_rep/docs/zhHans/reference/scrcpy/keyboard.md::chunk_4', 'git_rep/electron/resources/extra/mac-x64/scrcpy/scrcpy.1::chunk_11']\n",
            "\n",
            "\n",
            " Average Recall@10: 0.48\n"
          ]
        },
        {
          "output_type": "stream",
          "name": "stderr",
          "text": [
            "\n"
          ]
        },
        {
          "output_type": "execute_result",
          "data": {
            "text/plain": [
              "0.48039215686274506"
            ]
          },
          "metadata": {},
          "execution_count": 13
        }
      ]
    },
    {
      "cell_type": "markdown",
      "source": [
        "The result for index selection with reranker:"
      ],
      "metadata": {
        "id": "_-QlD4pWTtCd"
      }
    },
    {
      "cell_type": "code",
      "source": [
        "reranker_indexing = lambda question, model, index, metadata, docs, top_k: reranker_index(question, model, index, metadata, docs, cross_encoder, top_k)"
      ],
      "metadata": {
        "id": "ta34kHHPmpVr"
      },
      "execution_count": 14,
      "outputs": []
    },
    {
      "cell_type": "code",
      "source": [
        "recall_from_json('/content/escrcpy-commits-generated.json', reranker_indexing, model, index, docs, metadata)"
      ],
      "metadata": {
        "colab": {
          "base_uri": "https://localhost:8080/"
        },
        "id": "db3TVQSNTIk8",
        "outputId": "f029cb3e-3ea5-4ec9-9a9e-8a60672cf1e1"
      },
      "execution_count": 15,
      "outputs": [
        {
          "output_type": "stream",
          "name": "stderr",
          "text": [
            "  3%|▎         | 1/34 [00:12<07:06, 12.92s/it]"
          ]
        },
        {
          "output_type": "stream",
          "name": "stdout",
          "text": [
            "Question: How does the SelectDisplay component handle the device options when retrieving display IDs?\n",
            "Recall@10: 1.00\n",
            "Answer: ['src/components/PreferenceForm/components/SelectDisplay/index.vue']\n",
            "Prediction: ['git_rep/electron/exposes/scrcpy/index.js', 'git_rep/docs/en/reference/scrcpy/video.md', 'git_rep/src/components/PreferenceForm/components/SelectDisplay/index.vue', 'git_rep/control/App.vue', 'git_rep/src/pages/preference/index.vue', 'git_rep/src/pages/device/index.vue', 'git_rep/src/store/preference/model/device/index.js', 'git_rep/src/pages/preference/components/ScopeSelect/index.vue', 'git_rep/src/composables/useMirrorAction/index.js', 'git_rep/src/locales/languages/en-US.json']\n",
            "\n"
          ]
        },
        {
          "output_type": "stream",
          "name": "stderr",
          "text": [
            "\r  6%|▌         | 2/34 [00:21<05:29, 10.29s/it]"
          ]
        },
        {
          "output_type": "stream",
          "name": "stdout",
          "text": [
            "Question: How does the repository handle IPv6 addresses in ADB commands?\n",
            "Recall@10: 1.00\n",
            "Answer: ['electron/exposes/adb/helpers/index.js', 'electron/exposes/adb/index.js']\n",
            "Prediction: ['git_rep/electron/exposes/adb/index.js', 'git_rep/electron/resources/extra/mac-x64/scrcpy/scrcpy.1', 'git_rep/electron/resources/extra/mac-arm64/scrcpy/scrcpy.1', 'git_rep/electron/resources/extra/linux-x64/scrcpy/scrcpy.1', 'git_rep/docs/en/reference/scrcpy/connection.md', 'git_rep/electron/exposes/adb/helpers/index.js', 'git_rep/docs/en/reference/gnirehtet/index.md', 'git_rep/electron/exposes/adb/helpers/scanner/index.js', 'git_rep/CHANGELOG.md', 'git_rep/docs/zhHans/reference/gnirehtet/index.md']\n",
            "\n"
          ]
        },
        {
          "output_type": "stream",
          "name": "stderr",
          "text": [
            "\r  9%|▉         | 3/34 [00:36<06:34, 12.71s/it]"
          ]
        },
        {
          "output_type": "stream",
          "name": "stdout",
          "text": [
            "Question: How does the edge hiding and snapping mechanism work for a window instance?\n",
            "Recall@10: 1.00\n",
            "Answer: ['electron/helpers/edger/index.js']\n",
            "Prediction: ['git_rep/docs/en/guide/milestones.md', 'git_rep/electron/helpers/edger/index.js', 'git_rep/electron/main.js', 'git_rep/electron/ipc/app/index.js', 'git_rep/electron/helpers/single.js', 'git_rep/electron/resources/extra/mac-x64/scrcpy/scrcpy.1', 'git_rep/electron/resources/extra/mac-arm64/scrcpy/scrcpy.1', 'git_rep/electron/resources/extra/linux-x64/scrcpy/scrcpy.1', 'git_rep/docs/en/reference/scrcpy/window.md', 'git_rep/docs/en/reference/scrcpy/develop.md']\n",
            "\n"
          ]
        },
        {
          "output_type": "stream",
          "name": "stderr",
          "text": [
            "\r 12%|█▏        | 4/34 [00:49<06:23, 12.79s/it]"
          ]
        },
        {
          "output_type": "stream",
          "name": "stdout",
          "text": [
            "Question: Unable to detect device\n",
            "Recall@10: 0.00\n",
            "Answer: ['README-CN.md', 'README-RU.md', 'README.md']\n",
            "Prediction: ['git_rep/docs/en/help/escrcpy.md', 'git_rep/src/locales/languages/en-US.json', 'git_rep/docs/en/help/scrcpy.md', 'git_rep/docs/en/guide/started.md', 'git_rep/src/locales/languages/ru-RU.json', 'git_rep/src/pages/device/index.vue', 'git_rep/docs/zhHans/help/scrcpy.md', 'git_rep/electron/exposes/adb/helpers/scanner/index.js', 'git_rep/src/locales/languages/zh-TW.json', 'git_rep/src/composables/useInstallAction/index.js']\n",
            "\n"
          ]
        },
        {
          "output_type": "stream",
          "name": "stderr",
          "text": [
            "\r 15%|█▍        | 5/34 [00:58<05:22, 11.14s/it]"
          ]
        },
        {
          "output_type": "stream",
          "name": "stdout",
          "text": [
            "Question: What functionality does the component provide for mirroring a device's screen?\n",
            "Recall@10: 0.00\n",
            "Answer: ['src/pages/device/components/MirrorAction/index.vue']\n",
            "Prediction: ['git_rep/docs/en/reference/scrcpy/device.md', 'git_rep/docs/en/guide/index.md', 'git_rep/docs/en/reference/scrcpy/index.md', 'git_rep/docs/en/guide/preferences.md', 'git_rep/docs/en/reference/scrcpy/gamepad.md', 'git_rep/src/pages/device/components/BatchActions/index.vue', 'git_rep/docs/en/reference/scrcpy/video.md', 'git_rep/docs/en/reference/scrcpy/keyboard.md', 'git_rep/src/locales/languages/en-US.json', 'git_rep/README.md']\n",
            "\n"
          ]
        },
        {
          "output_type": "stream",
          "name": "stderr",
          "text": [
            "\r 18%|█▊        | 6/34 [01:07<04:54, 10.51s/it]"
          ]
        },
        {
          "output_type": "stream",
          "name": "stdout",
          "text": [
            "Question: How is the functionality for storing and managing Scrcpy IP type configuration implemented?\n",
            "Recall@10: 0.00\n",
            "Answer: ['electron/exposes/scrcpy/helper.js', 'electron/helpers/store.js', 'src/store/preference/helpers/index.js', 'src/store/preference/index.js']\n",
            "Prediction: ['git_rep/docs/en/reference/scrcpy/build.md', 'git_rep/docs/en/reference/scrcpy/connection.md', 'git_rep/docs/en/reference/scrcpy/device.md', 'git_rep/docs/en/reference/scrcpy/develop.md', 'git_rep/docs/en/reference/scrcpy/macos.md', 'git_rep/docs/en/reference/scrcpy/tunnels.md', 'git_rep/CHANGELOG.md', 'git_rep/docs/en/reference/scrcpy/linux.md', 'git_rep/docs/en/reference/scrcpy/index.md', 'git_rep/docs/zhHans/reference/scrcpy/build.md']\n",
            "\n"
          ]
        },
        {
          "output_type": "stream",
          "name": "stderr",
          "text": [
            "\r 21%|██        | 7/34 [01:19<04:56, 10.98s/it]"
          ]
        },
        {
          "output_type": "stream",
          "name": "stdout",
          "text": [
            "Question: What are the common user interface labels and messages implemented in Traditional Chinese?\n",
            "Recall@10: 1.00\n",
            "Answer: ['src/locales/languages/zh-TW.json']\n",
            "Prediction: ['git_rep/docs/zhHans/reference/scrcpy/keyboard.md', 'git_rep/docs/zhHans/reference/scrcpy/develop.md', 'git_rep/docs/zhHans/help/escrcpy.md', 'git_rep/docs/zhHans/guide/milestones.md', 'git_rep/docs/zhHans/reference/scrcpy/gamepad.md', 'git_rep/docs/zhHans/reference/scrcpy/mouse.md', 'git_rep/src/locales/languages/ru-RU.json', 'git_rep/docs/zhHans/guide/operation.md', 'git_rep/docs/zhHans/guide/index.md', 'git_rep/src/locales/languages/zh-TW.json']\n",
            "\n"
          ]
        },
        {
          "output_type": "stream",
          "name": "stderr",
          "text": [
            "\r 24%|██▎       | 8/34 [01:30<04:49, 11.12s/it]"
          ]
        },
        {
          "output_type": "stream",
          "name": "stdout",
          "text": [
            "Question: How is the wireless connection screen layout managed and updated across the application?\n",
            "Recall@10: 0.00\n",
            "Answer: ['src/pages/device/index.vue']\n",
            "Prediction: ['git_rep/CHANGELOG.md', 'git_rep/docs/en/guide/index.md', 'git_rep/docs/en/index.md', 'git_rep/README.md', 'git_rep/docs/en/guide/milestones.md', 'git_rep/src/pages/device/components/WirelessGroup/index.vue', 'git_rep/docs/en/reference/scrcpy/connection.md', 'git_rep/src/locales/languages/ru-RU.json', 'git_rep/src/locales/languages/en-US.json', 'git_rep/docs/en/reference/scrcpy/develop.md']\n",
            "\n"
          ]
        },
        {
          "output_type": "stream",
          "name": "stderr",
          "text": [
            "\r 26%|██▋       | 9/34 [01:45<05:04, 12.18s/it]"
          ]
        },
        {
          "output_type": "stream",
          "name": "stdout",
          "text": [
            "Question: How is the wireless pairing dialog functionality implemented?\n",
            "Recall@10: 1.00\n",
            "Answer: ['src/pages/device/components/WirelessGroup/PairDialog/index.vue']\n",
            "Prediction: ['git_rep/src/pages/device/components/WirelessGroup/PairDialog/index.vue', 'git_rep/docs/en/help/escrcpy.md', 'git_rep/docs/en/guide/started.md', 'git_rep/src/locales/languages/en-US.json', 'git_rep/src/locales/languages/ru-RU.json', 'git_rep/src/pages/device/components/WirelessGroup/index.vue', 'git_rep/src/utils/device/generateAdbPairingQR/index.js', 'git_rep/src/locales/languages/zh-CN.json', 'git_rep/src/locales/languages/zh-TW.json', 'git_rep/docs/en/guide/index.md']\n",
            "\n"
          ]
        },
        {
          "output_type": "stream",
          "name": "stderr",
          "text": [
            "\r 29%|██▉       | 10/34 [02:02<05:30, 13.79s/it]"
          ]
        },
        {
          "output_type": "stream",
          "name": "stdout",
          "text": [
            "Question: How is the sponsor dialog implemented to display sponsorship images dynamically?\n",
            "Recall@10: 1.00\n",
            "Answer: ['src/pages/about/components/SponsorDialog/index.vue']\n",
            "Prediction: ['git_rep/src/pages/about/index.vue', 'git_rep/src/pages/about/components/SponsorDialog/index.vue', 'git_rep/README-CN.md', 'git_rep/docs/zhHans/donate.md', 'git_rep/docs/en/donate.md', 'git_rep/README-RU.md', 'git_rep/README.md', 'git_rep/src/components/ControlBar/FileManage/FileDialog/index.vue', 'git_rep/src/components/QuickBar/components/Terminal/components/TerminalDialog/index.vue', 'git_rep/src/plugins/element-plus/restyle.css']\n",
            "\n"
          ]
        },
        {
          "output_type": "stream",
          "name": "stderr",
          "text": [
            "\r 32%|███▏      | 11/34 [02:14<05:00, 13.05s/it]"
          ]
        },
        {
          "output_type": "stream",
          "name": "stdout",
          "text": [
            "Question: What workflows support manual triggering in the repository?\n",
            "Recall@10: 0.00\n",
            "Answer: ['.github/workflows/release-assets.yml', '.github/workflows/sync-gitee.yml', '.github/workflows/sync-homebrew.yml']\n",
            "Prediction: ['git_rep/CHANGELOG.md', 'git_rep/docs/en/reference/scrcpy/index.md', 'git_rep/docs/en/reference/scrcpy/mouse.md', 'git_rep/docs/en/reference/scrcpy/develop.md', 'git_rep/README.md', 'git_rep/electron/ipc/updater/index.js', 'git_rep/README-CN.md', 'git_rep/docs/en/guide/milestones.md', 'git_rep/docs/en/reference/index.md', 'git_rep/docs/zhHans/reference/scrcpy/linux.md']\n",
            "\n"
          ]
        },
        {
          "output_type": "stream",
          "name": "stderr",
          "text": [
            "\r 35%|███▌      | 12/34 [02:22<04:17, 11.72s/it]"
          ]
        },
        {
          "output_type": "stream",
          "name": "stdout",
          "text": [
            "Question: How does the application determine the file path for the scrcpy executable based on the operating system and architecture?\n",
            "Recall@10: 1.00\n",
            "Answer: ['electron/configs/scrcpy/index.js']\n",
            "Prediction: ['git_rep/docs/en/reference/scrcpy/index.md', 'git_rep/electron/resources/extra/mac-x64/scrcpy/scrcpy.1', 'git_rep/electron/resources/extra/mac-arm64/scrcpy/scrcpy.1', 'git_rep/electron/resources/extra/linux-x64/scrcpy/scrcpy.1', 'git_rep/electron/configs/scrcpy/index.js', 'git_rep/docs/en/reference/scrcpy/build.md', 'git_rep/docs/en/reference/scrcpy/control.md', 'git_rep/docs/en/reference/scrcpy/macos.md', 'git_rep/docs/en/reference/scrcpy/linux.md', 'git_rep/electron/exposes/scrcpy/index.js']\n",
            "\n"
          ]
        },
        {
          "output_type": "stream",
          "name": "stderr",
          "text": [
            "\r 38%|███▊      | 13/34 [02:33<04:01, 11.52s/it]"
          ]
        },
        {
          "output_type": "stream",
          "name": "stdout",
          "text": [
            "Question: What is the purpose of the configuration specified in the version management file?\n",
            "Recall@10: 0.00\n",
            "Answer: ['.nvmdrc']\n",
            "Prediction: ['git_rep/docs/en/guide/milestones.md', 'git_rep/LICENSE', 'git_rep/CHANGELOG.md', 'git_rep/docs/en/changelog.md', 'git_rep/electron-builder.json', 'git_rep/docs/en/reference/scrcpy/develop.md', 'git_rep/electron/ipc/updater/index.js', 'git_rep/src/locales/languages/en-US.json', 'git_rep/src/locales/languages/zh-CN.json', 'git_rep/src/locales/languages/ru-RU.json']\n",
            "\n"
          ]
        },
        {
          "output_type": "stream",
          "name": "stderr",
          "text": [
            "\r 41%|████      | 14/34 [02:45<03:50, 11.53s/it]"
          ]
        },
        {
          "output_type": "stream",
          "name": "stdout",
          "text": [
            "Question: What parameters are available for configuring video preferences in the codebase?\n",
            "Recall@10: 1.00\n",
            "Answer: ['src/store/preference/model/video/index.js']\n",
            "Prediction: ['git_rep/docs/en/guide/preferences.md', 'git_rep/src/store/preference/model/video/index.js', 'git_rep/src/locales/languages/en-US.json', 'git_rep/src/components/PreferenceForm/components/SelectVideoCodec/index.vue', 'git_rep/src/locales/languages/zh-CN.json', 'git_rep/electron/resources/extra/mac-x64/scrcpy/scrcpy.1', 'git_rep/electron/resources/extra/mac-arm64/scrcpy/scrcpy.1', 'git_rep/electron/resources/extra/linux-x64/scrcpy/scrcpy.1', 'git_rep/src/store/preference/model/input/index.js', 'git_rep/src/store/preference/model/record/index.js']\n",
            "\n"
          ]
        },
        {
          "output_type": "stream",
          "name": "stderr",
          "text": [
            "\r 44%|████▍     | 15/34 [02:57<03:42, 11.71s/it]"
          ]
        },
        {
          "output_type": "stream",
          "name": "stdout",
          "text": [
            "Question: How are scheduled task timer types and time units defined in the repository?\n",
            "Recall@10: 1.00\n",
            "Answer: ['src/dicts/tasks/index.js']\n",
            "Prediction: ['git_rep/src/dicts/tasks/index.js', 'git_rep/src/locales/languages/en-US.json', 'git_rep/src/store/task/index.js', 'git_rep/src/components/TaskListDialog/index.vue', 'git_rep/src/components/TaskDialog/index.vue', 'git_rep/src/locales/languages/ru-RU.json', 'git_rep/CHANGELOG.md', 'git_rep/src/locales/languages/zh-TW.json', 'git_rep/src/locales/languages/zh-CN.json', 'git_rep/docs/en/guide/operation.md']\n",
            "\n"
          ]
        },
        {
          "output_type": "stream",
          "name": "stderr",
          "text": [
            "\r 47%|████▋     | 16/34 [03:03<03:00, 10.05s/it]"
          ]
        },
        {
          "output_type": "stream",
          "name": "stdout",
          "text": [
            "Question: What configuration should domestic users apply to resolve dependency installation issues?\n",
            "Recall@10: 0.00\n",
            "Answer: ['.npmrc.CN']\n",
            "Prediction: ['git_rep/CHANGELOG.md', 'git_rep/docs/en/help/escrcpy.md', 'git_rep/docs/en/reference/scrcpy/build.md', 'git_rep/develop.md', 'git_rep/src/pages/device/components/BatchActions/Application/index.vue', 'git_rep/package.json', 'git_rep/docs/en/reference/scrcpy/linux.md', 'git_rep/docs/zhHans/reference/scrcpy/build.md', 'git_rep/README.md', 'git_rep/docs/zhHans/reference/gnirehtet/index.md']\n",
            "\n"
          ]
        },
        {
          "output_type": "stream",
          "name": "stderr",
          "text": [
            "\r 50%|█████     | 17/34 [03:10<02:32,  8.95s/it]"
          ]
        },
        {
          "output_type": "stream",
          "name": "stdout",
          "text": [
            "Question: What are the available localized string keys and their corresponding Russian translations in the project?\n",
            "Recall@10: 1.00\n",
            "Answer: ['src/locales/languages/ru-RU.json']\n",
            "Prediction: ['git_rep/README-RU.md', 'git_rep/docs/zhHans/reference/scrcpy/keyboard.md', 'git_rep/docs/zhHans/help/escrcpy.md', 'git_rep/README-CN.md', 'git_rep/src/locales/languages/zh-CN.json', 'git_rep/src/locales/languages/ru-RU.json', 'git_rep/docs/zhHans/guide/started.md', 'git_rep/docs/zhHans/guide/operation.md', 'git_rep/CHANGELOG.md', 'git_rep/src/locales/languages/zh-TW.json']\n",
            "\n"
          ]
        },
        {
          "output_type": "stream",
          "name": "stderr",
          "text": [
            "\r 53%|█████▎    | 18/34 [03:20<02:31,  9.49s/it]"
          ]
        },
        {
          "output_type": "stream",
          "name": "stdout",
          "text": [
            "Question: What is the privacy policy of the app described in the repository?\n",
            "Recall@10: 1.00\n",
            "Answer: ['PRIVACY.md']\n",
            "Prediction: ['git_rep/PRIVACY.md', 'git_rep/CHANGELOG.md', 'git_rep/electron-builder.json', 'git_rep/docs/zhHans/reference/scrcpy/develop.md', 'git_rep/docs/zhHans/reference/scrcpy/index.md', 'git_rep/docs/en/reference/gnirehtet/api.md', 'git_rep/src/locales/languages/zh-CN.json', 'git_rep/docs/en/reference/gnirehtet/index.md', 'git_rep/electron/preload.js', 'git_rep/docs/en/reference/scrcpy/develop.md']\n",
            "\n"
          ]
        },
        {
          "output_type": "stream",
          "name": "stderr",
          "text": [
            "\r 56%|█████▌    | 19/34 [03:38<02:59, 11.93s/it]"
          ]
        },
        {
          "output_type": "stream",
          "name": "stdout",
          "text": [
            "Question: How does the plugin integrate custom components with Element Plus features?\n",
            "Recall@10: 1.00\n",
            "Answer: ['src/plugins/element-plus/index.js']\n",
            "Prediction: ['git_rep/src/composables/useMessageLoading/index.js', 'git_rep/src/App.vue', 'git_rep/src/plugins/element-plus/index.js', 'git_rep/control/App.vue', 'git_rep/src/plugins/auto.js', 'git_rep/src/plugins/index.js', 'git_rep/src/utils/modal/index.js', 'git_rep/src/plugins/element-plus/expands/EleFormItemCol/index.vue', 'git_rep/src/composables/useInstallAction/index.js', 'git_rep/src/plugins/element-plus/expands/EleFormRow/index.vue']\n",
            "\n"
          ]
        },
        {
          "output_type": "stream",
          "name": "stderr",
          "text": [
            "\r 59%|█████▉    | 20/34 [03:49<02:44, 11.77s/it]"
          ]
        },
        {
          "output_type": "stream",
          "name": "stdout",
          "text": [
            "Question: What configuration is used for optimizing SVG icons in the repository?\n",
            "Recall@10: 0.00\n",
            "Answer: ['src/icons/svgo.config.js']\n",
            "Prediction: ['git_rep/package.json', 'git_rep/src/components/QuickBar/index.vue', 'git_rep/src/icons/svg/wifi.svg', 'git_rep/src/icons/svg/multi-screen.svg', 'git_rep/src/components/ControlBar/index.vue', 'git_rep/src/icons/components/SvgIcon.vue', 'git_rep/src/icons/svg/file-send.svg', 'git_rep/src/icons/svg/volume-mute.svg', 'git_rep/src/icons/svg/rotation.svg', 'git_rep/src/icons/svg/volume-down.svg']\n",
            "\n"
          ]
        },
        {
          "output_type": "stream",
          "name": "stderr",
          "text": [
            "\r 62%|██████▏   | 21/34 [03:59<02:23, 11.06s/it]"
          ]
        },
        {
          "output_type": "stream",
          "name": "stdout",
          "text": [
            "Question: How is the configuration for resolving dependency installation issues specified in the project?\n",
            "Recall@10: 0.00\n",
            "Answer: ['.npmrc']\n",
            "Prediction: ['git_rep/CHANGELOG.md', 'git_rep/docs/en/help/escrcpy.md', 'git_rep/develop.md', 'git_rep/electron/resources/extra/mac-x64/scrcpy/scrcpy.1', 'git_rep/electron/resources/extra/mac-arm64/scrcpy/scrcpy.1', 'git_rep/electron/resources/extra/linux-x64/scrcpy/scrcpy.1', 'git_rep/scripts/helpers/index.js', 'git_rep/docs/en/reference/scrcpy/build.md', 'git_rep/src/locales/languages/zh-TW.json', 'git_rep/package.json']\n",
            "\n"
          ]
        },
        {
          "output_type": "stream",
          "name": "stderr",
          "text": [
            "\r 65%|██████▍   | 22/34 [04:12<02:19, 11.63s/it]"
          ]
        },
        {
          "output_type": "stream",
          "name": "stdout",
          "text": [
            "Question: What license terms and conditions govern the usage, reproduction, and distribution of the repository?\n",
            "Recall@10: 1.00\n",
            "Answer: ['LICENSE']\n",
            "Prediction: ['git_rep/LICENSE', 'git_rep/docs/en/reference/gnirehtet/index.md', 'git_rep/docs/en/reference/scrcpy/index.md', 'git_rep/docs/zhHans/reference/gnirehtet/index.md', 'git_rep/docs/zhHans/reference/scrcpy/index.md', 'git_rep/README-RU.md', 'git_rep/PRIVACY.md', 'git_rep/CHANGELOG.md', 'git_rep/docs/en/reference/index.md', 'git_rep/dev-publish.yml']\n",
            "\n"
          ]
        },
        {
          "output_type": "stream",
          "name": "stderr",
          "text": [
            "\r 68%|██████▊   | 23/34 [04:22<02:03, 11.19s/it]"
          ]
        },
        {
          "output_type": "stream",
          "name": "stdout",
          "text": [
            "Question: How are ADB and scrcpy paths managed and utilized in the codebase?\n",
            "Recall@10: 1.00\n",
            "Answer: ['electron/exposes/scrcpy/index.js']\n",
            "Prediction: ['git_rep/src/locales/languages/en-US.json', 'git_rep/docs/en/reference/scrcpy/tunnels.md', 'git_rep/docs/en/reference/scrcpy/build.md', 'git_rep/docs/zhHans/help/scrcpy.md', 'git_rep/electron/exposes/scrcpy/index.js', 'git_rep/docs/zhHans/reference/scrcpy/macos.md', 'git_rep/docs/en/reference/scrcpy/connection.md', 'git_rep/electron/resources/extra/mac-x64/scrcpy/scrcpy.1', 'git_rep/electron/resources/extra/mac-arm64/scrcpy/scrcpy.1', 'git_rep/electron/resources/extra/linux-x64/scrcpy/scrcpy.1']\n",
            "\n"
          ]
        },
        {
          "output_type": "stream",
          "name": "stderr",
          "text": [
            "\r 71%|███████   | 24/34 [04:42<02:17, 13.77s/it]"
          ]
        },
        {
          "output_type": "stream",
          "name": "stdout",
          "text": [
            "Question: How does the code handle loading indicators in the Electron application?\n",
            "Recall@10: 1.00\n",
            "Answer: ['electron/loading/index.js']\n",
            "Prediction: ['git_rep/src/components/ControlBar/Volume/index.vue', 'git_rep/src/components/ControlBar/ApplicationStart/index.vue', 'git_rep/src/components/ControlBar/Rotation/index.vue', 'git_rep/electron/loading/index.js', 'git_rep/src/composables/useFileActions/index.js', 'git_rep/control/App.vue', 'git_rep/electron/ipc/theme/index.js', 'git_rep/src/components/QuickBar/components/Restart/index.vue', 'git_rep/src/components/ControlBar/Gnirehtet/index.vue', 'git_rep/electron/preload.js']\n",
            "\n"
          ]
        },
        {
          "output_type": "stream",
          "name": "stderr",
          "text": [
            "\r 74%|███████▎  | 25/34 [05:01<02:18, 15.42s/it]"
          ]
        },
        {
          "output_type": "stream",
          "name": "stdout",
          "text": [
            "Question: How does the theme store handle changes to the system theme and update the application state accordingly?\n",
            "Recall@10: 1.00\n",
            "Answer: ['src/store/theme/index.js']\n",
            "Prediction: ['git_rep/src/pages/preference/index.vue', 'git_rep/src/store/theme/index.js', 'git_rep/electron/ipc/theme/index.js', 'git_rep/electron/ipc/index.js', 'git_rep/src/components/QuickBar/components/Search/index.vue', 'git_rep/electron/exposes/search/index.js', 'git_rep/src/locales/languages/en-US.json', 'git_rep/src/utils/device/generateAdbPairingQR/index.js', 'git_rep/src/locales/languages/ru-RU.json', 'git_rep/src/store/index.js']\n",
            "\n"
          ]
        },
        {
          "output_type": "stream",
          "name": "stderr",
          "text": [
            "\r 76%|███████▋  | 26/34 [05:04<01:34, 11.81s/it]"
          ]
        },
        {
          "output_type": "stream",
          "name": "stdout",
          "text": [
            "Question: How is the Vite configuration structured to optimize the development environment's build performance?\n",
            "Recall@10: 1.00\n",
            "Answer: ['vite.config.js']\n",
            "Prediction: ['git_rep/electron/helpers/index.js', 'git_rep/package.json', 'git_rep/vite.config.js', 'git_rep/develop.md', 'git_rep/CHANGELOG.md', 'git_rep/jsconfig.json', 'git_rep/docs/en/guide/preferences.md', 'git_rep/docs/en/index.md', 'git_rep/eslint.config.js']\n",
            "\n"
          ]
        },
        {
          "output_type": "stream",
          "name": "stderr",
          "text": [
            "\r 79%|███████▉  | 27/34 [05:13<01:17, 11.03s/it]"
          ]
        },
        {
          "output_type": "stream",
          "name": "stdout",
          "text": [
            "Question: How is the application bootstrap process initialized with a router in the codebase?\n",
            "Recall@10: 1.00\n",
            "Answer: ['src/main.js']\n",
            "Prediction: ['git_rep/src/main.js', 'git_rep/control/index.js', 'git_rep/src/bootstrap/index.js', 'git_rep/src/router/index.js', 'git_rep/docs/en/reference/scrcpy/develop.md', 'git_rep/src/plugins/auto.js', 'git_rep/src/bootstrap/default/index.js', 'git_rep/electron/exposes/adb/index.js', 'git_rep/docs/en/index.md', 'git_rep/docs/en/reference/gnirehtet/api.md']\n",
            "\n"
          ]
        },
        {
          "output_type": "stream",
          "name": "stderr",
          "text": [
            "\r 82%|████████▏ | 28/34 [05:24<01:05, 10.84s/it]"
          ]
        },
        {
          "output_type": "stream",
          "name": "stdout",
          "text": [
            "Question: How does the application determine and validate the paths for external binaries (like scrcpy, adb, and gnirehtet) at startup, and which module or file manages this logic?\n",
            "Recall@10: 0.33\n",
            "Answer: ['electron/configs/scrcpy/index.js', 'electron/configs/android-platform-tools/index.js', 'electron/configs/gnirehtet/index.js']\n",
            "Prediction: ['git_rep/src/locales/languages/en-US.json', 'git_rep/docs/en/reference/gnirehtet/index.md', 'git_rep/docs/zhHans/help/scrcpy.md', 'git_rep/electron/resources/extra/mac-x64/scrcpy/scrcpy.1', 'git_rep/electron/resources/extra/mac-arm64/scrcpy/scrcpy.1', 'git_rep/electron/resources/extra/linux-x64/scrcpy/scrcpy.1', 'git_rep/electron/exposes/scrcpy/index.js', 'git_rep/docs/zhHans/reference/scrcpy/macos.md', 'git_rep/docs/zhHans/reference/scrcpy/windows.md', 'git_rep/electron/configs/scrcpy/index.js']\n",
            "\n"
          ]
        },
        {
          "output_type": "stream",
          "name": "stderr",
          "text": [
            "\r 85%|████████▌ | 29/34 [05:38<00:59, 11.95s/it]"
          ]
        },
        {
          "output_type": "stream",
          "name": "stdout",
          "text": [
            "Question: Which parts of the source code implement the QR code scanning feature for wireless pairing, what libraries are used, and how is the scanned data processed to establish a connection?\n",
            "Recall@10: 0.67\n",
            "Answer: ['src/utils/device/generateAdbPairingQR/index.js', 'src/pages/device/components/WirelessGroup/QrAction/index.vue', 'package.json']\n",
            "Prediction: ['git_rep/docs/en/guide/started.md', 'git_rep/docs/en/guide/index.md', 'git_rep/src/utils/device/generateAdbPairingQR/index.js', 'git_rep/src/locales/languages/en-US.json', 'git_rep/docs/en/index.md', 'git_rep/src/locales/languages/zh-CN.json', 'git_rep/src/locales/languages/zh-TW.json', 'git_rep/src/pages/device/components/WirelessGroup/QrAction/index.vue', 'git_rep/src/locales/languages/ru-RU.json', 'git_rep/CHANGELOG.md']\n",
            "\n"
          ]
        },
        {
          "output_type": "stream",
          "name": "stderr",
          "text": [
            "\r 88%|████████▊ | 30/34 [05:47<00:43, 10.86s/it]"
          ]
        },
        {
          "output_type": "stream",
          "name": "stdout",
          "text": [
            "Question: How is the inter-process communication handled between the Electron front end and the underlying scrcpy process? Which IPC channels or events are defined in the code?\n",
            "Recall@10: 0.20\n",
            "Answer: ['electron/exposes/scrcpy/index.js', 'electron/exposes/scrcpy/helper.js', 'electron/preload.js', 'electron/exposes/index.js', 'electron/helpers/index.js', 'electron/configs/scrcpy/index.js', 'src/pages/device/components/MirrorAction/index.vue', 'src/components/QuickBar/components/Terminal/components/TerminalDialog/composables/scrcpy.js', 'src/store/preference/index.js', 'src/bootstrap/default/index.js']\n",
            "Prediction: ['git_rep/electron/configs/scrcpy/index.js', 'git_rep/docs/en/reference/scrcpy/develop.md', 'git_rep/electron/exposes/scrcpy/index.js', 'git_rep/docs/zhHans/reference/scrcpy/index.md', 'git_rep/docs/zhHans/reference/scrcpy/build.md', 'git_rep/docs/zhHans/reference/scrcpy/develop.md', 'git_rep/docs/zhHans/reference/scrcpy/connection.md', 'git_rep/docs/en/reference/scrcpy/index.md', 'git_rep/docs/en/reference/scrcpy/linux.md', 'git_rep/docs/zhHans/reference/scrcpy/control.md']\n",
            "\n"
          ]
        },
        {
          "output_type": "stream",
          "name": "stderr",
          "text": [
            "\r 91%|█████████ | 31/34 [05:57<00:32, 10.74s/it]"
          ]
        },
        {
          "output_type": "stream",
          "name": "stdout",
          "text": [
            "Question: Where in the codebase are the user preference configurations (for video, audio, window controls, etc.) defined and saved, and how are these settings applied to the mirroring process?\n",
            "Recall@10: 0.12\n",
            "Answer: ['src/store/preference/model/video/index.js', 'src/store/preference/model/audio/index.js', 'src/store/preference/model/window/index.js', 'src/store/preference/model/device/index.js', 'src/store/preference/model/input/index.js', 'src/store/preference/model/record/index.js', 'src/store/preference/model/common/index.js', 'src/pages/device/components/MirrorAction/index.vue']\n",
            "Prediction: ['git_rep/docs/en/guide/milestones.md', 'git_rep/src/locales/languages/en-US.json', 'git_rep/src/locales/languages/ru-RU.json', 'git_rep/src/locales/languages/zh-CN.json', 'git_rep/docs/en/guide/preferences.md', 'git_rep/docs/en/reference/scrcpy/index.md', 'git_rep/src/store/preference/model/video/index.js', 'git_rep/docs/en/reference/scrcpy/develop.md', 'git_rep/src/locales/languages/zh-TW.json', 'git_rep/docs/en/guide/operation.md']\n",
            "\n"
          ]
        },
        {
          "output_type": "stream",
          "name": "stderr",
          "text": [
            "\r 94%|█████████▍| 32/34 [06:08<00:21, 10.88s/it]"
          ]
        },
        {
          "output_type": "stream",
          "name": "stdout",
          "text": [
            "Question: What is the implementation strategy for the auto-connect and auto-mirroring features? In which module or function does the logic reside, and how does it interact with device detection?\n",
            "Recall@10: 0.00\n",
            "Answer: ['src/store/preference/model/common/index.js', 'electron/configs/android-platform-tools/index.js', 'electron/configs/scrcpy/index.js', 'src/store/preference/model/video/index.js', 'src/utils/device/generateAdbPairingQR/index.js', 'src/pages/device/components/WirelessGroup/QrAction/index.vue']\n",
            "Prediction: ['git_rep/docs/en/guide/index.md', 'git_rep/src/locales/languages/en-US.json', 'git_rep/README.md', 'git_rep/docs/en/guide/preferences.md', 'git_rep/docs/en/index.md', 'git_rep/docs/en/guide/milestones.md', 'git_rep/src/composables/useMirrorAction/index.js', 'git_rep/docs/en/reference/scrcpy/mouse.md', 'git_rep/docs/en/guide/started.md', 'git_rep/docs/en/reference/scrcpy/keyboard.md']\n",
            "\n"
          ]
        },
        {
          "output_type": "stream",
          "name": "stderr",
          "text": [
            "\r 97%|█████████▋| 33/34 [06:25<00:12, 12.46s/it]"
          ]
        },
        {
          "output_type": "stream",
          "name": "stdout",
          "text": [
            "Question: How are batch processing operations (such as batch file management, batch app installation, and execution of scripts) implemented in the source code? Which parts handle the scheduling and execution of these tasks?\n",
            "Recall@10: 0.00\n",
            "Answer: ['src/composables/useFileActions/index.js', 'src/composables/useInstallAction/index.js', 'src/composables/useShellAction/index.js', 'src/store/task/index.js']\n",
            "Prediction: ['git_rep/docs/en/guide/operation.md', 'git_rep/docs/en/guide/milestones.md', 'git_rep/CHANGELOG.md', 'git_rep/docs/en/guide/index.md', 'git_rep/electron/resources/extra/win/vbs/create-desktop-shortcuts.vbs', 'git_rep/electron/exposes/adb/index.js', 'git_rep/README-CN.md', 'git_rep/docs/en/reference/scrcpy/develop.md', 'git_rep/electron/exposes/scrcpy/index.js', 'git_rep/electron/ipc/index.js']\n",
            "\n"
          ]
        },
        {
          "output_type": "stream",
          "name": "stderr",
          "text": [
            "100%|██████████| 34/34 [06:39<00:00, 11.74s/it]"
          ]
        },
        {
          "output_type": "stream",
          "name": "stdout",
          "text": [
            "Question: Which file or module is responsible for mapping user shortcuts (for device control actions like home, back, screenshot, etc.) to the underlying adb or scrcpy commands, and how can these mappings be customized?\n",
            "Recall@10: 0.00\n",
            "Answer: ['electron/resources/extra/linux/scrcpy/scrcpy.1', 'src/store/preference/model/input/index.js', 'src/components/PreferenceForm/components/SelectKeyboardInject/index.vue']\n",
            "Prediction: ['git_rep/docs/en/reference/scrcpy/mouse.md', 'git_rep/docs/en/reference/scrcpy/shortcuts.md', 'git_rep/electron/resources/extra/mac-x64/scrcpy/scrcpy.1', 'git_rep/electron/resources/extra/mac-arm64/scrcpy/scrcpy.1', 'git_rep/electron/resources/extra/linux-x64/scrcpy/scrcpy.1', 'git_rep/src/locales/languages/en-US.json', 'git_rep/docs/zhHans/reference/scrcpy/mouse.md', 'git_rep/docs/zhHans/reference/scrcpy/keyboard.md', 'git_rep/docs/en/reference/scrcpy/keyboard.md', 'git_rep/docs/zhHans/reference/scrcpy/shortcuts.md']\n",
            "\n",
            "\n",
            " Average Recall@10: 0.57\n"
          ]
        },
        {
          "output_type": "stream",
          "name": "stderr",
          "text": [
            "\n"
          ]
        },
        {
          "output_type": "execute_result",
          "data": {
            "text/plain": [
              "0.5683823529411764"
            ]
          },
          "metadata": {},
          "execution_count": 15
        }
      ]
    }
  ]
}