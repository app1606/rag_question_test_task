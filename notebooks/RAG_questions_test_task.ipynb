{
  "nbformat": 4,
  "nbformat_minor": 0,
  "metadata": {
    "colab": {
      "provenance": []
    },
    "kernelspec": {
      "name": "python3",
      "display_name": "Python 3"
    },
    "language_info": {
      "name": "python"
    }
  },
  "cells": [
    {
      "cell_type": "markdown",
      "source": [
        "### Libraries and imports"
      ],
      "metadata": {
        "id": "4R_TQjZG5gmL"
      }
    },
    {
      "cell_type": "code",
      "source": [
        "! pip install gitpython sentence-transformers faiss-cpu tiktoken"
      ],
      "metadata": {
        "colab": {
          "base_uri": "https://localhost:8080/"
        },
        "id": "x9liYU6Dibpt",
        "outputId": "fa61acc5-52cc-4030-d860-46d0092e15ec"
      },
      "execution_count": 1,
      "outputs": [
        {
          "output_type": "stream",
          "name": "stdout",
          "text": [
            "Requirement already satisfied: gitpython in /usr/local/lib/python3.11/dist-packages (3.1.44)\n",
            "Requirement already satisfied: sentence-transformers in /usr/local/lib/python3.11/dist-packages (3.4.1)\n",
            "Collecting faiss-cpu\n",
            "  Downloading faiss_cpu-1.10.0-cp311-cp311-manylinux_2_28_x86_64.whl.metadata (4.4 kB)\n",
            "Collecting tiktoken\n",
            "  Downloading tiktoken-0.9.0-cp311-cp311-manylinux_2_17_x86_64.manylinux2014_x86_64.whl.metadata (6.7 kB)\n",
            "Requirement already satisfied: gitdb<5,>=4.0.1 in /usr/local/lib/python3.11/dist-packages (from gitpython) (4.0.12)\n",
            "Requirement already satisfied: transformers<5.0.0,>=4.41.0 in /usr/local/lib/python3.11/dist-packages (from sentence-transformers) (4.50.3)\n",
            "Requirement already satisfied: tqdm in /usr/local/lib/python3.11/dist-packages (from sentence-transformers) (4.67.1)\n",
            "Requirement already satisfied: torch>=1.11.0 in /usr/local/lib/python3.11/dist-packages (from sentence-transformers) (2.6.0+cu124)\n",
            "Requirement already satisfied: scikit-learn in /usr/local/lib/python3.11/dist-packages (from sentence-transformers) (1.6.1)\n",
            "Requirement already satisfied: scipy in /usr/local/lib/python3.11/dist-packages (from sentence-transformers) (1.14.1)\n",
            "Requirement already satisfied: huggingface-hub>=0.20.0 in /usr/local/lib/python3.11/dist-packages (from sentence-transformers) (0.30.1)\n",
            "Requirement already satisfied: Pillow in /usr/local/lib/python3.11/dist-packages (from sentence-transformers) (11.1.0)\n",
            "Requirement already satisfied: numpy<3.0,>=1.25.0 in /usr/local/lib/python3.11/dist-packages (from faiss-cpu) (2.0.2)\n",
            "Requirement already satisfied: packaging in /usr/local/lib/python3.11/dist-packages (from faiss-cpu) (24.2)\n",
            "Requirement already satisfied: regex>=2022.1.18 in /usr/local/lib/python3.11/dist-packages (from tiktoken) (2024.11.6)\n",
            "Requirement already satisfied: requests>=2.26.0 in /usr/local/lib/python3.11/dist-packages (from tiktoken) (2.32.3)\n",
            "Requirement already satisfied: smmap<6,>=3.0.1 in /usr/local/lib/python3.11/dist-packages (from gitdb<5,>=4.0.1->gitpython) (5.0.2)\n",
            "Requirement already satisfied: filelock in /usr/local/lib/python3.11/dist-packages (from huggingface-hub>=0.20.0->sentence-transformers) (3.18.0)\n",
            "Requirement already satisfied: fsspec>=2023.5.0 in /usr/local/lib/python3.11/dist-packages (from huggingface-hub>=0.20.0->sentence-transformers) (2025.3.2)\n",
            "Requirement already satisfied: pyyaml>=5.1 in /usr/local/lib/python3.11/dist-packages (from huggingface-hub>=0.20.0->sentence-transformers) (6.0.2)\n",
            "Requirement already satisfied: typing-extensions>=3.7.4.3 in /usr/local/lib/python3.11/dist-packages (from huggingface-hub>=0.20.0->sentence-transformers) (4.13.1)\n",
            "Requirement already satisfied: charset-normalizer<4,>=2 in /usr/local/lib/python3.11/dist-packages (from requests>=2.26.0->tiktoken) (3.4.1)\n",
            "Requirement already satisfied: idna<4,>=2.5 in /usr/local/lib/python3.11/dist-packages (from requests>=2.26.0->tiktoken) (3.10)\n",
            "Requirement already satisfied: urllib3<3,>=1.21.1 in /usr/local/lib/python3.11/dist-packages (from requests>=2.26.0->tiktoken) (2.3.0)\n",
            "Requirement already satisfied: certifi>=2017.4.17 in /usr/local/lib/python3.11/dist-packages (from requests>=2.26.0->tiktoken) (2025.1.31)\n",
            "Requirement already satisfied: networkx in /usr/local/lib/python3.11/dist-packages (from torch>=1.11.0->sentence-transformers) (3.4.2)\n",
            "Requirement already satisfied: jinja2 in /usr/local/lib/python3.11/dist-packages (from torch>=1.11.0->sentence-transformers) (3.1.6)\n",
            "Collecting nvidia-cuda-nvrtc-cu12==12.4.127 (from torch>=1.11.0->sentence-transformers)\n",
            "  Downloading nvidia_cuda_nvrtc_cu12-12.4.127-py3-none-manylinux2014_x86_64.whl.metadata (1.5 kB)\n",
            "Collecting nvidia-cuda-runtime-cu12==12.4.127 (from torch>=1.11.0->sentence-transformers)\n",
            "  Downloading nvidia_cuda_runtime_cu12-12.4.127-py3-none-manylinux2014_x86_64.whl.metadata (1.5 kB)\n",
            "Collecting nvidia-cuda-cupti-cu12==12.4.127 (from torch>=1.11.0->sentence-transformers)\n",
            "  Downloading nvidia_cuda_cupti_cu12-12.4.127-py3-none-manylinux2014_x86_64.whl.metadata (1.6 kB)\n",
            "Collecting nvidia-cudnn-cu12==9.1.0.70 (from torch>=1.11.0->sentence-transformers)\n",
            "  Downloading nvidia_cudnn_cu12-9.1.0.70-py3-none-manylinux2014_x86_64.whl.metadata (1.6 kB)\n",
            "Collecting nvidia-cublas-cu12==12.4.5.8 (from torch>=1.11.0->sentence-transformers)\n",
            "  Downloading nvidia_cublas_cu12-12.4.5.8-py3-none-manylinux2014_x86_64.whl.metadata (1.5 kB)\n",
            "Collecting nvidia-cufft-cu12==11.2.1.3 (from torch>=1.11.0->sentence-transformers)\n",
            "  Downloading nvidia_cufft_cu12-11.2.1.3-py3-none-manylinux2014_x86_64.whl.metadata (1.5 kB)\n",
            "Collecting nvidia-curand-cu12==10.3.5.147 (from torch>=1.11.0->sentence-transformers)\n",
            "  Downloading nvidia_curand_cu12-10.3.5.147-py3-none-manylinux2014_x86_64.whl.metadata (1.5 kB)\n",
            "Collecting nvidia-cusolver-cu12==11.6.1.9 (from torch>=1.11.0->sentence-transformers)\n",
            "  Downloading nvidia_cusolver_cu12-11.6.1.9-py3-none-manylinux2014_x86_64.whl.metadata (1.6 kB)\n",
            "Collecting nvidia-cusparse-cu12==12.3.1.170 (from torch>=1.11.0->sentence-transformers)\n",
            "  Downloading nvidia_cusparse_cu12-12.3.1.170-py3-none-manylinux2014_x86_64.whl.metadata (1.6 kB)\n",
            "Requirement already satisfied: nvidia-cusparselt-cu12==0.6.2 in /usr/local/lib/python3.11/dist-packages (from torch>=1.11.0->sentence-transformers) (0.6.2)\n",
            "Requirement already satisfied: nvidia-nccl-cu12==2.21.5 in /usr/local/lib/python3.11/dist-packages (from torch>=1.11.0->sentence-transformers) (2.21.5)\n",
            "Requirement already satisfied: nvidia-nvtx-cu12==12.4.127 in /usr/local/lib/python3.11/dist-packages (from torch>=1.11.0->sentence-transformers) (12.4.127)\n",
            "Collecting nvidia-nvjitlink-cu12==12.4.127 (from torch>=1.11.0->sentence-transformers)\n",
            "  Downloading nvidia_nvjitlink_cu12-12.4.127-py3-none-manylinux2014_x86_64.whl.metadata (1.5 kB)\n",
            "Requirement already satisfied: triton==3.2.0 in /usr/local/lib/python3.11/dist-packages (from torch>=1.11.0->sentence-transformers) (3.2.0)\n",
            "Requirement already satisfied: sympy==1.13.1 in /usr/local/lib/python3.11/dist-packages (from torch>=1.11.0->sentence-transformers) (1.13.1)\n",
            "Requirement already satisfied: mpmath<1.4,>=1.1.0 in /usr/local/lib/python3.11/dist-packages (from sympy==1.13.1->torch>=1.11.0->sentence-transformers) (1.3.0)\n",
            "Requirement already satisfied: tokenizers<0.22,>=0.21 in /usr/local/lib/python3.11/dist-packages (from transformers<5.0.0,>=4.41.0->sentence-transformers) (0.21.1)\n",
            "Requirement already satisfied: safetensors>=0.4.3 in /usr/local/lib/python3.11/dist-packages (from transformers<5.0.0,>=4.41.0->sentence-transformers) (0.5.3)\n",
            "Requirement already satisfied: joblib>=1.2.0 in /usr/local/lib/python3.11/dist-packages (from scikit-learn->sentence-transformers) (1.4.2)\n",
            "Requirement already satisfied: threadpoolctl>=3.1.0 in /usr/local/lib/python3.11/dist-packages (from scikit-learn->sentence-transformers) (3.6.0)\n",
            "Requirement already satisfied: MarkupSafe>=2.0 in /usr/local/lib/python3.11/dist-packages (from jinja2->torch>=1.11.0->sentence-transformers) (3.0.2)\n",
            "Downloading faiss_cpu-1.10.0-cp311-cp311-manylinux_2_28_x86_64.whl (30.7 MB)\n",
            "\u001b[2K   \u001b[90m━━━━━━━━━━━━━━━━━━━━━━━━━━━━━━━━━━━━━━━━\u001b[0m \u001b[32m30.7/30.7 MB\u001b[0m \u001b[31m52.9 MB/s\u001b[0m eta \u001b[36m0:00:00\u001b[0m\n",
            "\u001b[?25hDownloading tiktoken-0.9.0-cp311-cp311-manylinux_2_17_x86_64.manylinux2014_x86_64.whl (1.2 MB)\n",
            "\u001b[2K   \u001b[90m━━━━━━━━━━━━━━━━━━━━━━━━━━━━━━━━━━━━━━━━\u001b[0m \u001b[32m1.2/1.2 MB\u001b[0m \u001b[31m62.5 MB/s\u001b[0m eta \u001b[36m0:00:00\u001b[0m\n",
            "\u001b[?25hDownloading nvidia_cublas_cu12-12.4.5.8-py3-none-manylinux2014_x86_64.whl (363.4 MB)\n",
            "\u001b[2K   \u001b[90m━━━━━━━━━━━━━━━━━━━━━━━━━━━━━━━━━━━━━━━━\u001b[0m \u001b[32m363.4/363.4 MB\u001b[0m \u001b[31m4.1 MB/s\u001b[0m eta \u001b[36m0:00:00\u001b[0m\n",
            "\u001b[?25hDownloading nvidia_cuda_cupti_cu12-12.4.127-py3-none-manylinux2014_x86_64.whl (13.8 MB)\n",
            "\u001b[2K   \u001b[90m━━━━━━━━━━━━━━━━━━━━━━━━━━━━━━━━━━━━━━━━\u001b[0m \u001b[32m13.8/13.8 MB\u001b[0m \u001b[31m50.3 MB/s\u001b[0m eta \u001b[36m0:00:00\u001b[0m\n",
            "\u001b[?25hDownloading nvidia_cuda_nvrtc_cu12-12.4.127-py3-none-manylinux2014_x86_64.whl (24.6 MB)\n",
            "\u001b[2K   \u001b[90m━━━━━━━━━━━━━━━━━━━━━━━━━━━━━━━━━━━━━━━━\u001b[0m \u001b[32m24.6/24.6 MB\u001b[0m \u001b[31m68.0 MB/s\u001b[0m eta \u001b[36m0:00:00\u001b[0m\n",
            "\u001b[?25hDownloading nvidia_cuda_runtime_cu12-12.4.127-py3-none-manylinux2014_x86_64.whl (883 kB)\n",
            "\u001b[2K   \u001b[90m━━━━━━━━━━━━━━━━━━━━━━━━━━━━━━━━━━━━━━━━\u001b[0m \u001b[32m883.7/883.7 kB\u001b[0m \u001b[31m29.2 MB/s\u001b[0m eta \u001b[36m0:00:00\u001b[0m\n",
            "\u001b[?25hDownloading nvidia_cudnn_cu12-9.1.0.70-py3-none-manylinux2014_x86_64.whl (664.8 MB)\n",
            "\u001b[2K   \u001b[90m━━━━━━━━━━━━━━━━━━━━━━━━━━━━━━━━━━━━━━━━\u001b[0m \u001b[32m664.8/664.8 MB\u001b[0m \u001b[31m2.2 MB/s\u001b[0m eta \u001b[36m0:00:00\u001b[0m\n",
            "\u001b[?25hDownloading nvidia_cufft_cu12-11.2.1.3-py3-none-manylinux2014_x86_64.whl (211.5 MB)\n",
            "\u001b[2K   \u001b[90m━━━━━━━━━━━━━━━━━━━━━━━━━━━━━━━━━━━━━━━━\u001b[0m \u001b[32m211.5/211.5 MB\u001b[0m \u001b[31m5.4 MB/s\u001b[0m eta \u001b[36m0:00:00\u001b[0m\n",
            "\u001b[?25hDownloading nvidia_curand_cu12-10.3.5.147-py3-none-manylinux2014_x86_64.whl (56.3 MB)\n",
            "\u001b[2K   \u001b[90m━━━━━━━━━━━━━━━━━━━━━━━━━━━━━━━━━━━━━━━━\u001b[0m \u001b[32m56.3/56.3 MB\u001b[0m \u001b[31m13.3 MB/s\u001b[0m eta \u001b[36m0:00:00\u001b[0m\n",
            "\u001b[?25hDownloading nvidia_cusolver_cu12-11.6.1.9-py3-none-manylinux2014_x86_64.whl (127.9 MB)\n",
            "\u001b[2K   \u001b[90m━━━━━━━━━━━━━━━━━━━━━━━━━━━━━━━━━━━━━━━━\u001b[0m \u001b[32m127.9/127.9 MB\u001b[0m \u001b[31m7.6 MB/s\u001b[0m eta \u001b[36m0:00:00\u001b[0m\n",
            "\u001b[?25hDownloading nvidia_cusparse_cu12-12.3.1.170-py3-none-manylinux2014_x86_64.whl (207.5 MB)\n",
            "\u001b[2K   \u001b[90m━━━━━━━━━━━━━━━━━━━━━━━━━━━━━━━━━━━━━━━━\u001b[0m \u001b[32m207.5/207.5 MB\u001b[0m \u001b[31m5.4 MB/s\u001b[0m eta \u001b[36m0:00:00\u001b[0m\n",
            "\u001b[?25hDownloading nvidia_nvjitlink_cu12-12.4.127-py3-none-manylinux2014_x86_64.whl (21.1 MB)\n",
            "\u001b[2K   \u001b[90m━━━━━━━━━━━━━━━━━━━━━━━━━━━━━━━━━━━━━━━━\u001b[0m \u001b[32m21.1/21.1 MB\u001b[0m \u001b[31m97.8 MB/s\u001b[0m eta \u001b[36m0:00:00\u001b[0m\n",
            "\u001b[?25hInstalling collected packages: nvidia-nvjitlink-cu12, nvidia-curand-cu12, nvidia-cufft-cu12, nvidia-cuda-runtime-cu12, nvidia-cuda-nvrtc-cu12, nvidia-cuda-cupti-cu12, nvidia-cublas-cu12, faiss-cpu, tiktoken, nvidia-cusparse-cu12, nvidia-cudnn-cu12, nvidia-cusolver-cu12\n",
            "  Attempting uninstall: nvidia-nvjitlink-cu12\n",
            "    Found existing installation: nvidia-nvjitlink-cu12 12.5.82\n",
            "    Uninstalling nvidia-nvjitlink-cu12-12.5.82:\n",
            "      Successfully uninstalled nvidia-nvjitlink-cu12-12.5.82\n",
            "  Attempting uninstall: nvidia-curand-cu12\n",
            "    Found existing installation: nvidia-curand-cu12 10.3.6.82\n",
            "    Uninstalling nvidia-curand-cu12-10.3.6.82:\n",
            "      Successfully uninstalled nvidia-curand-cu12-10.3.6.82\n",
            "  Attempting uninstall: nvidia-cufft-cu12\n",
            "    Found existing installation: nvidia-cufft-cu12 11.2.3.61\n",
            "    Uninstalling nvidia-cufft-cu12-11.2.3.61:\n",
            "      Successfully uninstalled nvidia-cufft-cu12-11.2.3.61\n",
            "  Attempting uninstall: nvidia-cuda-runtime-cu12\n",
            "    Found existing installation: nvidia-cuda-runtime-cu12 12.5.82\n",
            "    Uninstalling nvidia-cuda-runtime-cu12-12.5.82:\n",
            "      Successfully uninstalled nvidia-cuda-runtime-cu12-12.5.82\n",
            "  Attempting uninstall: nvidia-cuda-nvrtc-cu12\n",
            "    Found existing installation: nvidia-cuda-nvrtc-cu12 12.5.82\n",
            "    Uninstalling nvidia-cuda-nvrtc-cu12-12.5.82:\n",
            "      Successfully uninstalled nvidia-cuda-nvrtc-cu12-12.5.82\n",
            "  Attempting uninstall: nvidia-cuda-cupti-cu12\n",
            "    Found existing installation: nvidia-cuda-cupti-cu12 12.5.82\n",
            "    Uninstalling nvidia-cuda-cupti-cu12-12.5.82:\n",
            "      Successfully uninstalled nvidia-cuda-cupti-cu12-12.5.82\n",
            "  Attempting uninstall: nvidia-cublas-cu12\n",
            "    Found existing installation: nvidia-cublas-cu12 12.5.3.2\n",
            "    Uninstalling nvidia-cublas-cu12-12.5.3.2:\n",
            "      Successfully uninstalled nvidia-cublas-cu12-12.5.3.2\n",
            "  Attempting uninstall: nvidia-cusparse-cu12\n",
            "    Found existing installation: nvidia-cusparse-cu12 12.5.1.3\n",
            "    Uninstalling nvidia-cusparse-cu12-12.5.1.3:\n",
            "      Successfully uninstalled nvidia-cusparse-cu12-12.5.1.3\n",
            "  Attempting uninstall: nvidia-cudnn-cu12\n",
            "    Found existing installation: nvidia-cudnn-cu12 9.3.0.75\n",
            "    Uninstalling nvidia-cudnn-cu12-9.3.0.75:\n",
            "      Successfully uninstalled nvidia-cudnn-cu12-9.3.0.75\n",
            "  Attempting uninstall: nvidia-cusolver-cu12\n",
            "    Found existing installation: nvidia-cusolver-cu12 11.6.3.83\n",
            "    Uninstalling nvidia-cusolver-cu12-11.6.3.83:\n",
            "      Successfully uninstalled nvidia-cusolver-cu12-11.6.3.83\n",
            "Successfully installed faiss-cpu-1.10.0 nvidia-cublas-cu12-12.4.5.8 nvidia-cuda-cupti-cu12-12.4.127 nvidia-cuda-nvrtc-cu12-12.4.127 nvidia-cuda-runtime-cu12-12.4.127 nvidia-cudnn-cu12-9.1.0.70 nvidia-cufft-cu12-11.2.1.3 nvidia-curand-cu12-10.3.5.147 nvidia-cusolver-cu12-11.6.1.9 nvidia-cusparse-cu12-12.3.1.170 nvidia-nvjitlink-cu12-12.4.127 tiktoken-0.9.0\n"
          ]
        }
      ]
    },
    {
      "cell_type": "code",
      "source": [
        "import os\n",
        "import shutil\n",
        "from git import Repo\n",
        "from sentence_transformers import SentenceTransformer\n",
        "import faiss\n",
        "from os.path import isfile, join\n",
        "from glob import glob\n",
        "\n",
        "\n",
        "from fixed_token_chunker import FixedTokenChunker\n",
        "import math\n",
        "\n",
        "import numpy as np\n",
        "from sentence_transformers import CrossEncoder\n",
        "\n",
        "from transformers import pipeline\n",
        "\n",
        "import json\n",
        "from tqdm import tqdm"
      ],
      "metadata": {
        "id": "AaRJHMI75nDP"
      },
      "execution_count": 2,
      "outputs": []
    },
    {
      "cell_type": "markdown",
      "source": [
        "### Data preparation"
      ],
      "metadata": {
        "id": "fzeXO5M26GfH"
      }
    },
    {
      "cell_type": "markdown",
      "source": [
        "First we have to get the repository given the URL:"
      ],
      "metadata": {
        "id": "btZBWohd6MX6"
      }
    },
    {
      "cell_type": "code",
      "source": [
        "def clone_repo(github_url, path='git_rep'):\n",
        "    if os.path.exists(path):\n",
        "        return path\n",
        "    Repo.clone_from(github_url, path)\n",
        "    return path"
      ],
      "metadata": {
        "id": "6RzXrvv66LMO"
      },
      "execution_count": 3,
      "outputs": []
    },
    {
      "cell_type": "markdown",
      "source": [
        "Then we get filenames for all the files from this repository:"
      ],
      "metadata": {
        "id": "dS0ArJ7X6YWd"
      }
    },
    {
      "cell_type": "code",
      "source": [
        "def get_files(repo_path):\n",
        "    files = [f for f in glob(f\"{repo_path}/**/*\", recursive=True) if isfile(f)]\n",
        "    return files"
      ],
      "metadata": {
        "id": "k6hcnbcE6tZu"
      },
      "execution_count": 4,
      "outputs": []
    },
    {
      "cell_type": "markdown",
      "source": [
        "Then it's time to read the content of the files. I decided to add chunking for this task to improve the quality. I've used FixedTokenChunker implementation from [here](https://github.com/brandonstarxel/chunking_evaluation/blob/main/chunking_evaluation/chunking/fixed_token_chunker.py). I split every document into chunks of selected size (250 tokens in our case) and create index over these chunks. Each chunks is stored with metadata that allows to easily retrieve the file that this chunk belongs to. There are complex chunkers that may be used instead of FixedTokenChunker, but I decided to use it for this MVP.\n",
        "\n",
        "You may see `num_chunks` variable. It is useful, because this data displays the length of the documents, allowing us to select trainig hyperparameters after careful investigation."
      ],
      "metadata": {
        "id": "PMNBvhGU6_27"
      }
    },
    {
      "cell_type": "code",
      "source": [
        "CHUNK_SIZE = 250\n",
        "CHUNK_PART = 0.25"
      ],
      "metadata": {
        "id": "cw2AX2TjBTJG"
      },
      "execution_count": 5,
      "outputs": []
    },
    {
      "cell_type": "code",
      "source": [
        "def read_files(files, chunker):\n",
        "    docs = []\n",
        "    metadata = []\n",
        "    num_chunks = []\n",
        "\n",
        "    for f in files:\n",
        "        try:\n",
        "            with open(f, 'r', encoding='utf-8') as file:\n",
        "                content = file.read()\n",
        "                chunks = chunker.split_text(content)\n",
        "\n",
        "                num_chunks.append(len(chunks))\n",
        "                for i, chunk in enumerate(chunks):\n",
        "                    docs.append(chunk)\n",
        "                    metadata.append(f\"{f}::chunk_{i}\")\n",
        "        except:\n",
        "            continue\n",
        "    return docs, metadata, num_chunks"
      ],
      "metadata": {
        "id": "Aoxkkw4z8rUR"
      },
      "execution_count": 6,
      "outputs": []
    },
    {
      "cell_type": "markdown",
      "source": [
        "Now we move to the indexing part. I use `all-MiniLM-L6-v2` as an encoder that maps document chunks encoding to vectors.  \n",
        "\n",
        "Then i use `faiss` library to create an index over this vectors. This library allows to search kclosest neighbours for high-dimensional vectors efficiently. I initialize this index with the code chunks encodings that were retrieved earlier.  "
      ],
      "metadata": {
        "id": "nigclE0b-sv3"
      }
    },
    {
      "cell_type": "code",
      "source": [
        "def indexing(docs, metadata, model_name='all-MiniLM-L6-v2'):\n",
        "    model = SentenceTransformer(model_name)\n",
        "    embeddings = model.encode(docs, convert_to_tensor=False)\n",
        "\n",
        "    dim = len(embeddings[0])\n",
        "    index = faiss.IndexFlatL2(dim)\n",
        "    index.add(embeddings)\n",
        "    return index, embeddings, metadata"
      ],
      "metadata": {
        "id": "8iqxZDSQ-w-g"
      },
      "execution_count": 7,
      "outputs": []
    },
    {
      "cell_type": "markdown",
      "source": [
        "And here is the full pipeline that allows user to create an index from the github url:"
      ],
      "metadata": {
        "id": "TgWbUokL_-et"
      }
    },
    {
      "cell_type": "code",
      "execution_count": 8,
      "metadata": {
        "id": "G9BCz6bcePGo"
      },
      "outputs": [],
      "source": [
        "def build_index_from_github(github_url):\n",
        "    repo_path = clone_repo(github_url)\n",
        "    files = get_files(repo_path)\n",
        "\n",
        "    chunker = FixedTokenChunker(chunk_size=CHUNK_SIZE, chunk_overlap=int(CHUNK_PART * CHUNK_SIZE), encoding_name=\"cl100k_base\")\n",
        "\n",
        "    docs, metadata, num_chunks = read_files(files, chunker)\n",
        "    index, embeddings, metadata = indexing(docs, metadata)\n",
        "    return index, embeddings, metadata, docs, num_chunks\n"
      ]
    },
    {
      "cell_type": "markdown",
      "source": [
        "### Indexing example"
      ],
      "metadata": {
        "id": "dBu3SlwmBgB6"
      }
    },
    {
      "cell_type": "code",
      "source": [
        "github_url = \"https://github.com/viarotel-org/escrcpy\"\n"
      ],
      "metadata": {
        "id": "FwXhBgKZiyT8"
      },
      "execution_count": 9,
      "outputs": []
    },
    {
      "cell_type": "code",
      "source": [
        "index, embeddings, metadata, docs, num_chunks = build_index_from_github(github_url)"
      ],
      "metadata": {
        "colab": {
          "base_uri": "https://localhost:8080/",
          "height": 491,
          "referenced_widgets": [
            "b4cf089d211a4ba098c29d257e957267",
            "69d3e06f40e54faba0452c21a8875e9f",
            "c8e836232d754d76ad9263873f9f97e8",
            "40e899f8421e44a2ac3c24721ba701d6",
            "c05b91b2e578470dae994a2690c5621d",
            "7263686a7fc54621896565a9c5293209",
            "c9cbedb68d27452192420f8c542f9ba0",
            "33ac501807d94ac7845419709bb8cf42",
            "4245061deb1d40eca93a87837cfe6c3c",
            "27924a92ab084b8798f135b052f12f75",
            "ee5da4bd79be4e9fa4d4bcfd33e9f0d2",
            "a9926223c8724c8b91769746c7f98383",
            "dc8ef4b7d2a44277a5e040573eb42a1f",
            "d38db211a10a45b0ae879f7286c2d7f3",
            "62e3deff0071489a82722d763d9d6b12",
            "828e18f12db04b0d87069c22cdfd839a",
            "34d1e3e8700d46d590106f73db762fde",
            "f450e049152948d3a8725f6bfb46d024",
            "f7e9e41c202049e3b0253c48c302680a",
            "569969eacd924f1aa8ba0c1ff6cc4a36",
            "3b9fc0d2704e4fcf9dabb31287124909",
            "99602c885f6848a4ac29282f5ce9f335",
            "7326e5a20cf2442cab2e162a42a17a76",
            "1be8d710661c49abad821a79fe6ceb9d",
            "5d1751e3caae4559b07e7c8828cd868f",
            "a6f998ca7d994a88a3989838e9a66c08",
            "17999161d0274aa1b3e447f796d74ab4",
            "6ca5a772ea4d47c6934df5016663c792",
            "4542bceae67f4bdaa2c8eba11593347e",
            "dc341b02864d4137a0cf991dab4a9e07",
            "1e2fc2aa99b14b069f7017b5d0ba9456",
            "cadbb867acc54dd2b1301707ce42d39a",
            "56b3326bda5f44c8a776e447719d5820",
            "30bb0e77002646f7bd430c8fdfeb500e",
            "57a7ea3e805b4144800134ca5ba459cd",
            "1e9e862b4f834775b20d10d9b342348b",
            "bf46f359865f4f76ac9ac33c20ceb70d",
            "c4519c3695554d03b634baaa6585a50f",
            "151da761898a42aabc29793218993747",
            "e08d0309c17645fd886cb061ac492aa5",
            "97e60afb912b4bcca2635a78be668e9f",
            "357b0dcc1e124fe69ac9b2ed89cb1473",
            "96db8ac4f08c4316827d214685d3ca51",
            "726ba93335794ad2933af79033b7b09b",
            "e27c248f0f4f4cf3b55b727f5618582a",
            "a1552c5507e94315a24a896270bd84ea",
            "8751fee02159493cabb9d3884dbf780a",
            "1f803a30b5c341859e74b157161d1ba4",
            "2e4b740d8bba41b0a9e82aa8f0c2d763",
            "f2610830ecd64406847da85d5d1b3eb2",
            "46aac9014d454f03b5d59036d7d8ff15",
            "d88a111a34584dfc890462b06fc16af8",
            "810db143d10742cc87b1217e456f1683",
            "526024990e794c5fbafbb48fe051d444",
            "ac495647ca134264b44f6a2ec66e5811",
            "09c4cb41d5d647fdb13eec70207c65e1",
            "8520cb54049f4b40822873fee83accf0",
            "44cfb8a3719c44fda8de5f7fc2b347a9",
            "e2d93214a96c40d8b3de82c2c6aaf27a",
            "109e4562d7634737be0f42bea366d2d3",
            "f35fd41966164f7fb1a4ed121a65a7ed",
            "71bd89e22b9f4563ae8ecd360fdc63a2",
            "e19c0f9c1b1b49dab8db67f9585e0363",
            "ac0091049b254465a598d6c4dc7bb881",
            "b44b0e16b88e4d9193e466a367b38487",
            "60bf08289cb24ef78a31c9e1f3544b4c",
            "6a4d3c00fd0d40a5a1d38b5ab2b84976",
            "54c354839ccf42c99bf0c999283b9727",
            "264dac50d9a84087a97367c61665e038",
            "6c69b60f686643db810c882f6aacb9f4",
            "72ce7fb9f3b64616bdf68af9090ecaf2",
            "9f4e727221964ec78cd6e829cd6df72d",
            "c9239176ff24413b8f8bd7864035ded0",
            "0af0d7741c814d97b54938dbb5e240e9",
            "0ed6c5412edf46878afc38b1b473b447",
            "6c4465e703e34a4e99f4dd5d632e849c",
            "9587b1e2158c4435829dfb5e856dce58",
            "6f292e4af84c450da5bcc29f4cd13187",
            "2ea91c034bcb4fc3a160db85b1430093",
            "df57603dd69645edb3c3299d7a895e02",
            "be73b36365a0411e87518abd8f16b520",
            "7f8ff1ffc66944a1aa47564684c8a250",
            "a27200c86f414904a5495ce642519fe1",
            "768910eee35345bbb4913a4644a4a0d8",
            "ce811cb3cd81421f8ac654ae872c7bf8",
            "ba3a5cabb2954c06b86e3dd41686ddd7",
            "d54ad8c70fb544df9867f94b186ebedb",
            "624aa5a90b7f4ba7ab0470b1ada31ca5",
            "0dd39101b34141ad82af4771a5d059d2",
            "343d3444e9c84e79947b0c362d3c9669",
            "e4a0ad2468994ef59c6ab811a1a1d75a",
            "9d3d9aa2dcba451e851a7186da944180",
            "dba8b9a646c54d04a7e7abc63a584d29",
            "82b45db9778f47fb94930caf07b2235d",
            "5ad18c2ec840421384ae77f27cfcb55f",
            "26e775d97d674d8f98be623f37e7e3c7",
            "1605acfae6984e0a825c31a635ad8e9c",
            "3ebfd1a7a4a243a3a99ff00b17194078",
            "921c552f15694af2a5ed2be9a824fc2a",
            "9bcccb844b75410089e62d91381cc516",
            "36d40002df8d4d508f77e4ac5e26233b",
            "012271108d1e4f258920db7cb93d849e",
            "0fe763529fe14d799aeb865e8d424d05",
            "5e0835cba65447acb7360bf7b61e4735",
            "63c4e4daec1f4cc98bc1e48641205809",
            "533810733bef41ceabe64a89edfbb04d",
            "0ebb2997ca9e456280310c7996ca3bc6",
            "5806a8abfff44c0eae3274c8431e0e95",
            "4ecd18eb404a4af597f66ea704268374",
            "1aeb2c4bd0f4401d8cfecc0767684b5e",
            "6c178d356d4846f78a952a4d7827afea",
            "d4e09aac4dd645c9be135a9a41bccdc2",
            "a7c74d264e6548dd8931491af1569350",
            "9e75ce7abebb4736bad919d6c7dd6b6d",
            "79b3765bb24f483e8d85d4afeac06298",
            "c88894e792354fc8be506792f026b964",
            "f252d41b99184bc4bd279648f993b361",
            "9fd2d40b48fc432b908b41099681b00d",
            "ad732bc5c4ac45ab970e638aab18bab3",
            "54e99c7d158e440e8a8cb29f0e40e79b",
            "702068beb6344006afcc363b27326a3b"
          ]
        },
        "id": "yM6Re7NZkutW",
        "outputId": "0b2ba0ea-a109-47bd-f5db-b98e7b1efd44"
      },
      "execution_count": 10,
      "outputs": [
        {
          "output_type": "stream",
          "name": "stderr",
          "text": [
            "/usr/local/lib/python3.11/dist-packages/huggingface_hub/utils/_auth.py:94: UserWarning: \n",
            "The secret `HF_TOKEN` does not exist in your Colab secrets.\n",
            "To authenticate with the Hugging Face Hub, create a token in your settings tab (https://huggingface.co/settings/tokens), set it as secret in your Google Colab and restart your session.\n",
            "You will be able to reuse this secret in all of your notebooks.\n",
            "Please note that authentication is recommended but still optional to access public models or datasets.\n",
            "  warnings.warn(\n"
          ]
        },
        {
          "output_type": "display_data",
          "data": {
            "text/plain": [
              "modules.json:   0%|          | 0.00/349 [00:00<?, ?B/s]"
            ],
            "application/vnd.jupyter.widget-view+json": {
              "version_major": 2,
              "version_minor": 0,
              "model_id": "b4cf089d211a4ba098c29d257e957267"
            }
          },
          "metadata": {}
        },
        {
          "output_type": "display_data",
          "data": {
            "text/plain": [
              "config_sentence_transformers.json:   0%|          | 0.00/116 [00:00<?, ?B/s]"
            ],
            "application/vnd.jupyter.widget-view+json": {
              "version_major": 2,
              "version_minor": 0,
              "model_id": "a9926223c8724c8b91769746c7f98383"
            }
          },
          "metadata": {}
        },
        {
          "output_type": "display_data",
          "data": {
            "text/plain": [
              "README.md:   0%|          | 0.00/10.5k [00:00<?, ?B/s]"
            ],
            "application/vnd.jupyter.widget-view+json": {
              "version_major": 2,
              "version_minor": 0,
              "model_id": "7326e5a20cf2442cab2e162a42a17a76"
            }
          },
          "metadata": {}
        },
        {
          "output_type": "display_data",
          "data": {
            "text/plain": [
              "sentence_bert_config.json:   0%|          | 0.00/53.0 [00:00<?, ?B/s]"
            ],
            "application/vnd.jupyter.widget-view+json": {
              "version_major": 2,
              "version_minor": 0,
              "model_id": "30bb0e77002646f7bd430c8fdfeb500e"
            }
          },
          "metadata": {}
        },
        {
          "output_type": "display_data",
          "data": {
            "text/plain": [
              "config.json:   0%|          | 0.00/612 [00:00<?, ?B/s]"
            ],
            "application/vnd.jupyter.widget-view+json": {
              "version_major": 2,
              "version_minor": 0,
              "model_id": "e27c248f0f4f4cf3b55b727f5618582a"
            }
          },
          "metadata": {}
        },
        {
          "output_type": "display_data",
          "data": {
            "text/plain": [
              "model.safetensors:   0%|          | 0.00/90.9M [00:00<?, ?B/s]"
            ],
            "application/vnd.jupyter.widget-view+json": {
              "version_major": 2,
              "version_minor": 0,
              "model_id": "09c4cb41d5d647fdb13eec70207c65e1"
            }
          },
          "metadata": {}
        },
        {
          "output_type": "display_data",
          "data": {
            "text/plain": [
              "tokenizer_config.json:   0%|          | 0.00/350 [00:00<?, ?B/s]"
            ],
            "application/vnd.jupyter.widget-view+json": {
              "version_major": 2,
              "version_minor": 0,
              "model_id": "6a4d3c00fd0d40a5a1d38b5ab2b84976"
            }
          },
          "metadata": {}
        },
        {
          "output_type": "display_data",
          "data": {
            "text/plain": [
              "vocab.txt:   0%|          | 0.00/232k [00:00<?, ?B/s]"
            ],
            "application/vnd.jupyter.widget-view+json": {
              "version_major": 2,
              "version_minor": 0,
              "model_id": "6f292e4af84c450da5bcc29f4cd13187"
            }
          },
          "metadata": {}
        },
        {
          "output_type": "display_data",
          "data": {
            "text/plain": [
              "tokenizer.json:   0%|          | 0.00/466k [00:00<?, ?B/s]"
            ],
            "application/vnd.jupyter.widget-view+json": {
              "version_major": 2,
              "version_minor": 0,
              "model_id": "0dd39101b34141ad82af4771a5d059d2"
            }
          },
          "metadata": {}
        },
        {
          "output_type": "display_data",
          "data": {
            "text/plain": [
              "special_tokens_map.json:   0%|          | 0.00/112 [00:00<?, ?B/s]"
            ],
            "application/vnd.jupyter.widget-view+json": {
              "version_major": 2,
              "version_minor": 0,
              "model_id": "9bcccb844b75410089e62d91381cc516"
            }
          },
          "metadata": {}
        },
        {
          "output_type": "display_data",
          "data": {
            "text/plain": [
              "config.json:   0%|          | 0.00/190 [00:00<?, ?B/s]"
            ],
            "application/vnd.jupyter.widget-view+json": {
              "version_major": 2,
              "version_minor": 0,
              "model_id": "6c178d356d4846f78a952a4d7827afea"
            }
          },
          "metadata": {}
        }
      ]
    },
    {
      "cell_type": "markdown",
      "source": [
        "### Search"
      ],
      "metadata": {
        "id": "yoR3yJqdCGT0"
      }
    },
    {
      "cell_type": "markdown",
      "source": [
        "Let's display the number of chunks distribution over the files:"
      ],
      "metadata": {
        "id": "2LW-7M0PCI8F"
      }
    },
    {
      "cell_type": "code",
      "source": [
        "import matplotlib.pyplot as plt\n",
        "\n",
        "plt.hist(num_chunks, bins=100)\n",
        "plt.xlabel('Number of Chunks')\n",
        "plt.ylabel('Frequency')\n",
        "plt.title('Distribution of Number of Chunks')\n",
        "plt.show()"
      ],
      "metadata": {
        "colab": {
          "base_uri": "https://localhost:8080/",
          "height": 472
        },
        "id": "qjhIMTq788-j",
        "outputId": "8e97ca3b-dc46-4e33-e29c-5a4dfb69f606"
      },
      "execution_count": 11,
      "outputs": [
        {
          "output_type": "display_data",
          "data": {
            "text/plain": [
              "<Figure size 640x480 with 1 Axes>"
            ],
            "image/png": "[encoded data removed]"
          },
          "metadata": {}
        }
      ]
    },
    {
      "cell_type": "code",
      "source": [
        "np.mean(num_chunks)"
      ],
      "metadata": {
        "colab": {
          "base_uri": "https://localhost:8080/"
        },
        "id": "Y8tODtAu96LR",
        "outputId": "f7cfd3bc-d9aa-4819-b62d-d98412984e65"
      },
      "execution_count": 12,
      "outputs": [
        {
          "output_type": "execute_result",
          "data": {
            "text/plain": [
              "np.float64(4.9366666666666665)"
            ]
          },
          "metadata": {},
          "execution_count": 12
        }
      ]
    },
    {
      "cell_type": "markdown",
      "source": [
        "The mean length of a file is around 5 chunks. This information is useful, because it helps us estimate the number of top-k chunks that would be retrieved from the index during our search."
      ],
      "metadata": {
        "id": "c7AOMtMU99U0"
      }
    },
    {
      "cell_type": "code",
      "source": [
        "MEAN_CHUNK_NUMBER = int(math.ceil(np.mean(num_chunks)))"
      ],
      "metadata": {
        "id": "Dni5jn7WCA1J"
      },
      "execution_count": 13,
      "outputs": []
    },
    {
      "cell_type": "markdown",
      "source": [
        "Functions for urstion embedding and filename retrieval:"
      ],
      "metadata": {
        "id": "KEM2RaG8CknG"
      }
    },
    {
      "cell_type": "code",
      "source": [
        "def embed_question(question, model):\n",
        "    return np.array([model.encode(question, convert_to_tensor=False)])"
      ],
      "metadata": {
        "id": "99itUUqbi013"
      },
      "execution_count": 14,
      "outputs": []
    },
    {
      "cell_type": "code",
      "source": [
        "def get_filename_from_chunk_metadata(meta_entry):\n",
        "    return meta_entry.split(\"::\")[0]"
      ],
      "metadata": {
        "id": "EPqkQeHgwSL6"
      },
      "execution_count": 15,
      "outputs": []
    },
    {
      "cell_type": "markdown",
      "source": [
        "I decided to use Reranker as well. It takes the retrieved files based on the chunks from the index, evaluates them and sorts again based on new evaluation."
      ],
      "metadata": {
        "id": "PpVHGPgxCrt4"
      }
    },
    {
      "cell_type": "code",
      "source": [
        "cross_encoder = CrossEncoder('cross-encoder/ms-marco-MiniLM-L-12-v2')"
      ],
      "metadata": {
        "colab": {
          "base_uri": "https://localhost:8080/",
          "height": 177,
          "referenced_widgets": [
            "d774cfa39316423da3771927b1e20a53",
            "fed5888d27e64f2da16560ea3f72f589",
            "ebc6e53d5f7d42f8b85f6138ec04615e",
            "31d3cb7f6d074d10b5b7ba7836ac0da9",
            "bd6cc8ac83d14d5e992e4c9c012b622d",
            "faa6efc19b5a4bc0bf02ca69074a31bd",
            "22f2a5235a004f52a61067fda62ab484",
            "7634305d24dd4ecbaee05c67d7b9f027",
            "ff8e76d746d54512ac2bb9bc170d5e64",
            "cfba6b751c65447fb129d65dc0b9c071",
            "ef591a8caabb43f291f1a573ed3a8035",
            "d686edab7b6149df9b2f5c1523a09ed9",
            "4c85ccfb169e41f28022746743702929",
            "bcc36f0533794f1ab1c065b20c80fbce",
            "4d0d9ab019104281a4c28f4d24feeb37",
            "0e134da50e8a4f9893248754b6153db1",
            "f2c2e00e936f4bc2a24e248558790ca6",
            "a5bf4d1a14f44eb18f3bca039846f1af",
            "f51bb6deae774ad8802ce513b778b6a5",
            "8d839b031d1344a7a18df44ac75685ad",
            "dc3d5820a62643d49e8b582eab6d8bd7",
            "e18a95337fbc47508addbc179753192a",
            "1f8480f32eac47b3ba83b12a6604683a",
            "d091a451e4df46a9bf0dff0e441c79e3",
            "49d03a5bdc89439fa86037ec3c7b73c8",
            "7ee6ed85f0894e808cfb3609c4386ac5",
            "134c88b59b1c49c281c5de60a520fe18",
            "eef292994a7a42dda085081a1f8b181c",
            "c9326fd005ee448aa3dcc6b3f816592b",
            "a57c9b8700b6423bb67fbb7a3cf3f8e7",
            "6dac293ae3094f0696ab317c82de9812",
            "22cd592aeda244e3a870bc65325b388e",
            "f58da7ae6d7644228c7eec17787ec769",
            "b685b9836b864b06b4f7eb7460030533",
            "d8a636f08bf24dd4aabb31a15d140b17",
            "503ab2fed4d445d3a2a1ac0bf457d089",
            "027dcdf53be34257a2df4389b364552e",
            "701434cd6e6d4f8d9ec0b82010a7e7f1",
            "5bb4a2334a0f468797b67263ec6ae325",
            "bcf682a1c7fc4184980c23becddb236f",
            "494e18ef80624229a7a117f2529d964c",
            "e8a559ef732c4930987c99d0cb8e6677",
            "9a1b126c21874f6197e3f3f57f5c8ee2",
            "ae676a4b89a347588c0de69100416a83",
            "df5e237b22314ac591b7bd4f313ec561",
            "087d89f2cf934ca3b4f50a89f969fd3e",
            "53062f57dd624d3781d27a17d6779038",
            "d289c39bc4ee475aa5a2b2bf97637b03",
            "316343f3bb314a98a0567c6aa57652a7",
            "659b0b948a4c441b844e0ccf2750b428",
            "7b6580ef356b4663a08b4c94917514c5",
            "4fe10653c0fe4fcd856d08d10e8bc8f1",
            "d92e6d22fabc4d4f88983d41d5ef5267",
            "d96d6df420cf4b6bb1a3efc93f264d65",
            "e0d60cb767d84b7e84dc4ab2cbb82bbe"
          ]
        },
        "id": "Mx0_u-vfx84q",
        "outputId": "089245e3-e408-4fd7-a234-7393d9123868"
      },
      "execution_count": 16,
      "outputs": [
        {
          "output_type": "display_data",
          "data": {
            "text/plain": [
              "config.json:   0%|          | 0.00/791 [00:00<?, ?B/s]"
            ],
            "application/vnd.jupyter.widget-view+json": {
              "version_major": 2,
              "version_minor": 0,
              "model_id": "d774cfa39316423da3771927b1e20a53"
            }
          },
          "metadata": {}
        },
        {
          "output_type": "display_data",
          "data": {
            "text/plain": [
              "model.safetensors:   0%|          | 0.00/133M [00:00<?, ?B/s]"
            ],
            "application/vnd.jupyter.widget-view+json": {
              "version_major": 2,
              "version_minor": 0,
              "model_id": "d686edab7b6149df9b2f5c1523a09ed9"
            }
          },
          "metadata": {}
        },
        {
          "output_type": "display_data",
          "data": {
            "text/plain": [
              "tokenizer_config.json:   0%|          | 0.00/316 [00:00<?, ?B/s]"
            ],
            "application/vnd.jupyter.widget-view+json": {
              "version_major": 2,
              "version_minor": 0,
              "model_id": "1f8480f32eac47b3ba83b12a6604683a"
            }
          },
          "metadata": {}
        },
        {
          "output_type": "display_data",
          "data": {
            "text/plain": [
              "vocab.txt:   0%|          | 0.00/232k [00:00<?, ?B/s]"
            ],
            "application/vnd.jupyter.widget-view+json": {
              "version_major": 2,
              "version_minor": 0,
              "model_id": "b685b9836b864b06b4f7eb7460030533"
            }
          },
          "metadata": {}
        },
        {
          "output_type": "display_data",
          "data": {
            "text/plain": [
              "special_tokens_map.json:   0%|          | 0.00/112 [00:00<?, ?B/s]"
            ],
            "application/vnd.jupyter.widget-view+json": {
              "version_major": 2,
              "version_minor": 0,
              "model_id": "df5e237b22314ac591b7bd4f313ec561"
            }
          },
          "metadata": {}
        }
      ]
    },
    {
      "cell_type": "markdown",
      "source": [
        "### LLM-summary"
      ],
      "metadata": {
        "id": "0yqASCzEE9FO"
      }
    },
    {
      "cell_type": "markdown",
      "source": [
        "I add LLM-summary as an extra option for the search. `google/mt5-small` model takes the corpora of files as an input and generate a short summary, answering why these documents are related to the query."
      ],
      "metadata": {
        "id": "pgmH-0CdFcyE"
      }
    },
    {
      "cell_type": "code",
      "source": [
        "generator = pipeline('text2text-generation', model='google/flan-t5-base')"
      ],
      "metadata": {
        "colab": {
          "base_uri": "https://localhost:8080/",
          "height": 346,
          "referenced_widgets": [
            "ef47d8841f3c47d1bd2d0829330e7856",
            "f906a2df111e41e88b5fe80814b06212",
            "ffe08bc95ac040ad86d8c5c7a6ef462b",
            "9215eb1e33f0416392fc1f9f9921acab",
            "5b611c50009a48fba23657c3c490351d",
            "e47517553060463785325e6b52896f23",
            "f0aa8eccc1464a15a5518ed28164aeed",
            "5d4358e515064eab9acbc46ea9ef0df7",
            "4fec5983aac74c768bb53882b35d5247",
            "dacacefcc9574874a154207c3af11c7e",
            "39ce0b09ce39492fa86aca97898bee4a",
            "9feb4a7e602a4e8e94eb5367ee3fdc44",
            "22765493103e4074b3930cce20af5552",
            "b629a27e05e14d349712a865d95a2f0a",
            "67d9b46d65e0425ea2f3d97232557d82",
            "0ea8c2236ead4fb5a27ef605996b5d5c",
            "f7b8d0976d8944229c07c8017ca23e97",
            "febffbd575b9456c8913910eff00c019",
            "acf800348e4a4e2bb5375d4ca4147ac6",
            "7aa9c93a659f4569b9e1ecd9159f5c74",
            "a1e6fdbcb84c4d5d819e028c93a33f10",
            "b4ba8bed9a06400c9c3f465b57b1cfb3",
            "81cfb2e24ab6415486928c0e4079612a",
            "86efe7e71af443f599c0ac354b448d8e",
            "1bac6b85342e4fbd9dc572399f7a389f",
            "eca6a9a1e5f8445aae05421c62e5d149",
            "fe079487dd2e419ba9ac50c555d41ec1",
            "c73fcce032054bf4b60601e819139819",
            "df3f9c55e7794bf09357ccd1ec4e52cd",
            "d2cdaaca75c844b58fd9170cc9845a33",
            "08dbbab41a5a432e85acfe171bcf7943",
            "ba4d66ce55e04796ba1e854202c94537",
            "bf84992d10a6426e8063e177b7b14bbb",
            "4ccc68e9f3ca43e6adf7f70b85806856",
            "91e407072e334632863394ce2ceda1c6",
            "4efe59c02cd847318bef4fe43d3ceef0",
            "e4b43cfeff17449a8ca4e0d52fb79592",
            "77cbf7e94938497b917cf1ebe0dc0126",
            "c99ab812a0ea48c79ae3240267e8f6c3",
            "6b24e41efe5241ffa81f783d7e4edc22",
            "017d3c4d36df49648a7eec9e78870304",
            "468ca8eeb7fd4a579bc4af6975c368f2",
            "e09a9a46767e4ab8a091a09fd73f8b68",
            "4b118b2d15324549a59f5aada2fa480d",
            "1e3c194d8894448789a27211861c803c",
            "9d08f6f4cf464df2aa32286b94723664",
            "fa72401bc66f411e816eb9dc3591f563",
            "50c065ad5db04c1da7f5652b2ec86270",
            "d6a08a8c8c544acfb48570fd27870f94",
            "5cc3e2abdb2643aa9c2f838fc6f1a1fc",
            "17b8580394ce40fc874f3d222a6e79f5",
            "67f3587ba5744f258eeb1dd8ee4caa67",
            "8ba8bcc90bf34406a3c04683d91f565e",
            "bf36979b69394da8b6abc63522ae1cc3",
            "a9a9f6385a96436f9d940fd1bcc65039",
            "4e8d87a560b04906ac87a2d6687f9e6d",
            "c767bb50b88b45fca7575f3924aed25e",
            "2a8bb2be0edf432daecaa4f088f9c582",
            "6bc12a5c01e24daf89a00503044c1a16",
            "66b9480e1c5d4d53a8ada904ba420646",
            "83fb1ee4a16941f7931fa68e826f024c",
            "14a70d38d4df4e1093b4f92100a476fc",
            "f2c1395cba44426190d7a7a9cc2c20f9",
            "30787cb2f3784d4fb80b62881c86aa0b",
            "663e4c209c384524a4629f67004e0eab",
            "9ff3b48deb51436ababaa5d56a15dc60",
            "9b13000fe2e347c1adde94410d6bbf3a",
            "0fee95daf71d44b18e86334430e50b58",
            "babeb364fc60416bab8d469a87f39e75",
            "6ab5dc146af84e828e81ae499f613464",
            "2c6a02d7511147f1b2e91a0cfeb70034",
            "f1244f130e1740bdbad261e27b15f626",
            "05f7b7ed2b874b4492526588bb7658d9",
            "88fa288f0d5648bd991eb00a4c03e20b",
            "f6d596d13c8c45fa807427b311560ea2",
            "34191e8327954eb2a8ab23f2ac160159",
            "c8d6eb1e41fc45d285f2f5f118a275a2"
          ]
        },
        "id": "M6dLmJmtKVgj",
        "outputId": "342c0990-3290-456b-b362-531fea411d5e"
      },
      "execution_count": 17,
      "outputs": [
        {
          "output_type": "display_data",
          "data": {
            "text/plain": [
              "config.json:   0%|          | 0.00/1.40k [00:00<?, ?B/s]"
            ],
            "application/vnd.jupyter.widget-view+json": {
              "version_major": 2,
              "version_minor": 0,
              "model_id": "ef47d8841f3c47d1bd2d0829330e7856"
            }
          },
          "metadata": {}
        },
        {
          "output_type": "stream",
          "name": "stderr",
          "text": [
            "Xet Storage is enabled for this repo, but the 'hf_xet' package is not installed. Falling back to regular HTTP download. For better performance, install the package with: `pip install huggingface_hub[hf_xet]` or `pip install hf_xet`\n",
            "WARNING:huggingface_hub.file_download:Xet Storage is enabled for this repo, but the 'hf_xet' package is not installed. Falling back to regular HTTP download. For better performance, install the package with: `pip install huggingface_hub[hf_xet]` or `pip install hf_xet`\n"
          ]
        },
        {
          "output_type": "display_data",
          "data": {
            "text/plain": [
              "model.safetensors:   0%|          | 0.00/990M [00:00<?, ?B/s]"
            ],
            "application/vnd.jupyter.widget-view+json": {
              "version_major": 2,
              "version_minor": 0,
              "model_id": "9feb4a7e602a4e8e94eb5367ee3fdc44"
            }
          },
          "metadata": {}
        },
        {
          "output_type": "display_data",
          "data": {
            "text/plain": [
              "generation_config.json:   0%|          | 0.00/147 [00:00<?, ?B/s]"
            ],
            "application/vnd.jupyter.widget-view+json": {
              "version_major": 2,
              "version_minor": 0,
              "model_id": "81cfb2e24ab6415486928c0e4079612a"
            }
          },
          "metadata": {}
        },
        {
          "output_type": "display_data",
          "data": {
            "text/plain": [
              "tokenizer_config.json:   0%|          | 0.00/2.54k [00:00<?, ?B/s]"
            ],
            "application/vnd.jupyter.widget-view+json": {
              "version_major": 2,
              "version_minor": 0,
              "model_id": "4ccc68e9f3ca43e6adf7f70b85806856"
            }
          },
          "metadata": {}
        },
        {
          "output_type": "stream",
          "name": "stderr",
          "text": [
            "Xet Storage is enabled for this repo, but the 'hf_xet' package is not installed. Falling back to regular HTTP download. For better performance, install the package with: `pip install huggingface_hub[hf_xet]` or `pip install hf_xet`\n",
            "WARNING:huggingface_hub.file_download:Xet Storage is enabled for this repo, but the 'hf_xet' package is not installed. Falling back to regular HTTP download. For better performance, install the package with: `pip install huggingface_hub[hf_xet]` or `pip install hf_xet`\n"
          ]
        },
        {
          "output_type": "display_data",
          "data": {
            "text/plain": [
              "spiece.model:   0%|          | 0.00/792k [00:00<?, ?B/s]"
            ],
            "application/vnd.jupyter.widget-view+json": {
              "version_major": 2,
              "version_minor": 0,
              "model_id": "1e3c194d8894448789a27211861c803c"
            }
          },
          "metadata": {}
        },
        {
          "output_type": "display_data",
          "data": {
            "text/plain": [
              "tokenizer.json:   0%|          | 0.00/2.42M [00:00<?, ?B/s]"
            ],
            "application/vnd.jupyter.widget-view+json": {
              "version_major": 2,
              "version_minor": 0,
              "model_id": "4e8d87a560b04906ac87a2d6687f9e6d"
            }
          },
          "metadata": {}
        },
        {
          "output_type": "display_data",
          "data": {
            "text/plain": [
              "special_tokens_map.json:   0%|          | 0.00/2.20k [00:00<?, ?B/s]"
            ],
            "application/vnd.jupyter.widget-view+json": {
              "version_major": 2,
              "version_minor": 0,
              "model_id": "9b13000fe2e347c1adde94410d6bbf3a"
            }
          },
          "metadata": {}
        },
        {
          "output_type": "stream",
          "name": "stderr",
          "text": [
            "Device set to use cpu\n"
          ]
        }
      ]
    },
    {
      "cell_type": "code",
      "source": [
        "def generate_summary(generator, question, retrieved_docs):\n",
        "    context = \"\\n\\n\".join([\n",
        "        f\"File: {doc['file_path']}\\n{doc['code_snippet']}\" for doc in retrieved_docs\n",
        "    ])\n",
        "    results = []\n",
        "    prompt = f\"\"\"How do these files answer the query? Short summary.\n",
        "QUERY:\n",
        "{question}\n",
        "FILES:\n",
        "{context}\n",
        "\"\"\"\n",
        "\n",
        "    result = generator(prompt, max_length=256, do_sample=False)\n",
        "\n",
        "\n",
        "    return result[0]['generated_text'].strip()"
      ],
      "metadata": {
        "id": "TyrGyNogE9Sq"
      },
      "execution_count": 18,
      "outputs": []
    },
    {
      "cell_type": "markdown",
      "source": [
        "Now the function that takes query, model, index with matadata and docs and top_k, number of documenta that should be retrieved.\n",
        "\n",
        "Since we work with chunks, I decided to select `MEAN_CHUNK_NUMBER * top_k` closest chunks from the index. This estimation allows to expect top_k docs to be retrieved."
      ],
      "metadata": {
        "id": "Zn8p6CmHC_az"
      }
    },
    {
      "cell_type": "code",
      "source": [
        "def search_index(query, model, index, metadata, docs, cross_encoder, top_k=10, sum_generation=False, generator=None):\n",
        "    query_embedding = embed_question(query, model) # embed the query\n",
        "\n",
        "    D, I = index.search(query_embedding, top_k * MEAN_CHUNK_NUMBER) # select chunks\n",
        "    seen_files = {}\n",
        "    results = []\n",
        "\n",
        "    for idx in I[0]: # get filenames from chunks\n",
        "        file_path = get_filename_from_chunk_metadata(metadata[idx])\n",
        "        if file_path not in seen_files:\n",
        "            seen_files[file_path] = docs[idx]\n",
        "\n",
        "    candidates = [{\"file_path\": fp, \"code_snippet\": snippet} for fp, snippet in seen_files.items()] # now we work with files, not chunks\n",
        "\n",
        "    cross_encoder_input = [(query, cand[\"code_snippet\"]) for cand in candidates]\n",
        "    scores = cross_encoder.predict(cross_encoder_input) # files evaluation\n",
        "\n",
        "    for cand, score in zip(candidates, scores):\n",
        "        cand[\"score\"] = score\n",
        "\n",
        "    ranked_candidates = sorted(candidates, key=lambda x: x[\"score\"], reverse=True) # sort files in descending order\n",
        "\n",
        "    if sum_generation:\n",
        "        return ranked_candidates[:top_k], generate_summary(generator, question, ranked_candidates[:top_k])\n",
        "    else:\n",
        "        return ranked_candidates[:top_k]"
      ],
      "metadata": {
        "id": "HHoiYVH3llpU"
      },
      "execution_count": 19,
      "outputs": []
    },
    {
      "cell_type": "markdown",
      "source": [
        "### Search example"
      ],
      "metadata": {
        "id": "ni89TWdDNC7l"
      }
    },
    {
      "cell_type": "code",
      "source": [
        "model = SentenceTransformer('all-MiniLM-L6-v2')\n",
        "question = \"How does the SelectDisplay component handle the device options when retrieving display IDs?\"\n",
        "\n",
        "retrieved, summary = search_index(question, model, index, metadata, docs, cross_encoder, top_k=5, sum_generation=True, generator=generator)\n",
        "\n"
      ],
      "metadata": {
        "colab": {
          "base_uri": "https://localhost:8080/"
        },
        "id": "hXTji3dTlszY",
        "outputId": "7871b396-1397-4eb2-ab02-2779d5f69d58"
      },
      "execution_count": 20,
      "outputs": [
        {
          "output_type": "stream",
          "name": "stderr",
          "text": [
            "Token indices sequence length is longer than the specified maximum sequence length for this model (1854 > 512). Running this sequence through the model will result in indexing errors\n"
          ]
        }
      ]
    },
    {
      "cell_type": "code",
      "source": [
        "print([data_['file_path'] for data_ in retrieved])"
      ],
      "metadata": {
        "colab": {
          "base_uri": "https://localhost:8080/"
        },
        "id": "M_0-20y7Oohz",
        "outputId": "a36dbb0e-12b8-436b-8301-ea0b6af36ca5"
      },
      "execution_count": 21,
      "outputs": [
        {
          "output_type": "stream",
          "name": "stdout",
          "text": [
            "['git_rep/docs/en/reference/scrcpy/video.md', 'git_rep/src/components/PreferenceForm/components/SelectDisplay/index.vue', 'git_rep/src/pages/preference/index.vue', 'git_rep/src/store/preference/model/device/index.js', 'git_rep/src/pages/preference/components/ScopeSelect/index.vue']\n"
          ]
        }
      ]
    },
    {
      "cell_type": "code",
      "source": [
        "print(summary)"
      ],
      "metadata": {
        "colab": {
          "base_uri": "https://localhost:8080/"
        },
        "id": "MhTNxXa3Oiza",
        "outputId": "000f94ee-b2c1-4953-d719-536158be7155"
      },
      "execution_count": 22,
      "outputs": [
        {
          "output_type": "stream",
          "name": "stdout",
          "text": [
            "/script> /style> /template> /template> el-option v-for=\"item in options\" :key=\"item.id\" :label=\"item.label\" :value=\"item.value\" , , , , , , , , , , , , , , , , , , , , , , , , , , , , , , , , , , , , , , , , , , , , , , , , , , , , , , , , , , , , , ,\n"
          ]
        }
      ]
    },
    {
      "cell_type": "markdown",
      "source": [
        "We see that LLM summary generation lacks in quality. My pipeline allows easy switch to the pre-trained models, so the model can be fine-tuned for this task and put as a generator."
      ],
      "metadata": {
        "id": "Q_mCAn9NNwdL"
      }
    },
    {
      "cell_type": "markdown",
      "source": [
        "### Quality evaluation"
      ],
      "metadata": {
        "id": "8MYfPnJCO3Px"
      }
    },
    {
      "cell_type": "markdown",
      "source": [
        "Here we compute recall@10 for given answers and estimate the model judging by this metric using given json file. I compare results for simple indexing over chunks and indexing with reranker to see if it makes difference."
      ],
      "metadata": {
        "id": "ulJW-cD0Uw4u"
      }
    },
    {
      "cell_type": "code",
      "source": [
        "def recall_calc(predictions, answer):\n",
        "    matched = sum(any(ans in pred for pred in predictions) for ans in answer)\n",
        "    return matched / len(answer)\n",
        "\n",
        "def simple_index(question, model, index, metadata, docs, top_k = 10):\n",
        "    q_embed = np.array([model.encode(question, convert_to_tensor=False)])\n",
        "    D, I = index.search(q_embed, top_k)\n",
        "    pred = [metadata[i] for i in I[0]]\n",
        "\n",
        "\n",
        "    return pred\n",
        "\n",
        "def reranker_index(question, model, index, metadata, docs, top_k = 10):\n",
        "    top_k_files_data = search_index(question, model, index, metadata, docs, cross_encoder, top_k = 10)\n",
        "\n",
        "    top_k_files = [f['file_path'] for f in top_k_files_data]\n",
        "\n",
        "    return top_k_files\n",
        "\n",
        "def recall_from_json(ans_path, get_top_k_files, model, index, docs, metadata):\n",
        "    with open(ans_path, 'r', encoding='utf-8') as f:\n",
        "        data = json.load(f)\n",
        "\n",
        "    recalls = []\n",
        "    for item in tqdm(data):\n",
        "        question = item[\"question\"]\n",
        "        relevant_files = item[\"files\"]\n",
        "\n",
        "        top_k_files = get_top_k_files(question, model, index, metadata, docs, top_k = 10)\n",
        "\n",
        "        recall = recall_calc(top_k_files, relevant_files)\n",
        "        recalls.append(recall)\n",
        "\n",
        "        print(f\"Question: {question}\")\n",
        "        print(f\"Recall@10: {recall:.2f}\")\n",
        "        print(f\"Answer: {relevant_files}\")\n",
        "        print(f\"Prediction: {top_k_files[:10]}\\n\")\n",
        "\n",
        "    avg_recall = sum(recalls) / len(recalls)\n",
        "    print(f\"\\n Average Recall@10: {avg_recall:.2f}\")\n",
        "\n",
        "    return avg_recall"
      ],
      "metadata": {
        "id": "CxGbA-J0lu-J"
      },
      "execution_count": 27,
      "outputs": []
    },
    {
      "cell_type": "code",
      "source": [
        "model = SentenceTransformer('all-MiniLM-L6-v2')"
      ],
      "metadata": {
        "id": "zUBLsunESm0B"
      },
      "execution_count": 24,
      "outputs": []
    },
    {
      "cell_type": "markdown",
      "source": [
        "The result for simple top-10 index selection:"
      ],
      "metadata": {
        "id": "bwmG7WU8WF1e"
      }
    },
    {
      "cell_type": "code",
      "source": [
        "recall_from_json('/content/escrcpy-commits-generated.json', simple_index, model, index, docs, metadata)"
      ],
      "metadata": {
        "colab": {
          "base_uri": "https://localhost:8080/"
        },
        "id": "KOlwmw1gmckB",
        "outputId": "a12fb4b3-d8fe-4a0a-8ab8-11d8639261e9"
      },
      "execution_count": 25,
      "outputs": [
        {
          "output_type": "stream",
          "name": "stderr",
          "text": [
            " 41%|████      | 14/34 [00:00<00:00, 63.69it/s]"
          ]
        },
        {
          "output_type": "stream",
          "name": "stdout",
          "text": [
            "Question: How does the SelectDisplay component handle the device options when retrieving display IDs?\n",
            "Recall@10: 1.00\n",
            "Answer: ['src/components/PreferenceForm/components/SelectDisplay/index.vue']\n",
            "Prediction: ['git_rep/src/components/PreferenceForm/components/SelectDisplay/index.vue::chunk_1', 'git_rep/src/components/PreferenceForm/components/SelectDisplay/index.vue::chunk_0', 'git_rep/src/components/PreferenceForm/components/SelectAudioCodec/index.vue::chunk_0', 'git_rep/src/components/PreferenceForm/components/SelectVideoCodec/index.vue::chunk_0', 'git_rep/src/pages/preference/components/ScopeSelect/index.vue::chunk_1', 'git_rep/docs/en/reference/scrcpy/video.md::chunk_8', 'git_rep/src/components/PreferenceForm/components/SelectVideoCodec/index.vue::chunk_1', 'git_rep/src/locales/languages/en-US.json::chunk_23', 'git_rep/electron/resources/extra/mac-x64/scrcpy/scrcpy.1::chunk_15', 'git_rep/electron/resources/extra/mac-arm64/scrcpy/scrcpy.1::chunk_15']\n",
            "\n",
            "Question: How does the repository handle IPv6 addresses in ADB commands?\n",
            "Recall@10: 1.00\n",
            "Answer: ['electron/exposes/adb/helpers/index.js', 'electron/exposes/adb/index.js']\n",
            "Prediction: ['git_rep/electron/exposes/adb/index.js::chunk_10', 'git_rep/electron/exposes/adb/helpers/index.js::chunk_0', 'git_rep/docs/en/reference/gnirehtet/index.md::chunk_0', 'git_rep/docs/zhHans/reference/gnirehtet/index.md::chunk_0', 'git_rep/docs/zhHans/reference/scrcpy/connection.md::chunk_4', 'git_rep/docs/en/reference/scrcpy/tunnels.md::chunk_0', 'git_rep/docs/zhHans/reference/scrcpy/connection.md::chunk_5', 'git_rep/docs/zhHans/reference/scrcpy/tunnels.md::chunk_0', 'git_rep/docs/en/reference/scrcpy/connection.md::chunk_4', 'git_rep/docs/zhHans/reference/scrcpy/develop.md::chunk_33']\n",
            "\n",
            "Question: How does the edge hiding and snapping mechanism work for a window instance?\n",
            "Recall@10: 1.00\n",
            "Answer: ['electron/helpers/edger/index.js']\n",
            "Prediction: ['git_rep/electron/main.js::chunk_3', 'git_rep/docs/zhHans/guide/milestones.md::chunk_2', 'git_rep/electron/helpers/edger/index.js::chunk_20', 'git_rep/electron/helpers/edger/index.js::chunk_0', 'git_rep/electron/helpers/edger/index.js::chunk_15', 'git_rep/electron/helpers/edger/index.js::chunk_7', 'git_rep/electron/helpers/edger/index.js::chunk_8', 'git_rep/electron/helpers/edger/index.js::chunk_1', 'git_rep/electron/helpers/edger/index.js::chunk_21', 'git_rep/electron/helpers/edger/index.js::chunk_3']\n",
            "\n",
            "Question: Unable to detect device\n",
            "Recall@10: 0.00\n",
            "Answer: ['README-CN.md', 'README-RU.md', 'README.md']\n",
            "Prediction: ['git_rep/docs/en/help/scrcpy.md::chunk_1', 'git_rep/src/locales/languages/zh-TW.json::chunk_4', 'git_rep/electron/exposes/adb/helpers/scanner/index.js::chunk_2', 'git_rep/docs/zhHans/help/scrcpy.md::chunk_2', 'git_rep/src/locales/languages/en-US.json::chunk_3', 'git_rep/docs/en/help/scrcpy.md::chunk_5', 'git_rep/docs/zhHans/help/scrcpy.md::chunk_1', 'git_rep/electron/exposes/adb/helpers/scanner/index.js::chunk_6', 'git_rep/src/locales/languages/en-US.json::chunk_10', 'git_rep/src/components/PreferenceForm/components/helper.js::chunk_0']\n",
            "\n",
            "Question: What functionality does the component provide for mirroring a device's screen?\n",
            "Recall@10: 0.00\n",
            "Answer: ['src/pages/device/components/MirrorAction/index.vue']\n",
            "Prediction: ['git_rep/docs/en/reference/scrcpy/video.md::chunk_7', 'git_rep/docs/en/guide/index.md::chunk_0', 'git_rep/docs/en/reference/scrcpy/keyboard.md::chunk_3', 'git_rep/docs/en/reference/scrcpy/video.md::chunk_8', 'git_rep/docs/en/reference/scrcpy/device.md::chunk_2', 'git_rep/electron/resources/extra/mac-x64/scrcpy/scrcpy.1::chunk_5', 'git_rep/electron/resources/extra/mac-arm64/scrcpy/scrcpy.1::chunk_5', 'git_rep/electron/resources/extra/linux-x64/scrcpy/scrcpy.1::chunk_5', 'git_rep/src/composables/useMirrorAction/index.js::chunk_1', 'git_rep/docs/en/guide/operation.md::chunk_0']\n",
            "\n",
            "Question: How is the functionality for storing and managing Scrcpy IP type configuration implemented?\n",
            "Recall@10: 0.00\n",
            "Answer: ['electron/exposes/scrcpy/helper.js', 'electron/helpers/store.js', 'src/store/preference/helpers/index.js', 'src/store/preference/index.js']\n",
            "Prediction: ['git_rep/docs/en/reference/scrcpy/linux.md::chunk_0', 'git_rep/electron/resources/extra/mac-x64/scrcpy/scrcpy.1::chunk_16', 'git_rep/electron/resources/extra/mac-arm64/scrcpy/scrcpy.1::chunk_16', 'git_rep/electron/resources/extra/linux-x64/scrcpy/scrcpy.1::chunk_16', 'git_rep/docs/en/reference/scrcpy/develop.md::chunk_25', 'git_rep/docs/en/reference/scrcpy/build.md::chunk_8', 'git_rep/docs/en/reference/scrcpy/develop.md::chunk_7', 'git_rep/docs/en/reference/scrcpy/connection.md::chunk_0', 'git_rep/docs/en/reference/scrcpy/develop.md::chunk_6', 'git_rep/docs/en/reference/scrcpy/develop.md::chunk_21']\n",
            "\n",
            "Question: What are the common user interface labels and messages implemented in Traditional Chinese?\n",
            "Recall@10: 1.00\n",
            "Answer: ['src/locales/languages/zh-TW.json']\n",
            "Prediction: ['git_rep/docs/zhHans/help/escrcpy.md::chunk_1', 'git_rep/docs/zhHans/index.md::chunk_3', 'git_rep/docs/zhHans/guide/operation.md::chunk_0', 'git_rep/docs/en/guide/milestones.md::chunk_1', 'git_rep/src/locales/languages/zh-TW.json::chunk_2', 'git_rep/README-CN.md::chunk_2', 'git_rep/docs/zhHans/reference/scrcpy/develop.md::chunk_27', 'git_rep/docs/zhHans/guide/operation.md::chunk_1', 'git_rep/src/locales/languages/zh-TW.json::chunk_46', 'git_rep/src/locales/languages/zh-CN.json::chunk_9']\n",
            "\n",
            "Question: How is the wireless connection screen layout managed and updated across the application?\n",
            "Recall@10: 0.00\n",
            "Answer: ['src/pages/device/index.vue']\n",
            "Prediction: ['git_rep/README.md::chunk_1', 'git_rep/docs/en/guide/preferences.md::chunk_0', 'git_rep/docs/en/index.md::chunk_1', 'git_rep/CHANGELOG.md::chunk_49', 'git_rep/src/locales/languages/en-US.json::chunk_7', 'git_rep/docs/en/reference/scrcpy/develop.md::chunk_20', 'git_rep/docs/en/guide/index.md::chunk_1', 'git_rep/src/locales/languages/en-US.json::chunk_15', 'git_rep/docs/en/reference/scrcpy/develop.md::chunk_9', 'git_rep/CHANGELOG.md::chunk_11']\n",
            "\n",
            "Question: How is the wireless pairing dialog functionality implemented?\n",
            "Recall@10: 0.00\n",
            "Answer: ['src/pages/device/components/WirelessGroup/PairDialog/index.vue']\n",
            "Prediction: ['git_rep/src/locales/languages/en-US.json::chunk_7', 'git_rep/src/utils/device/generateAdbPairingQR/index.js::chunk_0', 'git_rep/src/locales/languages/en-US.json::chunk_8', 'git_rep/src/locales/languages/zh-CN.json::chunk_6', 'git_rep/src/locales/languages/en-US.json::chunk_5', 'git_rep/docs/en/help/escrcpy.md::chunk_1', 'git_rep/src/locales/languages/zh-TW.json::chunk_7', 'git_rep/src/locales/languages/zh-CN.json::chunk_5', 'git_rep/src/locales/languages/en-US.json::chunk_6', 'git_rep/src/pages/device/components/WirelessGroup/index.vue::chunk_9']\n",
            "\n",
            "Question: How is the sponsor dialog implemented to display sponsorship images dynamically?\n",
            "Recall@10: 1.00\n",
            "Answer: ['src/pages/about/components/SponsorDialog/index.vue']\n",
            "Prediction: ['git_rep/src/pages/about/components/SponsorDialog/index.vue::chunk_0', 'git_rep/README.md::chunk_5', 'git_rep/src/pages/about/index.vue::chunk_2', 'git_rep/docs/en/donate.md::chunk_0', 'git_rep/src/pages/about/components/SponsorDialog/index.vue::chunk_1', 'git_rep/README-RU.md::chunk_7', 'git_rep/src/pages/device/components/DevicePopover/index.vue::chunk_0', 'git_rep/docs/zhHans/donate.md::chunk_0', 'git_rep/src/pages/device/components/DevicePopover/index.vue::chunk_1', 'git_rep/README-CN.md::chunk_6']\n",
            "\n",
            "Question: What workflows support manual triggering in the repository?\n",
            "Recall@10: 0.00\n",
            "Answer: ['.github/workflows/release-assets.yml', '.github/workflows/sync-gitee.yml', '.github/workflows/sync-homebrew.yml']\n",
            "Prediction: ['git_rep/dev-publish.yml::chunk_0', 'git_rep/CHANGELOG.md::chunk_65', 'git_rep/CHANGELOG.md::chunk_79', 'git_rep/CHANGELOG.md::chunk_95', 'git_rep/README.md::chunk_3', 'git_rep/CHANGELOG.md::chunk_75', 'git_rep/CHANGELOG.md::chunk_58', 'git_rep/CHANGELOG.md::chunk_139', 'git_rep/CHANGELOG.md::chunk_32', 'git_rep/electron/ipc/updater/index.js::chunk_2']\n",
            "\n",
            "Question: How does the application determine the file path for the scrcpy executable based on the operating system and architecture?\n",
            "Recall@10: 1.00\n",
            "Answer: ['electron/configs/scrcpy/index.js']\n",
            "Prediction: ['git_rep/docs/en/reference/scrcpy/linux.md::chunk_0', 'git_rep/docs/en/reference/scrcpy/build.md::chunk_9', 'git_rep/docs/en/reference/scrcpy/develop.md::chunk_7', 'git_rep/docs/en/reference/scrcpy/linux.md::chunk_3', 'git_rep/docs/en/reference/scrcpy/develop.md::chunk_18', 'git_rep/docs/en/reference/scrcpy/windows.md::chunk_0', 'git_rep/docs/en/reference/scrcpy/control.md::chunk_6', 'git_rep/docs/en/reference/scrcpy/build.md::chunk_7', 'git_rep/electron/configs/scrcpy/index.js::chunk_0', 'git_rep/docs/en/reference/scrcpy/develop.md::chunk_0']\n",
            "\n",
            "Question: What is the purpose of the configuration specified in the version management file?\n",
            "Recall@10: 0.00\n",
            "Answer: ['.nvmdrc']\n",
            "Prediction: ['git_rep/docs/en/guide/milestones.md::chunk_0', 'git_rep/docs/en/guide/milestones.md::chunk_1', 'git_rep/LICENSE::chunk_1', 'git_rep/docs/en/reference/gnirehtet/index.md::chunk_6', 'git_rep/LICENSE::chunk_2', 'git_rep/src/locales/languages/zh-CN.json::chunk_20', 'git_rep/src/locales/languages/zh-TW.json::chunk_24', 'git_rep/docs/en/changelog.md::chunk_0', 'git_rep/CHANGELOG.md::chunk_43', 'git_rep/CHANGELOG.md::chunk_75']\n",
            "\n",
            "Question: What parameters are available for configuring video preferences in the codebase?\n",
            "Recall@10: 1.00\n",
            "Answer: ['src/store/preference/model/video/index.js']\n",
            "Prediction: ['git_rep/src/locales/languages/zh-CN.json::chunk_25', 'git_rep/src/locales/languages/zh-TW.json::chunk_30', 'git_rep/src/locales/languages/zh-TW.json::chunk_31', 'git_rep/src/locales/languages/zh-CN.json::chunk_24', 'git_rep/src/locales/languages/en-US.json::chunk_20', 'git_rep/docs/en/guide/preferences.md::chunk_0', 'git_rep/src/store/preference/model/video/index.js::chunk_1', 'git_rep/src/locales/languages/en-US.json::chunk_21', 'git_rep/src/locales/languages/ru-RU.json::chunk_30', 'git_rep/src/store/preference/model/video/index.js::chunk_0']\n",
            "\n"
          ]
        },
        {
          "output_type": "stream",
          "name": "stderr",
          "text": [
            "\r 62%|██████▏   | 21/34 [00:00<00:00, 62.61it/s]"
          ]
        },
        {
          "output_type": "stream",
          "name": "stdout",
          "text": [
            "Question: How are scheduled task timer types and time units defined in the repository?\n",
            "Recall@10: 1.00\n",
            "Answer: ['src/dicts/tasks/index.js']\n",
            "Prediction: ['git_rep/src/locales/languages/ru-RU.json::chunk_6', 'git_rep/src/dicts/tasks/index.js::chunk_0', 'git_rep/src/store/task/index.js::chunk_1', 'git_rep/src/locales/languages/zh-TW.json::chunk_5', 'git_rep/src/locales/languages/ru-RU.json::chunk_2', 'git_rep/src/locales/languages/en-US.json::chunk_4', 'git_rep/src/locales/languages/zh-CN.json::chunk_4', 'git_rep/CHANGELOG.md::chunk_47', 'git_rep/src/store/task/index.js::chunk_2', 'git_rep/src/store/task/index.js::chunk_0']\n",
            "\n",
            "Question: What configuration should domestic users apply to resolve dependency installation issues?\n",
            "Recall@10: 0.00\n",
            "Answer: ['.npmrc.CN']\n",
            "Prediction: ['git_rep/CHANGELOG.md::chunk_17', 'git_rep/docs/en/reference/scrcpy/build.md::chunk_2', 'git_rep/CHANGELOG.md::chunk_8', 'git_rep/CHANGELOG.md::chunk_104', 'git_rep/docs/en/reference/scrcpy/build.md::chunk_4', 'git_rep/docs/en/help/escrcpy.md::chunk_6', 'git_rep/CHANGELOG.md::chunk_27', 'git_rep/CHANGELOG.md::chunk_26', 'git_rep/LICENSE::chunk_10', 'git_rep/docs/en/reference/scrcpy/build.md::chunk_5']\n",
            "\n",
            "Question: What are the available localized string keys and their corresponding Russian translations in the project?\n",
            "Recall@10: 1.00\n",
            "Answer: ['src/locales/languages/ru-RU.json']\n",
            "Prediction: ['git_rep/src/locales/languages/ru-RU.json::chunk_2', 'git_rep/src/locales/languages/ru-RU.json::chunk_47', 'git_rep/src/locales/languages/ru-RU.json::chunk_48', 'git_rep/README-RU.md::chunk_4', 'git_rep/src/locales/languages/ru-RU.json::chunk_23', 'git_rep/src/locales/languages/ru-RU.json::chunk_52', 'git_rep/src/locales/languages/ru-RU.json::chunk_25', 'git_rep/README-CN.md::chunk_2', 'git_rep/src/locales/languages/ru-RU.json::chunk_35', 'git_rep/src/locales/languages/ru-RU.json::chunk_24']\n",
            "\n",
            "Question: What is the privacy policy of the app described in the repository?\n",
            "Recall@10: 1.00\n",
            "Answer: ['PRIVACY.md']\n",
            "Prediction: ['git_rep/PRIVACY.md::chunk_1', 'git_rep/PRIVACY.md::chunk_0', 'git_rep/docs/en/reference/gnirehtet/index.md::chunk_11', 'git_rep/LICENSE::chunk_3', 'git_rep/docs/en/reference/scrcpy/index.md::chunk_11', 'git_rep/electron-builder.json::chunk_3', 'git_rep/LICENSE::chunk_5', 'git_rep/dev-publish.yml::chunk_0', 'git_rep/LICENSE::chunk_8', 'git_rep/src/locales/languages/zh-TW.json::chunk_51']\n",
            "\n",
            "Question: How does the plugin integrate custom components with Element Plus features?\n",
            "Recall@10: 1.00\n",
            "Answer: ['src/plugins/element-plus/index.js']\n",
            "Prediction: ['git_rep/src/plugins/auto.js::chunk_0', 'git_rep/src/plugins/element-plus/auto.js::chunk_0', 'git_rep/vite.config.js::chunk_1', 'git_rep/src/plugins/element-plus/expands/EleFormItemCol/index.vue::chunk_0', 'git_rep/src/composables/useMessageLoading/index.js::chunk_0', 'git_rep/src/plugins/element-plus/index.js::chunk_0', 'git_rep/src/plugins/element-plus/expands/EleTooltipButton/index.vue::chunk_0', 'git_rep/src/components/QuickBar/index.vue::chunk_0', 'git_rep/vite.config.js::chunk_0', 'git_rep/src/App.vue::chunk_0']\n",
            "\n",
            "Question: What configuration is used for optimizing SVG icons in the repository?\n",
            "Recall@10: 0.00\n",
            "Answer: ['src/icons/svgo.config.js']\n",
            "Prediction: ['git_rep/src/icons/svg/wifi.svg::chunk_0', 'git_rep/src/icons/svg/multi-screen.svg::chunk_0', 'git_rep/package.json::chunk_1', 'git_rep/src/icons/components/SvgIcon.vue::chunk_0', 'git_rep/CHANGELOG.md::chunk_92', 'git_rep/docs/en/index.md::chunk_2', 'git_rep/src/icons/svg/volume-up.svg::chunk_0', 'git_rep/src/icons/svg/volume-down.svg::chunk_0', 'git_rep/src/icons/svg/command.svg::chunk_1', 'git_rep/src/icons/svg/volume-up.svg::chunk_2']\n",
            "\n",
            "Question: How is the configuration for resolving dependency installation issues specified in the project?\n",
            "Recall@10: 0.00\n",
            "Answer: ['.npmrc']\n",
            "Prediction: ['git_rep/CHANGELOG.md::chunk_17', 'git_rep/CHANGELOG.md::chunk_8', 'git_rep/docs/en/reference/scrcpy/build.md::chunk_4', 'git_rep/CHANGELOG.md::chunk_95', 'git_rep/electron-builder.json::chunk_4', 'git_rep/CHANGELOG.md::chunk_103', 'git_rep/package.json::chunk_1', 'git_rep/docs/en/reference/scrcpy/build.md::chunk_2', 'git_rep/CHANGELOG.md::chunk_75', 'git_rep/CHANGELOG.md::chunk_104']\n",
            "\n",
            "Question: What license terms and conditions govern the usage, reproduction, and distribution of the repository?\n",
            "Recall@10: 1.00\n",
            "Answer: ['LICENSE']\n",
            "Prediction: ['git_rep/LICENSE::chunk_3', 'git_rep/LICENSE::chunk_0', 'git_rep/docs/en/reference/scrcpy/index.md::chunk_11', 'git_rep/LICENSE::chunk_1', 'git_rep/LICENSE::chunk_5', 'git_rep/LICENSE::chunk_4', 'git_rep/LICENSE::chunk_2', 'git_rep/LICENSE::chunk_8', 'git_rep/LICENSE::chunk_7', 'git_rep/LICENSE::chunk_11']\n",
            "\n",
            "Question: How are ADB and scrcpy paths managed and utilized in the codebase?\n",
            "Recall@10: 0.00\n",
            "Answer: ['electron/exposes/scrcpy/index.js']\n",
            "Prediction: ['git_rep/src/locales/languages/en-US.json::chunk_17', 'git_rep/docs/zhHans/help/scrcpy.md::chunk_0', 'git_rep/docs/zhHans/reference/scrcpy/develop.md::chunk_7', 'git_rep/docs/en/reference/scrcpy/develop.md::chunk_7', 'git_rep/docs/zhHans/help/scrcpy.md::chunk_4', 'git_rep/docs/en/reference/scrcpy/build.md::chunk_0', 'git_rep/docs/en/reference/scrcpy/macos.md::chunk_1', 'git_rep/docs/zhHans/reference/scrcpy/windows.md::chunk_2', 'git_rep/docs/en/reference/scrcpy/develop.md::chunk_6', 'git_rep/docs/zhHans/reference/scrcpy/windows.md::chunk_1']\n",
            "\n",
            "Question: How does the code handle loading indicators in the Electron application?\n",
            "Recall@10: 1.00\n",
            "Answer: ['electron/loading/index.js']\n",
            "Prediction: ['git_rep/electron/exposes/gnirehtet/index.js::chunk_0', 'git_rep/electron/exposes/scrcpy/index.js::chunk_0', 'git_rep/src/components/ControlBar/Volume/index.vue::chunk_2', 'git_rep/electron/loading/index.js::chunk_1', 'git_rep/control/electron/helpers/index.js::chunk_0', 'git_rep/electron/exposes/electron/index.js::chunk_0', 'git_rep/src/utils/modal/index.js::chunk_0', 'git_rep/electron/ipc/tray/index.js::chunk_0', 'git_rep/electron/preload.js::chunk_0', 'git_rep/electron/helpers/single.js::chunk_0']\n",
            "\n",
            "Question: How does the theme store handle changes to the system theme and update the application state accordingly?\n",
            "Recall@10: 1.00\n",
            "Answer: ['src/store/theme/index.js']\n",
            "Prediction: ['git_rep/src/store/theme/index.js::chunk_0', 'git_rep/electron/ipc/theme/index.js::chunk_0', 'git_rep/src/store/theme/index.js::chunk_1', 'git_rep/src/pages/preference/index.vue::chunk_2', 'git_rep/src/store/index.js::chunk_0', 'git_rep/electron/ipc/index.js::chunk_0', 'git_rep/src/locales/languages/en-US.json::chunk_16', 'git_rep/electron/exposes/search/index.js::chunk_1', 'git_rep/CHANGELOG.md::chunk_51', 'git_rep/electron/helpers/store.js::chunk_0']\n",
            "\n",
            "Question: How is the Vite configuration structured to optimize the development environment's build performance?\n",
            "Recall@10: 1.00\n",
            "Answer: ['vite.config.js']\n",
            "Prediction: ['git_rep/jsconfig.json::chunk_0', 'git_rep/CHANGELOG.md::chunk_92', 'git_rep/CHANGELOG.md::chunk_50', 'git_rep/CHANGELOG.md::chunk_85', 'git_rep/package.json::chunk_5', 'git_rep/package.json::chunk_1', 'git_rep/develop.md::chunk_1', 'git_rep/vite.config.js::chunk_0', 'git_rep/CHANGELOG.md::chunk_54', 'git_rep/CHANGELOG.md::chunk_72']\n",
            "\n"
          ]
        },
        {
          "output_type": "stream",
          "name": "stderr",
          "text": [
            "\r 82%|████████▏ | 28/34 [00:00<00:00, 56.17it/s]"
          ]
        },
        {
          "output_type": "stream",
          "name": "stdout",
          "text": [
            "Question: How is the application bootstrap process initialized with a router in the codebase?\n",
            "Recall@10: 1.00\n",
            "Answer: ['src/main.js']\n",
            "Prediction: ['git_rep/src/main.js::chunk_0', 'git_rep/src/bootstrap/index.js::chunk_0', 'git_rep/control/index.js::chunk_0', 'git_rep/docs/en/reference/gnirehtet/api.md::chunk_4', 'git_rep/CHANGELOG.md::chunk_25', 'git_rep/CHANGELOG.md::chunk_50', 'git_rep/CHANGELOG.md::chunk_29', 'git_rep/docs/zhHans/reference/gnirehtet/api.md::chunk_5', 'git_rep/docs/en/reference/scrcpy/develop.md::chunk_4', 'git_rep/electron/exposes/adb/index.js::chunk_2']\n",
            "\n",
            "Question: How does the application determine and validate the paths for external binaries (like scrcpy, adb, and gnirehtet) at startup, and which module or file manages this logic?\n",
            "Recall@10: 0.00\n",
            "Answer: ['electron/configs/scrcpy/index.js', 'electron/configs/android-platform-tools/index.js', 'electron/configs/gnirehtet/index.js']\n",
            "Prediction: ['git_rep/docs/en/reference/scrcpy/develop.md::chunk_7', 'git_rep/docs/en/reference/gnirehtet/index.md::chunk_10', 'git_rep/docs/en/reference/scrcpy/develop.md::chunk_4', 'git_rep/electron/resources/extra/mac-x64/scrcpy/scrcpy.1::chunk_33', 'git_rep/electron/resources/extra/mac-arm64/scrcpy/scrcpy.1::chunk_33', 'git_rep/electron/resources/extra/linux-x64/scrcpy/scrcpy.1::chunk_33', 'git_rep/docs/en/reference/scrcpy/build.md::chunk_7', 'git_rep/docs/en/reference/scrcpy/develop.md::chunk_6', 'git_rep/docs/en/reference/scrcpy/linux.md::chunk_0', 'git_rep/docs/en/reference/scrcpy/develop.md::chunk_5']\n",
            "\n",
            "Question: Which parts of the source code implement the QR code scanning feature for wireless pairing, what libraries are used, and how is the scanned data processed to establish a connection?\n",
            "Recall@10: 0.33\n",
            "Answer: ['src/utils/device/generateAdbPairingQR/index.js', 'src/pages/device/components/WirelessGroup/QrAction/index.vue', 'package.json']\n",
            "Prediction: ['git_rep/src/utils/device/generateAdbPairingQR/index.js::chunk_0', 'git_rep/src/locales/languages/en-US.json::chunk_5', 'git_rep/docs/en/guide/index.md::chunk_1', 'git_rep/src/locales/languages/zh-TW.json::chunk_7', 'git_rep/src/locales/languages/zh-CN.json::chunk_6', 'git_rep/CHANGELOG.md::chunk_13', 'git_rep/docs/en/reference/scrcpy/develop.md::chunk_22', 'git_rep/src/utils/device/generateAdbPairingQR/index.js::chunk_1', 'git_rep/src/locales/languages/zh-TW.json::chunk_10', 'git_rep/docs/en/guide/started.md::chunk_1']\n",
            "\n",
            "Question: How is the inter-process communication handled between the Electron front end and the underlying scrcpy process? Which IPC channels or events are defined in the code?\n",
            "Recall@10: 0.00\n",
            "Answer: ['electron/exposes/scrcpy/index.js', 'electron/exposes/scrcpy/helper.js', 'electron/preload.js', 'electron/exposes/index.js', 'electron/helpers/index.js', 'electron/configs/scrcpy/index.js', 'src/pages/device/components/MirrorAction/index.vue', 'src/components/QuickBar/components/Terminal/components/TerminalDialog/composables/scrcpy.js', 'src/store/preference/index.js', 'src/bootstrap/default/index.js']\n",
            "Prediction: ['git_rep/docs/en/reference/scrcpy/develop.md::chunk_0', 'git_rep/docs/en/reference/scrcpy/develop.md::chunk_8', 'git_rep/docs/en/reference/scrcpy/develop.md::chunk_18', 'git_rep/docs/en/reference/scrcpy/develop.md::chunk_24', 'git_rep/docs/en/reference/scrcpy/develop.md::chunk_14', 'git_rep/docs/en/reference/scrcpy/develop.md::chunk_19', 'git_rep/docs/en/reference/scrcpy/develop.md::chunk_20', 'git_rep/docs/en/reference/scrcpy/develop.md::chunk_22', 'git_rep/docs/en/reference/scrcpy/index.md::chunk_9', 'git_rep/docs/en/reference/scrcpy/develop.md::chunk_2']\n",
            "\n",
            "Question: Where in the codebase are the user preference configurations (for video, audio, window controls, etc.) defined and saved, and how are these settings applied to the mirroring process?\n",
            "Recall@10: 0.00\n",
            "Answer: ['src/store/preference/model/video/index.js', 'src/store/preference/model/audio/index.js', 'src/store/preference/model/window/index.js', 'src/store/preference/model/device/index.js', 'src/store/preference/model/input/index.js', 'src/store/preference/model/record/index.js', 'src/store/preference/model/common/index.js', 'src/pages/device/components/MirrorAction/index.vue']\n",
            "Prediction: ['git_rep/docs/en/guide/preferences.md::chunk_1', 'git_rep/docs/en/guide/preferences.md::chunk_0', 'git_rep/docs/en/reference/scrcpy/video.md::chunk_7', 'git_rep/src/locales/languages/zh-TW.json::chunk_29', 'git_rep/src/locales/languages/en-US.json::chunk_26', 'git_rep/src/locales/languages/en-US.json::chunk_19', 'git_rep/docs/en/guide/milestones.md::chunk_0', 'git_rep/src/locales/languages/zh-TW.json::chunk_30', 'git_rep/electron/resources/extra/mac-x64/scrcpy/scrcpy.1::chunk_16', 'git_rep/electron/resources/extra/mac-arm64/scrcpy/scrcpy.1::chunk_16']\n",
            "\n",
            "Question: What is the implementation strategy for the auto-connect and auto-mirroring features? In which module or function does the logic reside, and how does it interact with device detection?\n",
            "Recall@10: 0.00\n",
            "Answer: ['src/store/preference/model/common/index.js', 'electron/configs/android-platform-tools/index.js', 'electron/configs/scrcpy/index.js', 'src/store/preference/model/video/index.js', 'src/utils/device/generateAdbPairingQR/index.js', 'src/pages/device/components/WirelessGroup/QrAction/index.vue']\n",
            "Prediction: ['git_rep/docs/en/reference/scrcpy/mouse.md::chunk_3', 'git_rep/src/locales/languages/en-US.json::chunk_19', 'git_rep/src/locales/languages/en-US.json::chunk_13', 'git_rep/docs/en/guide/milestones.md::chunk_0', 'git_rep/README.md::chunk_1', 'git_rep/docs/en/reference/scrcpy/keyboard.md::chunk_3', 'git_rep/docs/en/index.md::chunk_1', 'git_rep/docs/en/guide/index.md::chunk_1', 'git_rep/docs/en/reference/scrcpy/keyboard.md::chunk_5', 'git_rep/docs/en/guide/operation.md::chunk_0']\n",
            "\n",
            "Question: How are batch processing operations (such as batch file management, batch app installation, and execution of scripts) implemented in the source code? Which parts handle the scheduling and execution of these tasks?\n",
            "Recall@10: 0.00\n",
            "Answer: ['src/composables/useFileActions/index.js', 'src/composables/useInstallAction/index.js', 'src/composables/useShellAction/index.js', 'src/store/task/index.js']\n",
            "Prediction: ['git_rep/docs/en/guide/operation.md::chunk_0', 'git_rep/docs/en/guide/milestones.md::chunk_1', 'git_rep/docs/en/guide/milestones.md::chunk_0', 'git_rep/CHANGELOG.md::chunk_52', 'git_rep/CHANGELOG.md::chunk_86', 'git_rep/docs/en/reference/gnirehtet/index.md::chunk_6', 'git_rep/docs/en/reference/scrcpy/develop.md::chunk_0', 'git_rep/docs/zhHans/reference/scrcpy/windows.md::chunk_4', 'git_rep/docs/zhHans/reference/scrcpy/windows.md::chunk_3', 'git_rep/README-CN.md::chunk_4']\n",
            "\n"
          ]
        },
        {
          "output_type": "stream",
          "name": "stderr",
          "text": [
            "100%|██████████| 34/34 [00:00<00:00, 50.33it/s]"
          ]
        },
        {
          "output_type": "stream",
          "name": "stdout",
          "text": [
            "Question: Which file or module is responsible for mapping user shortcuts (for device control actions like home, back, screenshot, etc.) to the underlying adb or scrcpy commands, and how can these mappings be customized?\n",
            "Recall@10: 0.00\n",
            "Answer: ['electron/resources/extra/linux/scrcpy/scrcpy.1', 'src/store/preference/model/input/index.js', 'src/components/PreferenceForm/components/SelectKeyboardInject/index.vue']\n",
            "Prediction: ['git_rep/src/locales/languages/en-US.json::chunk_17', 'git_rep/docs/en/reference/scrcpy/shortcuts.md::chunk_0', 'git_rep/electron/resources/extra/mac-x64/scrcpy/scrcpy.1::chunk_23', 'git_rep/electron/resources/extra/mac-arm64/scrcpy/scrcpy.1::chunk_23', 'git_rep/electron/resources/extra/linux-x64/scrcpy/scrcpy.1::chunk_23', 'git_rep/docs/en/reference/scrcpy/mouse.md::chunk_5', 'git_rep/docs/en/reference/scrcpy/index.md::chunk_8', 'git_rep/docs/en/reference/scrcpy/control.md::chunk_1', 'git_rep/docs/zhHans/reference/scrcpy/keyboard.md::chunk_4', 'git_rep/electron/resources/extra/mac-x64/scrcpy/scrcpy.1::chunk_11']\n",
            "\n",
            "\n",
            " Average Recall@10: 0.48\n"
          ]
        },
        {
          "output_type": "stream",
          "name": "stderr",
          "text": [
            "\n"
          ]
        },
        {
          "output_type": "execute_result",
          "data": {
            "text/plain": [
              "0.48039215686274506"
            ]
          },
          "metadata": {},
          "execution_count": 25
        }
      ]
    },
    {
      "cell_type": "markdown",
      "source": [
        "The result for index selection with reranker:"
      ],
      "metadata": {
        "id": "_-QlD4pWTtCd"
      }
    },
    {
      "cell_type": "code",
      "source": [
        "recall_from_json('/content/escrcpy-commits-generated.json', reranker_index, model, index, docs, metadata)"
      ],
      "metadata": {
        "colab": {
          "base_uri": "https://localhost:8080/"
        },
        "id": "db3TVQSNTIk8",
        "outputId": "110ce88d-6578-4814-b4f0-680e292ba7fd"
      },
      "execution_count": 28,
      "outputs": [
        {
          "output_type": "stream",
          "name": "stderr",
          "text": [
            "  3%|▎         | 1/34 [00:14<08:03, 14.64s/it]"
          ]
        },
        {
          "output_type": "stream",
          "name": "stdout",
          "text": [
            "Question: How does the SelectDisplay component handle the device options when retrieving display IDs?\n",
            "Recall@10: 1.00\n",
            "Answer: ['src/components/PreferenceForm/components/SelectDisplay/index.vue']\n",
            "Prediction: ['git_rep/electron/exposes/scrcpy/index.js', 'git_rep/docs/en/reference/scrcpy/video.md', 'git_rep/src/components/PreferenceForm/components/SelectDisplay/index.vue', 'git_rep/control/App.vue', 'git_rep/src/pages/preference/index.vue', 'git_rep/src/pages/device/index.vue', 'git_rep/src/store/preference/model/device/index.js', 'git_rep/src/pages/preference/components/ScopeSelect/index.vue', 'git_rep/src/composables/useMirrorAction/index.js', 'git_rep/src/locales/languages/en-US.json']\n",
            "\n"
          ]
        },
        {
          "output_type": "stream",
          "name": "stderr",
          "text": [
            "\r  6%|▌         | 2/34 [00:19<04:49,  9.04s/it]"
          ]
        },
        {
          "output_type": "stream",
          "name": "stdout",
          "text": [
            "Question: How does the repository handle IPv6 addresses in ADB commands?\n",
            "Recall@10: 1.00\n",
            "Answer: ['electron/exposes/adb/helpers/index.js', 'electron/exposes/adb/index.js']\n",
            "Prediction: ['git_rep/electron/exposes/adb/index.js', 'git_rep/electron/resources/extra/mac-x64/scrcpy/scrcpy.1', 'git_rep/electron/resources/extra/mac-arm64/scrcpy/scrcpy.1', 'git_rep/electron/resources/extra/linux-x64/scrcpy/scrcpy.1', 'git_rep/docs/en/reference/scrcpy/connection.md', 'git_rep/electron/exposes/adb/helpers/index.js', 'git_rep/docs/en/reference/gnirehtet/index.md', 'git_rep/electron/exposes/adb/helpers/scanner/index.js', 'git_rep/CHANGELOG.md', 'git_rep/docs/zhHans/reference/gnirehtet/index.md']\n",
            "\n"
          ]
        },
        {
          "output_type": "stream",
          "name": "stderr",
          "text": [
            "\r  9%|▉         | 3/34 [00:28<04:39,  9.00s/it]"
          ]
        },
        {
          "output_type": "stream",
          "name": "stdout",
          "text": [
            "Question: How does the edge hiding and snapping mechanism work for a window instance?\n",
            "Recall@10: 1.00\n",
            "Answer: ['electron/helpers/edger/index.js']\n",
            "Prediction: ['git_rep/docs/en/guide/milestones.md', 'git_rep/electron/helpers/edger/index.js', 'git_rep/electron/main.js', 'git_rep/electron/ipc/app/index.js', 'git_rep/electron/helpers/single.js', 'git_rep/electron/resources/extra/mac-x64/scrcpy/scrcpy.1', 'git_rep/electron/resources/extra/mac-arm64/scrcpy/scrcpy.1', 'git_rep/electron/resources/extra/linux-x64/scrcpy/scrcpy.1', 'git_rep/docs/en/reference/scrcpy/window.md', 'git_rep/docs/en/reference/scrcpy/develop.md']\n",
            "\n"
          ]
        },
        {
          "output_type": "stream",
          "name": "stderr",
          "text": [
            "\r 12%|█▏        | 4/34 [00:36<04:13,  8.46s/it]"
          ]
        },
        {
          "output_type": "stream",
          "name": "stdout",
          "text": [
            "Question: Unable to detect device\n",
            "Recall@10: 0.00\n",
            "Answer: ['README-CN.md', 'README-RU.md', 'README.md']\n",
            "Prediction: ['git_rep/docs/en/help/escrcpy.md', 'git_rep/src/locales/languages/en-US.json', 'git_rep/docs/en/help/scrcpy.md', 'git_rep/docs/en/guide/started.md', 'git_rep/src/locales/languages/ru-RU.json', 'git_rep/src/pages/device/index.vue', 'git_rep/docs/zhHans/help/scrcpy.md', 'git_rep/electron/exposes/adb/helpers/scanner/index.js', 'git_rep/src/locales/languages/zh-TW.json', 'git_rep/src/composables/useInstallAction/index.js']\n",
            "\n"
          ]
        },
        {
          "output_type": "stream",
          "name": "stderr",
          "text": [
            "\r 15%|█▍        | 5/34 [00:42<03:36,  7.45s/it]"
          ]
        },
        {
          "output_type": "stream",
          "name": "stdout",
          "text": [
            "Question: What functionality does the component provide for mirroring a device's screen?\n",
            "Recall@10: 0.00\n",
            "Answer: ['src/pages/device/components/MirrorAction/index.vue']\n",
            "Prediction: ['git_rep/docs/en/reference/scrcpy/device.md', 'git_rep/docs/en/guide/index.md', 'git_rep/docs/en/reference/scrcpy/index.md', 'git_rep/docs/en/guide/preferences.md', 'git_rep/docs/en/reference/scrcpy/gamepad.md', 'git_rep/src/pages/device/components/BatchActions/index.vue', 'git_rep/docs/en/reference/scrcpy/video.md', 'git_rep/docs/en/reference/scrcpy/keyboard.md', 'git_rep/src/locales/languages/en-US.json', 'git_rep/README.md']\n",
            "\n"
          ]
        },
        {
          "output_type": "stream",
          "name": "stderr",
          "text": [
            "\r 18%|█▊        | 6/34 [00:47<03:10,  6.82s/it]"
          ]
        },
        {
          "output_type": "stream",
          "name": "stdout",
          "text": [
            "Question: How is the functionality for storing and managing Scrcpy IP type configuration implemented?\n",
            "Recall@10: 0.00\n",
            "Answer: ['electron/exposes/scrcpy/helper.js', 'electron/helpers/store.js', 'src/store/preference/helpers/index.js', 'src/store/preference/index.js']\n",
            "Prediction: ['git_rep/docs/en/reference/scrcpy/build.md', 'git_rep/docs/en/reference/scrcpy/connection.md', 'git_rep/docs/en/reference/scrcpy/device.md', 'git_rep/docs/en/reference/scrcpy/develop.md', 'git_rep/docs/en/reference/scrcpy/macos.md', 'git_rep/docs/en/reference/scrcpy/tunnels.md', 'git_rep/CHANGELOG.md', 'git_rep/docs/en/reference/scrcpy/linux.md', 'git_rep/docs/en/reference/scrcpy/index.md', 'git_rep/docs/zhHans/reference/scrcpy/build.md']\n",
            "\n"
          ]
        },
        {
          "output_type": "stream",
          "name": "stderr",
          "text": [
            "\r 21%|██        | 7/34 [00:54<03:06,  6.91s/it]"
          ]
        },
        {
          "output_type": "stream",
          "name": "stdout",
          "text": [
            "Question: What are the common user interface labels and messages implemented in Traditional Chinese?\n",
            "Recall@10: 1.00\n",
            "Answer: ['src/locales/languages/zh-TW.json']\n",
            "Prediction: ['git_rep/docs/zhHans/reference/scrcpy/keyboard.md', 'git_rep/docs/zhHans/reference/scrcpy/develop.md', 'git_rep/docs/zhHans/help/escrcpy.md', 'git_rep/docs/zhHans/guide/milestones.md', 'git_rep/docs/zhHans/reference/scrcpy/gamepad.md', 'git_rep/docs/zhHans/reference/scrcpy/mouse.md', 'git_rep/src/locales/languages/ru-RU.json', 'git_rep/docs/zhHans/guide/operation.md', 'git_rep/docs/zhHans/guide/index.md', 'git_rep/src/locales/languages/zh-TW.json']\n",
            "\n"
          ]
        },
        {
          "output_type": "stream",
          "name": "stderr",
          "text": [
            "\r 24%|██▎       | 8/34 [01:01<03:00,  6.95s/it]"
          ]
        },
        {
          "output_type": "stream",
          "name": "stdout",
          "text": [
            "Question: How is the wireless connection screen layout managed and updated across the application?\n",
            "Recall@10: 0.00\n",
            "Answer: ['src/pages/device/index.vue']\n",
            "Prediction: ['git_rep/CHANGELOG.md', 'git_rep/docs/en/guide/index.md', 'git_rep/docs/en/index.md', 'git_rep/README.md', 'git_rep/docs/en/guide/milestones.md', 'git_rep/src/pages/device/components/WirelessGroup/index.vue', 'git_rep/docs/en/reference/scrcpy/connection.md', 'git_rep/src/locales/languages/ru-RU.json', 'git_rep/src/locales/languages/en-US.json', 'git_rep/docs/en/reference/scrcpy/develop.md']\n",
            "\n"
          ]
        },
        {
          "output_type": "stream",
          "name": "stderr",
          "text": [
            "\r 26%|██▋       | 9/34 [01:10<03:11,  7.65s/it]"
          ]
        },
        {
          "output_type": "stream",
          "name": "stdout",
          "text": [
            "Question: How is the wireless pairing dialog functionality implemented?\n",
            "Recall@10: 1.00\n",
            "Answer: ['src/pages/device/components/WirelessGroup/PairDialog/index.vue']\n",
            "Prediction: ['git_rep/src/pages/device/components/WirelessGroup/PairDialog/index.vue', 'git_rep/docs/en/help/escrcpy.md', 'git_rep/docs/en/guide/started.md', 'git_rep/src/locales/languages/en-US.json', 'git_rep/src/locales/languages/ru-RU.json', 'git_rep/src/pages/device/components/WirelessGroup/index.vue', 'git_rep/src/utils/device/generateAdbPairingQR/index.js', 'git_rep/src/locales/languages/zh-CN.json', 'git_rep/src/locales/languages/zh-TW.json', 'git_rep/docs/en/guide/index.md']\n",
            "\n"
          ]
        },
        {
          "output_type": "stream",
          "name": "stderr",
          "text": [
            "\r 29%|██▉       | 10/34 [01:22<03:30,  8.79s/it]"
          ]
        },
        {
          "output_type": "stream",
          "name": "stdout",
          "text": [
            "Question: How is the sponsor dialog implemented to display sponsorship images dynamically?\n",
            "Recall@10: 1.00\n",
            "Answer: ['src/pages/about/components/SponsorDialog/index.vue']\n",
            "Prediction: ['git_rep/src/pages/about/index.vue', 'git_rep/src/pages/about/components/SponsorDialog/index.vue', 'git_rep/README-CN.md', 'git_rep/docs/zhHans/donate.md', 'git_rep/docs/en/donate.md', 'git_rep/README-RU.md', 'git_rep/README.md', 'git_rep/src/components/ControlBar/FileManage/FileDialog/index.vue', 'git_rep/src/components/QuickBar/components/Terminal/components/TerminalDialog/index.vue', 'git_rep/src/plugins/element-plus/restyle.css']\n",
            "\n"
          ]
        },
        {
          "output_type": "stream",
          "name": "stderr",
          "text": [
            "\r 32%|███▏      | 11/34 [01:29<03:11,  8.32s/it]"
          ]
        },
        {
          "output_type": "stream",
          "name": "stdout",
          "text": [
            "Question: What workflows support manual triggering in the repository?\n",
            "Recall@10: 0.00\n",
            "Answer: ['.github/workflows/release-assets.yml', '.github/workflows/sync-gitee.yml', '.github/workflows/sync-homebrew.yml']\n",
            "Prediction: ['git_rep/CHANGELOG.md', 'git_rep/docs/en/reference/scrcpy/index.md', 'git_rep/docs/en/reference/scrcpy/mouse.md', 'git_rep/docs/en/reference/scrcpy/develop.md', 'git_rep/README.md', 'git_rep/electron/ipc/updater/index.js', 'git_rep/README-CN.md', 'git_rep/docs/en/guide/milestones.md', 'git_rep/docs/en/reference/index.md', 'git_rep/docs/zhHans/reference/scrcpy/linux.md']\n",
            "\n"
          ]
        },
        {
          "output_type": "stream",
          "name": "stderr",
          "text": [
            "\r 35%|███▌      | 12/34 [01:34<02:42,  7.37s/it]"
          ]
        },
        {
          "output_type": "stream",
          "name": "stdout",
          "text": [
            "Question: How does the application determine the file path for the scrcpy executable based on the operating system and architecture?\n",
            "Recall@10: 1.00\n",
            "Answer: ['electron/configs/scrcpy/index.js']\n",
            "Prediction: ['git_rep/docs/en/reference/scrcpy/index.md', 'git_rep/electron/resources/extra/mac-x64/scrcpy/scrcpy.1', 'git_rep/electron/resources/extra/mac-arm64/scrcpy/scrcpy.1', 'git_rep/electron/resources/extra/linux-x64/scrcpy/scrcpy.1', 'git_rep/electron/configs/scrcpy/index.js', 'git_rep/docs/en/reference/scrcpy/build.md', 'git_rep/docs/en/reference/scrcpy/control.md', 'git_rep/docs/en/reference/scrcpy/macos.md', 'git_rep/docs/en/reference/scrcpy/linux.md', 'git_rep/electron/exposes/scrcpy/index.js']\n",
            "\n"
          ]
        },
        {
          "output_type": "stream",
          "name": "stderr",
          "text": [
            "\r 38%|███▊      | 13/34 [01:41<02:31,  7.21s/it]"
          ]
        },
        {
          "output_type": "stream",
          "name": "stdout",
          "text": [
            "Question: What is the purpose of the configuration specified in the version management file?\n",
            "Recall@10: 0.00\n",
            "Answer: ['.nvmdrc']\n",
            "Prediction: ['git_rep/docs/en/guide/milestones.md', 'git_rep/LICENSE', 'git_rep/CHANGELOG.md', 'git_rep/docs/en/changelog.md', 'git_rep/electron-builder.json', 'git_rep/docs/en/reference/scrcpy/develop.md', 'git_rep/electron/ipc/updater/index.js', 'git_rep/src/locales/languages/en-US.json', 'git_rep/src/locales/languages/zh-CN.json', 'git_rep/src/locales/languages/ru-RU.json']\n",
            "\n"
          ]
        },
        {
          "output_type": "stream",
          "name": "stderr",
          "text": [
            "\r 41%|████      | 14/34 [01:48<02:23,  7.17s/it]"
          ]
        },
        {
          "output_type": "stream",
          "name": "stdout",
          "text": [
            "Question: What parameters are available for configuring video preferences in the codebase?\n",
            "Recall@10: 1.00\n",
            "Answer: ['src/store/preference/model/video/index.js']\n",
            "Prediction: ['git_rep/docs/en/guide/preferences.md', 'git_rep/src/store/preference/model/video/index.js', 'git_rep/src/locales/languages/en-US.json', 'git_rep/src/components/PreferenceForm/components/SelectVideoCodec/index.vue', 'git_rep/src/locales/languages/zh-CN.json', 'git_rep/electron/resources/extra/mac-x64/scrcpy/scrcpy.1', 'git_rep/electron/resources/extra/mac-arm64/scrcpy/scrcpy.1', 'git_rep/electron/resources/extra/linux-x64/scrcpy/scrcpy.1', 'git_rep/src/store/preference/model/input/index.js', 'git_rep/src/store/preference/model/record/index.js']\n",
            "\n"
          ]
        },
        {
          "output_type": "stream",
          "name": "stderr",
          "text": [
            "\r 44%|████▍     | 15/34 [01:56<02:22,  7.48s/it]"
          ]
        },
        {
          "output_type": "stream",
          "name": "stdout",
          "text": [
            "Question: How are scheduled task timer types and time units defined in the repository?\n",
            "Recall@10: 1.00\n",
            "Answer: ['src/dicts/tasks/index.js']\n",
            "Prediction: ['git_rep/src/dicts/tasks/index.js', 'git_rep/src/locales/languages/en-US.json', 'git_rep/src/store/task/index.js', 'git_rep/src/components/TaskListDialog/index.vue', 'git_rep/src/components/TaskDialog/index.vue', 'git_rep/src/locales/languages/ru-RU.json', 'git_rep/CHANGELOG.md', 'git_rep/src/locales/languages/zh-TW.json', 'git_rep/src/locales/languages/zh-CN.json', 'git_rep/docs/en/guide/operation.md']\n",
            "\n"
          ]
        },
        {
          "output_type": "stream",
          "name": "stderr",
          "text": [
            "\r 47%|████▋     | 16/34 [02:01<01:56,  6.50s/it]"
          ]
        },
        {
          "output_type": "stream",
          "name": "stdout",
          "text": [
            "Question: What configuration should domestic users apply to resolve dependency installation issues?\n",
            "Recall@10: 0.00\n",
            "Answer: ['.npmrc.CN']\n",
            "Prediction: ['git_rep/CHANGELOG.md', 'git_rep/docs/en/help/escrcpy.md', 'git_rep/docs/en/reference/scrcpy/build.md', 'git_rep/develop.md', 'git_rep/src/pages/device/components/BatchActions/Application/index.vue', 'git_rep/package.json', 'git_rep/docs/en/reference/scrcpy/linux.md', 'git_rep/docs/zhHans/reference/scrcpy/build.md', 'git_rep/README.md', 'git_rep/docs/zhHans/reference/gnirehtet/index.md']\n",
            "\n"
          ]
        },
        {
          "output_type": "stream",
          "name": "stderr",
          "text": [
            "\r 50%|█████     | 17/34 [02:05<01:39,  5.85s/it]"
          ]
        },
        {
          "output_type": "stream",
          "name": "stdout",
          "text": [
            "Question: What are the available localized string keys and their corresponding Russian translations in the project?\n",
            "Recall@10: 1.00\n",
            "Answer: ['src/locales/languages/ru-RU.json']\n",
            "Prediction: ['git_rep/README-RU.md', 'git_rep/docs/zhHans/reference/scrcpy/keyboard.md', 'git_rep/docs/zhHans/help/escrcpy.md', 'git_rep/README-CN.md', 'git_rep/src/locales/languages/zh-CN.json', 'git_rep/src/locales/languages/ru-RU.json', 'git_rep/docs/zhHans/guide/started.md', 'git_rep/docs/zhHans/guide/operation.md', 'git_rep/CHANGELOG.md', 'git_rep/src/locales/languages/zh-TW.json']\n",
            "\n"
          ]
        },
        {
          "output_type": "stream",
          "name": "stderr",
          "text": [
            "\r 53%|█████▎    | 18/34 [02:12<01:38,  6.19s/it]"
          ]
        },
        {
          "output_type": "stream",
          "name": "stdout",
          "text": [
            "Question: What is the privacy policy of the app described in the repository?\n",
            "Recall@10: 1.00\n",
            "Answer: ['PRIVACY.md']\n",
            "Prediction: ['git_rep/PRIVACY.md', 'git_rep/CHANGELOG.md', 'git_rep/electron-builder.json', 'git_rep/docs/zhHans/reference/scrcpy/develop.md', 'git_rep/docs/zhHans/reference/scrcpy/index.md', 'git_rep/docs/en/reference/gnirehtet/api.md', 'git_rep/src/locales/languages/zh-CN.json', 'git_rep/docs/en/reference/gnirehtet/index.md', 'git_rep/electron/preload.js', 'git_rep/docs/en/reference/scrcpy/develop.md']\n",
            "\n"
          ]
        },
        {
          "output_type": "stream",
          "name": "stderr",
          "text": [
            "\r 56%|█████▌    | 19/34 [02:23<01:53,  7.55s/it]"
          ]
        },
        {
          "output_type": "stream",
          "name": "stdout",
          "text": [
            "Question: How does the plugin integrate custom components with Element Plus features?\n",
            "Recall@10: 1.00\n",
            "Answer: ['src/plugins/element-plus/index.js']\n",
            "Prediction: ['git_rep/src/composables/useMessageLoading/index.js', 'git_rep/src/App.vue', 'git_rep/src/plugins/element-plus/index.js', 'git_rep/control/App.vue', 'git_rep/src/plugins/auto.js', 'git_rep/src/plugins/index.js', 'git_rep/src/utils/modal/index.js', 'git_rep/src/plugins/element-plus/expands/EleFormItemCol/index.vue', 'git_rep/src/composables/useInstallAction/index.js', 'git_rep/src/plugins/element-plus/expands/EleFormRow/index.vue']\n",
            "\n"
          ]
        },
        {
          "output_type": "stream",
          "name": "stderr",
          "text": [
            "\r 59%|█████▉    | 20/34 [02:30<01:44,  7.47s/it]"
          ]
        },
        {
          "output_type": "stream",
          "name": "stdout",
          "text": [
            "Question: What configuration is used for optimizing SVG icons in the repository?\n",
            "Recall@10: 0.00\n",
            "Answer: ['src/icons/svgo.config.js']\n",
            "Prediction: ['git_rep/package.json', 'git_rep/src/components/QuickBar/index.vue', 'git_rep/src/icons/svg/wifi.svg', 'git_rep/src/icons/svg/multi-screen.svg', 'git_rep/src/components/ControlBar/index.vue', 'git_rep/src/icons/components/SvgIcon.vue', 'git_rep/src/icons/svg/file-send.svg', 'git_rep/src/icons/svg/volume-mute.svg', 'git_rep/src/icons/svg/rotation.svg', 'git_rep/src/icons/svg/volume-down.svg']\n",
            "\n"
          ]
        },
        {
          "output_type": "stream",
          "name": "stderr",
          "text": [
            "\r 62%|██████▏   | 21/34 [02:36<01:32,  7.13s/it]"
          ]
        },
        {
          "output_type": "stream",
          "name": "stdout",
          "text": [
            "Question: How is the configuration for resolving dependency installation issues specified in the project?\n",
            "Recall@10: 0.00\n",
            "Answer: ['.npmrc']\n",
            "Prediction: ['git_rep/CHANGELOG.md', 'git_rep/docs/en/help/escrcpy.md', 'git_rep/develop.md', 'git_rep/electron/resources/extra/mac-x64/scrcpy/scrcpy.1', 'git_rep/electron/resources/extra/mac-arm64/scrcpy/scrcpy.1', 'git_rep/electron/resources/extra/linux-x64/scrcpy/scrcpy.1', 'git_rep/scripts/helpers/index.js', 'git_rep/docs/en/reference/scrcpy/build.md', 'git_rep/src/locales/languages/zh-TW.json', 'git_rep/package.json']\n",
            "\n"
          ]
        },
        {
          "output_type": "stream",
          "name": "stderr",
          "text": [
            "\r 65%|██████▍   | 22/34 [02:44<01:28,  7.34s/it]"
          ]
        },
        {
          "output_type": "stream",
          "name": "stdout",
          "text": [
            "Question: What license terms and conditions govern the usage, reproduction, and distribution of the repository?\n",
            "Recall@10: 1.00\n",
            "Answer: ['LICENSE']\n",
            "Prediction: ['git_rep/LICENSE', 'git_rep/docs/en/reference/gnirehtet/index.md', 'git_rep/docs/en/reference/scrcpy/index.md', 'git_rep/docs/zhHans/reference/gnirehtet/index.md', 'git_rep/docs/zhHans/reference/scrcpy/index.md', 'git_rep/README-RU.md', 'git_rep/PRIVACY.md', 'git_rep/CHANGELOG.md', 'git_rep/docs/en/reference/index.md', 'git_rep/dev-publish.yml']\n",
            "\n"
          ]
        },
        {
          "output_type": "stream",
          "name": "stderr",
          "text": [
            "\r 68%|██████▊   | 23/34 [02:51<01:17,  7.08s/it]"
          ]
        },
        {
          "output_type": "stream",
          "name": "stdout",
          "text": [
            "Question: How are ADB and scrcpy paths managed and utilized in the codebase?\n",
            "Recall@10: 1.00\n",
            "Answer: ['electron/exposes/scrcpy/index.js']\n",
            "Prediction: ['git_rep/src/locales/languages/en-US.json', 'git_rep/docs/en/reference/scrcpy/tunnels.md', 'git_rep/docs/en/reference/scrcpy/build.md', 'git_rep/docs/zhHans/help/scrcpy.md', 'git_rep/electron/exposes/scrcpy/index.js', 'git_rep/docs/zhHans/reference/scrcpy/macos.md', 'git_rep/docs/en/reference/scrcpy/connection.md', 'git_rep/electron/resources/extra/mac-x64/scrcpy/scrcpy.1', 'git_rep/electron/resources/extra/mac-arm64/scrcpy/scrcpy.1', 'git_rep/electron/resources/extra/linux-x64/scrcpy/scrcpy.1']\n",
            "\n"
          ]
        },
        {
          "output_type": "stream",
          "name": "stderr",
          "text": [
            "\r 71%|███████   | 24/34 [03:02<01:25,  8.50s/it]"
          ]
        },
        {
          "output_type": "stream",
          "name": "stdout",
          "text": [
            "Question: How does the code handle loading indicators in the Electron application?\n",
            "Recall@10: 1.00\n",
            "Answer: ['electron/loading/index.js']\n",
            "Prediction: ['git_rep/src/components/ControlBar/Volume/index.vue', 'git_rep/src/components/ControlBar/ApplicationStart/index.vue', 'git_rep/src/components/ControlBar/Rotation/index.vue', 'git_rep/electron/loading/index.js', 'git_rep/src/composables/useFileActions/index.js', 'git_rep/control/App.vue', 'git_rep/electron/ipc/theme/index.js', 'git_rep/src/components/QuickBar/components/Restart/index.vue', 'git_rep/src/components/ControlBar/Gnirehtet/index.vue', 'git_rep/electron/preload.js']\n",
            "\n"
          ]
        },
        {
          "output_type": "stream",
          "name": "stderr",
          "text": [
            "\r 74%|███████▎  | 25/34 [03:14<01:26,  9.58s/it]"
          ]
        },
        {
          "output_type": "stream",
          "name": "stdout",
          "text": [
            "Question: How does the theme store handle changes to the system theme and update the application state accordingly?\n",
            "Recall@10: 1.00\n",
            "Answer: ['src/store/theme/index.js']\n",
            "Prediction: ['git_rep/src/pages/preference/index.vue', 'git_rep/src/store/theme/index.js', 'git_rep/electron/ipc/theme/index.js', 'git_rep/electron/ipc/index.js', 'git_rep/src/components/QuickBar/components/Search/index.vue', 'git_rep/electron/exposes/search/index.js', 'git_rep/src/locales/languages/en-US.json', 'git_rep/src/utils/device/generateAdbPairingQR/index.js', 'git_rep/src/locales/languages/ru-RU.json', 'git_rep/src/store/index.js']\n",
            "\n"
          ]
        },
        {
          "output_type": "stream",
          "name": "stderr",
          "text": [
            "\r 76%|███████▋  | 26/34 [03:17<00:59,  7.38s/it]"
          ]
        },
        {
          "output_type": "stream",
          "name": "stdout",
          "text": [
            "Question: How is the Vite configuration structured to optimize the development environment's build performance?\n",
            "Recall@10: 1.00\n",
            "Answer: ['vite.config.js']\n",
            "Prediction: ['git_rep/electron/helpers/index.js', 'git_rep/package.json', 'git_rep/vite.config.js', 'git_rep/develop.md', 'git_rep/CHANGELOG.md', 'git_rep/jsconfig.json', 'git_rep/docs/en/guide/preferences.md', 'git_rep/docs/en/index.md', 'git_rep/eslint.config.js']\n",
            "\n"
          ]
        },
        {
          "output_type": "stream",
          "name": "stderr",
          "text": [
            "\r 79%|███████▉  | 27/34 [03:22<00:47,  6.85s/it]"
          ]
        },
        {
          "output_type": "stream",
          "name": "stdout",
          "text": [
            "Question: How is the application bootstrap process initialized with a router in the codebase?\n",
            "Recall@10: 1.00\n",
            "Answer: ['src/main.js']\n",
            "Prediction: ['git_rep/src/main.js', 'git_rep/control/index.js', 'git_rep/src/bootstrap/index.js', 'git_rep/src/router/index.js', 'git_rep/docs/en/reference/scrcpy/develop.md', 'git_rep/src/plugins/auto.js', 'git_rep/src/bootstrap/default/index.js', 'git_rep/electron/exposes/adb/index.js', 'git_rep/docs/en/index.md', 'git_rep/docs/en/reference/gnirehtet/api.md']\n",
            "\n"
          ]
        },
        {
          "output_type": "stream",
          "name": "stderr",
          "text": [
            "\r 82%|████████▏ | 28/34 [03:28<00:39,  6.57s/it]"
          ]
        },
        {
          "output_type": "stream",
          "name": "stdout",
          "text": [
            "Question: How does the application determine and validate the paths for external binaries (like scrcpy, adb, and gnirehtet) at startup, and which module or file manages this logic?\n",
            "Recall@10: 0.33\n",
            "Answer: ['electron/configs/scrcpy/index.js', 'electron/configs/android-platform-tools/index.js', 'electron/configs/gnirehtet/index.js']\n",
            "Prediction: ['git_rep/src/locales/languages/en-US.json', 'git_rep/docs/en/reference/gnirehtet/index.md', 'git_rep/docs/zhHans/help/scrcpy.md', 'git_rep/electron/resources/extra/mac-x64/scrcpy/scrcpy.1', 'git_rep/electron/resources/extra/mac-arm64/scrcpy/scrcpy.1', 'git_rep/electron/resources/extra/linux-x64/scrcpy/scrcpy.1', 'git_rep/electron/exposes/scrcpy/index.js', 'git_rep/docs/zhHans/reference/scrcpy/macos.md', 'git_rep/docs/zhHans/reference/scrcpy/windows.md', 'git_rep/electron/configs/scrcpy/index.js']\n",
            "\n"
          ]
        },
        {
          "output_type": "stream",
          "name": "stderr",
          "text": [
            "\r 85%|████████▌ | 29/34 [03:37<00:36,  7.33s/it]"
          ]
        },
        {
          "output_type": "stream",
          "name": "stdout",
          "text": [
            "Question: Which parts of the source code implement the QR code scanning feature for wireless pairing, what libraries are used, and how is the scanned data processed to establish a connection?\n",
            "Recall@10: 0.67\n",
            "Answer: ['src/utils/device/generateAdbPairingQR/index.js', 'src/pages/device/components/WirelessGroup/QrAction/index.vue', 'package.json']\n",
            "Prediction: ['git_rep/docs/en/guide/started.md', 'git_rep/docs/en/guide/index.md', 'git_rep/src/utils/device/generateAdbPairingQR/index.js', 'git_rep/src/locales/languages/en-US.json', 'git_rep/docs/en/index.md', 'git_rep/src/locales/languages/zh-CN.json', 'git_rep/src/locales/languages/zh-TW.json', 'git_rep/src/pages/device/components/WirelessGroup/QrAction/index.vue', 'git_rep/src/locales/languages/ru-RU.json', 'git_rep/CHANGELOG.md']\n",
            "\n"
          ]
        },
        {
          "output_type": "stream",
          "name": "stderr",
          "text": [
            "\r 88%|████████▊ | 30/34 [03:42<00:26,  6.53s/it]"
          ]
        },
        {
          "output_type": "stream",
          "name": "stdout",
          "text": [
            "Question: How is the inter-process communication handled between the Electron front end and the underlying scrcpy process? Which IPC channels or events are defined in the code?\n",
            "Recall@10: 0.20\n",
            "Answer: ['electron/exposes/scrcpy/index.js', 'electron/exposes/scrcpy/helper.js', 'electron/preload.js', 'electron/exposes/index.js', 'electron/helpers/index.js', 'electron/configs/scrcpy/index.js', 'src/pages/device/components/MirrorAction/index.vue', 'src/components/QuickBar/components/Terminal/components/TerminalDialog/composables/scrcpy.js', 'src/store/preference/index.js', 'src/bootstrap/default/index.js']\n",
            "Prediction: ['git_rep/electron/configs/scrcpy/index.js', 'git_rep/docs/en/reference/scrcpy/develop.md', 'git_rep/electron/exposes/scrcpy/index.js', 'git_rep/docs/zhHans/reference/scrcpy/index.md', 'git_rep/docs/zhHans/reference/scrcpy/build.md', 'git_rep/docs/zhHans/reference/scrcpy/develop.md', 'git_rep/docs/zhHans/reference/scrcpy/connection.md', 'git_rep/docs/en/reference/scrcpy/index.md', 'git_rep/docs/en/reference/scrcpy/linux.md', 'git_rep/docs/zhHans/reference/scrcpy/control.md']\n",
            "\n"
          ]
        },
        {
          "output_type": "stream",
          "name": "stderr",
          "text": [
            "\r 91%|█████████ | 31/34 [03:49<00:20,  6.72s/it]"
          ]
        },
        {
          "output_type": "stream",
          "name": "stdout",
          "text": [
            "Question: Where in the codebase are the user preference configurations (for video, audio, window controls, etc.) defined and saved, and how are these settings applied to the mirroring process?\n",
            "Recall@10: 0.12\n",
            "Answer: ['src/store/preference/model/video/index.js', 'src/store/preference/model/audio/index.js', 'src/store/preference/model/window/index.js', 'src/store/preference/model/device/index.js', 'src/store/preference/model/input/index.js', 'src/store/preference/model/record/index.js', 'src/store/preference/model/common/index.js', 'src/pages/device/components/MirrorAction/index.vue']\n",
            "Prediction: ['git_rep/docs/en/guide/milestones.md', 'git_rep/src/locales/languages/en-US.json', 'git_rep/src/locales/languages/ru-RU.json', 'git_rep/src/locales/languages/zh-CN.json', 'git_rep/docs/en/guide/preferences.md', 'git_rep/docs/en/reference/scrcpy/index.md', 'git_rep/src/store/preference/model/video/index.js', 'git_rep/docs/en/reference/scrcpy/develop.md', 'git_rep/src/locales/languages/zh-TW.json', 'git_rep/docs/en/guide/operation.md']\n",
            "\n"
          ]
        },
        {
          "output_type": "stream",
          "name": "stderr",
          "text": [
            "\r 94%|█████████▍| 32/34 [03:56<00:13,  6.85s/it]"
          ]
        },
        {
          "output_type": "stream",
          "name": "stdout",
          "text": [
            "Question: What is the implementation strategy for the auto-connect and auto-mirroring features? In which module or function does the logic reside, and how does it interact with device detection?\n",
            "Recall@10: 0.00\n",
            "Answer: ['src/store/preference/model/common/index.js', 'electron/configs/android-platform-tools/index.js', 'electron/configs/scrcpy/index.js', 'src/store/preference/model/video/index.js', 'src/utils/device/generateAdbPairingQR/index.js', 'src/pages/device/components/WirelessGroup/QrAction/index.vue']\n",
            "Prediction: ['git_rep/docs/en/guide/index.md', 'git_rep/src/locales/languages/en-US.json', 'git_rep/README.md', 'git_rep/docs/en/guide/preferences.md', 'git_rep/docs/en/index.md', 'git_rep/docs/en/guide/milestones.md', 'git_rep/src/composables/useMirrorAction/index.js', 'git_rep/docs/en/reference/scrcpy/mouse.md', 'git_rep/docs/en/guide/started.md', 'git_rep/docs/en/reference/scrcpy/keyboard.md']\n",
            "\n"
          ]
        },
        {
          "output_type": "stream",
          "name": "stderr",
          "text": [
            "\r 97%|█████████▋| 33/34 [04:06<00:07,  7.63s/it]"
          ]
        },
        {
          "output_type": "stream",
          "name": "stdout",
          "text": [
            "Question: How are batch processing operations (such as batch file management, batch app installation, and execution of scripts) implemented in the source code? Which parts handle the scheduling and execution of these tasks?\n",
            "Recall@10: 0.00\n",
            "Answer: ['src/composables/useFileActions/index.js', 'src/composables/useInstallAction/index.js', 'src/composables/useShellAction/index.js', 'src/store/task/index.js']\n",
            "Prediction: ['git_rep/docs/en/guide/operation.md', 'git_rep/docs/en/guide/milestones.md', 'git_rep/CHANGELOG.md', 'git_rep/docs/en/guide/index.md', 'git_rep/electron/resources/extra/win/vbs/create-desktop-shortcuts.vbs', 'git_rep/electron/exposes/adb/index.js', 'git_rep/README-CN.md', 'git_rep/docs/en/reference/scrcpy/develop.md', 'git_rep/electron/exposes/scrcpy/index.js', 'git_rep/electron/ipc/index.js']\n",
            "\n"
          ]
        },
        {
          "output_type": "stream",
          "name": "stderr",
          "text": [
            "100%|██████████| 34/34 [04:14<00:00,  7.47s/it]"
          ]
        },
        {
          "output_type": "stream",
          "name": "stdout",
          "text": [
            "Question: Which file or module is responsible for mapping user shortcuts (for device control actions like home, back, screenshot, etc.) to the underlying adb or scrcpy commands, and how can these mappings be customized?\n",
            "Recall@10: 0.00\n",
            "Answer: ['electron/resources/extra/linux/scrcpy/scrcpy.1', 'src/store/preference/model/input/index.js', 'src/components/PreferenceForm/components/SelectKeyboardInject/index.vue']\n",
            "Prediction: ['git_rep/docs/en/reference/scrcpy/mouse.md', 'git_rep/docs/en/reference/scrcpy/shortcuts.md', 'git_rep/electron/resources/extra/mac-x64/scrcpy/scrcpy.1', 'git_rep/electron/resources/extra/mac-arm64/scrcpy/scrcpy.1', 'git_rep/electron/resources/extra/linux-x64/scrcpy/scrcpy.1', 'git_rep/src/locales/languages/en-US.json', 'git_rep/docs/zhHans/reference/scrcpy/mouse.md', 'git_rep/docs/zhHans/reference/scrcpy/keyboard.md', 'git_rep/docs/en/reference/scrcpy/keyboard.md', 'git_rep/docs/zhHans/reference/scrcpy/shortcuts.md']\n",
            "\n",
            "\n",
            " Average Recall@10: 0.57\n"
          ]
        },
        {
          "output_type": "stream",
          "name": "stderr",
          "text": [
            "\n"
          ]
        },
        {
          "output_type": "execute_result",
          "data": {
            "text/plain": [
              "0.5683823529411764"
            ]
          },
          "metadata": {},
          "execution_count": 28
        }
      ]
    },
    {
      "cell_type": "markdown",
      "source": [
        "We see an improve in quality, meaning choice of `top_k * MEAN_CHUNK_NUM` and reranking improves the retrieval algorithm."
      ],
      "metadata": {
        "id": "F30V5y1YWPjs"
      }
    },
    {
      "cell_type": "markdown",
      "source": [
        "To compare the quality with the baseline model we have to change indexing in a way that each document is just ine chunk. To do so we have to get the maximal length of a document in tokens:"
      ],
      "metadata": {
        "id": "ddxrKXqCWoEm"
      }
    },
    {
      "cell_type": "code",
      "source": [
        "max_len = np.max(num_chunks)\n",
        "max_len"
      ],
      "metadata": {
        "colab": {
          "base_uri": "https://localhost:8080/"
        },
        "id": "KQzUNS7mWi_q",
        "outputId": "f732b50f-f713-48b5-f2dc-c8660b6a3ec4"
      },
      "execution_count": 29,
      "outputs": [
        {
          "output_type": "execute_result",
          "data": {
            "text/plain": [
              "np.int64(147)"
            ]
          },
          "metadata": {},
          "execution_count": 29
        }
      ]
    },
    {
      "cell_type": "markdown",
      "source": [
        "So `CHUNK_SIZE = 147 * 256` for this experiment"
      ],
      "metadata": {
        "id": "pAxKuw31W_nM"
      }
    },
    {
      "cell_type": "code",
      "source": [
        "CHUNK_SIZE = 147 * 256"
      ],
      "metadata": {
        "id": "vfdjfU6IW-Wy"
      },
      "execution_count": 30,
      "outputs": []
    },
    {
      "cell_type": "code",
      "source": [
        "index_base, embeddings_base, metadata_base, docs_base, num_chunks_base = build_index_from_github(github_url)"
      ],
      "metadata": {
        "id": "wR6_A5v5XJCD"
      },
      "execution_count": 31,
      "outputs": []
    },
    {
      "cell_type": "code",
      "source": [
        "recall_from_json('/content/escrcpy-commits-generated.json', simple_index, model, index_base, docs_base, metadata_base)"
      ],
      "metadata": {
        "colab": {
          "base_uri": "https://localhost:8080/"
        },
        "id": "bYoW3hyBXRGI",
        "outputId": "e20fe3d0-12f5-4c20-8a1f-5a9fe6a5f6e7"
      },
      "execution_count": 32,
      "outputs": [
        {
          "output_type": "stream",
          "name": "stderr",
          "text": [
            " 18%|█▊        | 6/34 [00:00<00:00, 52.00it/s]"
          ]
        },
        {
          "output_type": "stream",
          "name": "stdout",
          "text": [
            "Question: How does the SelectDisplay component handle the device options when retrieving display IDs?\n",
            "Recall@10: 1.00\n",
            "Answer: ['src/components/PreferenceForm/components/SelectDisplay/index.vue']\n",
            "Prediction: ['git_rep/src/components/PreferenceForm/components/SelectDisplay/index.vue::chunk_0', 'git_rep/src/components/PreferenceForm/components/SelectAudioCodec/index.vue::chunk_0', 'git_rep/src/components/PreferenceForm/components/SelectVideoCodec/index.vue::chunk_0', 'git_rep/src/components/PreferenceForm/components/helper.js::chunk_0', 'git_rep/src/composables/useMirrorAction/index.js::chunk_0', 'git_rep/src/store/preference/model/device/index.js::chunk_0', 'git_rep/docs/en/guide/preferences.md::chunk_0', 'git_rep/src/components/PreferenceForm/components/SelectKeyboardInject/index.vue::chunk_0', 'git_rep/src/components/ControlBar/Rotation/index.vue::chunk_0', 'git_rep/src/components/ControlBar/Volume/index.vue::chunk_0']\n",
            "\n",
            "Question: How does the repository handle IPv6 addresses in ADB commands?\n",
            "Recall@10: 1.00\n",
            "Answer: ['electron/exposes/adb/helpers/index.js', 'electron/exposes/adb/index.js']\n",
            "Prediction: ['git_rep/electron/exposes/adb/helpers/index.js::chunk_0', 'git_rep/docs/en/reference/gnirehtet/index.md::chunk_0', 'git_rep/docs/zhHans/reference/gnirehtet/index.md::chunk_0', 'git_rep/docs/en/reference/scrcpy/tunnels.md::chunk_0', 'git_rep/docs/zhHans/reference/scrcpy/tunnels.md::chunk_0', 'git_rep/docs/en/reference/scrcpy/connection.md::chunk_0', 'git_rep/docs/en/reference/gnirehtet/api.md::chunk_0', 'git_rep/docs/zhHans/reference/scrcpy/connection.md::chunk_0', 'git_rep/electron/exposes/adb/helpers/scanner/index.js::chunk_0', 'git_rep/electron/exposes/adb/index.js::chunk_0']\n",
            "\n",
            "Question: How does the edge hiding and snapping mechanism work for a window instance?\n",
            "Recall@10: 1.00\n",
            "Answer: ['electron/helpers/edger/index.js']\n",
            "Prediction: ['git_rep/electron/helpers/edger/index.js::chunk_0', 'git_rep/docs/en/reference/scrcpy/window.md::chunk_0', 'git_rep/electron/ipc/app/index.js::chunk_0', 'git_rep/docs/zhHans/reference/scrcpy/window.md::chunk_0', 'git_rep/docs/en/reference/scrcpy/develop.md::chunk_0', 'git_rep/electron/helpers/single.js::chunk_0', 'git_rep/control/electron/events/focus/index.js::chunk_0', 'git_rep/docs/en/guide/preferences.md::chunk_0', 'git_rep/electron/ipc/tray/index.js::chunk_0', 'git_rep/docs/en/reference/scrcpy/shortcuts.md::chunk_0']\n",
            "\n",
            "Question: Unable to detect device\n",
            "Recall@10: 0.00\n",
            "Answer: ['README-CN.md', 'README-RU.md', 'README.md']\n",
            "Prediction: ['git_rep/src/components/PreferenceForm/components/helper.js::chunk_0', 'git_rep/docs/en/help/scrcpy.md::chunk_0', 'git_rep/docs/en/help/escrcpy.md::chunk_0', 'git_rep/src/dicts/device/index.js::chunk_0', 'git_rep/src/store/device/helpers/index.js::chunk_0', 'git_rep/src/store/device/index.js::chunk_0', 'git_rep/electron/exposes/adb/helpers/scanner/index.js::chunk_0', 'git_rep/src/pages/device/components/ConnectAction/index.vue::chunk_0', 'git_rep/docs/en/reference/gnirehtet/api.md::chunk_0', 'git_rep/docs/en/reference/scrcpy/v4l2.md::chunk_0']\n",
            "\n",
            "Question: What functionality does the component provide for mirroring a device's screen?\n",
            "Recall@10: 0.00\n",
            "Answer: ['src/pages/device/components/MirrorAction/index.vue']\n",
            "Prediction: ['git_rep/docs/en/guide/index.md::chunk_0', 'git_rep/docs/en/guide/operation.md::chunk_0', 'git_rep/docs/en/guide/preferences.md::chunk_0', 'git_rep/docs/en/guide/milestones.md::chunk_0', 'git_rep/docs/en/reference/scrcpy/video.md::chunk_0', 'git_rep/docs/en/reference/scrcpy/virtual_display.md::chunk_0', 'git_rep/docs/en/reference/scrcpy/camera.md::chunk_0', 'git_rep/docs/en/reference/scrcpy/develop.md::chunk_0', 'git_rep/src/composables/useMirrorAction/index.js::chunk_0', 'git_rep/docs/en/reference/scrcpy/audio.md::chunk_0']\n",
            "\n",
            "Question: How is the functionality for storing and managing Scrcpy IP type configuration implemented?\n",
            "Recall@10: 0.00\n",
            "Answer: ['electron/exposes/scrcpy/helper.js', 'electron/helpers/store.js', 'src/store/preference/helpers/index.js', 'src/store/preference/index.js']\n",
            "Prediction: ['git_rep/docs/en/reference/scrcpy/linux.md::chunk_0', 'git_rep/docs/en/reference/scrcpy/connection.md::chunk_0', 'git_rep/docs/en/reference/scrcpy/develop.md::chunk_0', 'git_rep/docs/zhHans/reference/scrcpy/connection.md::chunk_0', 'git_rep/docs/en/reference/scrcpy/index.md::chunk_0', 'git_rep/docs/en/reference/scrcpy/windows.md::chunk_0', 'git_rep/docs/zhHans/reference/scrcpy/linux.md::chunk_0', 'git_rep/docs/en/reference/index.md::chunk_0', 'git_rep/docs/en/reference/scrcpy/device.md::chunk_0', 'git_rep/docs/en/reference/scrcpy/macos.md::chunk_0']\n",
            "\n",
            "Question: What are the common user interface labels and messages implemented in Traditional Chinese?\n",
            "Recall@10: 1.00\n",
            "Answer: ['src/locales/languages/zh-TW.json']\n",
            "Prediction: ['git_rep/docs/zhHans/guide/operation.md::chunk_0', 'git_rep/docs/en/guide/milestones.md::chunk_0', 'git_rep/docs/zhHans/help/escrcpy.md::chunk_0', 'git_rep/docs/zhHans/reference/scrcpy/gamepad.md::chunk_0', 'git_rep/src/locales/languages/zh-CN.json::chunk_0', 'git_rep/src/locales/languages/zh-TW.json::chunk_0', 'git_rep/docs/zhHans/guide/milestones.md::chunk_0', 'git_rep/docs/zhHans/contact.md::chunk_0', 'git_rep/docs/zhHans/reference/scrcpy/develop.md::chunk_0', 'git_rep/docs/zhHans/reference/scrcpy/mouse.md::chunk_0']\n",
            "\n",
            "Question: How is the wireless connection screen layout managed and updated across the application?\n",
            "Recall@10: 0.00\n",
            "Answer: ['src/pages/device/index.vue']\n",
            "Prediction: ['git_rep/docs/en/guide/preferences.md::chunk_0', 'git_rep/docs/en/guide/index.md::chunk_0', 'git_rep/docs/en/guide/milestones.md::chunk_0', 'git_rep/docs/en/reference/gnirehtet/api.md::chunk_0', 'git_rep/docs/en/reference/scrcpy/develop.md::chunk_0', 'git_rep/docs/en/guide/operation.md::chunk_0', 'git_rep/docs/en/reference/gnirehtet/index.md::chunk_0', 'git_rep/src/utils/device/generateAdbPairingQR/index.js::chunk_0', 'git_rep/docs/en/reference/scrcpy/window.md::chunk_0', 'git_rep/docs/en/reference/scrcpy/index.md::chunk_0']\n",
            "\n",
            "Question: How is the wireless pairing dialog functionality implemented?\n",
            "Recall@10: 1.00\n",
            "Answer: ['src/pages/device/components/WirelessGroup/PairDialog/index.vue']\n",
            "Prediction: ['git_rep/src/utils/device/generateAdbPairingQR/index.js::chunk_0', 'git_rep/docs/en/reference/gnirehtet/api.md::chunk_0', 'git_rep/docs/en/reference/gnirehtet/index.md::chunk_0', 'git_rep/src/pages/device/components/WirelessGroup/PairDialog/index.vue::chunk_0', 'git_rep/docs/en/reference/scrcpy/index.md::chunk_0', 'git_rep/docs/en/guide/index.md::chunk_0', 'git_rep/src/pages/device/components/WirelessAction/index.vue::chunk_0', 'git_rep/docs/en/guide/preferences.md::chunk_0', 'git_rep/electron/exposes/adb/helpers/scanner/index.js::chunk_0', 'git_rep/docs/zhHans/reference/gnirehtet/index.md::chunk_0']\n",
            "\n",
            "Question: How is the sponsor dialog implemented to display sponsorship images dynamically?\n",
            "Recall@10: 1.00\n",
            "Answer: ['src/pages/about/components/SponsorDialog/index.vue']\n",
            "Prediction: ['git_rep/src/pages/about/components/SponsorDialog/index.vue::chunk_0', 'git_rep/docs/en/donate.md::chunk_0', 'git_rep/src/pages/device/components/DevicePopover/index.vue::chunk_0', 'git_rep/docs/zhHans/donate.md::chunk_0', 'git_rep/README-RU.md::chunk_0', 'git_rep/README.md::chunk_0', 'git_rep/README-CN.md::chunk_0', 'git_rep/src/pages/device/components/WirelessGroup/QrAction/index.vue::chunk_0', 'git_rep/src/pages/about/index.vue::chunk_0', 'git_rep/src/components/ControlBar/FileManage/index.vue::chunk_0']\n",
            "\n"
          ]
        },
        {
          "output_type": "stream",
          "name": "stderr",
          "text": [
            " 50%|█████     | 17/34 [00:00<00:00, 44.99it/s]"
          ]
        },
        {
          "output_type": "stream",
          "name": "stdout",
          "text": [
            "Question: What workflows support manual triggering in the repository?\n",
            "Recall@10: 0.00\n",
            "Answer: ['.github/workflows/release-assets.yml', '.github/workflows/sync-gitee.yml', '.github/workflows/sync-homebrew.yml']\n",
            "Prediction: ['git_rep/dev-publish.yml::chunk_0', 'git_rep/docs/en/guide/milestones.md::chunk_0', 'git_rep/docs/en/reference/index.md::chunk_0', 'git_rep/docs/en/changelog.md::chunk_0', 'git_rep/scripts/helpers/index.js::chunk_0', 'git_rep/electron/ipc/updater/index.js::chunk_0', 'git_rep/docs/zhHans/guide/started.md::chunk_0', 'git_rep/docs/en/reference/scrcpy/linux.md::chunk_0', 'git_rep/src/locales/languages/en-US.json::chunk_0', 'git_rep/docs/en/contact.md::chunk_0']\n",
            "\n",
            "Question: How does the application determine the file path for the scrcpy executable based on the operating system and architecture?\n",
            "Recall@10: 1.00\n",
            "Answer: ['electron/configs/scrcpy/index.js']\n",
            "Prediction: ['git_rep/docs/en/reference/scrcpy/linux.md::chunk_0', 'git_rep/docs/en/reference/scrcpy/windows.md::chunk_0', 'git_rep/electron/configs/scrcpy/index.js::chunk_0', 'git_rep/docs/en/reference/scrcpy/macos.md::chunk_0', 'git_rep/docs/en/reference/scrcpy/develop.md::chunk_0', 'git_rep/docs/en/reference/scrcpy/index.md::chunk_0', 'git_rep/docs/zhHans/reference/scrcpy/linux.md::chunk_0', 'git_rep/docs/en/reference/index.md::chunk_0', 'git_rep/docs/en/reference/scrcpy/build.md::chunk_0', 'git_rep/docs/en/help/index.md::chunk_0']\n",
            "\n",
            "Question: What is the purpose of the configuration specified in the version management file?\n",
            "Recall@10: 0.00\n",
            "Answer: ['.nvmdrc']\n",
            "Prediction: ['git_rep/docs/en/guide/milestones.md::chunk_0', 'git_rep/LICENSE::chunk_0', 'git_rep/docs/en/changelog.md::chunk_0', 'git_rep/electron/ipc/updater/index.js::chunk_0', 'git_rep/dev-publish.yml::chunk_0', 'git_rep/docs/en/guide/preferences.md::chunk_0', 'git_rep/docs/zhHans/reference/scrcpy/linux.md::chunk_0', 'git_rep/src/store/index.js::chunk_0', 'git_rep/jsconfig.json::chunk_0', 'git_rep/PRIVACY.md::chunk_0']\n",
            "\n",
            "Question: What parameters are available for configuring video preferences in the codebase?\n",
            "Recall@10: 1.00\n",
            "Answer: ['src/store/preference/model/video/index.js']\n",
            "Prediction: ['git_rep/docs/en/guide/preferences.md::chunk_0', 'git_rep/src/store/preference/model/video/index.js::chunk_0', 'git_rep/src/store/preference/model/camera/index.js::chunk_0', 'git_rep/docs/zhHans/reference/scrcpy/v4l2.md::chunk_0', 'git_rep/src/pages/device/components/MoreDropdown/components/Camera/index.vue::chunk_0', 'git_rep/docs/en/reference/scrcpy/video.md::chunk_0', 'git_rep/electron/resources/extra/mac-x64/scrcpy/scrcpy.1::chunk_0', 'git_rep/electron/resources/extra/mac-arm64/scrcpy/scrcpy.1::chunk_0', 'git_rep/electron/resources/extra/linux-x64/scrcpy/scrcpy.1::chunk_0', 'git_rep/src/pages/device/components/MoreDropdown/components/Record/index.vue::chunk_0']\n",
            "\n",
            "Question: How are scheduled task timer types and time units defined in the repository?\n",
            "Recall@10: 1.00\n",
            "Answer: ['src/dicts/tasks/index.js']\n",
            "Prediction: ['git_rep/src/dicts/tasks/index.js::chunk_0', 'git_rep/src/store/task/index.js::chunk_0', 'git_rep/docs/en/guide/milestones.md::chunk_0', 'git_rep/docs/en/guide/operation.md::chunk_0', 'git_rep/docs/en/reference/scrcpy/develop.md::chunk_0', 'git_rep/LICENSE::chunk_0', 'git_rep/src/store/preference/model/device/index.js::chunk_0', 'git_rep/dev-publish.yml::chunk_0', 'git_rep/docs/en/guide/preferences.md::chunk_0', 'git_rep/docs/zhHans/changelog.md::chunk_0']\n",
            "\n",
            "Question: What configuration should domestic users apply to resolve dependency installation issues?\n",
            "Recall@10: 0.00\n",
            "Answer: ['.npmrc.CN']\n",
            "Prediction: ['git_rep/src/pages/device/components/BatchActions/Application/index.vue::chunk_0', 'git_rep/dev-publish.yml::chunk_0', 'git_rep/eslint.config.js::chunk_0', 'git_rep/electron/configs/gnirehtet/index.js::chunk_0', 'git_rep/src/icons/index.js::chunk_0', 'git_rep/src/plugins/auto.js::chunk_0', 'git_rep/docs/en/guide/milestones.md::chunk_0', 'git_rep/src/plugins/element-plus/auto.js::chunk_0', 'git_rep/src/locales/index.js::chunk_0', 'git_rep/src/store/index.js::chunk_0']\n",
            "\n",
            "Question: What are the available localized string keys and their corresponding Russian translations in the project?\n",
            "Recall@10: 1.00\n",
            "Answer: ['src/locales/languages/ru-RU.json']\n",
            "Prediction: ['git_rep/src/locales/languages/ru-RU.json::chunk_0', 'git_rep/docs/zhHans/guide/operation.md::chunk_0', 'git_rep/docs/zhHans/guide/started.md::chunk_0', 'git_rep/docs/zhHans/reference/scrcpy/keyboard.md::chunk_0', 'git_rep/docs/zhHans/help/escrcpy.md::chunk_0', 'git_rep/docs/zhHans/reference/scrcpy/develop.md::chunk_0', 'git_rep/src/plugins/element-plus/locale.js::chunk_0', 'git_rep/src/locales/index.js::chunk_0', 'git_rep/docs/en/reference/index.md::chunk_0', 'git_rep/src/locales/languages/zh-TW.json::chunk_0']\n",
            "\n",
            "Question: What is the privacy policy of the app described in the repository?\n",
            "Recall@10: 1.00\n",
            "Answer: ['PRIVACY.md']\n",
            "Prediction: ['git_rep/PRIVACY.md::chunk_0', 'git_rep/dev-publish.yml::chunk_0', 'git_rep/src/store/index.js::chunk_0', 'git_rep/electron/helpers/store.js::chunk_0', 'git_rep/LICENSE::chunk_0', 'git_rep/electron/preload.js::chunk_0', 'git_rep/docs/en/reference/gnirehtet/api.md::chunk_0', 'git_rep/docs/en/reference/gnirehtet/index.md::chunk_0', 'git_rep/electron/resources/build/entitlements.mac.plist::chunk_0', 'git_rep/docs/en/contact.md::chunk_0']\n",
            "\n",
            "Question: How does the plugin integrate custom components with Element Plus features?\n",
            "Recall@10: 1.00\n",
            "Answer: ['src/plugins/element-plus/index.js']\n",
            "Prediction: ['git_rep/src/plugins/auto.js::chunk_0', 'git_rep/src/plugins/element-plus/auto.js::chunk_0', 'git_rep/src/plugins/element-plus/expands/EleFormItemCol/index.vue::chunk_0', 'git_rep/src/composables/useMessageLoading/index.js::chunk_0', 'git_rep/src/plugins/element-plus/index.js::chunk_0', 'git_rep/src/plugins/element-plus/expands/EleTooltipButton/index.vue::chunk_0', 'git_rep/src/components/QuickBar/index.vue::chunk_0', 'git_rep/vite.config.js::chunk_0', 'git_rep/src/App.vue::chunk_0', 'git_rep/src/components/ControlBar/Application/index.vue::chunk_0']\n",
            "\n"
          ]
        },
        {
          "output_type": "stream",
          "name": "stderr",
          "text": [
            " 79%|███████▉  | 27/34 [00:00<00:00, 43.82it/s]"
          ]
        },
        {
          "output_type": "stream",
          "name": "stdout",
          "text": [
            "Question: What configuration is used for optimizing SVG icons in the repository?\n",
            "Recall@10: 0.00\n",
            "Answer: ['src/icons/svgo.config.js']\n",
            "Prediction: ['git_rep/src/icons/svg/wifi.svg::chunk_0', 'git_rep/src/icons/svg/multi-screen.svg::chunk_0', 'git_rep/src/icons/components/SvgIcon.vue::chunk_0', 'git_rep/src/icons/svg/volume-down.svg::chunk_0', 'git_rep/src/icons/svg/command.svg::chunk_0', 'git_rep/README-RU.md::chunk_0', 'git_rep/README.md::chunk_0', 'git_rep/README-CN.md::chunk_0', 'git_rep/src/icons/index.js::chunk_0', 'git_rep/src/icons/svg/volume-up.svg::chunk_0']\n",
            "\n",
            "Question: How is the configuration for resolving dependency installation issues specified in the project?\n",
            "Recall@10: 0.00\n",
            "Answer: ['.npmrc']\n",
            "Prediction: ['git_rep/electron/helpers/process.js::chunk_0', 'git_rep/electron/configs/gnirehtet/index.js::chunk_0', 'git_rep/package.json::chunk_0', 'git_rep/src/plugins/element-plus/auto.js::chunk_0', 'git_rep/electron/ipc/updater/index.js::chunk_0', 'git_rep/electron-builder.json::chunk_0', 'git_rep/jsconfig.json::chunk_0', 'git_rep/dev-publish.yml::chunk_0', 'git_rep/eslint.config.js::chunk_0', 'git_rep/electron/configs/scrcpy/index.js::chunk_0']\n",
            "\n",
            "Question: What license terms and conditions govern the usage, reproduction, and distribution of the repository?\n",
            "Recall@10: 1.00\n",
            "Answer: ['LICENSE']\n",
            "Prediction: ['git_rep/LICENSE::chunk_0', 'git_rep/dev-publish.yml::chunk_0', 'git_rep/PRIVACY.md::chunk_0', 'git_rep/docs/en/reference/index.md::chunk_0', 'git_rep/docs/zhHans/guide/preferences.md::chunk_0', 'git_rep/docs/zhHans/guide/started.md::chunk_0', 'git_rep/docs/zhHans/reference/scrcpy/linux.md::chunk_0', 'git_rep/docs/zhHans/reference/scrcpy/develop.md::chunk_0', 'git_rep/docs/en/guide/milestones.md::chunk_0', 'git_rep/scripts/helpers/index.js::chunk_0']\n",
            "\n",
            "Question: How are ADB and scrcpy paths managed and utilized in the codebase?\n",
            "Recall@10: 0.00\n",
            "Answer: ['electron/exposes/scrcpy/index.js']\n",
            "Prediction: ['git_rep/docs/zhHans/help/scrcpy.md::chunk_0', 'git_rep/docs/en/reference/scrcpy/build.md::chunk_0', 'git_rep/docs/en/reference/scrcpy/linux.md::chunk_0', 'git_rep/docs/en/help/scrcpy.md::chunk_0', 'git_rep/docs/en/reference/scrcpy/connection.md::chunk_0', 'git_rep/docs/en/reference/scrcpy/tunnels.md::chunk_0', 'git_rep/docs/zhHans/reference/scrcpy/build.md::chunk_0', 'git_rep/docs/en/reference/scrcpy/windows.md::chunk_0', 'git_rep/docs/en/reference/scrcpy/shortcuts.md::chunk_0', 'git_rep/docs/en/reference/index.md::chunk_0']\n",
            "\n",
            "Question: How does the code handle loading indicators in the Electron application?\n",
            "Recall@10: 0.00\n",
            "Answer: ['electron/loading/index.js']\n",
            "Prediction: ['git_rep/electron/exposes/gnirehtet/index.js::chunk_0', 'git_rep/electron/exposes/scrcpy/index.js::chunk_0', 'git_rep/control/electron/helpers/index.js::chunk_0', 'git_rep/electron/exposes/electron/index.js::chunk_0', 'git_rep/src/utils/modal/index.js::chunk_0', 'git_rep/electron/ipc/tray/index.js::chunk_0', 'git_rep/electron/preload.js::chunk_0', 'git_rep/electron/helpers/single.js::chunk_0', 'git_rep/electron/helpers/edger/index.js::chunk_0', 'git_rep/electron/exposes/adb/index.js::chunk_0']\n",
            "\n",
            "Question: How does the theme store handle changes to the system theme and update the application state accordingly?\n",
            "Recall@10: 1.00\n",
            "Answer: ['src/store/theme/index.js']\n",
            "Prediction: ['git_rep/src/store/theme/index.js::chunk_0', 'git_rep/electron/ipc/theme/index.js::chunk_0', 'git_rep/src/store/index.js::chunk_0', 'git_rep/electron/ipc/index.js::chunk_0', 'git_rep/electron/helpers/store.js::chunk_0', 'git_rep/electron/exposes/search/index.js::chunk_0', 'git_rep/src/components/QuickBar/components/Search/index.vue::chunk_0', 'git_rep/docs/en/changelog.md::chunk_0', 'git_rep/docs/en/guide/milestones.md::chunk_0', 'git_rep/src/store/device/index.js::chunk_0']\n",
            "\n",
            "Question: How is the Vite configuration structured to optimize the development environment's build performance?\n",
            "Recall@10: 1.00\n",
            "Answer: ['vite.config.js']\n",
            "Prediction: ['git_rep/jsconfig.json::chunk_0', 'git_rep/vite.config.js::chunk_0', 'git_rep/CHANGELOG.md::chunk_0', 'git_rep/docs/en/guide/preferences.md::chunk_0', 'git_rep/docs/en/index.md::chunk_0', 'git_rep/docs/en/guide/milestones.md::chunk_0', 'git_rep/src/icons/index.js::chunk_0', 'git_rep/src/plugins/auto.js::chunk_0', 'git_rep/docs/zhHans/index.md::chunk_0', 'git_rep/package.json::chunk_0']\n",
            "\n",
            "Question: How is the application bootstrap process initialized with a router in the codebase?\n",
            "Recall@10: 1.00\n",
            "Answer: ['src/main.js']\n",
            "Prediction: ['git_rep/src/main.js::chunk_0', 'git_rep/src/bootstrap/index.js::chunk_0', 'git_rep/control/index.js::chunk_0', 'git_rep/electron/exposes/gnirehtet/index.js::chunk_0', 'git_rep/src/bootstrap/default/index.js::chunk_0', 'git_rep/src/plugins/auto.js::chunk_0', 'git_rep/src/router/index.js::chunk_0', 'git_rep/CHANGELOG.md::chunk_0', 'git_rep/src/pages/device/components/ConnectAction/index.vue::chunk_0', 'git_rep/docs/en/reference/gnirehtet/api.md::chunk_0']\n",
            "\n",
            "Question: How does the application determine and validate the paths for external binaries (like scrcpy, adb, and gnirehtet) at startup, and which module or file manages this logic?\n",
            "Recall@10: 0.33\n",
            "Answer: ['electron/configs/scrcpy/index.js', 'electron/configs/android-platform-tools/index.js', 'electron/configs/gnirehtet/index.js']\n",
            "Prediction: ['git_rep/docs/en/reference/scrcpy/linux.md::chunk_0', 'git_rep/electron/configs/scrcpy/index.js::chunk_0', 'git_rep/docs/en/reference/scrcpy/windows.md::chunk_0', 'git_rep/docs/en/reference/scrcpy/macos.md::chunk_0', 'git_rep/docs/zhHans/reference/scrcpy/linux.md::chunk_0', 'git_rep/docs/zhHans/help/scrcpy.md::chunk_0', 'git_rep/docs/en/reference/index.md::chunk_0', 'git_rep/docs/en/reference/scrcpy/index.md::chunk_0', 'git_rep/docs/zhHans/reference/scrcpy/windows.md::chunk_0', 'git_rep/docs/en/reference/scrcpy/develop.md::chunk_0']\n",
            "\n"
          ]
        },
        {
          "output_type": "stream",
          "name": "stderr",
          "text": [
            "100%|██████████| 34/34 [00:00<00:00, 43.08it/s]"
          ]
        },
        {
          "output_type": "stream",
          "name": "stdout",
          "text": [
            "Question: Which parts of the source code implement the QR code scanning feature for wireless pairing, what libraries are used, and how is the scanned data processed to establish a connection?\n",
            "Recall@10: 0.33\n",
            "Answer: ['src/utils/device/generateAdbPairingQR/index.js', 'src/pages/device/components/WirelessGroup/QrAction/index.vue', 'package.json']\n",
            "Prediction: ['git_rep/src/utils/device/generateAdbPairingQR/index.js::chunk_0', 'git_rep/docs/zhHans/reference/gnirehtet/index.md::chunk_0', 'git_rep/docs/en/guide/index.md::chunk_0', 'git_rep/docs/en/reference/gnirehtet/index.md::chunk_0', 'git_rep/docs/en/reference/gnirehtet/api.md::chunk_0', 'git_rep/docs/en/reference/scrcpy/index.md::chunk_0', 'git_rep/docs/en/reference/scrcpy/develop.md::chunk_0', 'git_rep/electron/exposes/adb/helpers/scanner/index.js::chunk_0', 'git_rep/docs/en/guide/preferences.md::chunk_0', 'git_rep/docs/en/guide/milestones.md::chunk_0']\n",
            "\n",
            "Question: How is the inter-process communication handled between the Electron front end and the underlying scrcpy process? Which IPC channels or events are defined in the code?\n",
            "Recall@10: 0.20\n",
            "Answer: ['electron/exposes/scrcpy/index.js', 'electron/exposes/scrcpy/helper.js', 'electron/preload.js', 'electron/exposes/index.js', 'electron/helpers/index.js', 'electron/configs/scrcpy/index.js', 'src/pages/device/components/MirrorAction/index.vue', 'src/components/QuickBar/components/Terminal/components/TerminalDialog/composables/scrcpy.js', 'src/store/preference/index.js', 'src/bootstrap/default/index.js']\n",
            "Prediction: ['git_rep/docs/en/reference/scrcpy/develop.md::chunk_0', 'git_rep/electron/exposes/scrcpy/index.js::chunk_0', 'git_rep/electron/configs/scrcpy/index.js::chunk_0', 'git_rep/docs/en/reference/scrcpy/index.md::chunk_0', 'git_rep/docs/en/reference/scrcpy/linux.md::chunk_0', 'git_rep/docs/zhHans/reference/scrcpy/control.md::chunk_0', 'git_rep/docs/zhHans/reference/scrcpy/connection.md::chunk_0', 'git_rep/docs/en/reference/scrcpy/connection.md::chunk_0', 'git_rep/docs/en/reference/scrcpy/shortcuts.md::chunk_0', 'git_rep/docs/en/reference/scrcpy/tunnels.md::chunk_0']\n",
            "\n",
            "Question: Where in the codebase are the user preference configurations (for video, audio, window controls, etc.) defined and saved, and how are these settings applied to the mirroring process?\n",
            "Recall@10: 0.25\n",
            "Answer: ['src/store/preference/model/video/index.js', 'src/store/preference/model/audio/index.js', 'src/store/preference/model/window/index.js', 'src/store/preference/model/device/index.js', 'src/store/preference/model/input/index.js', 'src/store/preference/model/record/index.js', 'src/store/preference/model/common/index.js', 'src/pages/device/components/MirrorAction/index.vue']\n",
            "Prediction: ['git_rep/docs/en/guide/preferences.md::chunk_0', 'git_rep/docs/en/guide/milestones.md::chunk_0', 'git_rep/docs/en/guide/operation.md::chunk_0', 'git_rep/src/store/preference/model/video/index.js::chunk_0', 'git_rep/docs/en/reference/scrcpy/develop.md::chunk_0', 'git_rep/docs/en/reference/scrcpy/video.md::chunk_0', 'git_rep/src/composables/useMirrorAction/index.js::chunk_0', 'git_rep/docs/en/reference/scrcpy/control.md::chunk_0', 'git_rep/src/store/preference/model/audio/index.js::chunk_0', 'git_rep/docs/en/guide/index.md::chunk_0']\n",
            "\n",
            "Question: What is the implementation strategy for the auto-connect and auto-mirroring features? In which module or function does the logic reside, and how does it interact with device detection?\n",
            "Recall@10: 0.00\n",
            "Answer: ['src/store/preference/model/common/index.js', 'electron/configs/android-platform-tools/index.js', 'electron/configs/scrcpy/index.js', 'src/store/preference/model/video/index.js', 'src/utils/device/generateAdbPairingQR/index.js', 'src/pages/device/components/WirelessGroup/QrAction/index.vue']\n",
            "Prediction: ['git_rep/docs/en/guide/milestones.md::chunk_0', 'git_rep/docs/en/guide/operation.md::chunk_0', 'git_rep/docs/en/reference/gnirehtet/api.md::chunk_0', 'git_rep/docs/en/guide/index.md::chunk_0', 'git_rep/docs/en/reference/gnirehtet/index.md::chunk_0', 'git_rep/docs/en/guide/preferences.md::chunk_0', 'git_rep/docs/en/reference/scrcpy/develop.md::chunk_0', 'git_rep/docs/en/reference/scrcpy/connection.md::chunk_0', 'git_rep/docs/en/reference/scrcpy/index.md::chunk_0', 'git_rep/CHANGELOG.md::chunk_0']\n",
            "\n",
            "Question: How are batch processing operations (such as batch file management, batch app installation, and execution of scripts) implemented in the source code? Which parts handle the scheduling and execution of these tasks?\n",
            "Recall@10: 0.00\n",
            "Answer: ['src/composables/useFileActions/index.js', 'src/composables/useInstallAction/index.js', 'src/composables/useShellAction/index.js', 'src/store/task/index.js']\n",
            "Prediction: ['git_rep/docs/en/guide/operation.md::chunk_0', 'git_rep/docs/en/guide/milestones.md::chunk_0', 'git_rep/docs/en/reference/scrcpy/develop.md::chunk_0', 'git_rep/electron/exposes/scrcpy/index.js::chunk_0', 'git_rep/electron/ipc/index.js::chunk_0', 'git_rep/electron/resources/extra/win/vbs/create-desktop-shortcuts.vbs::chunk_0', 'git_rep/electron/exposes/adb/index.js::chunk_0', 'git_rep/electron/resources/extra/win/scrcpy/scrcpy-noconsole.vbs::chunk_0', 'git_rep/docs/en/reference/scrcpy/shortcuts.md::chunk_0', 'git_rep/scripts/helpers/index.js::chunk_0']\n",
            "\n",
            "Question: Which file or module is responsible for mapping user shortcuts (for device control actions like home, back, screenshot, etc.) to the underlying adb or scrcpy commands, and how can these mappings be customized?\n",
            "Recall@10: 0.00\n",
            "Answer: ['electron/resources/extra/linux/scrcpy/scrcpy.1', 'src/store/preference/model/input/index.js', 'src/components/PreferenceForm/components/SelectKeyboardInject/index.vue']\n",
            "Prediction: ['git_rep/docs/en/reference/scrcpy/shortcuts.md::chunk_0', 'git_rep/docs/en/reference/scrcpy/index.md::chunk_0', 'git_rep/docs/zhHans/help/scrcpy.md::chunk_0', 'git_rep/docs/en/reference/scrcpy/otg.md::chunk_0', 'git_rep/docs/zhHans/reference/scrcpy/otg.md::chunk_0', 'git_rep/docs/en/guide/milestones.md::chunk_0', 'git_rep/docs/en/reference/scrcpy/build.md::chunk_0', 'git_rep/docs/zhHans/reference/scrcpy/shortcuts.md::chunk_0', 'git_rep/docs/zhHans/reference/scrcpy/control.md::chunk_0', 'git_rep/docs/en/reference/scrcpy/keyboard.md::chunk_0']\n",
            "\n",
            "\n",
            " Average Recall@10: 0.50\n"
          ]
        },
        {
          "output_type": "stream",
          "name": "stderr",
          "text": [
            "\n"
          ]
        },
        {
          "output_type": "execute_result",
          "data": {
            "text/plain": [
              "0.5034313725490195"
            ]
          },
          "metadata": {},
          "execution_count": 32
        }
      ]
    },
    {
      "cell_type": "markdown",
      "source": [
        "### Conclusions\n",
        "\n",
        "This result displays that smart chunking does improve the quality of generation. Simple indexing search over chunks is slightly worse, but as the number of retrieved chunks increases, the recall grows by 7 percent.\n",
        "\n",
        "My solution also includes the option to use LLM for summary generation. Despite poor quality of responses at the time, an LLM, fine-tuned for this specific task, might significantly boost the quality. It can be easily used instead of current `flan-t5-base` generator without any change of code.\n",
        "\n",
        "This pipeline can be improved with smarter chunking approach, expansion of queries and fine-tuned reranker."
      ],
      "metadata": {
        "id": "Bw3VAJA-XfYs"
      }
    }
  ]
}