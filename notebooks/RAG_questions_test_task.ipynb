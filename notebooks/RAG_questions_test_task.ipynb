{
  "nbformat": 4,
  "nbformat_minor": 0,
  "metadata": {
    "colab": {
      "provenance": []
    },
    "kernelspec": {
      "name": "python3",
      "display_name": "Python 3"
    },
    "language_info": {
      "name": "python"
    }
  },
  "cells": [
    {
      "cell_type": "markdown",
      "source": [
        "### Libraries and imports"
      ],
      "metadata": {
        "id": "4R_TQjZG5gmL"
      }
    },
    {
      "cell_type": "code",
      "source": [
        "! pip install gitpython sentence-transformers faiss-cpu tiktoken"
      ],
      "metadata": {
        "colab": {
          "base_uri": "https://localhost:8080/"
        },
        "id": "x9liYU6Dibpt",
        "outputId": "97721410-4472-41b2-e12a-5499328fd59e"
      },
      "execution_count": 1,
      "outputs": [
        {
          "output_type": "stream",
          "name": "stdout",
          "text": [
            "Requirement already satisfied: gitpython in /usr/local/lib/python3.11/dist-packages (3.1.44)\n",
            "Requirement already satisfied: sentence-transformers in /usr/local/lib/python3.11/dist-packages (3.4.1)\n",
            "Collecting faiss-cpu\n",
            "  Downloading faiss_cpu-1.10.0-cp311-cp311-manylinux_2_28_x86_64.whl.metadata (4.4 kB)\n",
            "Collecting tiktoken\n",
            "  Downloading tiktoken-0.9.0-cp311-cp311-manylinux_2_17_x86_64.manylinux2014_x86_64.whl.metadata (6.7 kB)\n",
            "Requirement already satisfied: gitdb<5,>=4.0.1 in /usr/local/lib/python3.11/dist-packages (from gitpython) (4.0.12)\n",
            "Requirement already satisfied: transformers<5.0.0,>=4.41.0 in /usr/local/lib/python3.11/dist-packages (from sentence-transformers) (4.50.3)\n",
            "Requirement already satisfied: tqdm in /usr/local/lib/python3.11/dist-packages (from sentence-transformers) (4.67.1)\n",
            "Requirement already satisfied: torch>=1.11.0 in /usr/local/lib/python3.11/dist-packages (from sentence-transformers) (2.6.0+cu124)\n",
            "Requirement already satisfied: scikit-learn in /usr/local/lib/python3.11/dist-packages (from sentence-transformers) (1.6.1)\n",
            "Requirement already satisfied: scipy in /usr/local/lib/python3.11/dist-packages (from sentence-transformers) (1.14.1)\n",
            "Requirement already satisfied: huggingface-hub>=0.20.0 in /usr/local/lib/python3.11/dist-packages (from sentence-transformers) (0.30.1)\n",
            "Requirement already satisfied: Pillow in /usr/local/lib/python3.11/dist-packages (from sentence-transformers) (11.1.0)\n",
            "Requirement already satisfied: numpy<3.0,>=1.25.0 in /usr/local/lib/python3.11/dist-packages (from faiss-cpu) (2.0.2)\n",
            "Requirement already satisfied: packaging in /usr/local/lib/python3.11/dist-packages (from faiss-cpu) (24.2)\n",
            "Requirement already satisfied: regex>=2022.1.18 in /usr/local/lib/python3.11/dist-packages (from tiktoken) (2024.11.6)\n",
            "Requirement already satisfied: requests>=2.26.0 in /usr/local/lib/python3.11/dist-packages (from tiktoken) (2.32.3)\n",
            "Requirement already satisfied: smmap<6,>=3.0.1 in /usr/local/lib/python3.11/dist-packages (from gitdb<5,>=4.0.1->gitpython) (5.0.2)\n",
            "Requirement already satisfied: filelock in /usr/local/lib/python3.11/dist-packages (from huggingface-hub>=0.20.0->sentence-transformers) (3.18.0)\n",
            "Requirement already satisfied: fsspec>=2023.5.0 in /usr/local/lib/python3.11/dist-packages (from huggingface-hub>=0.20.0->sentence-transformers) (2025.3.2)\n",
            "Requirement already satisfied: pyyaml>=5.1 in /usr/local/lib/python3.11/dist-packages (from huggingface-hub>=0.20.0->sentence-transformers) (6.0.2)\n",
            "Requirement already satisfied: typing-extensions>=3.7.4.3 in /usr/local/lib/python3.11/dist-packages (from huggingface-hub>=0.20.0->sentence-transformers) (4.13.0)\n",
            "Requirement already satisfied: charset-normalizer<4,>=2 in /usr/local/lib/python3.11/dist-packages (from requests>=2.26.0->tiktoken) (3.4.1)\n",
            "Requirement already satisfied: idna<4,>=2.5 in /usr/local/lib/python3.11/dist-packages (from requests>=2.26.0->tiktoken) (3.10)\n",
            "Requirement already satisfied: urllib3<3,>=1.21.1 in /usr/local/lib/python3.11/dist-packages (from requests>=2.26.0->tiktoken) (2.3.0)\n",
            "Requirement already satisfied: certifi>=2017.4.17 in /usr/local/lib/python3.11/dist-packages (from requests>=2.26.0->tiktoken) (2025.1.31)\n",
            "Requirement already satisfied: networkx in /usr/local/lib/python3.11/dist-packages (from torch>=1.11.0->sentence-transformers) (3.4.2)\n",
            "Requirement already satisfied: jinja2 in /usr/local/lib/python3.11/dist-packages (from torch>=1.11.0->sentence-transformers) (3.1.6)\n",
            "Collecting nvidia-cuda-nvrtc-cu12==12.4.127 (from torch>=1.11.0->sentence-transformers)\n",
            "  Downloading nvidia_cuda_nvrtc_cu12-12.4.127-py3-none-manylinux2014_x86_64.whl.metadata (1.5 kB)\n",
            "Collecting nvidia-cuda-runtime-cu12==12.4.127 (from torch>=1.11.0->sentence-transformers)\n",
            "  Downloading nvidia_cuda_runtime_cu12-12.4.127-py3-none-manylinux2014_x86_64.whl.metadata (1.5 kB)\n",
            "Collecting nvidia-cuda-cupti-cu12==12.4.127 (from torch>=1.11.0->sentence-transformers)\n",
            "  Downloading nvidia_cuda_cupti_cu12-12.4.127-py3-none-manylinux2014_x86_64.whl.metadata (1.6 kB)\n",
            "Collecting nvidia-cudnn-cu12==9.1.0.70 (from torch>=1.11.0->sentence-transformers)\n",
            "  Downloading nvidia_cudnn_cu12-9.1.0.70-py3-none-manylinux2014_x86_64.whl.metadata (1.6 kB)\n",
            "Collecting nvidia-cublas-cu12==12.4.5.8 (from torch>=1.11.0->sentence-transformers)\n",
            "  Downloading nvidia_cublas_cu12-12.4.5.8-py3-none-manylinux2014_x86_64.whl.metadata (1.5 kB)\n",
            "Collecting nvidia-cufft-cu12==11.2.1.3 (from torch>=1.11.0->sentence-transformers)\n",
            "  Downloading nvidia_cufft_cu12-11.2.1.3-py3-none-manylinux2014_x86_64.whl.metadata (1.5 kB)\n",
            "Collecting nvidia-curand-cu12==10.3.5.147 (from torch>=1.11.0->sentence-transformers)\n",
            "  Downloading nvidia_curand_cu12-10.3.5.147-py3-none-manylinux2014_x86_64.whl.metadata (1.5 kB)\n",
            "Collecting nvidia-cusolver-cu12==11.6.1.9 (from torch>=1.11.0->sentence-transformers)\n",
            "  Downloading nvidia_cusolver_cu12-11.6.1.9-py3-none-manylinux2014_x86_64.whl.metadata (1.6 kB)\n",
            "Collecting nvidia-cusparse-cu12==12.3.1.170 (from torch>=1.11.0->sentence-transformers)\n",
            "  Downloading nvidia_cusparse_cu12-12.3.1.170-py3-none-manylinux2014_x86_64.whl.metadata (1.6 kB)\n",
            "Requirement already satisfied: nvidia-cusparselt-cu12==0.6.2 in /usr/local/lib/python3.11/dist-packages (from torch>=1.11.0->sentence-transformers) (0.6.2)\n",
            "Requirement already satisfied: nvidia-nccl-cu12==2.21.5 in /usr/local/lib/python3.11/dist-packages (from torch>=1.11.0->sentence-transformers) (2.21.5)\n",
            "Requirement already satisfied: nvidia-nvtx-cu12==12.4.127 in /usr/local/lib/python3.11/dist-packages (from torch>=1.11.0->sentence-transformers) (12.4.127)\n",
            "Collecting nvidia-nvjitlink-cu12==12.4.127 (from torch>=1.11.0->sentence-transformers)\n",
            "  Downloading nvidia_nvjitlink_cu12-12.4.127-py3-none-manylinux2014_x86_64.whl.metadata (1.5 kB)\n",
            "Requirement already satisfied: triton==3.2.0 in /usr/local/lib/python3.11/dist-packages (from torch>=1.11.0->sentence-transformers) (3.2.0)\n",
            "Requirement already satisfied: sympy==1.13.1 in /usr/local/lib/python3.11/dist-packages (from torch>=1.11.0->sentence-transformers) (1.13.1)\n",
            "Requirement already satisfied: mpmath<1.4,>=1.1.0 in /usr/local/lib/python3.11/dist-packages (from sympy==1.13.1->torch>=1.11.0->sentence-transformers) (1.3.0)\n",
            "Requirement already satisfied: tokenizers<0.22,>=0.21 in /usr/local/lib/python3.11/dist-packages (from transformers<5.0.0,>=4.41.0->sentence-transformers) (0.21.1)\n",
            "Requirement already satisfied: safetensors>=0.4.3 in /usr/local/lib/python3.11/dist-packages (from transformers<5.0.0,>=4.41.0->sentence-transformers) (0.5.3)\n",
            "Requirement already satisfied: joblib>=1.2.0 in /usr/local/lib/python3.11/dist-packages (from scikit-learn->sentence-transformers) (1.4.2)\n",
            "Requirement already satisfied: threadpoolctl>=3.1.0 in /usr/local/lib/python3.11/dist-packages (from scikit-learn->sentence-transformers) (3.6.0)\n",
            "Requirement already satisfied: MarkupSafe>=2.0 in /usr/local/lib/python3.11/dist-packages (from jinja2->torch>=1.11.0->sentence-transformers) (3.0.2)\n",
            "Downloading faiss_cpu-1.10.0-cp311-cp311-manylinux_2_28_x86_64.whl (30.7 MB)\n",
            "\u001b[2K   \u001b[90m━━━━━━━━━━━━━━━━━━━━━━━━━━━━━━━━━━━━━━━━\u001b[0m \u001b[32m30.7/30.7 MB\u001b[0m \u001b[31m21.0 MB/s\u001b[0m eta \u001b[36m0:00:00\u001b[0m\n",
            "\u001b[?25hDownloading tiktoken-0.9.0-cp311-cp311-manylinux_2_17_x86_64.manylinux2014_x86_64.whl (1.2 MB)\n",
            "\u001b[2K   \u001b[90m━━━━━━━━━━━━━━━━━━━━━━━━━━━━━━━━━━━━━━━━\u001b[0m \u001b[32m1.2/1.2 MB\u001b[0m \u001b[31m27.2 MB/s\u001b[0m eta \u001b[36m0:00:00\u001b[0m\n",
            "\u001b[?25hDownloading nvidia_cublas_cu12-12.4.5.8-py3-none-manylinux2014_x86_64.whl (363.4 MB)\n",
            "\u001b[2K   \u001b[90m━━━━━━━━━━━━━━━━━━━━━━━━━━━━━━━━━━━━━━━━\u001b[0m \u001b[32m363.4/363.4 MB\u001b[0m \u001b[31m3.5 MB/s\u001b[0m eta \u001b[36m0:00:00\u001b[0m\n",
            "\u001b[?25hDownloading nvidia_cuda_cupti_cu12-12.4.127-py3-none-manylinux2014_x86_64.whl (13.8 MB)\n",
            "\u001b[2K   \u001b[90m━━━━━━━━━━━━━━━━━━━━━━━━━━━━━━━━━━━━━━━━\u001b[0m \u001b[32m13.8/13.8 MB\u001b[0m \u001b[31m48.5 MB/s\u001b[0m eta \u001b[36m0:00:00\u001b[0m\n",
            "\u001b[?25hDownloading nvidia_cuda_nvrtc_cu12-12.4.127-py3-none-manylinux2014_x86_64.whl (24.6 MB)\n",
            "\u001b[2K   \u001b[90m━━━━━━━━━━━━━━━━━━━━━━━━━━━━━━━━━━━━━━━━\u001b[0m \u001b[32m24.6/24.6 MB\u001b[0m \u001b[31m40.6 MB/s\u001b[0m eta \u001b[36m0:00:00\u001b[0m\n",
            "\u001b[?25hDownloading nvidia_cuda_runtime_cu12-12.4.127-py3-none-manylinux2014_x86_64.whl (883 kB)\n",
            "\u001b[2K   \u001b[90m━━━━━━━━━━━━━━━━━━━━━━━━━━━━━━━━━━━━━━━━\u001b[0m \u001b[32m883.7/883.7 kB\u001b[0m \u001b[31m35.8 MB/s\u001b[0m eta \u001b[36m0:00:00\u001b[0m\n",
            "\u001b[?25hDownloading nvidia_cudnn_cu12-9.1.0.70-py3-none-manylinux2014_x86_64.whl (664.8 MB)\n",
            "\u001b[2K   \u001b[90m━━━━━━━━━━━━━━━━━━━━━━━━━━━━━━━━━━━━━━━━\u001b[0m \u001b[32m664.8/664.8 MB\u001b[0m \u001b[31m1.2 MB/s\u001b[0m eta \u001b[36m0:00:00\u001b[0m\n",
            "\u001b[?25hDownloading nvidia_cufft_cu12-11.2.1.3-py3-none-manylinux2014_x86_64.whl (211.5 MB)\n",
            "\u001b[2K   \u001b[90m━━━━━━━━━━━━━━━━━━━━━━━━━━━━━━━━━━━━━━━━\u001b[0m \u001b[32m211.5/211.5 MB\u001b[0m \u001b[31m2.4 MB/s\u001b[0m eta \u001b[36m0:00:00\u001b[0m\n",
            "\u001b[?25hDownloading nvidia_curand_cu12-10.3.5.147-py3-none-manylinux2014_x86_64.whl (56.3 MB)\n",
            "\u001b[2K   \u001b[90m━━━━━━━━━━━━━━━━━━━━━━━━━━━━━━━━━━━━━━━━\u001b[0m \u001b[32m56.3/56.3 MB\u001b[0m \u001b[31m11.4 MB/s\u001b[0m eta \u001b[36m0:00:00\u001b[0m\n",
            "\u001b[?25hDownloading nvidia_cusolver_cu12-11.6.1.9-py3-none-manylinux2014_x86_64.whl (127.9 MB)\n",
            "\u001b[2K   \u001b[90m━━━━━━━━━━━━━━━━━━━━━━━━━━━━━━━━━━━━━━━━\u001b[0m \u001b[32m127.9/127.9 MB\u001b[0m \u001b[31m8.7 MB/s\u001b[0m eta \u001b[36m0:00:00\u001b[0m\n",
            "\u001b[?25hDownloading nvidia_cusparse_cu12-12.3.1.170-py3-none-manylinux2014_x86_64.whl (207.5 MB)\n",
            "\u001b[2K   \u001b[90m━━━━━━━━━━━━━━━━━━━━━━━━━━━━━━━━━━━━━━━━\u001b[0m \u001b[32m207.5/207.5 MB\u001b[0m \u001b[31m4.7 MB/s\u001b[0m eta \u001b[36m0:00:00\u001b[0m\n",
            "\u001b[?25hDownloading nvidia_nvjitlink_cu12-12.4.127-py3-none-manylinux2014_x86_64.whl (21.1 MB)\n",
            "\u001b[2K   \u001b[90m━━━━━━━━━━━━━━━━━━━━━━━━━━━━━━━━━━━━━━━━\u001b[0m \u001b[32m21.1/21.1 MB\u001b[0m \u001b[31m56.0 MB/s\u001b[0m eta \u001b[36m0:00:00\u001b[0m\n",
            "\u001b[?25hInstalling collected packages: nvidia-nvjitlink-cu12, nvidia-curand-cu12, nvidia-cufft-cu12, nvidia-cuda-runtime-cu12, nvidia-cuda-nvrtc-cu12, nvidia-cuda-cupti-cu12, nvidia-cublas-cu12, faiss-cpu, tiktoken, nvidia-cusparse-cu12, nvidia-cudnn-cu12, nvidia-cusolver-cu12\n",
            "  Attempting uninstall: nvidia-nvjitlink-cu12\n",
            "    Found existing installation: nvidia-nvjitlink-cu12 12.5.82\n",
            "    Uninstalling nvidia-nvjitlink-cu12-12.5.82:\n",
            "      Successfully uninstalled nvidia-nvjitlink-cu12-12.5.82\n",
            "  Attempting uninstall: nvidia-curand-cu12\n",
            "    Found existing installation: nvidia-curand-cu12 10.3.6.82\n",
            "    Uninstalling nvidia-curand-cu12-10.3.6.82:\n",
            "      Successfully uninstalled nvidia-curand-cu12-10.3.6.82\n",
            "  Attempting uninstall: nvidia-cufft-cu12\n",
            "    Found existing installation: nvidia-cufft-cu12 11.2.3.61\n",
            "    Uninstalling nvidia-cufft-cu12-11.2.3.61:\n",
            "      Successfully uninstalled nvidia-cufft-cu12-11.2.3.61\n",
            "  Attempting uninstall: nvidia-cuda-runtime-cu12\n",
            "    Found existing installation: nvidia-cuda-runtime-cu12 12.5.82\n",
            "    Uninstalling nvidia-cuda-runtime-cu12-12.5.82:\n",
            "      Successfully uninstalled nvidia-cuda-runtime-cu12-12.5.82\n",
            "  Attempting uninstall: nvidia-cuda-nvrtc-cu12\n",
            "    Found existing installation: nvidia-cuda-nvrtc-cu12 12.5.82\n",
            "    Uninstalling nvidia-cuda-nvrtc-cu12-12.5.82:\n",
            "      Successfully uninstalled nvidia-cuda-nvrtc-cu12-12.5.82\n",
            "  Attempting uninstall: nvidia-cuda-cupti-cu12\n",
            "    Found existing installation: nvidia-cuda-cupti-cu12 12.5.82\n",
            "    Uninstalling nvidia-cuda-cupti-cu12-12.5.82:\n",
            "      Successfully uninstalled nvidia-cuda-cupti-cu12-12.5.82\n",
            "  Attempting uninstall: nvidia-cublas-cu12\n",
            "    Found existing installation: nvidia-cublas-cu12 12.5.3.2\n",
            "    Uninstalling nvidia-cublas-cu12-12.5.3.2:\n",
            "      Successfully uninstalled nvidia-cublas-cu12-12.5.3.2\n",
            "  Attempting uninstall: nvidia-cusparse-cu12\n",
            "    Found existing installation: nvidia-cusparse-cu12 12.5.1.3\n",
            "    Uninstalling nvidia-cusparse-cu12-12.5.1.3:\n",
            "      Successfully uninstalled nvidia-cusparse-cu12-12.5.1.3\n",
            "  Attempting uninstall: nvidia-cudnn-cu12\n",
            "    Found existing installation: nvidia-cudnn-cu12 9.3.0.75\n",
            "    Uninstalling nvidia-cudnn-cu12-9.3.0.75:\n",
            "      Successfully uninstalled nvidia-cudnn-cu12-9.3.0.75\n",
            "  Attempting uninstall: nvidia-cusolver-cu12\n",
            "    Found existing installation: nvidia-cusolver-cu12 11.6.3.83\n",
            "    Uninstalling nvidia-cusolver-cu12-11.6.3.83:\n",
            "      Successfully uninstalled nvidia-cusolver-cu12-11.6.3.83\n",
            "Successfully installed faiss-cpu-1.10.0 nvidia-cublas-cu12-12.4.5.8 nvidia-cuda-cupti-cu12-12.4.127 nvidia-cuda-nvrtc-cu12-12.4.127 nvidia-cuda-runtime-cu12-12.4.127 nvidia-cudnn-cu12-9.1.0.70 nvidia-cufft-cu12-11.2.1.3 nvidia-curand-cu12-10.3.5.147 nvidia-cusolver-cu12-11.6.1.9 nvidia-cusparse-cu12-12.3.1.170 nvidia-nvjitlink-cu12-12.4.127 tiktoken-0.9.0\n"
          ]
        }
      ]
    },
    {
      "cell_type": "code",
      "source": [
        "import os\n",
        "import shutil\n",
        "from git import Repo\n",
        "from sentence_transformers import SentenceTransformer\n",
        "import faiss\n",
        "from os.path import isfile, join\n",
        "from glob import glob\n",
        "\n",
        "\n",
        "from fixed_token_chunker import FixedTokenChunker\n",
        "import math\n",
        "\n",
        "import numpy as np\n",
        "from sentence_transformers import CrossEncoder\n",
        "\n",
        "from transformers import pipeline\n",
        "\n",
        "import json\n",
        "from tqdm import tqdm"
      ],
      "metadata": {
        "id": "AaRJHMI75nDP"
      },
      "execution_count": 44,
      "outputs": []
    },
    {
      "cell_type": "markdown",
      "source": [
        "### Data preparation"
      ],
      "metadata": {
        "id": "fzeXO5M26GfH"
      }
    },
    {
      "cell_type": "markdown",
      "source": [
        "First we have to get the repository given the URL:"
      ],
      "metadata": {
        "id": "btZBWohd6MX6"
      }
    },
    {
      "cell_type": "code",
      "source": [
        "def clone_repo(github_url, path='git_rep'):\n",
        "    if os.path.exists(path):\n",
        "        return path\n",
        "    Repo.clone_from(github_url, path)\n",
        "    return path"
      ],
      "metadata": {
        "id": "6RzXrvv66LMO"
      },
      "execution_count": 5,
      "outputs": []
    },
    {
      "cell_type": "markdown",
      "source": [
        "Then we get filenames for all the files from this repository:"
      ],
      "metadata": {
        "id": "dS0ArJ7X6YWd"
      }
    },
    {
      "cell_type": "code",
      "source": [
        "def get_files(repo_path):\n",
        "    files = [f for f in glob(f\"{repo_path}/**/*\", recursive=True) if isfile(f)]\n",
        "    return files"
      ],
      "metadata": {
        "id": "k6hcnbcE6tZu"
      },
      "execution_count": 22,
      "outputs": []
    },
    {
      "cell_type": "markdown",
      "source": [
        "Then it's time to read the content of the files. I decided to add chunking for this task to improve the quality. I've used FixedTokenChunker implementation from [here](https://github.com/brandonstarxel/chunking_evaluation/blob/main/chunking_evaluation/chunking/fixed_token_chunker.py). I split every document into chunks of selected size (250 tokens in our case) and create index over these chunks. Each chunks is stored with metadata that allows to easily retrieve the file that this chunk belongs to. There are complex chunkers that may be used instead of FixedTokenChunker, but I decided to use it for this MVP.\n",
        "\n",
        "You may see `num_chunks` variable. It is useful, because this data displays the length of the documents, allowing us to select trainig hyperparameters after careful investigation."
      ],
      "metadata": {
        "id": "PMNBvhGU6_27"
      }
    },
    {
      "cell_type": "code",
      "source": [
        "CHUNK_SIZE = 250\n",
        "CHUNK_PART = 0.25"
      ],
      "metadata": {
        "id": "cw2AX2TjBTJG"
      },
      "execution_count": 38,
      "outputs": []
    },
    {
      "cell_type": "code",
      "source": [
        "def read_files(files, chunker):\n",
        "    docs = []\n",
        "    metadata = []\n",
        "    num_chunks = []\n",
        "\n",
        "    for f in files:\n",
        "        try:\n",
        "            with open(f, 'r', encoding='utf-8') as file:\n",
        "                content = file.read()\n",
        "                chunks = chunker.split_text(content)\n",
        "\n",
        "                num_chunks.append(len(chunks))\n",
        "                for i, chunk in enumerate(chunks):\n",
        "                    docs.append(chunk)\n",
        "                    metadata.append(f\"{f}::chunk_{i}\")\n",
        "        except:\n",
        "            continue\n",
        "    return docs, metadata, num_chunks"
      ],
      "metadata": {
        "id": "Aoxkkw4z8rUR"
      },
      "execution_count": 34,
      "outputs": []
    },
    {
      "cell_type": "markdown",
      "source": [
        "Now we move to the indexing part. I use `all-MiniLM-L6-v2` as an encoder that maps document chunks encoding to vectors.  \n",
        "\n",
        "Then i use `faiss` library to create an index over this vectors. This library allows to search kclosest neighbours for high-dimensional vectors efficiently. I initialize this index with the code chunks encodings that were retrieved earlier.  "
      ],
      "metadata": {
        "id": "nigclE0b-sv3"
      }
    },
    {
      "cell_type": "code",
      "source": [
        "def indexing(docs, metadata, model_name='all-MiniLM-L6-v2'):\n",
        "    model = SentenceTransformer(model_name)\n",
        "    embeddings = model.encode(docs, convert_to_tensor=False)\n",
        "\n",
        "    dim = len(embeddings[0])\n",
        "    index = faiss.IndexFlatL2(dim)\n",
        "    index.add(embeddings)\n",
        "    return index, embeddings, metadata"
      ],
      "metadata": {
        "id": "8iqxZDSQ-w-g"
      },
      "execution_count": 36,
      "outputs": []
    },
    {
      "cell_type": "markdown",
      "source": [
        "And here is the full pipeline that allows user to create an index from the github url:"
      ],
      "metadata": {
        "id": "TgWbUokL_-et"
      }
    },
    {
      "cell_type": "code",
      "execution_count": 41,
      "metadata": {
        "id": "G9BCz6bcePGo"
      },
      "outputs": [],
      "source": [
        "def build_index_from_github(github_url):\n",
        "    repo_path = clone_repo(github_url)\n",
        "    files = get_files(repo_path)\n",
        "\n",
        "    chunker = FixedTokenChunker(chunk_size=CHUNK_SIZE, chunk_overlap=int(CHUNK_PART * CHUNK_SIZE), encoding_name=\"cl100k_base\")\n",
        "\n",
        "    docs, metadata, num_chunks = read_files(files, chunker)\n",
        "    index, embeddings, metadata = indexing(docs, metadata)\n",
        "    return index, embeddings, metadata, docs, num_chunks\n"
      ]
    },
    {
      "cell_type": "markdown",
      "source": [
        "### Indexing example"
      ],
      "metadata": {
        "id": "dBu3SlwmBgB6"
      }
    },
    {
      "cell_type": "code",
      "source": [
        "github_url = \"https://github.com/viarotel-org/escrcpy\"\n"
      ],
      "metadata": {
        "id": "FwXhBgKZiyT8"
      },
      "execution_count": 42,
      "outputs": []
    },
    {
      "cell_type": "code",
      "source": [
        "index, embeddings, metadata, docs, num_chunks = build_index_from_github(github_url)"
      ],
      "metadata": {
        "colab": {
          "base_uri": "https://localhost:8080/",
          "height": 491,
          "referenced_widgets": [
            "603b57fa3360495dadd629c91bf805f5",
            "31fdb0da618641eb81b1acaa28ed2951",
            "9c13027cb12849a6bf97772e0ef0b866",
            "db7dc7b3e1364774b0e115803d45d947",
            "5ac28d7610974efbb58e41fdaed9b4e9",
            "eb41c13aec684815978da4aed7165ab0",
            "394da35028184d93b876743dc55d32da",
            "8ccc0043652f4c77829dd0abf43b59fb",
            "6e9a53fb951442b3b37aedaa5c05d703",
            "5ebd5bc88ecc4a368c648222f0f968c9",
            "d563d3ec0bab436f9119be23c642e442",
            "4f96c86b92664873baeda8200f007eb1",
            "525049b1497b4789b92a41fb15825c80",
            "c87e228ce4604aec8d52b51a7d088617",
            "9085d62e84544400a307828b2beb7683",
            "529fadffc13342eb8d508fa721b56e32",
            "2491613ff7bb4de2871750bbf5b41186",
            "32990e8b2dae4de2a0abb86038e7b828",
            "a3c416567c524e3eae2d2d970e6d18b1",
            "dcb25a473a7747a1a31665bed98fc20a",
            "fdbb02292eaf449caac3d523bcdf9b5d",
            "ebaf5621b34b48d4a52acf79568549ce",
            "dc67dc07386b49ad8892118b5bb22fbd",
            "b1da10cccdf1455daf7cc45c29667d9b",
            "5ad2c8794c6c4d7db169e8a3a1759523",
            "dbd515794bff4a7ea9436db8f4eb91de",
            "c07d79daf2404298ad8e885a1c3d789a",
            "25ea1e5acd784b0ba11bb79f0b923a10",
            "e5aa35347d92415385521b5f0e45213e",
            "111ec3a950b34025a15434ba57370047",
            "7d31d786daae445aae89afe393717c44",
            "904595133de04534948a39ab8bd84377",
            "f3b8d0c53a0e426389b4817abd3a928d",
            "1fa58fa0afb4455a8bcbf7bf76a3d401",
            "830de4ae7caa4eb0afd2f070f8c51318",
            "2638fa9f7fc64c0f99330782db529d50",
            "2a4a30996c354dbbbf3c7b155beeaf82",
            "b11b804de5f14ff5bd129d70153e8e9d",
            "b232820620e242399c97b4e828133ff2",
            "dd4b508a55a249d1a914a0b15317533d",
            "792224cb618b4ce48af40529256d0ddf",
            "cc8ce454c4a94a46933921a0e9cef115",
            "c53f3684c79b4835ab9f876f74c98cb1",
            "b1a7a0922b5d49579618cbacff93da1a",
            "7b7809f4ff5b47698f34a3343984c60b",
            "60a06284c8ba4917818c256f9510428f",
            "87c1af4d288c4f96b5d3b3ec189e0277",
            "b4a7116995e545d29eafa98be81b38b7",
            "b30c140c60a240c384a285419ff5a627",
            "270d0d686ac04d5ca4cbfef296e40bae",
            "7908de69dce94630a5935aab6923c011",
            "aac25f12a33741eb8f72a4bd38b043d8",
            "6bce755f99714d3ba8237cde98b6c3d3",
            "b410ea4da2c44ad7a10a3bf1a16f356e",
            "66b4de0dcf4e4ae4afb01278559a5e94",
            "46237f8523764a68a46519fbb10976b8",
            "50a4f039c15b42c0921f130b1d781144",
            "8743c1a4e4274be1a9391c531e977224",
            "e5b5e4d78fae4371bf093f3bd4b04260",
            "e4303f4af64442f49c35909be90fae15",
            "d3baca521d2345029220a85dc5d1860c",
            "e74c6c1021d44bb6a77d8d69e4486faa",
            "3da501b310fb4839b2c0ae4bd27e79b8",
            "f3174767cdaa4f27ae64abd0489a0286",
            "0bf81be06c3b4827a07ff695db244899",
            "34fbf1bf83e84e208c8a3c94b880038c",
            "7ec6cd619ee141c7bdfbdc70209f6e4f",
            "34024bb953bb42aea2ca0b32cd71375b",
            "274e1c616b4a42d4917e6e8587aa7e07",
            "83b92bfe030643f580c6d21fdef9c08c",
            "bb56ba83e89e436599446b0e9405e644",
            "17cb3cf451d649f69c9fdc338ab8b175",
            "ced2b39df3004c25b9dbfce89e6fec66",
            "9cda52ddc11f4b0b9681595fc798f751",
            "e24bf53029014f88950f29bc8478eec7",
            "19d33a6364024bd183d1f2f90147f29b",
            "392cf61b64d343049c79aa50de7e505a",
            "27c2e7b6cfb943628505d462d8dba461",
            "0338d57450254b40b11cbc6468072731",
            "34862e97fb0b4ccea65008811b2a6b81",
            "716ecbcbca794dea9883b95208c11548",
            "65f7bb3d19a047b8b38d5adcc617999e",
            "bd07aab5ef28454a9530294aca194bb8",
            "f6136c1736974168ad6b606c5ef7ddbc",
            "17b8289601a843e3918692995fd882ac",
            "7b6b2bb0c45f4d57b7371e72b11eee93",
            "13844fd616b64e9dad5cf01a961a75f2",
            "28a590c1b0984cc4b740f273dd9e9f02",
            "f2b6acf7900d4f4c8241661cfb3e1867",
            "4361974a1983429fa824a829f68fb94a",
            "39c18ddcd055471aba3a96b9c24cbcd6",
            "c6cf96c180fb473d907461da1e9a55fa",
            "4e4d446256cd4aa681edd736486f653b",
            "685fa270f0584d0084c31026cfbe4c67",
            "e33685641eb74be69bce015d72ff7bd7",
            "fda1f9155bc04e5e8ac84e2abb595f97",
            "9cae4e2584c2469284dd4b72dbe37e5a",
            "8e854b2de0d54c1d84f38b3ed575440f",
            "83dc37452e7b47c1835b7fb86c9e65e2",
            "c5683d382ddf49699006a98f8d1a4fae",
            "c001abdb90af45c8b90efb94783e790a",
            "7902249b5f7442db96be634ae393ea05",
            "9c522fce371743c58c476f5ad86545a2",
            "0a4fec656f2f40e5b72b7627b4c2010d",
            "7e8cc448a3e240d2bc8c1a564a8d3a13",
            "82226ab798504224b4ec2737ce99a908",
            "8ef81d6001894399aba913165424f495",
            "97d2b66bc16f43339b95517646313c8f",
            "894ef788564b405884f266c028bc2f64",
            "87a9b6f2dccf49a3ad3abeb076cec085",
            "29300572d5ce42e583267018c0c4be1c",
            "4e9524cfae184beda2c0f93e8ab3b4af",
            "275ed837566e49b6a8ea88080c15e919",
            "a6ae29b293a94f509eb20234f194c9d5",
            "5e831c47ce204c77987e47c59b569041",
            "5ac0d6ce711c4586962c2705f4d1ddb1",
            "afb588e382354171a0bc248a4c4c9003",
            "25bc93d7a6e84e71a88bf0be4c15311e",
            "93f7d2d0f3ab45239f6a2884039b2bbf",
            "c86331ed48294d42ac94ec6673a54ecb",
            "c9dbc8d05ba044e6b18e1311beaf1a4b"
          ]
        },
        "id": "yM6Re7NZkutW",
        "outputId": "c711e1f2-2fd7-473f-b696-4e9aaf5bd19e"
      },
      "execution_count": 43,
      "outputs": [
        {
          "output_type": "stream",
          "name": "stderr",
          "text": [
            "/usr/local/lib/python3.11/dist-packages/huggingface_hub/utils/_auth.py:94: UserWarning: \n",
            "The secret `HF_TOKEN` does not exist in your Colab secrets.\n",
            "To authenticate with the Hugging Face Hub, create a token in your settings tab (https://huggingface.co/settings/tokens), set it as secret in your Google Colab and restart your session.\n",
            "You will be able to reuse this secret in all of your notebooks.\n",
            "Please note that authentication is recommended but still optional to access public models or datasets.\n",
            "  warnings.warn(\n"
          ]
        },
        {
          "output_type": "display_data",
          "data": {
            "text/plain": [
              "modules.json:   0%|          | 0.00/349 [00:00<?, ?B/s]"
            ],
            "application/vnd.jupyter.widget-view+json": {
              "version_major": 2,
              "version_minor": 0,
              "model_id": "603b57fa3360495dadd629c91bf805f5"
            }
          },
          "metadata": {}
        },
        {
          "output_type": "display_data",
          "data": {
            "text/plain": [
              "config_sentence_transformers.json:   0%|          | 0.00/116 [00:00<?, ?B/s]"
            ],
            "application/vnd.jupyter.widget-view+json": {
              "version_major": 2,
              "version_minor": 0,
              "model_id": "4f96c86b92664873baeda8200f007eb1"
            }
          },
          "metadata": {}
        },
        {
          "output_type": "display_data",
          "data": {
            "text/plain": [
              "README.md:   0%|          | 0.00/10.5k [00:00<?, ?B/s]"
            ],
            "application/vnd.jupyter.widget-view+json": {
              "version_major": 2,
              "version_minor": 0,
              "model_id": "dc67dc07386b49ad8892118b5bb22fbd"
            }
          },
          "metadata": {}
        },
        {
          "output_type": "display_data",
          "data": {
            "text/plain": [
              "sentence_bert_config.json:   0%|          | 0.00/53.0 [00:00<?, ?B/s]"
            ],
            "application/vnd.jupyter.widget-view+json": {
              "version_major": 2,
              "version_minor": 0,
              "model_id": "1fa58fa0afb4455a8bcbf7bf76a3d401"
            }
          },
          "metadata": {}
        },
        {
          "output_type": "display_data",
          "data": {
            "text/plain": [
              "config.json:   0%|          | 0.00/612 [00:00<?, ?B/s]"
            ],
            "application/vnd.jupyter.widget-view+json": {
              "version_major": 2,
              "version_minor": 0,
              "model_id": "7b7809f4ff5b47698f34a3343984c60b"
            }
          },
          "metadata": {}
        },
        {
          "output_type": "display_data",
          "data": {
            "text/plain": [
              "model.safetensors:   0%|          | 0.00/90.9M [00:00<?, ?B/s]"
            ],
            "application/vnd.jupyter.widget-view+json": {
              "version_major": 2,
              "version_minor": 0,
              "model_id": "46237f8523764a68a46519fbb10976b8"
            }
          },
          "metadata": {}
        },
        {
          "output_type": "display_data",
          "data": {
            "text/plain": [
              "tokenizer_config.json:   0%|          | 0.00/350 [00:00<?, ?B/s]"
            ],
            "application/vnd.jupyter.widget-view+json": {
              "version_major": 2,
              "version_minor": 0,
              "model_id": "7ec6cd619ee141c7bdfbdc70209f6e4f"
            }
          },
          "metadata": {}
        },
        {
          "output_type": "display_data",
          "data": {
            "text/plain": [
              "vocab.txt:   0%|          | 0.00/232k [00:00<?, ?B/s]"
            ],
            "application/vnd.jupyter.widget-view+json": {
              "version_major": 2,
              "version_minor": 0,
              "model_id": "27c2e7b6cfb943628505d462d8dba461"
            }
          },
          "metadata": {}
        },
        {
          "output_type": "display_data",
          "data": {
            "text/plain": [
              "tokenizer.json:   0%|          | 0.00/466k [00:00<?, ?B/s]"
            ],
            "application/vnd.jupyter.widget-view+json": {
              "version_major": 2,
              "version_minor": 0,
              "model_id": "f2b6acf7900d4f4c8241661cfb3e1867"
            }
          },
          "metadata": {}
        },
        {
          "output_type": "display_data",
          "data": {
            "text/plain": [
              "special_tokens_map.json:   0%|          | 0.00/112 [00:00<?, ?B/s]"
            ],
            "application/vnd.jupyter.widget-view+json": {
              "version_major": 2,
              "version_minor": 0,
              "model_id": "c5683d382ddf49699006a98f8d1a4fae"
            }
          },
          "metadata": {}
        },
        {
          "output_type": "display_data",
          "data": {
            "text/plain": [
              "config.json:   0%|          | 0.00/190 [00:00<?, ?B/s]"
            ],
            "application/vnd.jupyter.widget-view+json": {
              "version_major": 2,
              "version_minor": 0,
              "model_id": "29300572d5ce42e583267018c0c4be1c"
            }
          },
          "metadata": {}
        }
      ]
    },
    {
      "cell_type": "markdown",
      "source": [
        "### Search"
      ],
      "metadata": {
        "id": "yoR3yJqdCGT0"
      }
    },
    {
      "cell_type": "markdown",
      "source": [
        "Let's display the number of chunks distribution over the files:"
      ],
      "metadata": {
        "id": "2LW-7M0PCI8F"
      }
    },
    {
      "cell_type": "code",
      "source": [
        "import matplotlib.pyplot as plt\n",
        "\n",
        "plt.hist(num_chunks, bins=100)\n",
        "plt.xlabel('Number of Chunks')\n",
        "plt.ylabel('Frequency')\n",
        "plt.title('Distribution of Number of Chunks')\n",
        "plt.show()"
      ],
      "metadata": {
        "colab": {
          "base_uri": "https://localhost:8080/",
          "height": 472
        },
        "id": "qjhIMTq788-j",
        "outputId": "ee6c308f-fa2f-46be-d987-db29310a4257"
      },
      "execution_count": 30,
      "outputs": [
        {
          "output_type": "display_data",
          "data": {
            "text/plain": [
              "<Figure size 640x480 with 1 Axes>"
            ],
            "image/png": "[encoded data removed]"
          },
          "metadata": {}
        }
      ]
    },
    {
      "cell_type": "code",
      "source": [
        "np.mean(num_chunks)"
      ],
      "metadata": {
        "colab": {
          "base_uri": "https://localhost:8080/"
        },
        "id": "Y8tODtAu96LR",
        "outputId": "49660351-17db-4d6d-a7fa-e5b5be6daa20"
      },
      "execution_count": 32,
      "outputs": [
        {
          "output_type": "execute_result",
          "data": {
            "text/plain": [
              "np.float64(4.9366666666666665)"
            ]
          },
          "metadata": {},
          "execution_count": 32
        }
      ]
    },
    {
      "cell_type": "markdown",
      "source": [
        "The mean length of a file is around 5 chunks. This information is useful, because it helps us estimate the number of top-k chunks that would be retrieved from the index during our search."
      ],
      "metadata": {
        "id": "c7AOMtMU99U0"
      }
    },
    {
      "cell_type": "code",
      "source": [
        "MEAN_CHUNK_NUMBER = int(math.ceil(np.mean(num_chunks)))"
      ],
      "metadata": {
        "id": "Dni5jn7WCA1J"
      },
      "execution_count": 49,
      "outputs": []
    },
    {
      "cell_type": "markdown",
      "source": [
        "Functions for urstion embedding and filename retrieval:"
      ],
      "metadata": {
        "id": "KEM2RaG8CknG"
      }
    },
    {
      "cell_type": "code",
      "source": [
        "def embed_question(question, model):\n",
        "    return np.array([model.encode(question, convert_to_tensor=False)])"
      ],
      "metadata": {
        "id": "99itUUqbi013"
      },
      "execution_count": 46,
      "outputs": []
    },
    {
      "cell_type": "code",
      "source": [
        "def get_filename_from_chunk_metadata(meta_entry):\n",
        "    return meta_entry.split(\"::\")[0]"
      ],
      "metadata": {
        "id": "EPqkQeHgwSL6"
      },
      "execution_count": 47,
      "outputs": []
    },
    {
      "cell_type": "markdown",
      "source": [
        "I decided to use Reranker as well. It takes the retrieved files based on the chunks from the index, evaluates them and sorts again based on new evaluation."
      ],
      "metadata": {
        "id": "PpVHGPgxCrt4"
      }
    },
    {
      "cell_type": "code",
      "source": [
        "cross_encoder = CrossEncoder('cross-encoder/ms-marco-MiniLM-L-12-v2')"
      ],
      "metadata": {
        "colab": {
          "base_uri": "https://localhost:8080/",
          "height": 177,
          "referenced_widgets": [
            "dd87eef799ed491d8021f3ba26032dd5",
            "f0daf3c983774eceb6952e6e19936b54",
            "6a8bfb861df74f268904fc00e1a4cd46",
            "9968a44ffd5d488798cd3e379d218179",
            "96bf411089ee4089b50ed8c37f1dfdb9",
            "2a230f74a3a54359aa933fb21025552f",
            "db802ae150a84669bf89d48fda2aa9e5",
            "07dd7d3ed7074c3289ea6e3b930e64b3",
            "0213a939d44c44fb9cb386dcabdec2c7",
            "fdae8cd5c98f4a12a8d1d7eb1afb8fcf",
            "6dd656025ee24b919b293bb1c409b83c",
            "7237edcddda5421ab44d33178ba5af71",
            "4ddaf5ab368440ce854d88416068ab12",
            "966a98ad03e04a1f84448464cd9cff63",
            "db0251c7cf6a41a6ad71b17f5b656046",
            "3f4d3c6abd654e2d846e27394ac7df54",
            "3a02a7452f6c4c0b864737a5b88f3937",
            "4101963794d84f1b999cba5f5ffd78e9",
            "0ad4687cf65b417ca26c74a0ad2891d5",
            "6e68ceeab0114a05b4095c34d6ec1832",
            "333d004a492e45879674cb235aa3f149",
            "1ee49d55eedd420bb338993f37369441",
            "8b523aa540704ee29d41f3a496f88d4c",
            "34e1846f3db54b33b82aec60f2497c1d",
            "34db513ceb1a409ca27182f65312aad2",
            "450b868456cd4de4b045cc64c448184a",
            "490a54a4d81e42d5853e892ce9b6d140",
            "eb518fa9698f4567837c786b0698da70",
            "8d64b1597b374e61a19ef3f16f9bdc2c",
            "c7a30cb228014a0ead921246cc704c2a",
            "19a006c8667143cfaad21d4de9786fec",
            "ca4a8dbf308a48ca81f6d8cc5f68e046",
            "36f7d6deb45a4382b1300461237dc5b4",
            "ae1449d5e5a14510b3e9cac761ccf217",
            "06158c1dded848c09e92e487427ca3fa",
            "2c12788f812546b090e02e01d051aac5",
            "31d1993674ca458680813d5c916aa558",
            "9a49eb64fcf143989e1ae716bb74255a",
            "b86b88fb040c4763a87af7d16958f0d9",
            "2d017b91f0e24eaa94c9314a403d64e0",
            "2dbc68bd01f44ae6bae710761c425b96",
            "703934ff2e3d49bab1f38a55bc356118",
            "d489618402e544e2b1c6a0b3681d079a",
            "1270f730c1f64b199b76e3f65b3a57d8",
            "b40b7d9147e44f03b6beb63716cc539a",
            "c32ed13d75c44b44884d8078dc142540",
            "4a61859c7a524399beff0f0c9a0bc637",
            "ac6fc1864f894e1099d2c530122f8832",
            "a13e54c724024823be5eb4ac7b1d0b45",
            "44eedcedf9b34adca6e035c20965858c",
            "7700ef0a685d46daadadcf7dbaf3ebf8",
            "842dd90578914560a10dc6ed42030b91",
            "0d3df29b156747bcacfe637b95fe80d7",
            "0307a658d4b043e6adb0876a456e094d",
            "7a6edb9d5cbc463982ac5f9b2e69c14d"
          ]
        },
        "id": "Mx0_u-vfx84q",
        "outputId": "fde7f12b-e391-4ec5-ac4e-823d5fb16982"
      },
      "execution_count": 48,
      "outputs": [
        {
          "output_type": "display_data",
          "data": {
            "text/plain": [
              "config.json:   0%|          | 0.00/791 [00:00<?, ?B/s]"
            ],
            "application/vnd.jupyter.widget-view+json": {
              "version_major": 2,
              "version_minor": 0,
              "model_id": "dd87eef799ed491d8021f3ba26032dd5"
            }
          },
          "metadata": {}
        },
        {
          "output_type": "display_data",
          "data": {
            "text/plain": [
              "model.safetensors:   0%|          | 0.00/133M [00:00<?, ?B/s]"
            ],
            "application/vnd.jupyter.widget-view+json": {
              "version_major": 2,
              "version_minor": 0,
              "model_id": "7237edcddda5421ab44d33178ba5af71"
            }
          },
          "metadata": {}
        },
        {
          "output_type": "display_data",
          "data": {
            "text/plain": [
              "tokenizer_config.json:   0%|          | 0.00/316 [00:00<?, ?B/s]"
            ],
            "application/vnd.jupyter.widget-view+json": {
              "version_major": 2,
              "version_minor": 0,
              "model_id": "8b523aa540704ee29d41f3a496f88d4c"
            }
          },
          "metadata": {}
        },
        {
          "output_type": "display_data",
          "data": {
            "text/plain": [
              "vocab.txt:   0%|          | 0.00/232k [00:00<?, ?B/s]"
            ],
            "application/vnd.jupyter.widget-view+json": {
              "version_major": 2,
              "version_minor": 0,
              "model_id": "ae1449d5e5a14510b3e9cac761ccf217"
            }
          },
          "metadata": {}
        },
        {
          "output_type": "display_data",
          "data": {
            "text/plain": [
              "special_tokens_map.json:   0%|          | 0.00/112 [00:00<?, ?B/s]"
            ],
            "application/vnd.jupyter.widget-view+json": {
              "version_major": 2,
              "version_minor": 0,
              "model_id": "b40b7d9147e44f03b6beb63716cc539a"
            }
          },
          "metadata": {}
        }
      ]
    },
    {
      "cell_type": "markdown",
      "source": [
        "### LLM-summary"
      ],
      "metadata": {
        "id": "0yqASCzEE9FO"
      }
    },
    {
      "cell_type": "markdown",
      "source": [
        "I add LLM-summary as an extra option for the search. `google/mt5-small` model takes the corpora of files as an input and generate a short summary, answering why these documents are related to the query."
      ],
      "metadata": {
        "id": "pgmH-0CdFcyE"
      }
    },
    {
      "cell_type": "code",
      "source": [
        "generator = pipeline('text2text-generation', model='google/flan-t5-base')"
      ],
      "metadata": {
        "colab": {
          "base_uri": "https://localhost:8080/",
          "height": 346,
          "referenced_widgets": [
            "cd6656e21d7147749cd984b92518dea3",
            "b4ad044327714197ae738578692363d4",
            "701a3e3d33f6454daaca96d21264bccc",
            "9821b1859a504435a5a47ab793a93989",
            "7c77fe0bfa844e1c8f4a2cf5431c1180",
            "5ac48d16911a4981b2590b07c68c2c86",
            "5ce314a3d02f42dfb76bea6fd02099b7",
            "d53dc6a41de241b284f506d5dc7e1cae",
            "4668ac3e4dd340189bfcffaa4e774a6a",
            "b03e6ba30dd943309f3ad26e2c50bd77",
            "4a421a0475f646ecb59c4f4875c42ba2",
            "2d3e8c5ba0744b58abb8ce5c1ea7aef5",
            "7cacbb190dd3417d87a24b8ac9a8c4c9",
            "53a2cfabe44b45d8a6302bde70e53297",
            "8066b66101254128951855be761af9fe",
            "2b4a9bb8c8d8453fa338ebf1d7a4f95d",
            "1251e343968d4e4691b68734fd3e048e",
            "8f378c054d1e4698ae55ad4c20ca8f3e",
            "8929d6ae153a4bd881717c3feabd4c9a",
            "fd98cad2eb4b473faf96a0178bc5a235",
            "7b0d299b1aff4966b30bf4e93c52355b",
            "3428a61d6d9a42478b7eedcc9ec896dd",
            "1d224db83a264cfeaae5794cd56e9a26",
            "e04988c4f9d44b9e82d80344dd238ad7",
            "48cf4c9e78d24fd7abcda630ae8976a9",
            "d5933368a8d64d71a918395e0c3430fc",
            "74846cc52c284b7abad5739d257fbe87",
            "dcf7b0d203034f128181f2d3982a18dd",
            "7df40329d3074916b1834d61ad746312",
            "b92353daed7f47a484c578056808ec5a",
            "d132a614c9d14a64842215a32c6b0b0a",
            "361b1893fad94e569ad64ac0e5332aa1",
            "5d5b4a29cab34d04bf0a409ab171da67",
            "0523146133834913a73e2e5e41732f52",
            "62d009f8e8984338be94e827ce3800eb",
            "96bb2a25045845bf8f87503e6c044162",
            "df98f9f700c546b28d233a2bffcf65cc",
            "bb8f9e8117ca4bd88548da6319855c20",
            "d4be386ef4f64e54bd797eae23204a58",
            "3df7cb69d73047dc82e2e0acfa40762d",
            "2f93e3e8c8f2421faed939222ae0e626",
            "ca14477093bb41da9e60c563578851d0",
            "f96f19d5f6934eaf8f764ec6bd367be2",
            "e638219712e34e12bf6ff79db84e0f16",
            "3fd89dc72f9446f48d366c5089a95887",
            "12bea8b0612a47eea2505bbbeb30bfa5",
            "85f7ace18aa44ff19d90b34b66c13dbb",
            "946babda935a4fd58e71c31a61a2c5ec",
            "afe953ad13f24074b70d7d2c0ba2040e",
            "aaec6971b4ea47d0b5b20613ddfe05c2",
            "e8a570dc6d3e4930b72cb497b21a4953",
            "9a0b5458a9104d218e9579341c7c9b31",
            "67dfd5e6cc53402d86e6e5c68329f971",
            "2e60b37c430c4eafbfbe1decb44cac5d",
            "4f9a0f4d068f4edd8dbf92003c4a6782",
            "350588fb8cee45dab5024b81b4bdeb9d",
            "86ce1a7a99864459b03ffc3d0ecc99c6",
            "c538e967e9c84bfc8c2663bf12106646",
            "a8ccf4c5889a4413b8067d18810925fd",
            "25214b895ea940ceba7ee38c0f758dec",
            "de58bbd9a519441983a3e27dea7a0b51",
            "f531520d150f44629f71809cce14893d",
            "cdf0d6f0b7d042e58d09093e38dcc1e4",
            "c8fa1f4ba5684735839b61a56e45c943",
            "8a92ae6167bb44f5be420967e2778f6b",
            "922bf3dda6a14d36b9d980932ae89b3b",
            "7c5f71bb304e4f9ca70b61a2507585d6",
            "034162ea869d491297388fff41f49b8f",
            "211f0fc285534993b14b608e1e38d650",
            "f3d0594ac6144e63931f3451b650cc7f",
            "160c2ba08c2f41bda27e889af7474d04",
            "9d6b0907f6104b688a1d83a610c45882",
            "c4499f83d661406e80842fab4e81e29a",
            "abac529a63334315a371d5ad7159bf0d",
            "02cf6017241442a4a027359fa109f887",
            "191ca5d508a642e3a311ed8c4877e3b5",
            "bf78b7ad594b4e8a929d1acccaeb2e2e"
          ]
        },
        "id": "M6dLmJmtKVgj",
        "outputId": "bb3b57f5-5018-47b8-9725-16a2095a3b35"
      },
      "execution_count": 94,
      "outputs": [
        {
          "output_type": "display_data",
          "data": {
            "text/plain": [
              "config.json:   0%|          | 0.00/1.40k [00:00<?, ?B/s]"
            ],
            "application/vnd.jupyter.widget-view+json": {
              "version_major": 2,
              "version_minor": 0,
              "model_id": "cd6656e21d7147749cd984b92518dea3"
            }
          },
          "metadata": {}
        },
        {
          "output_type": "stream",
          "name": "stderr",
          "text": [
            "Xet Storage is enabled for this repo, but the 'hf_xet' package is not installed. Falling back to regular HTTP download. For better performance, install the package with: `pip install huggingface_hub[hf_xet]` or `pip install hf_xet`\n",
            "WARNING:huggingface_hub.file_download:Xet Storage is enabled for this repo, but the 'hf_xet' package is not installed. Falling back to regular HTTP download. For better performance, install the package with: `pip install huggingface_hub[hf_xet]` or `pip install hf_xet`\n"
          ]
        },
        {
          "output_type": "display_data",
          "data": {
            "text/plain": [
              "model.safetensors:   0%|          | 0.00/990M [00:00<?, ?B/s]"
            ],
            "application/vnd.jupyter.widget-view+json": {
              "version_major": 2,
              "version_minor": 0,
              "model_id": "2d3e8c5ba0744b58abb8ce5c1ea7aef5"
            }
          },
          "metadata": {}
        },
        {
          "output_type": "display_data",
          "data": {
            "text/plain": [
              "generation_config.json:   0%|          | 0.00/147 [00:00<?, ?B/s]"
            ],
            "application/vnd.jupyter.widget-view+json": {
              "version_major": 2,
              "version_minor": 0,
              "model_id": "1d224db83a264cfeaae5794cd56e9a26"
            }
          },
          "metadata": {}
        },
        {
          "output_type": "display_data",
          "data": {
            "text/plain": [
              "tokenizer_config.json:   0%|          | 0.00/2.54k [00:00<?, ?B/s]"
            ],
            "application/vnd.jupyter.widget-view+json": {
              "version_major": 2,
              "version_minor": 0,
              "model_id": "0523146133834913a73e2e5e41732f52"
            }
          },
          "metadata": {}
        },
        {
          "output_type": "stream",
          "name": "stderr",
          "text": [
            "Xet Storage is enabled for this repo, but the 'hf_xet' package is not installed. Falling back to regular HTTP download. For better performance, install the package with: `pip install huggingface_hub[hf_xet]` or `pip install hf_xet`\n",
            "WARNING:huggingface_hub.file_download:Xet Storage is enabled for this repo, but the 'hf_xet' package is not installed. Falling back to regular HTTP download. For better performance, install the package with: `pip install huggingface_hub[hf_xet]` or `pip install hf_xet`\n"
          ]
        },
        {
          "output_type": "display_data",
          "data": {
            "text/plain": [
              "spiece.model:   0%|          | 0.00/792k [00:00<?, ?B/s]"
            ],
            "application/vnd.jupyter.widget-view+json": {
              "version_major": 2,
              "version_minor": 0,
              "model_id": "3fd89dc72f9446f48d366c5089a95887"
            }
          },
          "metadata": {}
        },
        {
          "output_type": "display_data",
          "data": {
            "text/plain": [
              "tokenizer.json:   0%|          | 0.00/2.42M [00:00<?, ?B/s]"
            ],
            "application/vnd.jupyter.widget-view+json": {
              "version_major": 2,
              "version_minor": 0,
              "model_id": "350588fb8cee45dab5024b81b4bdeb9d"
            }
          },
          "metadata": {}
        },
        {
          "output_type": "display_data",
          "data": {
            "text/plain": [
              "special_tokens_map.json:   0%|          | 0.00/2.20k [00:00<?, ?B/s]"
            ],
            "application/vnd.jupyter.widget-view+json": {
              "version_major": 2,
              "version_minor": 0,
              "model_id": "7c5f71bb304e4f9ca70b61a2507585d6"
            }
          },
          "metadata": {}
        },
        {
          "output_type": "stream",
          "name": "stderr",
          "text": [
            "Device set to use cpu\n"
          ]
        }
      ]
    },
    {
      "cell_type": "code",
      "source": [
        "def generate_summary(generator, question, retrieved_docs):\n",
        "    context = \"\\n\\n\".join([\n",
        "        f\"File: {doc['file_path']}\\n{doc['code_snippet']}\" for doc in retrieved_docs\n",
        "    ])\n",
        "    results = []\n",
        "    prompt = f\"\"\"How do these files answer the query? Short summary.\n",
        "QUERY:\n",
        "{question}\n",
        "FILES:\n",
        "{context}\n",
        "\"\"\"\n",
        "\n",
        "    result = generator(prompt, max_length=256, do_sample=False)\n",
        "\n",
        "\n",
        "    return result[0]['generated_text'].strip()"
      ],
      "metadata": {
        "id": "TyrGyNogE9Sq"
      },
      "execution_count": 105,
      "outputs": []
    },
    {
      "cell_type": "markdown",
      "source": [
        "Now the function that takes query, model, index with matadata and docs and top_k, number of documenta that should be retrieved.\n",
        "\n",
        "Since we work with chunks, I decided to select `MEAN_CHUNK_NUMBER * top_k` closest chunks from the index. This estimation allows to expect top_k docs to be retrieved."
      ],
      "metadata": {
        "id": "Zn8p6CmHC_az"
      }
    },
    {
      "cell_type": "code",
      "source": [
        "def search_index(query, model, index, metadata, docs, cross_encoder, top_k=10, sum_generation=False, generator=None):\n",
        "    query_embedding = embed_question(query, model) # embed the query\n",
        "\n",
        "    D, I = index.search(query_embedding, top_k * MEAN_CHUNK_NUMBER) # select chunks\n",
        "    seen_files = {}\n",
        "    results = []\n",
        "\n",
        "    for idx in I[0]: # get filenames from chunks\n",
        "        file_path = get_filename_from_chunk_metadata(metadata[idx])\n",
        "        if file_path not in seen_files:\n",
        "            seen_files[file_path] = docs[idx]\n",
        "\n",
        "    candidates = [{\"file_path\": fp, \"code_snippet\": snippet} for fp, snippet in seen_files.items()] # now we work with files, not chunks\n",
        "\n",
        "    cross_encoder_input = [(query, cand[\"code_snippet\"]) for cand in candidates]\n",
        "    scores = cross_encoder.predict(cross_encoder_input) # files evaluation\n",
        "\n",
        "    for cand, score in zip(candidates, scores):\n",
        "        cand[\"score\"] = score\n",
        "\n",
        "    ranked_candidates = sorted(candidates, key=lambda x: x[\"score\"], reverse=True) # sort files in descending order\n",
        "\n",
        "    if sum_generation:\n",
        "        return ranked_candidates[:top_k], generate_summary(generator, question, ranked_candidates[:top_k])\n",
        "    else:\n",
        "        return ranked_candidates[:top_k]"
      ],
      "metadata": {
        "id": "HHoiYVH3llpU"
      },
      "execution_count": 145,
      "outputs": []
    },
    {
      "cell_type": "markdown",
      "source": [
        "### Search example"
      ],
      "metadata": {
        "id": "ni89TWdDNC7l"
      }
    },
    {
      "cell_type": "code",
      "source": [
        "model = SentenceTransformer('all-MiniLM-L6-v2')\n",
        "question = \"How does the SelectDisplay component handle the device options when retrieving display IDs?\"\n",
        "\n",
        "retrieved, summary = search_index(question, model, index, metadata, docs, cross_encoder, top_k=5, sum_generation=True, generator=generator)\n",
        "\n"
      ],
      "metadata": {
        "id": "hXTji3dTlszY"
      },
      "execution_count": 107,
      "outputs": []
    },
    {
      "cell_type": "code",
      "source": [
        "print([data_['file_path'] for data_ in retrieved])"
      ],
      "metadata": {
        "colab": {
          "base_uri": "https://localhost:8080/"
        },
        "id": "M_0-20y7Oohz",
        "outputId": "b7f7cfd6-ee86-4530-e161-b7f1979b76ea"
      },
      "execution_count": 109,
      "outputs": [
        {
          "output_type": "stream",
          "name": "stdout",
          "text": [
            "['git_rep/docs/en/reference/scrcpy/video.md', 'git_rep/src/components/PreferenceForm/components/SelectDisplay/index.vue', 'git_rep/src/pages/preference/index.vue', 'git_rep/src/store/preference/model/device/index.js', 'git_rep/src/pages/preference/components/ScopeSelect/index.vue']\n"
          ]
        }
      ]
    },
    {
      "cell_type": "code",
      "source": [
        "print(summary)"
      ],
      "metadata": {
        "colab": {
          "base_uri": "https://localhost:8080/"
        },
        "id": "MhTNxXa3Oiza",
        "outputId": "35bfb3ff-5211-4318-afe2-082fefaa41c0"
      },
      "execution_count": 108,
      "outputs": [
        {
          "output_type": "stream",
          "name": "stdout",
          "text": [
            "/script> /style> /template> /template> el-option v-for=\"item in options\" :key=\"item.id\" :label=\"item.label\" :value=\"item.value\" , , , , , , , , , , , , , , , , , , , , , , , , , , , , , , , , , , , , , , , , , , , , , , , , , , , , , , , , , , , , , ,\n"
          ]
        }
      ]
    },
    {
      "cell_type": "markdown",
      "source": [
        "We see that LLM summary generation lacks in quality. My pipeline allows easy switch to the pre-trained models, so the model can be fine-tuned for this task and put as a generator."
      ],
      "metadata": {
        "id": "Q_mCAn9NNwdL"
      }
    },
    {
      "cell_type": "markdown",
      "source": [
        "### Quality evaluation"
      ],
      "metadata": {
        "id": "8MYfPnJCO3Px"
      }
    },
    {
      "cell_type": "markdown",
      "source": [
        "Here we compute recall@10 for given answers and estimate the model judging by this metric using given json file. I compare results for simple indexing over chunks and indexing with reranker to see if it makes difference."
      ],
      "metadata": {
        "id": "ulJW-cD0Uw4u"
      }
    },
    {
      "cell_type": "code",
      "source": [
        "def recall_calc(predictions, answer):\n",
        "    matched = sum(any(ans in pred for pred in predictions) for ans in answer)\n",
        "    return matched / len(answer)\n",
        "\n",
        "def simple_index(question, model, index, metadata, docs, top_k = 10):\n",
        "    q_embed = np.array([model.encode(question, convert_to_tensor=False)])\n",
        "    D, I = index.search(q_embed, top_k)\n",
        "    pred = [metadata[i] for i in I[0]]\n",
        "\n",
        "\n",
        "    return pred\n",
        "\n",
        "def reranker_index(question, model, index, metadata, docs, top_k = 10):\n",
        "    top_k_files_data = search_index(question, model, index, metadata, docs, top_k = 10)\n",
        "\n",
        "    top_k_files = [f['file_path'] for f in top_k_files_data]\n",
        "\n",
        "    return top_k_files\n",
        "\n",
        "def recall_from_json(ans_path, get_top_k_files, model, index, docs, metadata):\n",
        "    with open(ans_path, 'r', encoding='utf-8') as f:\n",
        "        data = json.load(f)\n",
        "\n",
        "    recalls = []\n",
        "    for item in tqdm(data):\n",
        "        question = item[\"question\"]\n",
        "        relevant_files = item[\"files\"]\n",
        "\n",
        "        top_k_files = get_top_k_files(question, model, index, metadata, docs, top_k = 10)\n",
        "\n",
        "        recall = recall_calc(top_k_files, relevant_files)\n",
        "        recalls.append(recall)\n",
        "\n",
        "        print(f\"Question: {question}\")\n",
        "        print(f\"Recall@10: {recall:.2f}\")\n",
        "        print(f\"Answer: {relevant_files}\")\n",
        "        print(f\"Prediction: {top_k_files[:10]}\\n\")\n",
        "\n",
        "    avg_recall = sum(recalls) / len(recalls)\n",
        "    print(f\"\\n Average Recall@10: {avg_recall:.2f}\")\n",
        "\n",
        "    return avg_recall"
      ],
      "metadata": {
        "id": "CxGbA-J0lu-J"
      },
      "execution_count": 154,
      "outputs": []
    },
    {
      "cell_type": "code",
      "source": [
        "model = SentenceTransformer('all-MiniLM-L6-v2')"
      ],
      "metadata": {
        "id": "zUBLsunESm0B"
      },
      "execution_count": 143,
      "outputs": []
    },
    {
      "cell_type": "markdown",
      "source": [
        "The result for simple top-10 index selection:"
      ],
      "metadata": {
        "id": "bwmG7WU8WF1e"
      }
    },
    {
      "cell_type": "code",
      "source": [
        "recall_from_json('/content/escrcpy-commits-generated.json', simple_index, model, index, docs, metadata)"
      ],
      "metadata": {
        "colab": {
          "base_uri": "https://localhost:8080/"
        },
        "id": "KOlwmw1gmckB",
        "outputId": "35934818-1c9e-4fa9-ecad-f014cb479598"
      },
      "execution_count": 155,
      "outputs": [
        {
          "output_type": "stream",
          "name": "stderr",
          "text": [
            " 29%|██▉       | 10/34 [00:00<00:00, 49.37it/s]"
          ]
        },
        {
          "output_type": "stream",
          "name": "stdout",
          "text": [
            "Question: How does the SelectDisplay component handle the device options when retrieving display IDs?\n",
            "Recall@10: 1.00\n",
            "Answer: ['src/components/PreferenceForm/components/SelectDisplay/index.vue']\n",
            "Prediction: ['git_rep/src/components/PreferenceForm/components/SelectDisplay/index.vue::chunk_1', 'git_rep/src/components/PreferenceForm/components/SelectDisplay/index.vue::chunk_0', 'git_rep/src/components/PreferenceForm/components/SelectAudioCodec/index.vue::chunk_0', 'git_rep/src/components/PreferenceForm/components/SelectVideoCodec/index.vue::chunk_0', 'git_rep/src/pages/preference/components/ScopeSelect/index.vue::chunk_1', 'git_rep/docs/en/reference/scrcpy/video.md::chunk_8', 'git_rep/src/components/PreferenceForm/components/SelectVideoCodec/index.vue::chunk_1', 'git_rep/src/locales/languages/en-US.json::chunk_23', 'git_rep/electron/resources/extra/mac-x64/scrcpy/scrcpy.1::chunk_15', 'git_rep/electron/resources/extra/linux-x64/scrcpy/scrcpy.1::chunk_15']\n",
            "\n",
            "Question: How does the repository handle IPv6 addresses in ADB commands?\n",
            "Recall@10: 1.00\n",
            "Answer: ['electron/exposes/adb/helpers/index.js', 'electron/exposes/adb/index.js']\n",
            "Prediction: ['git_rep/electron/exposes/adb/index.js::chunk_10', 'git_rep/electron/exposes/adb/helpers/index.js::chunk_0', 'git_rep/docs/en/reference/gnirehtet/index.md::chunk_0', 'git_rep/docs/zhHans/reference/gnirehtet/index.md::chunk_0', 'git_rep/docs/zhHans/reference/scrcpy/connection.md::chunk_4', 'git_rep/docs/en/reference/scrcpy/tunnels.md::chunk_0', 'git_rep/docs/zhHans/reference/scrcpy/connection.md::chunk_5', 'git_rep/docs/zhHans/reference/scrcpy/tunnels.md::chunk_0', 'git_rep/docs/en/reference/scrcpy/connection.md::chunk_4', 'git_rep/docs/zhHans/reference/scrcpy/develop.md::chunk_33']\n",
            "\n",
            "Question: How does the edge hiding and snapping mechanism work for a window instance?\n",
            "Recall@10: 1.00\n",
            "Answer: ['electron/helpers/edger/index.js']\n",
            "Prediction: ['git_rep/electron/main.js::chunk_3', 'git_rep/docs/zhHans/guide/milestones.md::chunk_2', 'git_rep/electron/helpers/edger/index.js::chunk_20', 'git_rep/electron/helpers/edger/index.js::chunk_0', 'git_rep/electron/helpers/edger/index.js::chunk_15', 'git_rep/electron/helpers/edger/index.js::chunk_7', 'git_rep/electron/helpers/edger/index.js::chunk_8', 'git_rep/electron/helpers/edger/index.js::chunk_1', 'git_rep/electron/helpers/edger/index.js::chunk_21', 'git_rep/electron/helpers/edger/index.js::chunk_3']\n",
            "\n",
            "Question: Unable to detect device\n",
            "Recall@10: 0.00\n",
            "Answer: ['README-CN.md', 'README-RU.md', 'README.md']\n",
            "Prediction: ['git_rep/docs/en/help/scrcpy.md::chunk_1', 'git_rep/src/locales/languages/zh-TW.json::chunk_4', 'git_rep/electron/exposes/adb/helpers/scanner/index.js::chunk_2', 'git_rep/docs/zhHans/help/scrcpy.md::chunk_2', 'git_rep/src/locales/languages/en-US.json::chunk_3', 'git_rep/docs/en/help/scrcpy.md::chunk_5', 'git_rep/docs/zhHans/help/scrcpy.md::chunk_1', 'git_rep/electron/exposes/adb/helpers/scanner/index.js::chunk_6', 'git_rep/src/locales/languages/en-US.json::chunk_10', 'git_rep/src/components/PreferenceForm/components/helper.js::chunk_0']\n",
            "\n",
            "Question: What functionality does the component provide for mirroring a device's screen?\n",
            "Recall@10: 0.00\n",
            "Answer: ['src/pages/device/components/MirrorAction/index.vue']\n",
            "Prediction: ['git_rep/docs/en/reference/scrcpy/video.md::chunk_7', 'git_rep/docs/en/guide/index.md::chunk_0', 'git_rep/docs/en/reference/scrcpy/keyboard.md::chunk_3', 'git_rep/docs/en/reference/scrcpy/video.md::chunk_8', 'git_rep/docs/en/reference/scrcpy/device.md::chunk_2', 'git_rep/electron/resources/extra/mac-x64/scrcpy/scrcpy.1::chunk_5', 'git_rep/electron/resources/extra/linux-x64/scrcpy/scrcpy.1::chunk_5', 'git_rep/electron/resources/extra/mac-arm64/scrcpy/scrcpy.1::chunk_5', 'git_rep/src/composables/useMirrorAction/index.js::chunk_1', 'git_rep/docs/en/guide/operation.md::chunk_0']\n",
            "\n",
            "Question: How is the functionality for storing and managing Scrcpy IP type configuration implemented?\n",
            "Recall@10: 0.00\n",
            "Answer: ['electron/exposes/scrcpy/helper.js', 'electron/helpers/store.js', 'src/store/preference/helpers/index.js', 'src/store/preference/index.js']\n",
            "Prediction: ['git_rep/docs/en/reference/scrcpy/linux.md::chunk_0', 'git_rep/electron/resources/extra/mac-x64/scrcpy/scrcpy.1::chunk_16', 'git_rep/electron/resources/extra/linux-x64/scrcpy/scrcpy.1::chunk_16', 'git_rep/electron/resources/extra/mac-arm64/scrcpy/scrcpy.1::chunk_16', 'git_rep/docs/en/reference/scrcpy/develop.md::chunk_25', 'git_rep/docs/en/reference/scrcpy/build.md::chunk_8', 'git_rep/docs/en/reference/scrcpy/develop.md::chunk_7', 'git_rep/docs/en/reference/scrcpy/connection.md::chunk_0', 'git_rep/docs/en/reference/scrcpy/develop.md::chunk_6', 'git_rep/docs/en/reference/scrcpy/develop.md::chunk_21']\n",
            "\n",
            "Question: What are the common user interface labels and messages implemented in Traditional Chinese?\n",
            "Recall@10: 1.00\n",
            "Answer: ['src/locales/languages/zh-TW.json']\n",
            "Prediction: ['git_rep/docs/zhHans/help/escrcpy.md::chunk_1', 'git_rep/docs/zhHans/index.md::chunk_3', 'git_rep/docs/zhHans/guide/operation.md::chunk_0', 'git_rep/docs/en/guide/milestones.md::chunk_1', 'git_rep/src/locales/languages/zh-TW.json::chunk_2', 'git_rep/README-CN.md::chunk_2', 'git_rep/docs/zhHans/reference/scrcpy/develop.md::chunk_27', 'git_rep/docs/zhHans/guide/operation.md::chunk_1', 'git_rep/src/locales/languages/zh-TW.json::chunk_46', 'git_rep/src/locales/languages/zh-CN.json::chunk_9']\n",
            "\n",
            "Question: How is the wireless connection screen layout managed and updated across the application?\n",
            "Recall@10: 0.00\n",
            "Answer: ['src/pages/device/index.vue']\n",
            "Prediction: ['git_rep/README.md::chunk_1', 'git_rep/docs/en/guide/preferences.md::chunk_0', 'git_rep/docs/en/index.md::chunk_1', 'git_rep/CHANGELOG.md::chunk_49', 'git_rep/src/locales/languages/en-US.json::chunk_7', 'git_rep/docs/en/reference/scrcpy/develop.md::chunk_20', 'git_rep/docs/en/guide/index.md::chunk_1', 'git_rep/src/locales/languages/en-US.json::chunk_15', 'git_rep/docs/en/reference/scrcpy/develop.md::chunk_9', 'git_rep/CHANGELOG.md::chunk_11']\n",
            "\n",
            "Question: How is the wireless pairing dialog functionality implemented?\n",
            "Recall@10: 0.00\n",
            "Answer: ['src/pages/device/components/WirelessGroup/PairDialog/index.vue']\n",
            "Prediction: ['git_rep/src/locales/languages/en-US.json::chunk_7', 'git_rep/src/utils/device/generateAdbPairingQR/index.js::chunk_0', 'git_rep/src/locales/languages/en-US.json::chunk_8', 'git_rep/src/locales/languages/zh-CN.json::chunk_6', 'git_rep/src/locales/languages/en-US.json::chunk_5', 'git_rep/docs/en/help/escrcpy.md::chunk_1', 'git_rep/src/locales/languages/zh-TW.json::chunk_7', 'git_rep/src/locales/languages/zh-CN.json::chunk_5', 'git_rep/src/locales/languages/en-US.json::chunk_6', 'git_rep/src/pages/device/components/WirelessGroup/index.vue::chunk_9']\n",
            "\n",
            "Question: How is the sponsor dialog implemented to display sponsorship images dynamically?\n",
            "Recall@10: 1.00\n",
            "Answer: ['src/pages/about/components/SponsorDialog/index.vue']\n",
            "Prediction: ['git_rep/src/pages/about/components/SponsorDialog/index.vue::chunk_0', 'git_rep/README.md::chunk_5', 'git_rep/src/pages/about/index.vue::chunk_2', 'git_rep/docs/en/donate.md::chunk_0', 'git_rep/src/pages/about/components/SponsorDialog/index.vue::chunk_1', 'git_rep/README-RU.md::chunk_7', 'git_rep/src/pages/device/components/DevicePopover/index.vue::chunk_0', 'git_rep/docs/zhHans/donate.md::chunk_0', 'git_rep/src/pages/device/components/DevicePopover/index.vue::chunk_1', 'git_rep/README-CN.md::chunk_6']\n",
            "\n",
            "Question: What workflows support manual triggering in the repository?\n",
            "Recall@10: 0.00\n",
            "Answer: ['.github/workflows/release-assets.yml', '.github/workflows/sync-gitee.yml', '.github/workflows/sync-homebrew.yml']\n",
            "Prediction: ['git_rep/dev-publish.yml::chunk_0', 'git_rep/CHANGELOG.md::chunk_65', 'git_rep/CHANGELOG.md::chunk_79', 'git_rep/CHANGELOG.md::chunk_95', 'git_rep/README.md::chunk_3', 'git_rep/CHANGELOG.md::chunk_75', 'git_rep/CHANGELOG.md::chunk_58', 'git_rep/CHANGELOG.md::chunk_139', 'git_rep/CHANGELOG.md::chunk_32', 'git_rep/electron/ipc/updater/index.js::chunk_2']\n",
            "\n"
          ]
        },
        {
          "output_type": "stream",
          "name": "stderr",
          "text": [
            " 59%|█████▉    | 20/34 [00:00<00:00, 47.75it/s]"
          ]
        },
        {
          "output_type": "stream",
          "name": "stdout",
          "text": [
            "Question: How does the application determine the file path for the scrcpy executable based on the operating system and architecture?\n",
            "Recall@10: 1.00\n",
            "Answer: ['electron/configs/scrcpy/index.js']\n",
            "Prediction: ['git_rep/docs/en/reference/scrcpy/linux.md::chunk_0', 'git_rep/docs/en/reference/scrcpy/build.md::chunk_9', 'git_rep/docs/en/reference/scrcpy/develop.md::chunk_7', 'git_rep/docs/en/reference/scrcpy/linux.md::chunk_3', 'git_rep/docs/en/reference/scrcpy/develop.md::chunk_18', 'git_rep/docs/en/reference/scrcpy/windows.md::chunk_0', 'git_rep/docs/en/reference/scrcpy/control.md::chunk_6', 'git_rep/docs/en/reference/scrcpy/build.md::chunk_7', 'git_rep/electron/configs/scrcpy/index.js::chunk_0', 'git_rep/docs/en/reference/scrcpy/develop.md::chunk_0']\n",
            "\n",
            "Question: What is the purpose of the configuration specified in the version management file?\n",
            "Recall@10: 0.00\n",
            "Answer: ['.nvmdrc']\n",
            "Prediction: ['git_rep/docs/en/guide/milestones.md::chunk_0', 'git_rep/docs/en/guide/milestones.md::chunk_1', 'git_rep/LICENSE::chunk_1', 'git_rep/docs/en/reference/gnirehtet/index.md::chunk_6', 'git_rep/LICENSE::chunk_2', 'git_rep/src/locales/languages/zh-CN.json::chunk_20', 'git_rep/src/locales/languages/zh-TW.json::chunk_24', 'git_rep/docs/en/changelog.md::chunk_0', 'git_rep/CHANGELOG.md::chunk_43', 'git_rep/CHANGELOG.md::chunk_75']\n",
            "\n",
            "Question: What parameters are available for configuring video preferences in the codebase?\n",
            "Recall@10: 1.00\n",
            "Answer: ['src/store/preference/model/video/index.js']\n",
            "Prediction: ['git_rep/src/locales/languages/zh-CN.json::chunk_25', 'git_rep/src/locales/languages/zh-TW.json::chunk_30', 'git_rep/src/locales/languages/zh-TW.json::chunk_31', 'git_rep/src/locales/languages/zh-CN.json::chunk_24', 'git_rep/src/locales/languages/en-US.json::chunk_20', 'git_rep/docs/en/guide/preferences.md::chunk_0', 'git_rep/src/store/preference/model/video/index.js::chunk_1', 'git_rep/src/locales/languages/en-US.json::chunk_21', 'git_rep/src/locales/languages/ru-RU.json::chunk_30', 'git_rep/src/store/preference/model/video/index.js::chunk_0']\n",
            "\n",
            "Question: How are scheduled task timer types and time units defined in the repository?\n",
            "Recall@10: 1.00\n",
            "Answer: ['src/dicts/tasks/index.js']\n",
            "Prediction: ['git_rep/src/locales/languages/ru-RU.json::chunk_6', 'git_rep/src/dicts/tasks/index.js::chunk_0', 'git_rep/src/store/task/index.js::chunk_1', 'git_rep/src/locales/languages/zh-TW.json::chunk_5', 'git_rep/src/locales/languages/ru-RU.json::chunk_2', 'git_rep/src/locales/languages/en-US.json::chunk_4', 'git_rep/src/locales/languages/zh-CN.json::chunk_4', 'git_rep/CHANGELOG.md::chunk_47', 'git_rep/src/store/task/index.js::chunk_2', 'git_rep/src/store/task/index.js::chunk_0']\n",
            "\n",
            "Question: What configuration should domestic users apply to resolve dependency installation issues?\n",
            "Recall@10: 0.00\n",
            "Answer: ['.npmrc.CN']\n",
            "Prediction: ['git_rep/CHANGELOG.md::chunk_17', 'git_rep/docs/en/reference/scrcpy/build.md::chunk_2', 'git_rep/CHANGELOG.md::chunk_8', 'git_rep/CHANGELOG.md::chunk_104', 'git_rep/docs/en/reference/scrcpy/build.md::chunk_4', 'git_rep/docs/en/help/escrcpy.md::chunk_6', 'git_rep/CHANGELOG.md::chunk_27', 'git_rep/CHANGELOG.md::chunk_26', 'git_rep/LICENSE::chunk_10', 'git_rep/docs/en/reference/scrcpy/build.md::chunk_5']\n",
            "\n",
            "Question: What are the available localized string keys and their corresponding Russian translations in the project?\n",
            "Recall@10: 1.00\n",
            "Answer: ['src/locales/languages/ru-RU.json']\n",
            "Prediction: ['git_rep/src/locales/languages/ru-RU.json::chunk_2', 'git_rep/src/locales/languages/ru-RU.json::chunk_47', 'git_rep/src/locales/languages/ru-RU.json::chunk_48', 'git_rep/README-RU.md::chunk_4', 'git_rep/src/locales/languages/ru-RU.json::chunk_23', 'git_rep/src/locales/languages/ru-RU.json::chunk_52', 'git_rep/src/locales/languages/ru-RU.json::chunk_25', 'git_rep/README-CN.md::chunk_2', 'git_rep/src/locales/languages/ru-RU.json::chunk_35', 'git_rep/src/locales/languages/ru-RU.json::chunk_24']\n",
            "\n",
            "Question: What is the privacy policy of the app described in the repository?\n",
            "Recall@10: 1.00\n",
            "Answer: ['PRIVACY.md']\n",
            "Prediction: ['git_rep/PRIVACY.md::chunk_1', 'git_rep/PRIVACY.md::chunk_0', 'git_rep/docs/en/reference/gnirehtet/index.md::chunk_11', 'git_rep/LICENSE::chunk_3', 'git_rep/docs/en/reference/scrcpy/index.md::chunk_11', 'git_rep/electron-builder.json::chunk_3', 'git_rep/LICENSE::chunk_5', 'git_rep/dev-publish.yml::chunk_0', 'git_rep/LICENSE::chunk_8', 'git_rep/src/locales/languages/zh-TW.json::chunk_51']\n",
            "\n",
            "Question: How does the plugin integrate custom components with Element Plus features?\n",
            "Recall@10: 1.00\n",
            "Answer: ['src/plugins/element-plus/index.js']\n",
            "Prediction: ['git_rep/src/plugins/auto.js::chunk_0', 'git_rep/src/plugins/element-plus/auto.js::chunk_0', 'git_rep/vite.config.js::chunk_1', 'git_rep/src/plugins/element-plus/expands/EleFormItemCol/index.vue::chunk_0', 'git_rep/src/composables/useMessageLoading/index.js::chunk_0', 'git_rep/src/plugins/element-plus/index.js::chunk_0', 'git_rep/src/plugins/element-plus/expands/EleTooltipButton/index.vue::chunk_0', 'git_rep/src/components/QuickBar/index.vue::chunk_0', 'git_rep/vite.config.js::chunk_0', 'git_rep/src/App.vue::chunk_0']\n",
            "\n",
            "Question: What configuration is used for optimizing SVG icons in the repository?\n",
            "Recall@10: 0.00\n",
            "Answer: ['src/icons/svgo.config.js']\n",
            "Prediction: ['git_rep/src/icons/svg/wifi.svg::chunk_0', 'git_rep/src/icons/svg/multi-screen.svg::chunk_0', 'git_rep/package.json::chunk_1', 'git_rep/src/icons/components/SvgIcon.vue::chunk_0', 'git_rep/CHANGELOG.md::chunk_92', 'git_rep/docs/en/index.md::chunk_2', 'git_rep/src/icons/svg/volume-up.svg::chunk_0', 'git_rep/src/icons/svg/volume-down.svg::chunk_0', 'git_rep/src/icons/svg/command.svg::chunk_1', 'git_rep/src/icons/svg/volume-up.svg::chunk_2']\n",
            "\n",
            "Question: How is the configuration for resolving dependency installation issues specified in the project?\n",
            "Recall@10: 0.00\n",
            "Answer: ['.npmrc']\n",
            "Prediction: ['git_rep/CHANGELOG.md::chunk_17', 'git_rep/CHANGELOG.md::chunk_8', 'git_rep/docs/en/reference/scrcpy/build.md::chunk_4', 'git_rep/CHANGELOG.md::chunk_95', 'git_rep/electron-builder.json::chunk_4', 'git_rep/CHANGELOG.md::chunk_103', 'git_rep/package.json::chunk_1', 'git_rep/docs/en/reference/scrcpy/build.md::chunk_2', 'git_rep/CHANGELOG.md::chunk_75', 'git_rep/CHANGELOG.md::chunk_104']\n",
            "\n"
          ]
        },
        {
          "output_type": "stream",
          "name": "stderr",
          "text": [
            " 88%|████████▊ | 30/34 [00:00<00:00, 42.65it/s]"
          ]
        },
        {
          "output_type": "stream",
          "name": "stdout",
          "text": [
            "Question: What license terms and conditions govern the usage, reproduction, and distribution of the repository?\n",
            "Recall@10: 1.00\n",
            "Answer: ['LICENSE']\n",
            "Prediction: ['git_rep/LICENSE::chunk_3', 'git_rep/LICENSE::chunk_0', 'git_rep/docs/en/reference/scrcpy/index.md::chunk_11', 'git_rep/LICENSE::chunk_1', 'git_rep/LICENSE::chunk_5', 'git_rep/LICENSE::chunk_4', 'git_rep/LICENSE::chunk_2', 'git_rep/LICENSE::chunk_8', 'git_rep/LICENSE::chunk_7', 'git_rep/LICENSE::chunk_11']\n",
            "\n",
            "Question: How are ADB and scrcpy paths managed and utilized in the codebase?\n",
            "Recall@10: 0.00\n",
            "Answer: ['electron/exposes/scrcpy/index.js']\n",
            "Prediction: ['git_rep/src/locales/languages/en-US.json::chunk_17', 'git_rep/docs/zhHans/help/scrcpy.md::chunk_0', 'git_rep/docs/zhHans/reference/scrcpy/develop.md::chunk_7', 'git_rep/docs/en/reference/scrcpy/develop.md::chunk_7', 'git_rep/docs/zhHans/help/scrcpy.md::chunk_4', 'git_rep/docs/en/reference/scrcpy/build.md::chunk_0', 'git_rep/docs/en/reference/scrcpy/macos.md::chunk_1', 'git_rep/docs/zhHans/reference/scrcpy/windows.md::chunk_2', 'git_rep/docs/en/reference/scrcpy/develop.md::chunk_6', 'git_rep/docs/zhHans/reference/scrcpy/windows.md::chunk_1']\n",
            "\n",
            "Question: How does the code handle loading indicators in the Electron application?\n",
            "Recall@10: 1.00\n",
            "Answer: ['electron/loading/index.js']\n",
            "Prediction: ['git_rep/electron/exposes/gnirehtet/index.js::chunk_0', 'git_rep/electron/exposes/scrcpy/index.js::chunk_0', 'git_rep/src/components/ControlBar/Volume/index.vue::chunk_2', 'git_rep/electron/loading/index.js::chunk_1', 'git_rep/control/electron/helpers/index.js::chunk_0', 'git_rep/electron/exposes/electron/index.js::chunk_0', 'git_rep/src/utils/modal/index.js::chunk_0', 'git_rep/electron/ipc/tray/index.js::chunk_0', 'git_rep/electron/preload.js::chunk_0', 'git_rep/electron/helpers/single.js::chunk_0']\n",
            "\n",
            "Question: How does the theme store handle changes to the system theme and update the application state accordingly?\n",
            "Recall@10: 1.00\n",
            "Answer: ['src/store/theme/index.js']\n",
            "Prediction: ['git_rep/src/store/theme/index.js::chunk_0', 'git_rep/electron/ipc/theme/index.js::chunk_0', 'git_rep/src/store/theme/index.js::chunk_1', 'git_rep/src/pages/preference/index.vue::chunk_2', 'git_rep/src/store/index.js::chunk_0', 'git_rep/electron/ipc/index.js::chunk_0', 'git_rep/src/locales/languages/en-US.json::chunk_16', 'git_rep/electron/exposes/search/index.js::chunk_1', 'git_rep/CHANGELOG.md::chunk_51', 'git_rep/electron/helpers/store.js::chunk_0']\n",
            "\n",
            "Question: How is the Vite configuration structured to optimize the development environment's build performance?\n",
            "Recall@10: 1.00\n",
            "Answer: ['vite.config.js']\n",
            "Prediction: ['git_rep/jsconfig.json::chunk_0', 'git_rep/CHANGELOG.md::chunk_92', 'git_rep/CHANGELOG.md::chunk_50', 'git_rep/CHANGELOG.md::chunk_85', 'git_rep/package.json::chunk_5', 'git_rep/package.json::chunk_1', 'git_rep/develop.md::chunk_1', 'git_rep/vite.config.js::chunk_0', 'git_rep/CHANGELOG.md::chunk_54', 'git_rep/CHANGELOG.md::chunk_72']\n",
            "\n",
            "Question: How is the application bootstrap process initialized with a router in the codebase?\n",
            "Recall@10: 1.00\n",
            "Answer: ['src/main.js']\n",
            "Prediction: ['git_rep/src/main.js::chunk_0', 'git_rep/src/bootstrap/index.js::chunk_0', 'git_rep/control/index.js::chunk_0', 'git_rep/docs/en/reference/gnirehtet/api.md::chunk_4', 'git_rep/CHANGELOG.md::chunk_25', 'git_rep/CHANGELOG.md::chunk_50', 'git_rep/CHANGELOG.md::chunk_29', 'git_rep/docs/zhHans/reference/gnirehtet/api.md::chunk_5', 'git_rep/docs/en/reference/scrcpy/develop.md::chunk_4', 'git_rep/electron/exposes/adb/index.js::chunk_2']\n",
            "\n",
            "Question: How does the application determine and validate the paths for external binaries (like scrcpy, adb, and gnirehtet) at startup, and which module or file manages this logic?\n",
            "Recall@10: 0.00\n",
            "Answer: ['electron/configs/scrcpy/index.js', 'electron/configs/android-platform-tools/index.js', 'electron/configs/gnirehtet/index.js']\n",
            "Prediction: ['git_rep/docs/en/reference/scrcpy/develop.md::chunk_7', 'git_rep/docs/en/reference/gnirehtet/index.md::chunk_10', 'git_rep/docs/en/reference/scrcpy/develop.md::chunk_4', 'git_rep/electron/resources/extra/mac-x64/scrcpy/scrcpy.1::chunk_33', 'git_rep/electron/resources/extra/linux-x64/scrcpy/scrcpy.1::chunk_33', 'git_rep/electron/resources/extra/mac-arm64/scrcpy/scrcpy.1::chunk_33', 'git_rep/docs/en/reference/scrcpy/build.md::chunk_7', 'git_rep/docs/en/reference/scrcpy/develop.md::chunk_6', 'git_rep/docs/en/reference/scrcpy/linux.md::chunk_0', 'git_rep/docs/en/reference/scrcpy/develop.md::chunk_5']\n",
            "\n",
            "Question: Which parts of the source code implement the QR code scanning feature for wireless pairing, what libraries are used, and how is the scanned data processed to establish a connection?\n",
            "Recall@10: 0.33\n",
            "Answer: ['src/utils/device/generateAdbPairingQR/index.js', 'src/pages/device/components/WirelessGroup/QrAction/index.vue', 'package.json']\n",
            "Prediction: ['git_rep/src/utils/device/generateAdbPairingQR/index.js::chunk_0', 'git_rep/src/locales/languages/en-US.json::chunk_5', 'git_rep/docs/en/guide/index.md::chunk_1', 'git_rep/src/locales/languages/zh-TW.json::chunk_7', 'git_rep/src/locales/languages/zh-CN.json::chunk_6', 'git_rep/CHANGELOG.md::chunk_13', 'git_rep/docs/en/reference/scrcpy/develop.md::chunk_22', 'git_rep/src/utils/device/generateAdbPairingQR/index.js::chunk_1', 'git_rep/src/locales/languages/zh-TW.json::chunk_10', 'git_rep/docs/en/guide/started.md::chunk_1']\n",
            "\n",
            "Question: How is the inter-process communication handled between the Electron front end and the underlying scrcpy process? Which IPC channels or events are defined in the code?\n",
            "Recall@10: 0.00\n",
            "Answer: ['electron/exposes/scrcpy/index.js', 'electron/exposes/scrcpy/helper.js', 'electron/preload.js', 'electron/exposes/index.js', 'electron/helpers/index.js', 'electron/configs/scrcpy/index.js', 'src/pages/device/components/MirrorAction/index.vue', 'src/components/QuickBar/components/Terminal/components/TerminalDialog/composables/scrcpy.js', 'src/store/preference/index.js', 'src/bootstrap/default/index.js']\n",
            "Prediction: ['git_rep/docs/en/reference/scrcpy/develop.md::chunk_0', 'git_rep/docs/en/reference/scrcpy/develop.md::chunk_8', 'git_rep/docs/en/reference/scrcpy/develop.md::chunk_18', 'git_rep/docs/en/reference/scrcpy/develop.md::chunk_24', 'git_rep/docs/en/reference/scrcpy/develop.md::chunk_14', 'git_rep/docs/en/reference/scrcpy/develop.md::chunk_19', 'git_rep/docs/en/reference/scrcpy/develop.md::chunk_20', 'git_rep/docs/en/reference/scrcpy/develop.md::chunk_22', 'git_rep/docs/en/reference/scrcpy/index.md::chunk_9', 'git_rep/docs/en/reference/scrcpy/develop.md::chunk_2']\n",
            "\n"
          ]
        },
        {
          "output_type": "stream",
          "name": "stderr",
          "text": [
            "\r100%|██████████| 34/34 [00:00<00:00, 43.46it/s]"
          ]
        },
        {
          "output_type": "stream",
          "name": "stdout",
          "text": [
            "Question: Where in the codebase are the user preference configurations (for video, audio, window controls, etc.) defined and saved, and how are these settings applied to the mirroring process?\n",
            "Recall@10: 0.00\n",
            "Answer: ['src/store/preference/model/video/index.js', 'src/store/preference/model/audio/index.js', 'src/store/preference/model/window/index.js', 'src/store/preference/model/device/index.js', 'src/store/preference/model/input/index.js', 'src/store/preference/model/record/index.js', 'src/store/preference/model/common/index.js', 'src/pages/device/components/MirrorAction/index.vue']\n",
            "Prediction: ['git_rep/docs/en/guide/preferences.md::chunk_1', 'git_rep/docs/en/guide/preferences.md::chunk_0', 'git_rep/docs/en/reference/scrcpy/video.md::chunk_7', 'git_rep/src/locales/languages/zh-TW.json::chunk_29', 'git_rep/src/locales/languages/en-US.json::chunk_26', 'git_rep/src/locales/languages/en-US.json::chunk_19', 'git_rep/docs/en/guide/milestones.md::chunk_0', 'git_rep/src/locales/languages/zh-TW.json::chunk_30', 'git_rep/electron/resources/extra/mac-x64/scrcpy/scrcpy.1::chunk_16', 'git_rep/electron/resources/extra/linux-x64/scrcpy/scrcpy.1::chunk_16']\n",
            "\n",
            "Question: What is the implementation strategy for the auto-connect and auto-mirroring features? In which module or function does the logic reside, and how does it interact with device detection?\n",
            "Recall@10: 0.00\n",
            "Answer: ['src/store/preference/model/common/index.js', 'electron/configs/android-platform-tools/index.js', 'electron/configs/scrcpy/index.js', 'src/store/preference/model/video/index.js', 'src/utils/device/generateAdbPairingQR/index.js', 'src/pages/device/components/WirelessGroup/QrAction/index.vue']\n",
            "Prediction: ['git_rep/docs/en/reference/scrcpy/mouse.md::chunk_3', 'git_rep/src/locales/languages/en-US.json::chunk_19', 'git_rep/src/locales/languages/en-US.json::chunk_13', 'git_rep/docs/en/guide/milestones.md::chunk_0', 'git_rep/README.md::chunk_1', 'git_rep/docs/en/reference/scrcpy/keyboard.md::chunk_3', 'git_rep/docs/en/index.md::chunk_1', 'git_rep/docs/en/guide/index.md::chunk_1', 'git_rep/docs/en/reference/scrcpy/keyboard.md::chunk_5', 'git_rep/docs/en/guide/operation.md::chunk_0']\n",
            "\n",
            "Question: How are batch processing operations (such as batch file management, batch app installation, and execution of scripts) implemented in the source code? Which parts handle the scheduling and execution of these tasks?\n",
            "Recall@10: 0.00\n",
            "Answer: ['src/composables/useFileActions/index.js', 'src/composables/useInstallAction/index.js', 'src/composables/useShellAction/index.js', 'src/store/task/index.js']\n",
            "Prediction: ['git_rep/docs/en/guide/operation.md::chunk_0', 'git_rep/docs/en/guide/milestones.md::chunk_1', 'git_rep/docs/en/guide/milestones.md::chunk_0', 'git_rep/CHANGELOG.md::chunk_52', 'git_rep/CHANGELOG.md::chunk_86', 'git_rep/docs/en/reference/gnirehtet/index.md::chunk_6', 'git_rep/docs/en/reference/scrcpy/develop.md::chunk_0', 'git_rep/docs/zhHans/reference/scrcpy/windows.md::chunk_4', 'git_rep/docs/zhHans/reference/scrcpy/windows.md::chunk_3', 'git_rep/README-CN.md::chunk_4']\n",
            "\n",
            "Question: Which file or module is responsible for mapping user shortcuts (for device control actions like home, back, screenshot, etc.) to the underlying adb or scrcpy commands, and how can these mappings be customized?\n",
            "Recall@10: 0.00\n",
            "Answer: ['electron/resources/extra/linux/scrcpy/scrcpy.1', 'src/store/preference/model/input/index.js', 'src/components/PreferenceForm/components/SelectKeyboardInject/index.vue']\n",
            "Prediction: ['git_rep/src/locales/languages/en-US.json::chunk_17', 'git_rep/docs/en/reference/scrcpy/shortcuts.md::chunk_0', 'git_rep/electron/resources/extra/mac-x64/scrcpy/scrcpy.1::chunk_23', 'git_rep/electron/resources/extra/linux-x64/scrcpy/scrcpy.1::chunk_23', 'git_rep/electron/resources/extra/mac-arm64/scrcpy/scrcpy.1::chunk_23', 'git_rep/docs/en/reference/scrcpy/mouse.md::chunk_5', 'git_rep/docs/en/reference/scrcpy/index.md::chunk_8', 'git_rep/docs/en/reference/scrcpy/control.md::chunk_1', 'git_rep/docs/zhHans/reference/scrcpy/keyboard.md::chunk_4', 'git_rep/electron/resources/extra/mac-x64/scrcpy/scrcpy.1::chunk_11']\n",
            "\n",
            "\n",
            " Average Recall@10: 0.48\n"
          ]
        },
        {
          "output_type": "stream",
          "name": "stderr",
          "text": [
            "\n"
          ]
        },
        {
          "output_type": "execute_result",
          "data": {
            "text/plain": [
              "0.48039215686274506"
            ]
          },
          "metadata": {},
          "execution_count": 155
        }
      ]
    },
    {
      "cell_type": "markdown",
      "source": [
        "The result for index selection with reranker:"
      ],
      "metadata": {
        "id": "_-QlD4pWTtCd"
      }
    },
    {
      "cell_type": "code",
      "source": [
        "recall_from_json('/content/escrcpy-commits-generated.json', reranker_index, model, index, docs, metadata)"
      ],
      "metadata": {
        "colab": {
          "base_uri": "https://localhost:8080/"
        },
        "id": "db3TVQSNTIk8",
        "outputId": "aa32787b-7105-4eb6-f430-8de800b72544"
      },
      "execution_count": 151,
      "outputs": [
        {
          "output_type": "stream",
          "name": "stderr",
          "text": [
            "  3%|▎         | 1/34 [00:10<05:50, 10.63s/it]"
          ]
        },
        {
          "output_type": "stream",
          "name": "stdout",
          "text": [
            "Question: How does the SelectDisplay component handle the device options when retrieving display IDs?\n",
            "Recall@10: 1.00\n",
            "Answer: ['src/components/PreferenceForm/components/SelectDisplay/index.vue']\n",
            "Prediction: ['git_rep/electron/exposes/scrcpy/index.js', 'git_rep/docs/en/reference/scrcpy/video.md', 'git_rep/src/components/PreferenceForm/components/SelectDisplay/index.vue', 'git_rep/control/App.vue', 'git_rep/src/pages/preference/index.vue', 'git_rep/src/pages/device/index.vue', 'git_rep/src/store/preference/model/device/index.js', 'git_rep/src/pages/preference/components/ScopeSelect/index.vue', 'git_rep/src/composables/useMirrorAction/index.js', 'git_rep/src/locales/languages/en-US.json']\n",
            "\n"
          ]
        },
        {
          "output_type": "stream",
          "name": "stderr",
          "text": [
            "\r  6%|▌         | 2/34 [00:18<04:44,  8.88s/it]"
          ]
        },
        {
          "output_type": "stream",
          "name": "stdout",
          "text": [
            "Question: How does the repository handle IPv6 addresses in ADB commands?\n",
            "Recall@10: 1.00\n",
            "Answer: ['electron/exposes/adb/helpers/index.js', 'electron/exposes/adb/index.js']\n",
            "Prediction: ['git_rep/electron/exposes/adb/index.js', 'git_rep/electron/resources/extra/mac-x64/scrcpy/scrcpy.1', 'git_rep/electron/resources/extra/linux-x64/scrcpy/scrcpy.1', 'git_rep/electron/resources/extra/mac-arm64/scrcpy/scrcpy.1', 'git_rep/docs/en/reference/scrcpy/connection.md', 'git_rep/electron/exposes/adb/helpers/index.js', 'git_rep/docs/en/reference/gnirehtet/index.md', 'git_rep/electron/exposes/adb/helpers/scanner/index.js', 'git_rep/CHANGELOG.md', 'git_rep/docs/zhHans/reference/gnirehtet/index.md']\n",
            "\n"
          ]
        },
        {
          "output_type": "stream",
          "name": "stderr",
          "text": [
            "\r  9%|▉         | 3/34 [00:30<05:19, 10.30s/it]"
          ]
        },
        {
          "output_type": "stream",
          "name": "stdout",
          "text": [
            "Question: How does the edge hiding and snapping mechanism work for a window instance?\n",
            "Recall@10: 1.00\n",
            "Answer: ['electron/helpers/edger/index.js']\n",
            "Prediction: ['git_rep/docs/en/guide/milestones.md', 'git_rep/electron/helpers/edger/index.js', 'git_rep/electron/main.js', 'git_rep/electron/ipc/app/index.js', 'git_rep/electron/helpers/single.js', 'git_rep/electron/resources/extra/mac-x64/scrcpy/scrcpy.1', 'git_rep/electron/resources/extra/linux-x64/scrcpy/scrcpy.1', 'git_rep/electron/resources/extra/mac-arm64/scrcpy/scrcpy.1', 'git_rep/docs/en/reference/scrcpy/window.md', 'git_rep/docs/en/reference/scrcpy/develop.md']\n",
            "\n"
          ]
        },
        {
          "output_type": "stream",
          "name": "stderr",
          "text": [
            "\r 12%|█▏        | 4/34 [00:40<05:09, 10.33s/it]"
          ]
        },
        {
          "output_type": "stream",
          "name": "stdout",
          "text": [
            "Question: Unable to detect device\n",
            "Recall@10: 0.00\n",
            "Answer: ['README-CN.md', 'README-RU.md', 'README.md']\n",
            "Prediction: ['git_rep/docs/en/help/escrcpy.md', 'git_rep/src/locales/languages/en-US.json', 'git_rep/docs/en/help/scrcpy.md', 'git_rep/docs/en/guide/started.md', 'git_rep/src/locales/languages/ru-RU.json', 'git_rep/src/pages/device/index.vue', 'git_rep/docs/zhHans/help/scrcpy.md', 'git_rep/electron/exposes/adb/helpers/scanner/index.js', 'git_rep/src/locales/languages/zh-TW.json', 'git_rep/src/composables/useInstallAction/index.js']\n",
            "\n"
          ]
        },
        {
          "output_type": "stream",
          "name": "stderr",
          "text": [
            "\r 15%|█▍        | 5/34 [00:47<04:27,  9.21s/it]"
          ]
        },
        {
          "output_type": "stream",
          "name": "stdout",
          "text": [
            "Question: What functionality does the component provide for mirroring a device's screen?\n",
            "Recall@10: 0.00\n",
            "Answer: ['src/pages/device/components/MirrorAction/index.vue']\n",
            "Prediction: ['git_rep/docs/en/reference/scrcpy/device.md', 'git_rep/docs/en/guide/index.md', 'git_rep/docs/en/reference/scrcpy/index.md', 'git_rep/docs/en/guide/preferences.md', 'git_rep/docs/en/reference/scrcpy/gamepad.md', 'git_rep/src/pages/device/components/BatchActions/index.vue', 'git_rep/docs/en/reference/scrcpy/video.md', 'git_rep/docs/en/reference/scrcpy/keyboard.md', 'git_rep/src/locales/languages/en-US.json', 'git_rep/README.md']\n",
            "\n"
          ]
        },
        {
          "output_type": "stream",
          "name": "stderr",
          "text": [
            "\r 18%|█▊        | 6/34 [00:55<04:05,  8.75s/it]"
          ]
        },
        {
          "output_type": "stream",
          "name": "stdout",
          "text": [
            "Question: How is the functionality for storing and managing Scrcpy IP type configuration implemented?\n",
            "Recall@10: 0.00\n",
            "Answer: ['electron/exposes/scrcpy/helper.js', 'electron/helpers/store.js', 'src/store/preference/helpers/index.js', 'src/store/preference/index.js']\n",
            "Prediction: ['git_rep/docs/en/reference/scrcpy/build.md', 'git_rep/docs/en/reference/scrcpy/connection.md', 'git_rep/docs/en/reference/scrcpy/device.md', 'git_rep/docs/en/reference/scrcpy/develop.md', 'git_rep/docs/en/reference/scrcpy/macos.md', 'git_rep/docs/en/reference/scrcpy/tunnels.md', 'git_rep/CHANGELOG.md', 'git_rep/docs/en/reference/scrcpy/linux.md', 'git_rep/docs/en/reference/scrcpy/index.md', 'git_rep/docs/zhHans/reference/scrcpy/build.md']\n",
            "\n"
          ]
        },
        {
          "output_type": "stream",
          "name": "stderr",
          "text": [
            "\r 21%|██        | 7/34 [01:05<04:06,  9.15s/it]"
          ]
        },
        {
          "output_type": "stream",
          "name": "stdout",
          "text": [
            "Question: What are the common user interface labels and messages implemented in Traditional Chinese?\n",
            "Recall@10: 1.00\n",
            "Answer: ['src/locales/languages/zh-TW.json']\n",
            "Prediction: ['git_rep/docs/zhHans/reference/scrcpy/keyboard.md', 'git_rep/docs/zhHans/reference/scrcpy/develop.md', 'git_rep/docs/zhHans/help/escrcpy.md', 'git_rep/docs/zhHans/guide/milestones.md', 'git_rep/docs/zhHans/reference/scrcpy/gamepad.md', 'git_rep/docs/zhHans/reference/scrcpy/mouse.md', 'git_rep/src/locales/languages/ru-RU.json', 'git_rep/docs/zhHans/guide/operation.md', 'git_rep/docs/zhHans/guide/index.md', 'git_rep/src/locales/languages/zh-TW.json']\n",
            "\n"
          ]
        },
        {
          "output_type": "stream",
          "name": "stderr",
          "text": [
            "\r 24%|██▎       | 8/34 [01:14<03:53,  8.97s/it]"
          ]
        },
        {
          "output_type": "stream",
          "name": "stdout",
          "text": [
            "Question: How is the wireless connection screen layout managed and updated across the application?\n",
            "Recall@10: 0.00\n",
            "Answer: ['src/pages/device/index.vue']\n",
            "Prediction: ['git_rep/CHANGELOG.md', 'git_rep/docs/en/guide/index.md', 'git_rep/docs/en/index.md', 'git_rep/README.md', 'git_rep/docs/en/guide/milestones.md', 'git_rep/src/pages/device/components/WirelessGroup/index.vue', 'git_rep/docs/en/reference/scrcpy/connection.md', 'git_rep/src/locales/languages/ru-RU.json', 'git_rep/src/locales/languages/en-US.json', 'git_rep/docs/en/reference/scrcpy/develop.md']\n",
            "\n"
          ]
        },
        {
          "output_type": "stream",
          "name": "stderr",
          "text": [
            "\r 26%|██▋       | 9/34 [01:26<04:08,  9.94s/it]"
          ]
        },
        {
          "output_type": "stream",
          "name": "stdout",
          "text": [
            "Question: How is the wireless pairing dialog functionality implemented?\n",
            "Recall@10: 1.00\n",
            "Answer: ['src/pages/device/components/WirelessGroup/PairDialog/index.vue']\n",
            "Prediction: ['git_rep/src/pages/device/components/WirelessGroup/PairDialog/index.vue', 'git_rep/docs/en/help/escrcpy.md', 'git_rep/docs/en/guide/started.md', 'git_rep/src/locales/languages/en-US.json', 'git_rep/src/locales/languages/ru-RU.json', 'git_rep/src/pages/device/components/WirelessGroup/index.vue', 'git_rep/src/utils/device/generateAdbPairingQR/index.js', 'git_rep/src/locales/languages/zh-CN.json', 'git_rep/src/locales/languages/zh-TW.json', 'git_rep/docs/en/guide/index.md']\n",
            "\n"
          ]
        },
        {
          "output_type": "stream",
          "name": "stderr",
          "text": [
            "\r 29%|██▉       | 10/34 [01:43<04:50, 12.12s/it]"
          ]
        },
        {
          "output_type": "stream",
          "name": "stdout",
          "text": [
            "Question: How is the sponsor dialog implemented to display sponsorship images dynamically?\n",
            "Recall@10: 1.00\n",
            "Answer: ['src/pages/about/components/SponsorDialog/index.vue']\n",
            "Prediction: ['git_rep/src/pages/about/index.vue', 'git_rep/src/pages/about/components/SponsorDialog/index.vue', 'git_rep/README-CN.md', 'git_rep/docs/zhHans/donate.md', 'git_rep/docs/en/donate.md', 'git_rep/README-RU.md', 'git_rep/README.md', 'git_rep/src/components/ControlBar/FileManage/FileDialog/index.vue', 'git_rep/src/components/QuickBar/components/Terminal/components/TerminalDialog/index.vue', 'git_rep/src/plugins/element-plus/restyle.css']\n",
            "\n"
          ]
        },
        {
          "output_type": "stream",
          "name": "stderr",
          "text": [
            "\r 32%|███▏      | 11/34 [01:51<04:10, 10.91s/it]"
          ]
        },
        {
          "output_type": "stream",
          "name": "stdout",
          "text": [
            "Question: What workflows support manual triggering in the repository?\n",
            "Recall@10: 0.00\n",
            "Answer: ['.github/workflows/release-assets.yml', '.github/workflows/sync-gitee.yml', '.github/workflows/sync-homebrew.yml']\n",
            "Prediction: ['git_rep/CHANGELOG.md', 'git_rep/docs/en/reference/scrcpy/index.md', 'git_rep/docs/en/reference/scrcpy/mouse.md', 'git_rep/docs/en/reference/scrcpy/develop.md', 'git_rep/README.md', 'git_rep/electron/ipc/updater/index.js', 'git_rep/README-CN.md', 'git_rep/docs/en/guide/milestones.md', 'git_rep/docs/en/reference/index.md', 'git_rep/docs/zhHans/reference/scrcpy/linux.md']\n",
            "\n"
          ]
        },
        {
          "output_type": "stream",
          "name": "stderr",
          "text": [
            "\r 35%|███▌      | 12/34 [01:58<03:36,  9.86s/it]"
          ]
        },
        {
          "output_type": "stream",
          "name": "stdout",
          "text": [
            "Question: How does the application determine the file path for the scrcpy executable based on the operating system and architecture?\n",
            "Recall@10: 1.00\n",
            "Answer: ['electron/configs/scrcpy/index.js']\n",
            "Prediction: ['git_rep/docs/en/reference/scrcpy/index.md', 'git_rep/electron/resources/extra/mac-x64/scrcpy/scrcpy.1', 'git_rep/electron/resources/extra/linux-x64/scrcpy/scrcpy.1', 'git_rep/electron/resources/extra/mac-arm64/scrcpy/scrcpy.1', 'git_rep/electron/configs/scrcpy/index.js', 'git_rep/docs/en/reference/scrcpy/build.md', 'git_rep/docs/en/reference/scrcpy/control.md', 'git_rep/docs/en/reference/scrcpy/macos.md', 'git_rep/docs/en/reference/scrcpy/linux.md', 'git_rep/electron/exposes/scrcpy/index.js']\n",
            "\n"
          ]
        },
        {
          "output_type": "stream",
          "name": "stderr",
          "text": [
            "\r 38%|███▊      | 13/34 [02:07<03:17,  9.39s/it]"
          ]
        },
        {
          "output_type": "stream",
          "name": "stdout",
          "text": [
            "Question: What is the purpose of the configuration specified in the version management file?\n",
            "Recall@10: 0.00\n",
            "Answer: ['.nvmdrc']\n",
            "Prediction: ['git_rep/docs/en/guide/milestones.md', 'git_rep/LICENSE', 'git_rep/CHANGELOG.md', 'git_rep/docs/en/changelog.md', 'git_rep/electron-builder.json', 'git_rep/docs/en/reference/scrcpy/develop.md', 'git_rep/electron/ipc/updater/index.js', 'git_rep/src/locales/languages/en-US.json', 'git_rep/src/locales/languages/zh-CN.json', 'git_rep/src/locales/languages/ru-RU.json']\n",
            "\n"
          ]
        },
        {
          "output_type": "stream",
          "name": "stderr",
          "text": [
            "\r 41%|████      | 14/34 [02:17<03:10,  9.55s/it]"
          ]
        },
        {
          "output_type": "stream",
          "name": "stdout",
          "text": [
            "Question: What parameters are available for configuring video preferences in the codebase?\n",
            "Recall@10: 1.00\n",
            "Answer: ['src/store/preference/model/video/index.js']\n",
            "Prediction: ['git_rep/docs/en/guide/preferences.md', 'git_rep/src/store/preference/model/video/index.js', 'git_rep/src/locales/languages/en-US.json', 'git_rep/src/components/PreferenceForm/components/SelectVideoCodec/index.vue', 'git_rep/src/locales/languages/zh-CN.json', 'git_rep/electron/resources/extra/mac-x64/scrcpy/scrcpy.1', 'git_rep/electron/resources/extra/linux-x64/scrcpy/scrcpy.1', 'git_rep/electron/resources/extra/mac-arm64/scrcpy/scrcpy.1', 'git_rep/src/store/preference/model/input/index.js', 'git_rep/src/store/preference/model/record/index.js']\n",
            "\n"
          ]
        },
        {
          "output_type": "stream",
          "name": "stderr",
          "text": [
            "\r 44%|████▍     | 15/34 [02:27<03:06,  9.84s/it]"
          ]
        },
        {
          "output_type": "stream",
          "name": "stdout",
          "text": [
            "Question: How are scheduled task timer types and time units defined in the repository?\n",
            "Recall@10: 1.00\n",
            "Answer: ['src/dicts/tasks/index.js']\n",
            "Prediction: ['git_rep/src/dicts/tasks/index.js', 'git_rep/src/locales/languages/en-US.json', 'git_rep/src/store/task/index.js', 'git_rep/src/components/TaskListDialog/index.vue', 'git_rep/src/components/TaskDialog/index.vue', 'git_rep/src/locales/languages/ru-RU.json', 'git_rep/CHANGELOG.md', 'git_rep/src/locales/languages/zh-TW.json', 'git_rep/src/locales/languages/zh-CN.json', 'git_rep/docs/en/guide/operation.md']\n",
            "\n"
          ]
        },
        {
          "output_type": "stream",
          "name": "stderr",
          "text": [
            "\r 47%|████▋     | 16/34 [02:33<02:34,  8.59s/it]"
          ]
        },
        {
          "output_type": "stream",
          "name": "stdout",
          "text": [
            "Question: What configuration should domestic users apply to resolve dependency installation issues?\n",
            "Recall@10: 0.00\n",
            "Answer: ['.npmrc.CN']\n",
            "Prediction: ['git_rep/CHANGELOG.md', 'git_rep/docs/en/help/escrcpy.md', 'git_rep/docs/en/reference/scrcpy/build.md', 'git_rep/develop.md', 'git_rep/src/pages/device/components/BatchActions/Application/index.vue', 'git_rep/package.json', 'git_rep/docs/en/reference/scrcpy/linux.md', 'git_rep/docs/zhHans/reference/scrcpy/build.md', 'git_rep/README.md', 'git_rep/docs/zhHans/reference/gnirehtet/index.md']\n",
            "\n"
          ]
        },
        {
          "output_type": "stream",
          "name": "stderr",
          "text": [
            "\r 50%|█████     | 17/34 [02:39<02:11,  7.72s/it]"
          ]
        },
        {
          "output_type": "stream",
          "name": "stdout",
          "text": [
            "Question: What are the available localized string keys and their corresponding Russian translations in the project?\n",
            "Recall@10: 1.00\n",
            "Answer: ['src/locales/languages/ru-RU.json']\n",
            "Prediction: ['git_rep/README-RU.md', 'git_rep/docs/zhHans/reference/scrcpy/keyboard.md', 'git_rep/docs/zhHans/help/escrcpy.md', 'git_rep/README-CN.md', 'git_rep/src/locales/languages/zh-CN.json', 'git_rep/src/locales/languages/ru-RU.json', 'git_rep/docs/zhHans/guide/started.md', 'git_rep/docs/zhHans/guide/operation.md', 'git_rep/CHANGELOG.md', 'git_rep/src/locales/languages/zh-TW.json']\n",
            "\n"
          ]
        },
        {
          "output_type": "stream",
          "name": "stderr",
          "text": [
            "\r 53%|█████▎    | 18/34 [02:48<02:13,  8.35s/it]"
          ]
        },
        {
          "output_type": "stream",
          "name": "stdout",
          "text": [
            "Question: What is the privacy policy of the app described in the repository?\n",
            "Recall@10: 1.00\n",
            "Answer: ['PRIVACY.md']\n",
            "Prediction: ['git_rep/PRIVACY.md', 'git_rep/CHANGELOG.md', 'git_rep/electron-builder.json', 'git_rep/docs/zhHans/reference/scrcpy/develop.md', 'git_rep/docs/zhHans/reference/scrcpy/index.md', 'git_rep/docs/en/reference/gnirehtet/api.md', 'git_rep/src/locales/languages/zh-CN.json', 'git_rep/docs/en/reference/gnirehtet/index.md', 'git_rep/electron/preload.js', 'git_rep/docs/en/reference/scrcpy/develop.md']\n",
            "\n"
          ]
        },
        {
          "output_type": "stream",
          "name": "stderr",
          "text": [
            "\r 56%|█████▌    | 19/34 [03:02<02:30, 10.03s/it]"
          ]
        },
        {
          "output_type": "stream",
          "name": "stdout",
          "text": [
            "Question: How does the plugin integrate custom components with Element Plus features?\n",
            "Recall@10: 1.00\n",
            "Answer: ['src/plugins/element-plus/index.js']\n",
            "Prediction: ['git_rep/src/composables/useMessageLoading/index.js', 'git_rep/src/App.vue', 'git_rep/src/plugins/element-plus/index.js', 'git_rep/control/App.vue', 'git_rep/src/plugins/auto.js', 'git_rep/src/plugins/index.js', 'git_rep/src/utils/modal/index.js', 'git_rep/src/plugins/element-plus/expands/EleFormItemCol/index.vue', 'git_rep/src/composables/useInstallAction/index.js', 'git_rep/src/plugins/element-plus/expands/EleFormRow/index.vue']\n",
            "\n"
          ]
        },
        {
          "output_type": "stream",
          "name": "stderr",
          "text": [
            "\r 59%|█████▉    | 20/34 [03:12<02:19,  9.95s/it]"
          ]
        },
        {
          "output_type": "stream",
          "name": "stdout",
          "text": [
            "Question: What configuration is used for optimizing SVG icons in the repository?\n",
            "Recall@10: 0.00\n",
            "Answer: ['src/icons/svgo.config.js']\n",
            "Prediction: ['git_rep/package.json', 'git_rep/src/components/QuickBar/index.vue', 'git_rep/src/icons/svg/wifi.svg', 'git_rep/src/icons/svg/multi-screen.svg', 'git_rep/src/components/ControlBar/index.vue', 'git_rep/src/icons/components/SvgIcon.vue', 'git_rep/src/icons/svg/file-send.svg', 'git_rep/src/icons/svg/volume-mute.svg', 'git_rep/src/icons/svg/rotation.svg', 'git_rep/src/icons/svg/volume-down.svg']\n",
            "\n"
          ]
        },
        {
          "output_type": "stream",
          "name": "stderr",
          "text": [
            "\r 62%|██████▏   | 21/34 [03:20<02:00,  9.28s/it]"
          ]
        },
        {
          "output_type": "stream",
          "name": "stdout",
          "text": [
            "Question: How is the configuration for resolving dependency installation issues specified in the project?\n",
            "Recall@10: 0.00\n",
            "Answer: ['.npmrc']\n",
            "Prediction: ['git_rep/CHANGELOG.md', 'git_rep/docs/en/help/escrcpy.md', 'git_rep/develop.md', 'git_rep/electron/resources/extra/mac-x64/scrcpy/scrcpy.1', 'git_rep/electron/resources/extra/linux-x64/scrcpy/scrcpy.1', 'git_rep/electron/resources/extra/mac-arm64/scrcpy/scrcpy.1', 'git_rep/scripts/helpers/index.js', 'git_rep/docs/en/reference/scrcpy/build.md', 'git_rep/src/locales/languages/zh-TW.json', 'git_rep/package.json']\n",
            "\n"
          ]
        },
        {
          "output_type": "stream",
          "name": "stderr",
          "text": [
            "\r 65%|██████▍   | 22/34 [03:31<01:56,  9.72s/it]"
          ]
        },
        {
          "output_type": "stream",
          "name": "stdout",
          "text": [
            "Question: What license terms and conditions govern the usage, reproduction, and distribution of the repository?\n",
            "Recall@10: 1.00\n",
            "Answer: ['LICENSE']\n",
            "Prediction: ['git_rep/LICENSE', 'git_rep/docs/en/reference/gnirehtet/index.md', 'git_rep/docs/en/reference/scrcpy/index.md', 'git_rep/docs/zhHans/reference/gnirehtet/index.md', 'git_rep/docs/zhHans/reference/scrcpy/index.md', 'git_rep/README-RU.md', 'git_rep/PRIVACY.md', 'git_rep/CHANGELOG.md', 'git_rep/docs/en/reference/index.md', 'git_rep/dev-publish.yml']\n",
            "\n"
          ]
        },
        {
          "output_type": "stream",
          "name": "stderr",
          "text": [
            "\r 68%|██████▊   | 23/34 [03:39<01:43,  9.40s/it]"
          ]
        },
        {
          "output_type": "stream",
          "name": "stdout",
          "text": [
            "Question: How are ADB and scrcpy paths managed and utilized in the codebase?\n",
            "Recall@10: 1.00\n",
            "Answer: ['electron/exposes/scrcpy/index.js']\n",
            "Prediction: ['git_rep/src/locales/languages/en-US.json', 'git_rep/docs/en/reference/scrcpy/tunnels.md', 'git_rep/docs/en/reference/scrcpy/build.md', 'git_rep/docs/zhHans/help/scrcpy.md', 'git_rep/electron/exposes/scrcpy/index.js', 'git_rep/docs/zhHans/reference/scrcpy/macos.md', 'git_rep/docs/en/reference/scrcpy/connection.md', 'git_rep/electron/resources/extra/mac-x64/scrcpy/scrcpy.1', 'git_rep/electron/resources/extra/linux-x64/scrcpy/scrcpy.1', 'git_rep/electron/resources/extra/mac-arm64/scrcpy/scrcpy.1']\n",
            "\n"
          ]
        },
        {
          "output_type": "stream",
          "name": "stderr",
          "text": [
            "\r 71%|███████   | 24/34 [03:55<01:51, 11.18s/it]"
          ]
        },
        {
          "output_type": "stream",
          "name": "stdout",
          "text": [
            "Question: How does the code handle loading indicators in the Electron application?\n",
            "Recall@10: 1.00\n",
            "Answer: ['electron/loading/index.js']\n",
            "Prediction: ['git_rep/src/components/ControlBar/Volume/index.vue', 'git_rep/src/components/ControlBar/ApplicationStart/index.vue', 'git_rep/src/components/ControlBar/Rotation/index.vue', 'git_rep/electron/loading/index.js', 'git_rep/src/composables/useFileActions/index.js', 'git_rep/control/App.vue', 'git_rep/electron/ipc/theme/index.js', 'git_rep/src/components/QuickBar/components/Restart/index.vue', 'git_rep/src/components/ControlBar/Gnirehtet/index.vue', 'git_rep/electron/preload.js']\n",
            "\n"
          ]
        },
        {
          "output_type": "stream",
          "name": "stderr",
          "text": [
            "\r 74%|███████▎  | 25/34 [04:11<01:54, 12.72s/it]"
          ]
        },
        {
          "output_type": "stream",
          "name": "stdout",
          "text": [
            "Question: How does the theme store handle changes to the system theme and update the application state accordingly?\n",
            "Recall@10: 1.00\n",
            "Answer: ['src/store/theme/index.js']\n",
            "Prediction: ['git_rep/src/pages/preference/index.vue', 'git_rep/src/store/theme/index.js', 'git_rep/electron/ipc/theme/index.js', 'git_rep/electron/ipc/index.js', 'git_rep/src/components/QuickBar/components/Search/index.vue', 'git_rep/electron/exposes/search/index.js', 'git_rep/src/locales/languages/en-US.json', 'git_rep/src/utils/device/generateAdbPairingQR/index.js', 'git_rep/src/locales/languages/ru-RU.json', 'git_rep/src/store/index.js']\n",
            "\n"
          ]
        },
        {
          "output_type": "stream",
          "name": "stderr",
          "text": [
            "\r 76%|███████▋  | 26/34 [04:15<01:20, 10.03s/it]"
          ]
        },
        {
          "output_type": "stream",
          "name": "stdout",
          "text": [
            "Question: How is the Vite configuration structured to optimize the development environment's build performance?\n",
            "Recall@10: 1.00\n",
            "Answer: ['vite.config.js']\n",
            "Prediction: ['git_rep/electron/helpers/index.js', 'git_rep/package.json', 'git_rep/vite.config.js', 'git_rep/develop.md', 'git_rep/CHANGELOG.md', 'git_rep/jsconfig.json', 'git_rep/docs/en/guide/preferences.md', 'git_rep/docs/en/index.md', 'git_rep/eslint.config.js']\n",
            "\n"
          ]
        },
        {
          "output_type": "stream",
          "name": "stderr",
          "text": [
            "\r 79%|███████▉  | 27/34 [04:22<01:03,  9.10s/it]"
          ]
        },
        {
          "output_type": "stream",
          "name": "stdout",
          "text": [
            "Question: How is the application bootstrap process initialized with a router in the codebase?\n",
            "Recall@10: 1.00\n",
            "Answer: ['src/main.js']\n",
            "Prediction: ['git_rep/src/main.js', 'git_rep/control/index.js', 'git_rep/src/bootstrap/index.js', 'git_rep/src/router/index.js', 'git_rep/docs/en/reference/scrcpy/develop.md', 'git_rep/src/plugins/auto.js', 'git_rep/src/bootstrap/default/index.js', 'git_rep/electron/exposes/adb/index.js', 'git_rep/docs/en/index.md', 'git_rep/docs/en/reference/gnirehtet/api.md']\n",
            "\n"
          ]
        },
        {
          "output_type": "stream",
          "name": "stderr",
          "text": [
            "\r 82%|████████▏ | 28/34 [04:30<00:53,  8.99s/it]"
          ]
        },
        {
          "output_type": "stream",
          "name": "stdout",
          "text": [
            "Question: How does the application determine and validate the paths for external binaries (like scrcpy, adb, and gnirehtet) at startup, and which module or file manages this logic?\n",
            "Recall@10: 0.33\n",
            "Answer: ['electron/configs/scrcpy/index.js', 'electron/configs/android-platform-tools/index.js', 'electron/configs/gnirehtet/index.js']\n",
            "Prediction: ['git_rep/src/locales/languages/en-US.json', 'git_rep/docs/en/reference/gnirehtet/index.md', 'git_rep/docs/zhHans/help/scrcpy.md', 'git_rep/electron/resources/extra/mac-x64/scrcpy/scrcpy.1', 'git_rep/electron/resources/extra/linux-x64/scrcpy/scrcpy.1', 'git_rep/electron/resources/extra/mac-arm64/scrcpy/scrcpy.1', 'git_rep/electron/exposes/scrcpy/index.js', 'git_rep/docs/zhHans/reference/scrcpy/macos.md', 'git_rep/docs/zhHans/reference/scrcpy/windows.md', 'git_rep/electron/configs/scrcpy/index.js']\n",
            "\n"
          ]
        },
        {
          "output_type": "stream",
          "name": "stderr",
          "text": [
            "\r 85%|████████▌ | 29/34 [04:42<00:49,  9.91s/it]"
          ]
        },
        {
          "output_type": "stream",
          "name": "stdout",
          "text": [
            "Question: Which parts of the source code implement the QR code scanning feature for wireless pairing, what libraries are used, and how is the scanned data processed to establish a connection?\n",
            "Recall@10: 0.67\n",
            "Answer: ['src/utils/device/generateAdbPairingQR/index.js', 'src/pages/device/components/WirelessGroup/QrAction/index.vue', 'package.json']\n",
            "Prediction: ['git_rep/docs/en/guide/started.md', 'git_rep/docs/en/guide/index.md', 'git_rep/src/utils/device/generateAdbPairingQR/index.js', 'git_rep/src/locales/languages/en-US.json', 'git_rep/docs/en/index.md', 'git_rep/src/locales/languages/zh-CN.json', 'git_rep/src/locales/languages/zh-TW.json', 'git_rep/src/pages/device/components/WirelessGroup/QrAction/index.vue', 'git_rep/src/locales/languages/ru-RU.json', 'git_rep/CHANGELOG.md']\n",
            "\n"
          ]
        },
        {
          "output_type": "stream",
          "name": "stderr",
          "text": [
            "\r 88%|████████▊ | 30/34 [04:48<00:34,  8.68s/it]"
          ]
        },
        {
          "output_type": "stream",
          "name": "stdout",
          "text": [
            "Question: How is the inter-process communication handled between the Electron front end and the underlying scrcpy process? Which IPC channels or events are defined in the code?\n",
            "Recall@10: 0.20\n",
            "Answer: ['electron/exposes/scrcpy/index.js', 'electron/exposes/scrcpy/helper.js', 'electron/preload.js', 'electron/exposes/index.js', 'electron/helpers/index.js', 'electron/configs/scrcpy/index.js', 'src/pages/device/components/MirrorAction/index.vue', 'src/components/QuickBar/components/Terminal/components/TerminalDialog/composables/scrcpy.js', 'src/store/preference/index.js', 'src/bootstrap/default/index.js']\n",
            "Prediction: ['git_rep/electron/configs/scrcpy/index.js', 'git_rep/docs/en/reference/scrcpy/develop.md', 'git_rep/electron/exposes/scrcpy/index.js', 'git_rep/docs/zhHans/reference/scrcpy/index.md', 'git_rep/docs/zhHans/reference/scrcpy/build.md', 'git_rep/docs/zhHans/reference/scrcpy/develop.md', 'git_rep/docs/zhHans/reference/scrcpy/connection.md', 'git_rep/docs/en/reference/scrcpy/index.md', 'git_rep/docs/en/reference/scrcpy/linux.md', 'git_rep/docs/zhHans/reference/scrcpy/control.md']\n",
            "\n"
          ]
        },
        {
          "output_type": "stream",
          "name": "stderr",
          "text": [
            "\r 91%|█████████ | 31/34 [04:57<00:26,  8.84s/it]"
          ]
        },
        {
          "output_type": "stream",
          "name": "stdout",
          "text": [
            "Question: Where in the codebase are the user preference configurations (for video, audio, window controls, etc.) defined and saved, and how are these settings applied to the mirroring process?\n",
            "Recall@10: 0.12\n",
            "Answer: ['src/store/preference/model/video/index.js', 'src/store/preference/model/audio/index.js', 'src/store/preference/model/window/index.js', 'src/store/preference/model/device/index.js', 'src/store/preference/model/input/index.js', 'src/store/preference/model/record/index.js', 'src/store/preference/model/common/index.js', 'src/pages/device/components/MirrorAction/index.vue']\n",
            "Prediction: ['git_rep/docs/en/guide/milestones.md', 'git_rep/src/locales/languages/en-US.json', 'git_rep/src/locales/languages/ru-RU.json', 'git_rep/src/locales/languages/zh-CN.json', 'git_rep/docs/en/guide/preferences.md', 'git_rep/docs/en/reference/scrcpy/index.md', 'git_rep/src/store/preference/model/video/index.js', 'git_rep/docs/en/reference/scrcpy/develop.md', 'git_rep/src/locales/languages/zh-TW.json', 'git_rep/docs/en/guide/operation.md']\n",
            "\n"
          ]
        },
        {
          "output_type": "stream",
          "name": "stderr",
          "text": [
            "\r 94%|█████████▍| 32/34 [05:07<00:18,  9.07s/it]"
          ]
        },
        {
          "output_type": "stream",
          "name": "stdout",
          "text": [
            "Question: What is the implementation strategy for the auto-connect and auto-mirroring features? In which module or function does the logic reside, and how does it interact with device detection?\n",
            "Recall@10: 0.00\n",
            "Answer: ['src/store/preference/model/common/index.js', 'electron/configs/android-platform-tools/index.js', 'electron/configs/scrcpy/index.js', 'src/store/preference/model/video/index.js', 'src/utils/device/generateAdbPairingQR/index.js', 'src/pages/device/components/WirelessGroup/QrAction/index.vue']\n",
            "Prediction: ['git_rep/docs/en/guide/index.md', 'git_rep/src/locales/languages/en-US.json', 'git_rep/README.md', 'git_rep/docs/en/guide/preferences.md', 'git_rep/docs/en/index.md', 'git_rep/docs/en/guide/milestones.md', 'git_rep/src/composables/useMirrorAction/index.js', 'git_rep/docs/en/reference/scrcpy/mouse.md', 'git_rep/docs/en/guide/started.md', 'git_rep/docs/en/reference/scrcpy/keyboard.md']\n",
            "\n"
          ]
        },
        {
          "output_type": "stream",
          "name": "stderr",
          "text": [
            "\r 97%|█████████▋| 33/34 [05:20<00:10, 10.17s/it]"
          ]
        },
        {
          "output_type": "stream",
          "name": "stdout",
          "text": [
            "Question: How are batch processing operations (such as batch file management, batch app installation, and execution of scripts) implemented in the source code? Which parts handle the scheduling and execution of these tasks?\n",
            "Recall@10: 0.00\n",
            "Answer: ['src/composables/useFileActions/index.js', 'src/composables/useInstallAction/index.js', 'src/composables/useShellAction/index.js', 'src/store/task/index.js']\n",
            "Prediction: ['git_rep/docs/en/guide/operation.md', 'git_rep/docs/en/guide/milestones.md', 'git_rep/CHANGELOG.md', 'git_rep/docs/en/guide/index.md', 'git_rep/electron/resources/extra/win/vbs/create-desktop-shortcuts.vbs', 'git_rep/electron/exposes/adb/index.js', 'git_rep/README-CN.md', 'git_rep/docs/en/reference/scrcpy/develop.md', 'git_rep/electron/exposes/scrcpy/index.js', 'git_rep/electron/ipc/index.js']\n",
            "\n"
          ]
        },
        {
          "output_type": "stream",
          "name": "stderr",
          "text": [
            "100%|██████████| 34/34 [05:30<00:00,  9.73s/it]"
          ]
        },
        {
          "output_type": "stream",
          "name": "stdout",
          "text": [
            "Question: Which file or module is responsible for mapping user shortcuts (for device control actions like home, back, screenshot, etc.) to the underlying adb or scrcpy commands, and how can these mappings be customized?\n",
            "Recall@10: 0.00\n",
            "Answer: ['electron/resources/extra/linux/scrcpy/scrcpy.1', 'src/store/preference/model/input/index.js', 'src/components/PreferenceForm/components/SelectKeyboardInject/index.vue']\n",
            "Prediction: ['git_rep/docs/en/reference/scrcpy/mouse.md', 'git_rep/docs/en/reference/scrcpy/shortcuts.md', 'git_rep/electron/resources/extra/mac-x64/scrcpy/scrcpy.1', 'git_rep/electron/resources/extra/linux-x64/scrcpy/scrcpy.1', 'git_rep/electron/resources/extra/mac-arm64/scrcpy/scrcpy.1', 'git_rep/src/locales/languages/en-US.json', 'git_rep/docs/zhHans/reference/scrcpy/mouse.md', 'git_rep/docs/zhHans/reference/scrcpy/keyboard.md', 'git_rep/docs/en/reference/scrcpy/keyboard.md', 'git_rep/docs/zhHans/reference/scrcpy/shortcuts.md']\n",
            "\n",
            "\n",
            " Average Recall@10: 0.57\n"
          ]
        },
        {
          "output_type": "stream",
          "name": "stderr",
          "text": [
            "\n"
          ]
        },
        {
          "output_type": "execute_result",
          "data": {
            "text/plain": [
              "0.5683823529411764"
            ]
          },
          "metadata": {},
          "execution_count": 151
        }
      ]
    },
    {
      "cell_type": "markdown",
      "source": [
        "We see an improve in quality, meaning choice of `top_k * MEAN_CHUNK_NUM` and reranking improves the retrieval algorithm."
      ],
      "metadata": {
        "id": "F30V5y1YWPjs"
      }
    },
    {
      "cell_type": "markdown",
      "source": [
        "To compare the quality with the baseline model we have to change indexing in a way that each document is just ine chunk. To do so we have to get the maximal length of a document in tokens:"
      ],
      "metadata": {
        "id": "ddxrKXqCWoEm"
      }
    },
    {
      "cell_type": "code",
      "source": [
        "max_len = np.max(num_chunks)\n",
        "max_len"
      ],
      "metadata": {
        "colab": {
          "base_uri": "https://localhost:8080/"
        },
        "id": "KQzUNS7mWi_q",
        "outputId": "0b4a6ad4-27cd-47fb-a08e-8a908c63402c"
      },
      "execution_count": 157,
      "outputs": [
        {
          "output_type": "execute_result",
          "data": {
            "text/plain": [
              "np.int64(147)"
            ]
          },
          "metadata": {},
          "execution_count": 157
        }
      ]
    },
    {
      "cell_type": "markdown",
      "source": [
        "So `CHUNK_SIZE = 147 * 256` for this experiment"
      ],
      "metadata": {
        "id": "pAxKuw31W_nM"
      }
    },
    {
      "cell_type": "code",
      "source": [
        "CHUNK_SIZE = 147 * 256"
      ],
      "metadata": {
        "id": "vfdjfU6IW-Wy"
      },
      "execution_count": 159,
      "outputs": []
    },
    {
      "cell_type": "code",
      "source": [
        "index_base, embeddings_base, metadata_base, docs_base, num_chunks_base = build_index_from_github(github_url)"
      ],
      "metadata": {
        "id": "wR6_A5v5XJCD"
      },
      "execution_count": 160,
      "outputs": []
    },
    {
      "cell_type": "code",
      "source": [
        "recall_from_json('/content/escrcpy-commits-generated.json', simple_index, model, index_base, docs_base, metadata_base)"
      ],
      "metadata": {
        "colab": {
          "base_uri": "https://localhost:8080/"
        },
        "id": "bYoW3hyBXRGI",
        "outputId": "4cb18b4e-9cbb-47d4-baa0-4f6667d2cbc3"
      },
      "execution_count": 162,
      "outputs": [
        {
          "output_type": "stream",
          "name": "stderr",
          "text": [
            " 29%|██▉       | 10/34 [00:00<00:00, 44.90it/s]"
          ]
        },
        {
          "output_type": "stream",
          "name": "stdout",
          "text": [
            "Question: How does the SelectDisplay component handle the device options when retrieving display IDs?\n",
            "Recall@10: 1.00\n",
            "Answer: ['src/components/PreferenceForm/components/SelectDisplay/index.vue']\n",
            "Prediction: ['git_rep/src/components/PreferenceForm/components/SelectDisplay/index.vue::chunk_0', 'git_rep/src/components/PreferenceForm/components/SelectAudioCodec/index.vue::chunk_0', 'git_rep/src/components/PreferenceForm/components/SelectVideoCodec/index.vue::chunk_0', 'git_rep/src/components/PreferenceForm/components/helper.js::chunk_0', 'git_rep/src/composables/useMirrorAction/index.js::chunk_0', 'git_rep/src/store/preference/model/device/index.js::chunk_0', 'git_rep/docs/en/guide/preferences.md::chunk_0', 'git_rep/src/components/PreferenceForm/components/SelectKeyboardInject/index.vue::chunk_0', 'git_rep/src/components/ControlBar/Rotation/index.vue::chunk_0', 'git_rep/src/components/ControlBar/Volume/index.vue::chunk_0']\n",
            "\n",
            "Question: How does the repository handle IPv6 addresses in ADB commands?\n",
            "Recall@10: 1.00\n",
            "Answer: ['electron/exposes/adb/helpers/index.js', 'electron/exposes/adb/index.js']\n",
            "Prediction: ['git_rep/electron/exposes/adb/helpers/index.js::chunk_0', 'git_rep/docs/en/reference/gnirehtet/index.md::chunk_0', 'git_rep/docs/zhHans/reference/gnirehtet/index.md::chunk_0', 'git_rep/docs/en/reference/scrcpy/tunnels.md::chunk_0', 'git_rep/docs/zhHans/reference/scrcpy/tunnels.md::chunk_0', 'git_rep/docs/en/reference/scrcpy/connection.md::chunk_0', 'git_rep/docs/en/reference/gnirehtet/api.md::chunk_0', 'git_rep/docs/zhHans/reference/scrcpy/connection.md::chunk_0', 'git_rep/electron/exposes/adb/helpers/scanner/index.js::chunk_0', 'git_rep/electron/exposes/adb/index.js::chunk_0']\n",
            "\n",
            "Question: How does the edge hiding and snapping mechanism work for a window instance?\n",
            "Recall@10: 1.00\n",
            "Answer: ['electron/helpers/edger/index.js']\n",
            "Prediction: ['git_rep/electron/helpers/edger/index.js::chunk_0', 'git_rep/docs/en/reference/scrcpy/window.md::chunk_0', 'git_rep/electron/ipc/app/index.js::chunk_0', 'git_rep/docs/zhHans/reference/scrcpy/window.md::chunk_0', 'git_rep/docs/en/reference/scrcpy/develop.md::chunk_0', 'git_rep/electron/helpers/single.js::chunk_0', 'git_rep/control/electron/events/focus/index.js::chunk_0', 'git_rep/docs/en/guide/preferences.md::chunk_0', 'git_rep/electron/ipc/tray/index.js::chunk_0', 'git_rep/docs/en/reference/scrcpy/shortcuts.md::chunk_0']\n",
            "\n",
            "Question: Unable to detect device\n",
            "Recall@10: 0.00\n",
            "Answer: ['README-CN.md', 'README-RU.md', 'README.md']\n",
            "Prediction: ['git_rep/src/components/PreferenceForm/components/helper.js::chunk_0', 'git_rep/docs/en/help/scrcpy.md::chunk_0', 'git_rep/docs/en/help/escrcpy.md::chunk_0', 'git_rep/src/dicts/device/index.js::chunk_0', 'git_rep/src/store/device/helpers/index.js::chunk_0', 'git_rep/src/store/device/index.js::chunk_0', 'git_rep/electron/exposes/adb/helpers/scanner/index.js::chunk_0', 'git_rep/src/pages/device/components/ConnectAction/index.vue::chunk_0', 'git_rep/docs/en/reference/gnirehtet/api.md::chunk_0', 'git_rep/docs/en/reference/scrcpy/v4l2.md::chunk_0']\n",
            "\n",
            "Question: What functionality does the component provide for mirroring a device's screen?\n",
            "Recall@10: 0.00\n",
            "Answer: ['src/pages/device/components/MirrorAction/index.vue']\n",
            "Prediction: ['git_rep/docs/en/guide/index.md::chunk_0', 'git_rep/docs/en/guide/operation.md::chunk_0', 'git_rep/docs/en/guide/preferences.md::chunk_0', 'git_rep/docs/en/guide/milestones.md::chunk_0', 'git_rep/docs/en/reference/scrcpy/video.md::chunk_0', 'git_rep/docs/en/reference/scrcpy/virtual_display.md::chunk_0', 'git_rep/docs/en/reference/scrcpy/camera.md::chunk_0', 'git_rep/docs/en/reference/scrcpy/develop.md::chunk_0', 'git_rep/src/composables/useMirrorAction/index.js::chunk_0', 'git_rep/docs/en/reference/scrcpy/audio.md::chunk_0']\n",
            "\n",
            "Question: How is the functionality for storing and managing Scrcpy IP type configuration implemented?\n",
            "Recall@10: 0.00\n",
            "Answer: ['electron/exposes/scrcpy/helper.js', 'electron/helpers/store.js', 'src/store/preference/helpers/index.js', 'src/store/preference/index.js']\n",
            "Prediction: ['git_rep/docs/en/reference/scrcpy/linux.md::chunk_0', 'git_rep/docs/en/reference/scrcpy/connection.md::chunk_0', 'git_rep/docs/en/reference/scrcpy/develop.md::chunk_0', 'git_rep/docs/zhHans/reference/scrcpy/connection.md::chunk_0', 'git_rep/docs/en/reference/scrcpy/index.md::chunk_0', 'git_rep/docs/en/reference/scrcpy/windows.md::chunk_0', 'git_rep/docs/zhHans/reference/scrcpy/linux.md::chunk_0', 'git_rep/docs/en/reference/index.md::chunk_0', 'git_rep/docs/en/reference/scrcpy/device.md::chunk_0', 'git_rep/docs/en/reference/scrcpy/macos.md::chunk_0']\n",
            "\n",
            "Question: What are the common user interface labels and messages implemented in Traditional Chinese?\n",
            "Recall@10: 1.00\n",
            "Answer: ['src/locales/languages/zh-TW.json']\n",
            "Prediction: ['git_rep/docs/zhHans/guide/operation.md::chunk_0', 'git_rep/docs/en/guide/milestones.md::chunk_0', 'git_rep/docs/zhHans/help/escrcpy.md::chunk_0', 'git_rep/docs/zhHans/reference/scrcpy/gamepad.md::chunk_0', 'git_rep/src/locales/languages/zh-CN.json::chunk_0', 'git_rep/src/locales/languages/zh-TW.json::chunk_0', 'git_rep/docs/zhHans/guide/milestones.md::chunk_0', 'git_rep/docs/zhHans/contact.md::chunk_0', 'git_rep/docs/zhHans/reference/scrcpy/develop.md::chunk_0', 'git_rep/docs/zhHans/reference/scrcpy/mouse.md::chunk_0']\n",
            "\n",
            "Question: How is the wireless connection screen layout managed and updated across the application?\n",
            "Recall@10: 0.00\n",
            "Answer: ['src/pages/device/index.vue']\n",
            "Prediction: ['git_rep/docs/en/guide/preferences.md::chunk_0', 'git_rep/docs/en/guide/index.md::chunk_0', 'git_rep/docs/en/guide/milestones.md::chunk_0', 'git_rep/docs/en/reference/gnirehtet/api.md::chunk_0', 'git_rep/docs/en/reference/scrcpy/develop.md::chunk_0', 'git_rep/docs/en/guide/operation.md::chunk_0', 'git_rep/docs/en/reference/gnirehtet/index.md::chunk_0', 'git_rep/src/utils/device/generateAdbPairingQR/index.js::chunk_0', 'git_rep/docs/en/reference/scrcpy/window.md::chunk_0', 'git_rep/docs/en/reference/scrcpy/index.md::chunk_0']\n",
            "\n",
            "Question: How is the wireless pairing dialog functionality implemented?\n",
            "Recall@10: 1.00\n",
            "Answer: ['src/pages/device/components/WirelessGroup/PairDialog/index.vue']\n",
            "Prediction: ['git_rep/src/utils/device/generateAdbPairingQR/index.js::chunk_0', 'git_rep/docs/en/reference/gnirehtet/api.md::chunk_0', 'git_rep/docs/en/reference/gnirehtet/index.md::chunk_0', 'git_rep/src/pages/device/components/WirelessGroup/PairDialog/index.vue::chunk_0', 'git_rep/docs/en/reference/scrcpy/index.md::chunk_0', 'git_rep/docs/en/guide/index.md::chunk_0', 'git_rep/src/pages/device/components/WirelessAction/index.vue::chunk_0', 'git_rep/docs/en/guide/preferences.md::chunk_0', 'git_rep/electron/exposes/adb/helpers/scanner/index.js::chunk_0', 'git_rep/docs/zhHans/reference/gnirehtet/index.md::chunk_0']\n",
            "\n",
            "Question: How is the sponsor dialog implemented to display sponsorship images dynamically?\n",
            "Recall@10: 1.00\n",
            "Answer: ['src/pages/about/components/SponsorDialog/index.vue']\n",
            "Prediction: ['git_rep/src/pages/about/components/SponsorDialog/index.vue::chunk_0', 'git_rep/docs/en/donate.md::chunk_0', 'git_rep/src/pages/device/components/DevicePopover/index.vue::chunk_0', 'git_rep/docs/zhHans/donate.md::chunk_0', 'git_rep/README-CN.md::chunk_0', 'git_rep/README.md::chunk_0', 'git_rep/README-RU.md::chunk_0', 'git_rep/src/pages/device/components/WirelessGroup/QrAction/index.vue::chunk_0', 'git_rep/src/pages/about/index.vue::chunk_0', 'git_rep/src/components/ControlBar/FileManage/index.vue::chunk_0']\n",
            "\n"
          ]
        },
        {
          "output_type": "stream",
          "name": "stderr",
          "text": [
            " 59%|█████▉    | 20/34 [00:00<00:00, 44.94it/s]"
          ]
        },
        {
          "output_type": "stream",
          "name": "stdout",
          "text": [
            "Question: What workflows support manual triggering in the repository?\n",
            "Recall@10: 0.00\n",
            "Answer: ['.github/workflows/release-assets.yml', '.github/workflows/sync-gitee.yml', '.github/workflows/sync-homebrew.yml']\n",
            "Prediction: ['git_rep/dev-publish.yml::chunk_0', 'git_rep/docs/en/guide/milestones.md::chunk_0', 'git_rep/docs/en/reference/index.md::chunk_0', 'git_rep/docs/en/changelog.md::chunk_0', 'git_rep/scripts/helpers/index.js::chunk_0', 'git_rep/electron/ipc/updater/index.js::chunk_0', 'git_rep/docs/zhHans/guide/started.md::chunk_0', 'git_rep/docs/en/reference/scrcpy/linux.md::chunk_0', 'git_rep/src/locales/languages/en-US.json::chunk_0', 'git_rep/docs/en/contact.md::chunk_0']\n",
            "\n",
            "Question: How does the application determine the file path for the scrcpy executable based on the operating system and architecture?\n",
            "Recall@10: 1.00\n",
            "Answer: ['electron/configs/scrcpy/index.js']\n",
            "Prediction: ['git_rep/docs/en/reference/scrcpy/linux.md::chunk_0', 'git_rep/docs/en/reference/scrcpy/windows.md::chunk_0', 'git_rep/electron/configs/scrcpy/index.js::chunk_0', 'git_rep/docs/en/reference/scrcpy/macos.md::chunk_0', 'git_rep/docs/en/reference/scrcpy/develop.md::chunk_0', 'git_rep/docs/en/reference/scrcpy/index.md::chunk_0', 'git_rep/docs/zhHans/reference/scrcpy/linux.md::chunk_0', 'git_rep/docs/en/reference/index.md::chunk_0', 'git_rep/docs/en/reference/scrcpy/build.md::chunk_0', 'git_rep/docs/en/help/index.md::chunk_0']\n",
            "\n",
            "Question: What is the purpose of the configuration specified in the version management file?\n",
            "Recall@10: 0.00\n",
            "Answer: ['.nvmdrc']\n",
            "Prediction: ['git_rep/docs/en/guide/milestones.md::chunk_0', 'git_rep/LICENSE::chunk_0', 'git_rep/docs/en/changelog.md::chunk_0', 'git_rep/electron/ipc/updater/index.js::chunk_0', 'git_rep/dev-publish.yml::chunk_0', 'git_rep/docs/en/guide/preferences.md::chunk_0', 'git_rep/docs/zhHans/reference/scrcpy/linux.md::chunk_0', 'git_rep/src/store/index.js::chunk_0', 'git_rep/jsconfig.json::chunk_0', 'git_rep/PRIVACY.md::chunk_0']\n",
            "\n",
            "Question: What parameters are available for configuring video preferences in the codebase?\n",
            "Recall@10: 1.00\n",
            "Answer: ['src/store/preference/model/video/index.js']\n",
            "Prediction: ['git_rep/docs/en/guide/preferences.md::chunk_0', 'git_rep/src/store/preference/model/video/index.js::chunk_0', 'git_rep/src/store/preference/model/camera/index.js::chunk_0', 'git_rep/docs/zhHans/reference/scrcpy/v4l2.md::chunk_0', 'git_rep/src/pages/device/components/MoreDropdown/components/Camera/index.vue::chunk_0', 'git_rep/docs/en/reference/scrcpy/video.md::chunk_0', 'git_rep/electron/resources/extra/mac-x64/scrcpy/scrcpy.1::chunk_0', 'git_rep/electron/resources/extra/linux-x64/scrcpy/scrcpy.1::chunk_0', 'git_rep/electron/resources/extra/mac-arm64/scrcpy/scrcpy.1::chunk_0', 'git_rep/src/pages/device/components/MoreDropdown/components/Record/index.vue::chunk_0']\n",
            "\n",
            "Question: How are scheduled task timer types and time units defined in the repository?\n",
            "Recall@10: 1.00\n",
            "Answer: ['src/dicts/tasks/index.js']\n",
            "Prediction: ['git_rep/src/dicts/tasks/index.js::chunk_0', 'git_rep/src/store/task/index.js::chunk_0', 'git_rep/docs/en/guide/milestones.md::chunk_0', 'git_rep/docs/en/guide/operation.md::chunk_0', 'git_rep/docs/en/reference/scrcpy/develop.md::chunk_0', 'git_rep/LICENSE::chunk_0', 'git_rep/src/store/preference/model/device/index.js::chunk_0', 'git_rep/dev-publish.yml::chunk_0', 'git_rep/docs/en/guide/preferences.md::chunk_0', 'git_rep/docs/zhHans/changelog.md::chunk_0']\n",
            "\n",
            "Question: What configuration should domestic users apply to resolve dependency installation issues?\n",
            "Recall@10: 0.00\n",
            "Answer: ['.npmrc.CN']\n",
            "Prediction: ['git_rep/src/pages/device/components/BatchActions/Application/index.vue::chunk_0', 'git_rep/dev-publish.yml::chunk_0', 'git_rep/eslint.config.js::chunk_0', 'git_rep/electron/configs/gnirehtet/index.js::chunk_0', 'git_rep/src/icons/index.js::chunk_0', 'git_rep/src/plugins/auto.js::chunk_0', 'git_rep/docs/en/guide/milestones.md::chunk_0', 'git_rep/src/plugins/element-plus/auto.js::chunk_0', 'git_rep/src/locales/index.js::chunk_0', 'git_rep/src/store/index.js::chunk_0']\n",
            "\n",
            "Question: What are the available localized string keys and their corresponding Russian translations in the project?\n",
            "Recall@10: 1.00\n",
            "Answer: ['src/locales/languages/ru-RU.json']\n",
            "Prediction: ['git_rep/src/locales/languages/ru-RU.json::chunk_0', 'git_rep/docs/zhHans/guide/operation.md::chunk_0', 'git_rep/docs/zhHans/guide/started.md::chunk_0', 'git_rep/docs/zhHans/reference/scrcpy/keyboard.md::chunk_0', 'git_rep/docs/zhHans/help/escrcpy.md::chunk_0', 'git_rep/docs/zhHans/reference/scrcpy/develop.md::chunk_0', 'git_rep/src/plugins/element-plus/locale.js::chunk_0', 'git_rep/src/locales/index.js::chunk_0', 'git_rep/docs/en/reference/index.md::chunk_0', 'git_rep/src/locales/languages/zh-TW.json::chunk_0']\n",
            "\n",
            "Question: What is the privacy policy of the app described in the repository?\n",
            "Recall@10: 1.00\n",
            "Answer: ['PRIVACY.md']\n",
            "Prediction: ['git_rep/PRIVACY.md::chunk_0', 'git_rep/dev-publish.yml::chunk_0', 'git_rep/src/store/index.js::chunk_0', 'git_rep/electron/helpers/store.js::chunk_0', 'git_rep/LICENSE::chunk_0', 'git_rep/electron/preload.js::chunk_0', 'git_rep/docs/en/reference/gnirehtet/api.md::chunk_0', 'git_rep/docs/en/reference/gnirehtet/index.md::chunk_0', 'git_rep/electron/resources/build/entitlements.mac.plist::chunk_0', 'git_rep/docs/en/contact.md::chunk_0']\n",
            "\n",
            "Question: How does the plugin integrate custom components with Element Plus features?\n",
            "Recall@10: 1.00\n",
            "Answer: ['src/plugins/element-plus/index.js']\n",
            "Prediction: ['git_rep/src/plugins/auto.js::chunk_0', 'git_rep/src/plugins/element-plus/auto.js::chunk_0', 'git_rep/src/plugins/element-plus/expands/EleFormItemCol/index.vue::chunk_0', 'git_rep/src/composables/useMessageLoading/index.js::chunk_0', 'git_rep/src/plugins/element-plus/index.js::chunk_0', 'git_rep/src/plugins/element-plus/expands/EleTooltipButton/index.vue::chunk_0', 'git_rep/src/components/QuickBar/index.vue::chunk_0', 'git_rep/vite.config.js::chunk_0', 'git_rep/src/App.vue::chunk_0', 'git_rep/src/components/ControlBar/Application/index.vue::chunk_0']\n",
            "\n",
            "Question: What configuration is used for optimizing SVG icons in the repository?\n",
            "Recall@10: 0.00\n",
            "Answer: ['src/icons/svgo.config.js']\n",
            "Prediction: ['git_rep/src/icons/svg/wifi.svg::chunk_0', 'git_rep/src/icons/svg/multi-screen.svg::chunk_0', 'git_rep/src/icons/components/SvgIcon.vue::chunk_0', 'git_rep/src/icons/svg/volume-down.svg::chunk_0', 'git_rep/src/icons/svg/command.svg::chunk_0', 'git_rep/README-CN.md::chunk_0', 'git_rep/README.md::chunk_0', 'git_rep/README-RU.md::chunk_0', 'git_rep/src/icons/index.js::chunk_0', 'git_rep/src/icons/svg/volume-up.svg::chunk_0']\n",
            "\n"
          ]
        },
        {
          "output_type": "stream",
          "name": "stderr",
          "text": [
            "\r 74%|███████▎  | 25/34 [00:00<00:00, 44.62it/s]"
          ]
        },
        {
          "output_type": "stream",
          "name": "stdout",
          "text": [
            "Question: How is the configuration for resolving dependency installation issues specified in the project?\n",
            "Recall@10: 0.00\n",
            "Answer: ['.npmrc']\n",
            "Prediction: ['git_rep/electron/helpers/process.js::chunk_0', 'git_rep/electron/configs/gnirehtet/index.js::chunk_0', 'git_rep/package.json::chunk_0', 'git_rep/src/plugins/element-plus/auto.js::chunk_0', 'git_rep/electron/ipc/updater/index.js::chunk_0', 'git_rep/electron-builder.json::chunk_0', 'git_rep/jsconfig.json::chunk_0', 'git_rep/dev-publish.yml::chunk_0', 'git_rep/eslint.config.js::chunk_0', 'git_rep/electron/configs/scrcpy/index.js::chunk_0']\n",
            "\n",
            "Question: What license terms and conditions govern the usage, reproduction, and distribution of the repository?\n",
            "Recall@10: 1.00\n",
            "Answer: ['LICENSE']\n",
            "Prediction: ['git_rep/LICENSE::chunk_0', 'git_rep/dev-publish.yml::chunk_0', 'git_rep/PRIVACY.md::chunk_0', 'git_rep/docs/en/reference/index.md::chunk_0', 'git_rep/docs/zhHans/guide/preferences.md::chunk_0', 'git_rep/docs/zhHans/guide/started.md::chunk_0', 'git_rep/docs/zhHans/reference/scrcpy/linux.md::chunk_0', 'git_rep/docs/zhHans/reference/scrcpy/develop.md::chunk_0', 'git_rep/docs/en/guide/milestones.md::chunk_0', 'git_rep/scripts/helpers/index.js::chunk_0']\n",
            "\n",
            "Question: How are ADB and scrcpy paths managed and utilized in the codebase?\n",
            "Recall@10: 0.00\n",
            "Answer: ['electron/exposes/scrcpy/index.js']\n",
            "Prediction: ['git_rep/docs/zhHans/help/scrcpy.md::chunk_0', 'git_rep/docs/en/reference/scrcpy/build.md::chunk_0', 'git_rep/docs/en/reference/scrcpy/linux.md::chunk_0', 'git_rep/docs/en/help/scrcpy.md::chunk_0', 'git_rep/docs/en/reference/scrcpy/connection.md::chunk_0', 'git_rep/docs/en/reference/scrcpy/tunnels.md::chunk_0', 'git_rep/docs/zhHans/reference/scrcpy/build.md::chunk_0', 'git_rep/docs/en/reference/scrcpy/windows.md::chunk_0', 'git_rep/docs/en/reference/scrcpy/shortcuts.md::chunk_0', 'git_rep/docs/en/reference/index.md::chunk_0']\n",
            "\n",
            "Question: How does the code handle loading indicators in the Electron application?\n",
            "Recall@10: 0.00\n",
            "Answer: ['electron/loading/index.js']\n",
            "Prediction: ['git_rep/electron/exposes/gnirehtet/index.js::chunk_0', 'git_rep/electron/exposes/scrcpy/index.js::chunk_0', 'git_rep/control/electron/helpers/index.js::chunk_0', 'git_rep/electron/exposes/electron/index.js::chunk_0', 'git_rep/src/utils/modal/index.js::chunk_0', 'git_rep/electron/ipc/tray/index.js::chunk_0', 'git_rep/electron/preload.js::chunk_0', 'git_rep/electron/helpers/single.js::chunk_0', 'git_rep/electron/helpers/edger/index.js::chunk_0', 'git_rep/electron/exposes/adb/index.js::chunk_0']\n",
            "\n",
            "Question: How does the theme store handle changes to the system theme and update the application state accordingly?\n",
            "Recall@10: 1.00\n",
            "Answer: ['src/store/theme/index.js']\n",
            "Prediction: ['git_rep/src/store/theme/index.js::chunk_0', 'git_rep/electron/ipc/theme/index.js::chunk_0', 'git_rep/src/store/index.js::chunk_0', 'git_rep/electron/ipc/index.js::chunk_0', 'git_rep/electron/helpers/store.js::chunk_0', 'git_rep/electron/exposes/search/index.js::chunk_0', 'git_rep/src/components/QuickBar/components/Search/index.vue::chunk_0', 'git_rep/docs/en/changelog.md::chunk_0', 'git_rep/docs/en/guide/milestones.md::chunk_0', 'git_rep/src/store/device/index.js::chunk_0']\n",
            "\n",
            "Question: How is the Vite configuration structured to optimize the development environment's build performance?\n",
            "Recall@10: 1.00\n",
            "Answer: ['vite.config.js']\n",
            "Prediction: ['git_rep/jsconfig.json::chunk_0', 'git_rep/vite.config.js::chunk_0', 'git_rep/CHANGELOG.md::chunk_0', 'git_rep/docs/en/guide/preferences.md::chunk_0', 'git_rep/docs/en/index.md::chunk_0', 'git_rep/docs/en/guide/milestones.md::chunk_0', 'git_rep/src/icons/index.js::chunk_0', 'git_rep/src/plugins/auto.js::chunk_0', 'git_rep/docs/zhHans/index.md::chunk_0', 'git_rep/package.json::chunk_0']\n",
            "\n",
            "Question: How is the application bootstrap process initialized with a router in the codebase?\n",
            "Recall@10: 1.00\n",
            "Answer: ['src/main.js']\n",
            "Prediction: ['git_rep/src/main.js::chunk_0', 'git_rep/src/bootstrap/index.js::chunk_0', 'git_rep/control/index.js::chunk_0', 'git_rep/electron/exposes/gnirehtet/index.js::chunk_0', 'git_rep/src/bootstrap/default/index.js::chunk_0', 'git_rep/src/plugins/auto.js::chunk_0', 'git_rep/src/router/index.js::chunk_0', 'git_rep/CHANGELOG.md::chunk_0', 'git_rep/src/pages/device/components/ConnectAction/index.vue::chunk_0', 'git_rep/docs/en/reference/gnirehtet/api.md::chunk_0']\n",
            "\n",
            "Question: How does the application determine and validate the paths for external binaries (like scrcpy, adb, and gnirehtet) at startup, and which module or file manages this logic?\n",
            "Recall@10: 0.33\n",
            "Answer: ['electron/configs/scrcpy/index.js', 'electron/configs/android-platform-tools/index.js', 'electron/configs/gnirehtet/index.js']\n",
            "Prediction: ['git_rep/docs/en/reference/scrcpy/linux.md::chunk_0', 'git_rep/electron/configs/scrcpy/index.js::chunk_0', 'git_rep/docs/en/reference/scrcpy/windows.md::chunk_0', 'git_rep/docs/en/reference/scrcpy/macos.md::chunk_0', 'git_rep/docs/zhHans/reference/scrcpy/linux.md::chunk_0', 'git_rep/docs/zhHans/help/scrcpy.md::chunk_0', 'git_rep/docs/en/reference/index.md::chunk_0', 'git_rep/docs/en/reference/scrcpy/index.md::chunk_0', 'git_rep/docs/zhHans/reference/scrcpy/windows.md::chunk_0', 'git_rep/docs/en/reference/scrcpy/develop.md::chunk_0']\n",
            "\n",
            "Question: Which parts of the source code implement the QR code scanning feature for wireless pairing, what libraries are used, and how is the scanned data processed to establish a connection?\n",
            "Recall@10: 0.33\n",
            "Answer: ['src/utils/device/generateAdbPairingQR/index.js', 'src/pages/device/components/WirelessGroup/QrAction/index.vue', 'package.json']\n",
            "Prediction: ['git_rep/src/utils/device/generateAdbPairingQR/index.js::chunk_0', 'git_rep/docs/zhHans/reference/gnirehtet/index.md::chunk_0', 'git_rep/docs/en/guide/index.md::chunk_0', 'git_rep/docs/en/reference/gnirehtet/index.md::chunk_0', 'git_rep/docs/en/reference/gnirehtet/api.md::chunk_0', 'git_rep/docs/en/reference/scrcpy/index.md::chunk_0', 'git_rep/docs/en/reference/scrcpy/develop.md::chunk_0', 'git_rep/electron/exposes/adb/helpers/scanner/index.js::chunk_0', 'git_rep/docs/en/guide/preferences.md::chunk_0', 'git_rep/docs/en/guide/milestones.md::chunk_0']\n",
            "\n"
          ]
        },
        {
          "output_type": "stream",
          "name": "stderr",
          "text": [
            "100%|██████████| 34/34 [00:00<00:00, 40.86it/s]"
          ]
        },
        {
          "output_type": "stream",
          "name": "stdout",
          "text": [
            "Question: How is the inter-process communication handled between the Electron front end and the underlying scrcpy process? Which IPC channels or events are defined in the code?\n",
            "Recall@10: 0.20\n",
            "Answer: ['electron/exposes/scrcpy/index.js', 'electron/exposes/scrcpy/helper.js', 'electron/preload.js', 'electron/exposes/index.js', 'electron/helpers/index.js', 'electron/configs/scrcpy/index.js', 'src/pages/device/components/MirrorAction/index.vue', 'src/components/QuickBar/components/Terminal/components/TerminalDialog/composables/scrcpy.js', 'src/store/preference/index.js', 'src/bootstrap/default/index.js']\n",
            "Prediction: ['git_rep/docs/en/reference/scrcpy/develop.md::chunk_0', 'git_rep/electron/exposes/scrcpy/index.js::chunk_0', 'git_rep/electron/configs/scrcpy/index.js::chunk_0', 'git_rep/docs/en/reference/scrcpy/index.md::chunk_0', 'git_rep/docs/en/reference/scrcpy/linux.md::chunk_0', 'git_rep/docs/zhHans/reference/scrcpy/control.md::chunk_0', 'git_rep/docs/zhHans/reference/scrcpy/connection.md::chunk_0', 'git_rep/docs/en/reference/scrcpy/connection.md::chunk_0', 'git_rep/docs/en/reference/scrcpy/shortcuts.md::chunk_0', 'git_rep/docs/en/reference/scrcpy/tunnels.md::chunk_0']\n",
            "\n",
            "Question: Where in the codebase are the user preference configurations (for video, audio, window controls, etc.) defined and saved, and how are these settings applied to the mirroring process?\n",
            "Recall@10: 0.25\n",
            "Answer: ['src/store/preference/model/video/index.js', 'src/store/preference/model/audio/index.js', 'src/store/preference/model/window/index.js', 'src/store/preference/model/device/index.js', 'src/store/preference/model/input/index.js', 'src/store/preference/model/record/index.js', 'src/store/preference/model/common/index.js', 'src/pages/device/components/MirrorAction/index.vue']\n",
            "Prediction: ['git_rep/docs/en/guide/preferences.md::chunk_0', 'git_rep/docs/en/guide/milestones.md::chunk_0', 'git_rep/docs/en/guide/operation.md::chunk_0', 'git_rep/src/store/preference/model/video/index.js::chunk_0', 'git_rep/docs/en/reference/scrcpy/develop.md::chunk_0', 'git_rep/docs/en/reference/scrcpy/video.md::chunk_0', 'git_rep/src/composables/useMirrorAction/index.js::chunk_0', 'git_rep/docs/en/reference/scrcpy/control.md::chunk_0', 'git_rep/src/store/preference/model/audio/index.js::chunk_0', 'git_rep/docs/en/guide/index.md::chunk_0']\n",
            "\n",
            "Question: What is the implementation strategy for the auto-connect and auto-mirroring features? In which module or function does the logic reside, and how does it interact with device detection?\n",
            "Recall@10: 0.00\n",
            "Answer: ['src/store/preference/model/common/index.js', 'electron/configs/android-platform-tools/index.js', 'electron/configs/scrcpy/index.js', 'src/store/preference/model/video/index.js', 'src/utils/device/generateAdbPairingQR/index.js', 'src/pages/device/components/WirelessGroup/QrAction/index.vue']\n",
            "Prediction: ['git_rep/docs/en/guide/milestones.md::chunk_0', 'git_rep/docs/en/guide/operation.md::chunk_0', 'git_rep/docs/en/reference/gnirehtet/api.md::chunk_0', 'git_rep/docs/en/guide/index.md::chunk_0', 'git_rep/docs/en/reference/gnirehtet/index.md::chunk_0', 'git_rep/docs/en/guide/preferences.md::chunk_0', 'git_rep/docs/en/reference/scrcpy/develop.md::chunk_0', 'git_rep/docs/en/reference/scrcpy/connection.md::chunk_0', 'git_rep/docs/en/reference/scrcpy/index.md::chunk_0', 'git_rep/CHANGELOG.md::chunk_0']\n",
            "\n",
            "Question: How are batch processing operations (such as batch file management, batch app installation, and execution of scripts) implemented in the source code? Which parts handle the scheduling and execution of these tasks?\n",
            "Recall@10: 0.00\n",
            "Answer: ['src/composables/useFileActions/index.js', 'src/composables/useInstallAction/index.js', 'src/composables/useShellAction/index.js', 'src/store/task/index.js']\n",
            "Prediction: ['git_rep/docs/en/guide/operation.md::chunk_0', 'git_rep/docs/en/guide/milestones.md::chunk_0', 'git_rep/docs/en/reference/scrcpy/develop.md::chunk_0', 'git_rep/electron/exposes/scrcpy/index.js::chunk_0', 'git_rep/electron/ipc/index.js::chunk_0', 'git_rep/electron/resources/extra/win/vbs/create-desktop-shortcuts.vbs::chunk_0', 'git_rep/electron/exposes/adb/index.js::chunk_0', 'git_rep/electron/resources/extra/win/scrcpy/scrcpy-noconsole.vbs::chunk_0', 'git_rep/docs/en/reference/scrcpy/shortcuts.md::chunk_0', 'git_rep/scripts/helpers/index.js::chunk_0']\n",
            "\n",
            "Question: Which file or module is responsible for mapping user shortcuts (for device control actions like home, back, screenshot, etc.) to the underlying adb or scrcpy commands, and how can these mappings be customized?\n",
            "Recall@10: 0.00\n",
            "Answer: ['electron/resources/extra/linux/scrcpy/scrcpy.1', 'src/store/preference/model/input/index.js', 'src/components/PreferenceForm/components/SelectKeyboardInject/index.vue']\n",
            "Prediction: ['git_rep/docs/en/reference/scrcpy/shortcuts.md::chunk_0', 'git_rep/docs/en/reference/scrcpy/index.md::chunk_0', 'git_rep/docs/zhHans/help/scrcpy.md::chunk_0', 'git_rep/docs/en/reference/scrcpy/otg.md::chunk_0', 'git_rep/docs/zhHans/reference/scrcpy/otg.md::chunk_0', 'git_rep/docs/en/guide/milestones.md::chunk_0', 'git_rep/docs/en/reference/scrcpy/build.md::chunk_0', 'git_rep/docs/zhHans/reference/scrcpy/shortcuts.md::chunk_0', 'git_rep/docs/zhHans/reference/scrcpy/control.md::chunk_0', 'git_rep/docs/en/reference/scrcpy/keyboard.md::chunk_0']\n",
            "\n",
            "\n",
            " Average Recall@10: 0.50\n"
          ]
        },
        {
          "output_type": "stream",
          "name": "stderr",
          "text": [
            "\n"
          ]
        },
        {
          "output_type": "execute_result",
          "data": {
            "text/plain": [
              "0.5034313725490195"
            ]
          },
          "metadata": {},
          "execution_count": 162
        }
      ]
    },
    {
      "cell_type": "markdown",
      "source": [
        "### Conclusions\n",
        "\n",
        "This result displays that smart chunking does improve the quality of generation. Simple indexing search over chunks is slightly worse, but as the number of retrieved chunks increases, the recall grows by 7 percent.\n",
        "\n",
        "My solution also includes the option to use LLM for summary generation. Despite poor quality of responses at the time, an LLM, fine-tuned for this specific task, might significantly boost the quality. It can be easily used instead of current `flan-t5-base` generator without any change of code.\n",
        "\n",
        "This pipeline can be improved with smarter chunking approach, expansion of queries and fine-tuned reranker."
      ],
      "metadata": {
        "id": "Bw3VAJA-XfYs"
      }
    }
  ]
}